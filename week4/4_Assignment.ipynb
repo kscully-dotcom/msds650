{
 "cells": [
  {
   "cell_type": "markdown",
   "metadata": {},
   "source": [
    "<img align=\"right\" style=\"padding-right:10px;\" src=\"figures_wk4/guinea_pig.png\" width=300><br>\n",
    "# Week 4 Lab - Hypothesis Testing\n",
    "\n",
    " This week's assignment will give you some practice defining and testing a hypothesis.\n",
    "\n",
    "## Our Dataset: \n",
    "**Dataset Name::** ToothGrowth.csv (locted in the assign_wk4 folder)<br>\n",
    "The tooth growth dataset describes the length of the odontoblasts (teeth) in each of 10 guinea pigs at three Vitamin C dosage levels (0.5, 1, and 2 mg) with two delivery methods (orange juice or ascorbic acid).\n",
    "\n",
    "The file contains 60 observations of 3 variables <br>\n",
    "len : Tooth length <br>\n",
    "supp : Supplement type (VC or OJ)<br>\n",
    "dose : Dose in milligrams<br>\n"
   ]
  },
  {
   "cell_type": "markdown",
   "metadata": {},
   "source": [
    "# Assignment Requirements\n",
    "\n",
    "Hypothesis testing for the given dataset. Your analysis should include the following:\n",
    "   1. Graphically describe the dataset\n",
    "      - This could include box plots, histograms, etc.\n",
    "      - Provide a summary of your initial findings about the dataset.\n",
    "   2. Check of data normality, using both methods\n",
    "      - Graphically  check for normality\n",
    "      - Statistical test for normality\n",
    "   3. Defined a null and alternative hypothesis (Ho and Ha) for the dataset\n",
    "      - Be specific and clear in your definitions\n",
    "   4. Hypothesis testing \n",
    "      - Explain why you chose the test(s) you are using\n",
    "      - Summarize your findings from the test(s) you performed\n",
    "   5. Conclusion based on your analysis\n",
    "      - Be sure to defend your conclusion. Include supporting information for your analysis.\n",
    "   6. Refine your initial hypothesis and repeat steps 3 through 5\n",
    "      - How did the outcome(s) change between your original Ho/Ha and your refined Ho/Ha?\n",
    "\n",
    "**Important:** Make sure your provide complete and thorough explanations for all of your analysis. You need to defend your thought processes and reasoning."
   ]
  },
  {
   "cell_type": "markdown",
   "metadata": {},
   "source": [
    "# Deliverables:\n",
    "Upload your Jupyter Notebook to the corresponding location in WorldClass. \n",
    "\n",
    "**Note::** Make sure you have clearly indicated each assignment requirement within your notebook."
   ]
  },
  {
   "cell_type": "code",
   "execution_count": null,
   "metadata": {},
   "outputs": [],
   "source": []
  }
 ],
 "metadata": {
  "kernelspec": {
   "display_name": "Python 3",
   "language": "python",
   "name": "python3"
  },
  "language_info": {
   "codemirror_mode": {
    "name": "ipython",
    "version": 3
   },
   "file_extension": ".py",
   "mimetype": "text/x-python",
   "name": "python",
   "nbconvert_exporter": "python",
   "pygments_lexer": "ipython3",
   "version": "3.8.8"
  }
 },
 "nbformat": 4,
 "nbformat_minor": 4
}
