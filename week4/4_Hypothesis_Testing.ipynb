{
 "cells": [
  {
   "cell_type": "markdown",
   "metadata": {},
   "source": [
    "<img align=\"right\" style=\"padding-right:10px;\" src=\"figures_wk4/hypothesis_process.png\" width=320><br>\n",
    "# Hypothesis Testing\n",
    "\n",
    "**Outline**\n",
    "\n",
    "* Statistical and Hypothesis Testing\n",
    "   - What is a Hypothesis?\n",
    "   - What is a Hypothesis Statement?\n",
    "   - Null vs Alternative Hypothesis\n",
    "      * What is a typical examples of Ho and Ha?\n",
    "   - Type I and Type II Errors\n",
    "      * Significance Level\n",
    "      * P-value\n",
    "   - Types of Hypothesis Tests\n",
    "   - Is your data normal?\n",
    "      * Graphical Checks\n",
    "      * Statistical Testing\n",
    "   - Hypothesis Testing Process\n",
    "* Demo: Normality Test of a Dataset\n",
    "   - Graphical Normality Checks\n",
    "      * Histogram Plot\n",
    "      * Normal Probability Plot\n",
    "   - Statistical Normality Tests\n",
    "      * Shapiro-Wilk Test\n",
    "      * D’Agostino’s K^2 Test\n",
    "* Demo: Hypothesis Testing\n",
    "   - T-test\n",
    "      * One sample T-test\n",
    "      * Paired Sampled T-test\n",
    "   - Z-test\n",
    "      * One Sample Z-test\n",
    "      * Two Sample Z-test\n",
    "      "
   ]
  },
  {
   "cell_type": "markdown",
   "metadata": {},
   "source": [
    "## Statistical and Hypothesis Testing\n",
    "A statistical hypothesis test is a method of statistical inference. \n",
    "\n",
    "Commonly, two statistical data sets are compared, or a data set obtained by sampling is compared against a synthetic data set from an idealized model. An **alternative hypothesis** is proposed for the statistical-relationship between the two data-sets, and is compared to an idealized **null hypothesis** that proposes no relationship between these two data-sets. This comparison is deemed **statistically significant** if the relationship between the data-sets would be an unlikely realization of the null hypothesis according to a threshold probability—the significance level. Hypothesis tests are used when determining what outcomes of a study would lead to a rejection of the null hypothesis for a pre-specified level of significance.\n",
    "\n",
    "The main purpose of statistics is to test a hypothesis. For example, you might run an experiment and find that a certain drug is effective at treating headaches. But if you can’t repeat that experiment, no one will take your results seriously. "
   ]
  },
  {
   "cell_type": "markdown",
   "metadata": {},
   "source": [
    "### What is a Hypothesis?\n",
    "A hypothesis is an educated guess about something in the world around you. It should be testable, either by experiment or observation. \n",
    "\n",
    "For example:\n",
    "* A new medicine you think might work.\n",
    "* A way of teaching you think might be better.\n",
    "* A possible location of new species.\n",
    "* A fairer way to administer standardized tests.\n",
    "It can really be anything at all as long as you can put it to the test.\n",
    "\n",
    "### What is a Hypothesis Statement?\n",
    "If you are going to propose a hypothesis, it’s customary to write a statement. Your statement will look like this:\n",
    "“If I…(do this to an independent variable)….then (this will happen to the dependent variable).”\n",
    "\n",
    "For example:\n",
    "* If I (decrease the amount of water given to herbs) then (the herbs will increase in size).\n",
    "* If I (give patients counseling in addition to medication) then (their overall depression scale will decrease).\n",
    "* If I (give exams at noon instead of 7) then (student test scores will improve).\n",
    "* If I (look in this certain location) then (I am more likely to find new species).\n",
    "\n",
    "A good hypothesis statement should:\n",
    "* Include an “if” and “then” statement (according to the University of California).\n",
    "* Include both the independent and dependent variables.\n",
    "* Be testable by experiment, survey or other scientifically sound technique.\n",
    "* Be based on information in prior research (either yours or someone else’s).\n",
    "* Have design criteria (for engineering or programming projects)."
   ]
  },
  {
   "cell_type": "markdown",
   "metadata": {},
   "source": [
    "### Null vs Alternative Hypothesis\n",
    "<img align=\"center\" style=\"padding-right:10px;\" src=\"figures_wk4/Ho_Ha.png\" width=650><br>\n",
    "\n",
    "The **null hypothesis** reflects that there will be **no observed effect** in our experiment. In a mathematical formulation of the null hypothesis, there will typically be an equal sign.\n",
    "\n",
    "The **alternative hypothesis** reflects that there **will be an observed effect** for our experiment. In a mathematical formulation of the alternative hypothesis, there will typically be an inequality, or not equal to symbol. \"\n",
    "\n",
    "#### What is a typical examples of Ho and Ha?\n",
    "Ho: Often we are measuring the means of something, and the null hypothesis is that two means are the same.\n",
    "\n",
    "Ha: When measuring the means of something (average height of American vs Mexican corn, for example), the alternative hypothesis is that the means are not the same.\n"
   ]
  },
  {
   "cell_type": "markdown",
   "metadata": {},
   "source": [
    "### Type I and Type II Errors\n",
    "The process of distinguishing between the **null hypothesis** and the **alternative hypothesis** is aided by considering two conceptual types of errors. \n",
    "\n",
    "<img align=\"left\" style=\"padding-right:10px;\" src=\"figures_wk4/type1_type2.png\" width=500><br>\n",
    "The first type of error occurs when the null hypothesis is wrongly rejected. The second type of error occurs when the null hypothesis is wrongly not rejected. (The two types are known as **Type I and Type II Errors**.)\n",
    "\n",
    "#### Significance Level\n",
    "The significance level, also denoted as **alpha(α)**, is the probability of rejecting the null hypothesis when it is true. In other words, the level of significance is the probability of a Type I Error occurring. \n",
    "\n",
    "#### P-value\n",
    "The P-value, or calculated probability, is the probability of finding the observed, or more extreme, results when the null hypothesis (Ho) of a study question is true — the definition of ‘extreme’ depends on how the hypothesis is being tested"
   ]
  },
  {
   "cell_type": "markdown",
   "metadata": {},
   "source": [
    "### Types of Hypothesis Tests\n",
    "There are a number of different types of hypothesis tests, useful for different hypothesis scenarios and data samples. Below is a list of some of the more commonly used hypothesis tests.\n",
    "* **T-test**: Used for comparing means (or another summary statistic) of 1 group to a number, or between two groups\n",
    "* **Z-test**: Used for same thing as a t-test, but typically for large samples and known population variance\n",
    "* **F-test**: Used for testing if different levels of a factor have a significant effect on a summary statistic\n",
    "* **ANOVA**: Tests for the difference between group means after any other variance in the outcome variable is accounted for (e.g., controlling for sex, income, or age)\n",
    "* **Chi Square**: Tests for the strength of the association between two categorical variables."
   ]
  },
  {
   "cell_type": "markdown",
   "metadata": {},
   "source": [
    "<img align=\"right\" style=\"padding-right:10px;\" src=\"figures_wk4/normal_data.png\" width=370><br>\n",
    "### Is your data normal?\n",
    "\n",
    "Most hypothsesis tests make an assumption about the distribution of the underlying data is normally distributed,and we’re often told that we must carefully check the assumptions!\n",
    "\n",
    "There are a number of techniques that you can use to check if your data sample is normally or sufficiently normal to use standard techniques (ie: hyypothesis testing).\n",
    "* **Graphical Methods**: These are methods for plotting the data and qualitatively evaluating whether the data looks \"normally distributed\". \n",
    "* **Statistical Tests**: These are methods that calculate statistics on the data and quantify how likely it is that the data was drawn from a normal distribution. \n",
    "\n",
    "Methods of this type are often called normality tests."
   ]
  },
  {
   "cell_type": "markdown",
   "metadata": {},
   "source": [
    "### Hypothesis Testing Process\n",
    "* Collect your data\n",
    "* Define your null and alternative hypothesis\n",
    "* Determine your alpha\n",
    "* Check the distribution of your data\n",
    "* Calculate some test statistic and compare to alpha\n",
    "* Draw a conclusion about Ho (reject or accept)"
   ]
  },
  {
   "cell_type": "markdown",
   "metadata": {},
   "source": [
    "References: \n",
    "* https://www.statisticshowto.datasciencecentral.com/probability-and-statistics/hypothesis-testing/\n",
    "* https://en.wikipedia.org/wiki/Statistical_hypothesis_testing\n",
    "* https://www.thoughtco.com/null-hypothesis-vs-alternative-hypothesis-3126413"
   ]
  },
  {
   "cell_type": "markdown",
   "metadata": {},
   "source": [
    "## Demo: Normality Test of a Dataset \n",
    "As stated above, there are a number of techniques that we can use to check to see whether our dataset is normally distributed or not.  For this demo, we will be following along with [A Gentle Introduction to Normality Tests in Python](https://machinelearningmastery.com/a-gentle-introduction-to-normality-tests-in-python/) tutorial.\n",
    "\n",
    "### Generate a Dataset\n",
    "Before we start looking at normality tests, let’s first develop a test dataset that we can use throughout this tutorial."
   ]
  },
  {
   "cell_type": "code",
   "execution_count": 1,
   "metadata": {},
   "outputs": [],
   "source": [
    "# some of the common imports that we will need\n",
    "import matplotlib.pyplot as plt\n",
    "import numpy as np\n",
    "import seaborn as sns\n",
    "import pandas as pd\n",
    "\n",
    "%matplotlib inline\n",
    "sns.set()  "
   ]
  },
  {
   "cell_type": "code",
   "execution_count": 2,
   "metadata": {},
   "outputs": [
    {
     "name": "stdout",
     "output_type": "stream",
     "text": [
      "mean=50.303 stdv=4.426\n"
     ]
    }
   ],
   "source": [
    "# generate normally distributed data\n",
    "from numpy.random import seed\n",
    "from numpy.random import randn\n",
    "from numpy import mean\n",
    "from numpy import std\n",
    "\n",
    "# seed the random number generator\n",
    "seed(1)\n",
    "\n",
    "# generate univariate observations\n",
    "data = 5 * randn(100) + 50\n",
    "\n",
    "# summarize\n",
    "print('mean=%.3f stdv=%.3f' % (mean(data), std(data)))"
   ]
  },
  {
   "cell_type": "markdown",
   "metadata": {},
   "source": [
    "### Graphical Normality Checks\n",
    "We can create plots of the data to check whether it is Gaussian (aka normally distributed)\n",
    "\n",
    "These checks are qualitative, so less accurate than the statistical methods we will calculate in the next section. Nevertheless, they are fast and like the statistical tests, must still be interpreted before you can make a call about your data sample.\n",
    "\n",
    "#### Histogram Plot\n",
    "A simple and commonly used plot to quickly check the distribution of a sample of data is the histogram."
   ]
  },
  {
   "cell_type": "code",
   "execution_count": 3,
   "metadata": {},
   "outputs": [
    {
     "data": {
      "text/plain": [
       "(array([ 3.,  1.,  6., 17., 19., 20., 14., 12.,  5.,  3.]),\n",
       " array([38.49230652, 40.73586357, 42.97942062, 45.22297767, 47.46653472,\n",
       "        49.71009177, 51.95364883, 54.19720588, 56.44076293, 58.68431998,\n",
       "        60.92787703]),\n",
       " <BarContainer object of 10 artists>)"
      ]
     },
     "execution_count": 3,
     "metadata": {},
     "output_type": "execute_result"
    },
    {
     "data": {
      "image/png": "[encoded data removed]",
      "text/plain": [
       "<Figure size 432x288 with 1 Axes>"
      ]
     },
     "metadata": {},
     "output_type": "display_data"
    }
   ],
   "source": [
    "# histogram plot\n",
    "plt.hist(data)"
   ]
  },
  {
   "cell_type": "markdown",
   "metadata": {},
   "source": [
    "We can see a Gaussian-like shape to the data, that although is not strongly the familiar bell-shape, is a rough approximation.\n",
    "\n",
    "<div class=\"alert alert-block alert-success\">\n",
    "<b>Helpful Hint::</b> I prefer seaborn for displaying graphival information. Let's see the difference between matplotlib and seaborn.\n",
    "</div>"
   ]
  },
  {
   "cell_type": "code",
   "execution_count": 28,
   "metadata": {},
   "outputs": [
    {
     "data": {
      "text/plain": [
       "<seaborn.axisgrid.FacetGrid at 0x7fcd86a4dc90>"
      ]
     },
     "execution_count": 28,
     "metadata": {},
     "output_type": "execute_result"
    },
    {
     "data": {
      "image/png": "[encoded data removed]",
      "text/plain": [
       "<Figure size 360x360 with 1 Axes>"
      ]
     },
     "metadata": {},
     "output_type": "display_data"
    }
   ],
   "source": [
    "# histogram plot - the kde argument adds the line to show the general shape of the distribution\n",
    "sns.displot(data,kde=True)"
   ]
  },
  {
   "cell_type": "markdown",
   "metadata": {},
   "source": [
    "I've found that the seaborn plots are just nicer overall. \n",
    "\n",
    "#### Normal Probability Plot\n",
    "The normal probability plot is a graphical technique for assessing whether or not a data set is approximately normally distributed.\n",
    "\n",
    "The data are plotted against a theoretical normal distribution in such a way that the points should form an approximate straight line. Departures from this straight line indicate departures from normality.\n",
    "\n",
    "The normal probability plot is a special case of the probability plot. We cover the normal probability plot separately due to its importance in many applications."
   ]
  },
  {
   "cell_type": "code",
   "execution_count": 5,
   "metadata": {},
   "outputs": [
    {
     "data": {
      "image/png": "[encoded data removed]",
      "text/plain": [
       "<Figure size 432x288 with 1 Axes>"
      ]
     },
     "metadata": {},
     "output_type": "display_data"
    }
   ],
   "source": [
    "import scipy.stats as stats\n",
    "res = stats.probplot(data, plot=plt)"
   ]
  },
  {
   "cell_type": "markdown",
   "metadata": {},
   "source": [
    "There are a few small deviations, especially at the bottom of the plot, which is to be expected given the small data sample.\n",
    "\n",
    "### Statistical Normality Tests\n",
    "There are many statistical tests that we can use to quantify whether a sample of data looks as though it was drawn from a normal distribution.\n",
    "\n",
    "Each test makes different assumptions and considers different aspects of the data. However, each of these tests returns at least two things:\n",
    "* **Statistic**: A quantity calculated by the test that can be interpreted in the context of the test via comparing it to critical values from the distribution of the test statistic.\n",
    "* **p-value**: Used to interpret the test, in this case whether the sample was drawn from a normal distribution.\n",
    "\n",
    "Each test calculates a test-specific statistic. This statistic can aid in the interpretation of the result, although it may require a deeper proficiency with statistics and a deeper knowledge of the specific statistical test. Instead, the p-value can be used to quickly and accurately interpret the statistic in practical applications.\n",
    "\n",
    "The tests assume that that the sample was drawn from a normal distribution. Technically this is called the null hypothesis, or Ho. A threshold level is chosen called alpha, typically 5% (or 0.05), that is used to interpret the p-value.\n",
    "\n",
    "In the SciPy implementation of these tests, you can interpret the p value as follows.\n",
    "\n",
    "* **p <= alpha**: reject Ho, not normal.\n",
    "* **p > alpha**: accept Ho, normal.\n",
    "\n",
    "This means that, in general, we are seeking results with a larger p-value to confirm that our sample was likely drawn from a normal distribution."
   ]
  },
  {
   "cell_type": "markdown",
   "metadata": {},
   "source": [
    "#### Shapiro-Wilk Test\n",
    "The Shapiro-Wilk test evaluates a data sample and quantifies how likely it is that the data was drawn from a Gaussian distribution, named for Samuel Shapiro and Martin Wilk.\n",
    "\n",
    "In practice, the Shapiro-Wilk test is believed to be a reliable test of normality, although there is some suggestion that the test may be suitable for smaller samples of data, e.g. thousands of observations or fewer."
   ]
  },
  {
   "cell_type": "code",
   "execution_count": 6,
   "metadata": {},
   "outputs": [
    {
     "name": "stdout",
     "output_type": "stream",
     "text": [
      "Statistics=0.992, p=0.822\n",
      "Sample looks normally distributed (fail to reject H0)\n"
     ]
    }
   ],
   "source": [
    "from scipy.stats import shapiro\n",
    "\n",
    "# normality test\n",
    "stat, p = shapiro(data)\n",
    "print('Statistics=%.3f, p=%.3f' % (stat, p))\n",
    "\n",
    "# interpret\n",
    "alpha = 0.05\n",
    "if p > alpha:\n",
    "    print('Sample looks normally distributed (fail to reject H0)')\n",
    "else:\n",
    "    print('Sample does not look normally distributed (reject H0)')"
   ]
  },
  {
   "cell_type": "markdown",
   "metadata": {},
   "source": [
    "#### D’Agostino’s K^2 Test\n",
    "The D’Agostino’s K^2 test calculates summary statistics from the data, namely kurtosis and skewness, to determine if the data distribution departs from the normal distribution, named for Ralph D’Agostino.\n",
    "\n",
    "* Skewness is a quantification of how much a distribution is pushed left or right, a measure of asymmetry in the distribution.\n",
    "* Kurtosis quantifies how much of the distribution is in the tail. It is a simple and commonly used statistical test for normality.\n",
    "\n",
    "The D’Agostino’s K^2 test is available via the normaltest() SciPy function and returns the test statistic and the p-value. The test statistic is calculated as s^2 + k^2, where s is the z-score returned by skewtest and k is the z-score returned by kurtosis test."
   ]
  },
  {
   "cell_type": "code",
   "execution_count": 7,
   "metadata": {},
   "outputs": [
    {
     "name": "stdout",
     "output_type": "stream",
     "text": [
      "Statistics=0.102, p=0.950\n",
      "Sample looks normally distributed (fail to reject H0)\n"
     ]
    }
   ],
   "source": [
    "from scipy.stats import normaltest\n",
    "\n",
    "# normality test\n",
    "stat, p = normaltest(data)\n",
    "print('Statistics=%.3f, p=%.3f' % (stat, p))\n",
    "\n",
    "# interpret\n",
    "alpha = 0.05\n",
    "if p > alpha:\n",
    "    print('Sample looks normally distributed (fail to reject H0)')\n",
    "else:\n",
    "    print('Sample does not look normally distributed (reject H0)')"
   ]
  },
  {
   "cell_type": "markdown",
   "metadata": {},
   "source": [
    "<div class=\"alert alert-block alert-success\">\n",
    "<b>Helpful Hint::</b> If your data is stored in a pandas dataframe skewness and kurtosis are methods of the class Dataframe. \n",
    "\n",
    "Here's an example: <br>\n",
    "&emsp;print(f'Skewness: {train[\"SalePrice\"].skew()}') <br>\n",
    "&emsp;print(f'Kurtosis: {train[\"SalePrice\"].kurt()}')    \n",
    "    \n",
    "</div>\n"
   ]
  },
  {
   "cell_type": "markdown",
   "metadata": {},
   "source": [
    "## Demo: Hypothesis Testing\n",
    "As stated above, hypothesis testing is a statistical method that is used in making statistical decisions using experimental data. In this demo we will demostrate several different types of hypothesis testing and will be following along with [Hypothesis testing in Machine learning using Python](https://towardsdatascience.com/hypothesis-testing-in-machine-learning-using-python-a0dc89e169ce).\n",
    "\n",
    "### T-test\n",
    "A t-test is a type of inferential statistic which is used to determine if there is a significant difference between the means of two groups which may be related in certain features. It is mostly used when the data sets, like the set of data recorded as outcome from flipping a coin a 100 times, would follow a normal distribution and may have unknown variances. T test is used as a hypothesis testing tool, which allows testing of an assumption applicable to a population. \n",
    "\n",
    "T-test has 2 types <br>\n",
    "1. one sampled t-test\n",
    "2. two-sampled t-test.\n",
    "\n",
    "#### One Sample T-test\n",
    "The One Sample T-test determines whether the sample mean is statistically different from a known or hypothesised population mean.\n",
    "\n",
    "Example: You have 14 ages and you are checking whether average age is 30 or not."
   ]
  },
  {
   "cell_type": "code",
   "execution_count": 1,
   "metadata": {},
   "outputs": [
    {
     "name": "stdout",
     "output_type": "stream",
     "text": [
      "Ages: [32, 34, 29, 29, 22, 39, 38, 37, 38, 36, 30, 26, 22, 22]\n",
      "Mean: 31.0\n",
      "p-value: 0.5605155888171379\n",
      "Accept null hypothesis\n"
     ]
    }
   ],
   "source": [
    "from scipy.stats import ttest_1samp\n",
    "import numpy as np\n",
    "\n",
    "ages = [32, 34, 29, 29, 22, 39, 38, 37, 38, 36, 30, 26, 22, 22]\n",
    "print(f'Ages: {ages}')\n",
    "ages_mean = np.mean(ages)\n",
    "print(f'Mean: {ages_mean}')\n",
    "\n",
    "#t-test, where we are defining the Ho = 30\n",
    "tset, pval = ttest_1samp(ages, 30)\n",
    "print(f'p-value: {pval}')\n",
    "\n",
    "# eval p-value\n",
    "if pval < 0.05:    # alpha value is 0.05 or 5%\n",
    "   print('Reject null hypothesis')\n",
    "else:\n",
    "  print('Accept null hypothesis')"
   ]
  },
  {
   "cell_type": "markdown",
   "metadata": {},
   "source": [
    "So, what does all of that mean. The results show that the p-value (.5605) is greater than our defined alpha(α) of .05. This suggests that the null hypothesis(Ho) cannot not be rejected, and the average age of our dataset **is not significantly different** than 30. Even though the calculated mean is 31."
   ]
  },
  {
   "cell_type": "markdown",
   "metadata": {},
   "source": [
    "#### Paired Sampled T-test\n",
    "The paired sample T-test is also called dependent sample t-test. It’s an uni variate test that tests for a significant difference between 2 related variables. \n",
    "\n",
    "* H0: mean difference between two sample is 0\n",
    "* H1: mean difference between two sample is not 0\n",
    "\n",
    "For this exercise, we have 10 athletes that were testing before and after the same coach used a new training method.   Our first test will be to compare the effectiveness of the new training method. For this comparison, Ho = there was no improvement from the new training method."
   ]
  },
  {
   "cell_type": "code",
   "execution_count": 9,
   "metadata": {},
   "outputs": [
    {
     "data": {
      "text/html": [
       "<div>\n",
       "<style scoped>\n",
       "    .dataframe tbody tr th:only-of-type {\n",
       "        vertical-align: middle;\n",
       "    }\n",
       "\n",
       "    .dataframe tbody tr th {\n",
       "        vertical-align: top;\n",
       "    }\n",
       "\n",
       "    .dataframe thead th {\n",
       "        text-align: right;\n",
       "    }\n",
       "</style>\n",
       "<table border=\"1\" class=\"dataframe\">\n",
       "  <thead>\n",
       "    <tr style=\"text-align: right;\">\n",
       "      <th></th>\n",
       "      <th>before</th>\n",
       "      <th>after</th>\n",
       "    </tr>\n",
       "  </thead>\n",
       "  <tbody>\n",
       "    <tr>\n",
       "      <th>0</th>\n",
       "      <td>12.9</td>\n",
       "      <td>12.7</td>\n",
       "    </tr>\n",
       "    <tr>\n",
       "      <th>1</th>\n",
       "      <td>13.5</td>\n",
       "      <td>13.6</td>\n",
       "    </tr>\n",
       "    <tr>\n",
       "      <th>2</th>\n",
       "      <td>12.8</td>\n",
       "      <td>12.0</td>\n",
       "    </tr>\n",
       "    <tr>\n",
       "      <th>3</th>\n",
       "      <td>15.6</td>\n",
       "      <td>15.2</td>\n",
       "    </tr>\n",
       "    <tr>\n",
       "      <th>4</th>\n",
       "      <td>17.2</td>\n",
       "      <td>16.8</td>\n",
       "    </tr>\n",
       "    <tr>\n",
       "      <th>5</th>\n",
       "      <td>19.2</td>\n",
       "      <td>20.0</td>\n",
       "    </tr>\n",
       "    <tr>\n",
       "      <th>6</th>\n",
       "      <td>12.6</td>\n",
       "      <td>12.0</td>\n",
       "    </tr>\n",
       "    <tr>\n",
       "      <th>7</th>\n",
       "      <td>15.3</td>\n",
       "      <td>15.9</td>\n",
       "    </tr>\n",
       "    <tr>\n",
       "      <th>8</th>\n",
       "      <td>14.4</td>\n",
       "      <td>16.0</td>\n",
       "    </tr>\n",
       "    <tr>\n",
       "      <th>9</th>\n",
       "      <td>11.3</td>\n",
       "      <td>11.1</td>\n",
       "    </tr>\n",
       "  </tbody>\n",
       "</table>\n",
       "</div>"
      ],
      "text/plain": [
       "   before  after\n",
       "0    12.9   12.7\n",
       "1    13.5   13.6\n",
       "2    12.8   12.0\n",
       "3    15.6   15.2\n",
       "4    17.2   16.8\n",
       "5    19.2   20.0\n",
       "6    12.6   12.0\n",
       "7    15.3   15.9\n",
       "8    14.4   16.0\n",
       "9    11.3   11.1"
      ]
     },
     "execution_count": 9,
     "metadata": {},
     "output_type": "execute_result"
    }
   ],
   "source": [
    "import pandas as pd\n",
    "from scipy import stats\n",
    "\n",
    "df = pd.read_csv('data_wk3/coaching.csv')\n",
    "df"
   ]
  },
  {
   "cell_type": "code",
   "execution_count": 10,
   "metadata": {},
   "outputs": [
    {
     "name": "stdout",
     "output_type": "stream",
     "text": [
      "p-value: 0.8358400057139277\n",
      "Accept null hypothesis\n"
     ]
    }
   ],
   "source": [
    "#paired t-test\n",
    "ttest,pval = stats.ttest_rel(df['before'], df['after'])\n",
    "print(f'p-value: {pval}')\n",
    "\n",
    "# eval p-value\n",
    "if pval < 0.05:    # alpha value is 0.05 or 5%\n",
    "   print('Reject null hypothesis')\n",
    "else:\n",
    "  print('Accept null hypothesis')"
   ]
  },
  {
   "cell_type": "markdown",
   "metadata": {},
   "source": [
    "Since the p-value > 0.05, we do not reject Ho.  This means that the new training method **did not significantly** impact the athlete’s performance, positively or negatively.  There was no overall change.\n",
    "\n",
    "Let's take a look at another example. This time we will look at the blood pressure of individuals before and after some sort of a treatment."
   ]
  },
  {
   "cell_type": "code",
   "execution_count": 11,
   "metadata": {},
   "outputs": [
    {
     "data": {
      "text/html": [
       "<div>\n",
       "<style scoped>\n",
       "    .dataframe tbody tr th:only-of-type {\n",
       "        vertical-align: middle;\n",
       "    }\n",
       "\n",
       "    .dataframe tbody tr th {\n",
       "        vertical-align: top;\n",
       "    }\n",
       "\n",
       "    .dataframe thead th {\n",
       "        text-align: right;\n",
       "    }\n",
       "</style>\n",
       "<table border=\"1\" class=\"dataframe\">\n",
       "  <thead>\n",
       "    <tr style=\"text-align: right;\">\n",
       "      <th></th>\n",
       "      <th>patient</th>\n",
       "      <th>sex</th>\n",
       "      <th>agegrp</th>\n",
       "      <th>bp_before</th>\n",
       "      <th>bp_after</th>\n",
       "    </tr>\n",
       "  </thead>\n",
       "  <tbody>\n",
       "    <tr>\n",
       "      <th>0</th>\n",
       "      <td>1</td>\n",
       "      <td>Male</td>\n",
       "      <td>30-45</td>\n",
       "      <td>143</td>\n",
       "      <td>153</td>\n",
       "    </tr>\n",
       "    <tr>\n",
       "      <th>1</th>\n",
       "      <td>2</td>\n",
       "      <td>Male</td>\n",
       "      <td>30-45</td>\n",
       "      <td>163</td>\n",
       "      <td>170</td>\n",
       "    </tr>\n",
       "    <tr>\n",
       "      <th>2</th>\n",
       "      <td>3</td>\n",
       "      <td>Male</td>\n",
       "      <td>30-45</td>\n",
       "      <td>153</td>\n",
       "      <td>168</td>\n",
       "    </tr>\n",
       "    <tr>\n",
       "      <th>3</th>\n",
       "      <td>4</td>\n",
       "      <td>Male</td>\n",
       "      <td>30-45</td>\n",
       "      <td>153</td>\n",
       "      <td>142</td>\n",
       "    </tr>\n",
       "    <tr>\n",
       "      <th>4</th>\n",
       "      <td>5</td>\n",
       "      <td>Male</td>\n",
       "      <td>30-45</td>\n",
       "      <td>146</td>\n",
       "      <td>141</td>\n",
       "    </tr>\n",
       "    <tr>\n",
       "      <th>...</th>\n",
       "      <td>...</td>\n",
       "      <td>...</td>\n",
       "      <td>...</td>\n",
       "      <td>...</td>\n",
       "      <td>...</td>\n",
       "    </tr>\n",
       "    <tr>\n",
       "      <th>115</th>\n",
       "      <td>116</td>\n",
       "      <td>Female</td>\n",
       "      <td>60+</td>\n",
       "      <td>152</td>\n",
       "      <td>152</td>\n",
       "    </tr>\n",
       "    <tr>\n",
       "      <th>116</th>\n",
       "      <td>117</td>\n",
       "      <td>Female</td>\n",
       "      <td>60+</td>\n",
       "      <td>161</td>\n",
       "      <td>152</td>\n",
       "    </tr>\n",
       "    <tr>\n",
       "      <th>117</th>\n",
       "      <td>118</td>\n",
       "      <td>Female</td>\n",
       "      <td>60+</td>\n",
       "      <td>165</td>\n",
       "      <td>174</td>\n",
       "    </tr>\n",
       "    <tr>\n",
       "      <th>118</th>\n",
       "      <td>119</td>\n",
       "      <td>Female</td>\n",
       "      <td>60+</td>\n",
       "      <td>149</td>\n",
       "      <td>151</td>\n",
       "    </tr>\n",
       "    <tr>\n",
       "      <th>119</th>\n",
       "      <td>120</td>\n",
       "      <td>Female</td>\n",
       "      <td>60+</td>\n",
       "      <td>185</td>\n",
       "      <td>163</td>\n",
       "    </tr>\n",
       "  </tbody>\n",
       "</table>\n",
       "<p>120 rows × 5 columns</p>\n",
       "</div>"
      ],
      "text/plain": [
       "     patient     sex agegrp  bp_before  bp_after\n",
       "0          1    Male  30-45        143       153\n",
       "1          2    Male  30-45        163       170\n",
       "2          3    Male  30-45        153       168\n",
       "3          4    Male  30-45        153       142\n",
       "4          5    Male  30-45        146       141\n",
       "..       ...     ...    ...        ...       ...\n",
       "115      116  Female    60+        152       152\n",
       "116      117  Female    60+        161       152\n",
       "117      118  Female    60+        165       174\n",
       "118      119  Female    60+        149       151\n",
       "119      120  Female    60+        185       163\n",
       "\n",
       "[120 rows x 5 columns]"
      ]
     },
     "execution_count": 11,
     "metadata": {},
     "output_type": "execute_result"
    }
   ],
   "source": [
    "df2 = pd.read_csv('data_wk3/blood_pressure.csv')\n",
    "df2"
   ]
  },
  {
   "cell_type": "code",
   "execution_count": 12,
   "metadata": {},
   "outputs": [
    {
     "name": "stdout",
     "output_type": "stream",
     "text": [
      "p-value: 0.0011297914644840823\n",
      "Reject null hypothesis\n"
     ]
    }
   ],
   "source": [
    "#paired t-test\n",
    "ttest,pval = stats.ttest_rel(df2['bp_before'], df2['bp_after'])\n",
    "print(f'p-value: {pval}')\n",
    "\n",
    "# eval p-value\n",
    "if pval < 0.05:    # alpha value is 0.05 or 5%\n",
    "   print('Reject null hypothesis')\n",
    "else:\n",
    "  print('Accept null hypothesis')"
   ]
  },
  {
   "cell_type": "markdown",
   "metadata": {},
   "source": [
    "We got a different result this time and Ho is rejected. This means that treatment **did significantly affect** the blood pressure of this group of individuals."
   ]
  },
  {
   "cell_type": "markdown",
   "metadata": {},
   "source": [
    "### Z-test\n",
    "A Z-test is very similar to a T-test, but is generally used when we have a larger sample size.\n",
    "\n",
    "You would use a Z test if:\n",
    "* Your sample size is greater than 30. Otherwise, use a t test.\n",
    "* Data points should be independent from each other. In other words, one data point isn’t related or doesn’t affect another data point.\n",
    "* Your data should be normally distributed. However, for large sample sizes (over 30) this doesn’t always matter.\n",
    "* Your data should be randomly selected from a population, where each item has an equal chance of being selected.\n",
    "* Sample sizes should be equal if at all possible\n"
   ]
  },
  {
   "cell_type": "markdown",
   "metadata": {},
   "source": [
    "#### One Sample Z-test\n",
    "We will reuse our blood pressure dataset from above and we are going to define our Ho: average starting blood pressure of 156 for our group of individuals."
   ]
  },
  {
   "cell_type": "code",
   "execution_count": 13,
   "metadata": {},
   "outputs": [
    {
     "data": {
      "text/plain": [
       "0      143\n",
       "1      163\n",
       "2      153\n",
       "3      153\n",
       "4      146\n",
       "      ... \n",
       "115    152\n",
       "116    161\n",
       "117    165\n",
       "118    149\n",
       "119    185\n",
       "Name: bp_before, Length: 120, dtype: int64"
      ]
     },
     "execution_count": 13,
     "metadata": {},
     "output_type": "execute_result"
    }
   ],
   "source": [
    "# verify that we still have our data\n",
    "df2['bp_before']"
   ]
  },
  {
   "cell_type": "code",
   "execution_count": 14,
   "metadata": {},
   "outputs": [
    {
     "name": "stdout",
     "output_type": "stream",
     "text": [
      "p-vale: 0.6651614730255063\n",
      "Accept null hypothesis\n"
     ]
    }
   ],
   "source": [
    "from statsmodels.stats import weightstats as stests\n",
    "\n",
    "# z-test\n",
    "ztest ,pval = stests.ztest(df2['bp_before'], x2=None, value=156)\n",
    "print(f'p-vale: {pval}')\n",
    "\n",
    "# eval p-value\n",
    "if pval < 0.05:    # alpha value is 0.05 or 5%\n",
    "   print('Reject null hypothesis')\n",
    "else:\n",
    "  print('Accept null hypothesis')"
   ]
  },
  {
   "cell_type": "markdown",
   "metadata": {},
   "source": [
    "To recap, this means that our null hypothesis (Ho) cannot not be rejected, and the average blood pressure of our dataset is not significantly different than 156.\n",
    "\n",
    "#### Two Sample Z-test\n",
    "In two sample z-test , similar to t-test here we are checking two independent data groups and deciding whether sample mean of two group is equal or not.\n",
    "\n",
    "* H0 : mean of two group is 0\n",
    "* H1 : mean of two group is not 0\n",
    "\n",
    "Let's redo the blood pressure paired t-test from above. Our dataset does have more than 30 individuals in it."
   ]
  },
  {
   "cell_type": "code",
   "execution_count": 15,
   "metadata": {},
   "outputs": [
    {
     "data": {
      "text/html": [
       "<div>\n",
       "<style scoped>\n",
       "    .dataframe tbody tr th:only-of-type {\n",
       "        vertical-align: middle;\n",
       "    }\n",
       "\n",
       "    .dataframe tbody tr th {\n",
       "        vertical-align: top;\n",
       "    }\n",
       "\n",
       "    .dataframe thead th {\n",
       "        text-align: right;\n",
       "    }\n",
       "</style>\n",
       "<table border=\"1\" class=\"dataframe\">\n",
       "  <thead>\n",
       "    <tr style=\"text-align: right;\">\n",
       "      <th></th>\n",
       "      <th>patient</th>\n",
       "      <th>sex</th>\n",
       "      <th>agegrp</th>\n",
       "      <th>bp_before</th>\n",
       "      <th>bp_after</th>\n",
       "    </tr>\n",
       "  </thead>\n",
       "  <tbody>\n",
       "    <tr>\n",
       "      <th>0</th>\n",
       "      <td>1</td>\n",
       "      <td>Male</td>\n",
       "      <td>30-45</td>\n",
       "      <td>143</td>\n",
       "      <td>153</td>\n",
       "    </tr>\n",
       "    <tr>\n",
       "      <th>1</th>\n",
       "      <td>2</td>\n",
       "      <td>Male</td>\n",
       "      <td>30-45</td>\n",
       "      <td>163</td>\n",
       "      <td>170</td>\n",
       "    </tr>\n",
       "    <tr>\n",
       "      <th>2</th>\n",
       "      <td>3</td>\n",
       "      <td>Male</td>\n",
       "      <td>30-45</td>\n",
       "      <td>153</td>\n",
       "      <td>168</td>\n",
       "    </tr>\n",
       "    <tr>\n",
       "      <th>3</th>\n",
       "      <td>4</td>\n",
       "      <td>Male</td>\n",
       "      <td>30-45</td>\n",
       "      <td>153</td>\n",
       "      <td>142</td>\n",
       "    </tr>\n",
       "    <tr>\n",
       "      <th>4</th>\n",
       "      <td>5</td>\n",
       "      <td>Male</td>\n",
       "      <td>30-45</td>\n",
       "      <td>146</td>\n",
       "      <td>141</td>\n",
       "    </tr>\n",
       "    <tr>\n",
       "      <th>...</th>\n",
       "      <td>...</td>\n",
       "      <td>...</td>\n",
       "      <td>...</td>\n",
       "      <td>...</td>\n",
       "      <td>...</td>\n",
       "    </tr>\n",
       "    <tr>\n",
       "      <th>115</th>\n",
       "      <td>116</td>\n",
       "      <td>Female</td>\n",
       "      <td>60+</td>\n",
       "      <td>152</td>\n",
       "      <td>152</td>\n",
       "    </tr>\n",
       "    <tr>\n",
       "      <th>116</th>\n",
       "      <td>117</td>\n",
       "      <td>Female</td>\n",
       "      <td>60+</td>\n",
       "      <td>161</td>\n",
       "      <td>152</td>\n",
       "    </tr>\n",
       "    <tr>\n",
       "      <th>117</th>\n",
       "      <td>118</td>\n",
       "      <td>Female</td>\n",
       "      <td>60+</td>\n",
       "      <td>165</td>\n",
       "      <td>174</td>\n",
       "    </tr>\n",
       "    <tr>\n",
       "      <th>118</th>\n",
       "      <td>119</td>\n",
       "      <td>Female</td>\n",
       "      <td>60+</td>\n",
       "      <td>149</td>\n",
       "      <td>151</td>\n",
       "    </tr>\n",
       "    <tr>\n",
       "      <th>119</th>\n",
       "      <td>120</td>\n",
       "      <td>Female</td>\n",
       "      <td>60+</td>\n",
       "      <td>185</td>\n",
       "      <td>163</td>\n",
       "    </tr>\n",
       "  </tbody>\n",
       "</table>\n",
       "<p>120 rows × 5 columns</p>\n",
       "</div>"
      ],
      "text/plain": [
       "     patient     sex agegrp  bp_before  bp_after\n",
       "0          1    Male  30-45        143       153\n",
       "1          2    Male  30-45        163       170\n",
       "2          3    Male  30-45        153       168\n",
       "3          4    Male  30-45        153       142\n",
       "4          5    Male  30-45        146       141\n",
       "..       ...     ...    ...        ...       ...\n",
       "115      116  Female    60+        152       152\n",
       "116      117  Female    60+        161       152\n",
       "117      118  Female    60+        165       174\n",
       "118      119  Female    60+        149       151\n",
       "119      120  Female    60+        185       163\n",
       "\n",
       "[120 rows x 5 columns]"
      ]
     },
     "execution_count": 15,
     "metadata": {},
     "output_type": "execute_result"
    }
   ],
   "source": [
    "# verify we still have our dataset\n",
    "df2"
   ]
  },
  {
   "cell_type": "code",
   "execution_count": 16,
   "metadata": {},
   "outputs": [
    {
     "name": "stdout",
     "output_type": "stream",
     "text": [
      "p-value: 0.002162306611369422\n",
      "Reject null hypothesis\n"
     ]
    }
   ],
   "source": [
    "# ztest\n",
    "ztest ,pval = stests.ztest(df2['bp_before'], x2=df2['bp_after'],value=0,alternative='two-sided')\n",
    "print(f'p-value: {pval}')\n",
    "\n",
    "# eval p-value\n",
    "if pval < 0.05:    # alpha value is 0.05 or 5%\n",
    "   print('Reject null hypothesis')\n",
    "else:\n",
    "  print('Accept null hypothesis')"
   ]
  },
  {
   "cell_type": "markdown",
   "metadata": {},
   "source": [
    "So, the end result is the same between the paired t-test and the two sample z-test, but the p-value was different between the two tests. \n",
    "\n",
    "The take away here is to make sure you match your hypothesis test to youe dataset!!!"
   ]
  }
 ],
 "metadata": {
  "kernelspec": {
   "display_name": "Python 3",
   "language": "python",
   "name": "python3"
  },
  "language_info": {
   "codemirror_mode": {
    "name": "ipython",
    "version": 3
   },
   "file_extension": ".py",
   "mimetype": "text/x-python",
   "name": "python",
   "nbconvert_exporter": "python",
   "pygments_lexer": "ipython3",
   "version": "3.8.8"
  }
 },
 "nbformat": 4,
 "nbformat_minor": 4
}
