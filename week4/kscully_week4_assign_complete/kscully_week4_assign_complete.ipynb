{
 "cells": [
  {
   "cell_type": "markdown",
   "metadata": {},
   "source": [
    "# Introduction"
   ]
  },
  {
   "cell_type": "markdown",
   "metadata": {},
   "source": [
    "<img align=\"right\" style=\"padding-right:10px;\" src=\"figures_wk4/guinea_pig.png\" width=300><br>\n",
    "\n",
    " This week's assignment will give me some practice defining and testing a hypothesis.\n",
    " \n",
    " ***\n",
    "\n",
    "**Our Dataset: **\n",
    "**Dataset Name::** ToothGrowth.csv (locted in the assign_wk4 folder)<br>\n",
    "The tooth growth dataset describes the length of the odontoblasts (teeth) in each of 10 guinea pigs at three Vitamin C dosage levels (0.5, 1, and 2 mg) with two delivery methods (orange juice or ascorbic acid).\n",
    "\n",
    "The file contains 60 observations of 3 variables <br>\n",
    "len : Tooth length <br>\n",
    "supp : Supplement type (VC or OJ)<br>\n",
    "dose : Dose in milligrams<br>\n",
    "\n",
    "***"
   ]
  },
  {
   "cell_type": "code",
   "execution_count": 1,
   "metadata": {},
   "outputs": [],
   "source": [
    "import pandas as pd\n",
    "import numpy as np\n",
    "import matplotlib.pyplot as plt\n",
    "import seaborn as sns\n",
    "\n",
    "%matplotlib inline\n",
    "sns.set()"
   ]
  },
  {
   "cell_type": "code",
   "execution_count": 2,
   "metadata": {},
   "outputs": [],
   "source": [
    "df = pd.read_csv('assign_wk4/ToothGrowth.csv', index_col=0)"
   ]
  },
  {
   "cell_type": "markdown",
   "metadata": {},
   "source": [
    "# Methods/Code"
   ]
  },
  {
   "cell_type": "markdown",
   "metadata": {},
   "source": [
    "## 1. Graphically describe the dataset\n",
    "    - This could include box plots, histograms, etc.\n",
    "    - Provide a summary of your initial findings about the dataset."
   ]
  },
  {
   "cell_type": "markdown",
   "metadata": {},
   "source": [
    "I want to know what the data looks like."
   ]
  },
  {
   "cell_type": "code",
   "execution_count": 3,
   "metadata": {
    "scrolled": true
   },
   "outputs": [
    {
     "data": {
      "text/html": [
       "<div>\n",
       "<style scoped>\n",
       "    .dataframe tbody tr th:only-of-type {\n",
       "        vertical-align: middle;\n",
       "    }\n",
       "\n",
       "    .dataframe tbody tr th {\n",
       "        vertical-align: top;\n",
       "    }\n",
       "\n",
       "    .dataframe thead th {\n",
       "        text-align: right;\n",
       "    }\n",
       "</style>\n",
       "<table border=\"1\" class=\"dataframe\">\n",
       "  <thead>\n",
       "    <tr style=\"text-align: right;\">\n",
       "      <th></th>\n",
       "      <th>len</th>\n",
       "      <th>supp</th>\n",
       "      <th>dose</th>\n",
       "    </tr>\n",
       "  </thead>\n",
       "  <tbody>\n",
       "    <tr>\n",
       "      <th>1</th>\n",
       "      <td>4.2</td>\n",
       "      <td>VC</td>\n",
       "      <td>0.5</td>\n",
       "    </tr>\n",
       "    <tr>\n",
       "      <th>2</th>\n",
       "      <td>11.5</td>\n",
       "      <td>VC</td>\n",
       "      <td>0.5</td>\n",
       "    </tr>\n",
       "    <tr>\n",
       "      <th>3</th>\n",
       "      <td>7.3</td>\n",
       "      <td>VC</td>\n",
       "      <td>0.5</td>\n",
       "    </tr>\n",
       "    <tr>\n",
       "      <th>4</th>\n",
       "      <td>5.8</td>\n",
       "      <td>VC</td>\n",
       "      <td>0.5</td>\n",
       "    </tr>\n",
       "    <tr>\n",
       "      <th>5</th>\n",
       "      <td>6.4</td>\n",
       "      <td>VC</td>\n",
       "      <td>0.5</td>\n",
       "    </tr>\n",
       "  </tbody>\n",
       "</table>\n",
       "</div>"
      ],
      "text/plain": [
       "    len supp  dose\n",
       "1   4.2   VC   0.5\n",
       "2  11.5   VC   0.5\n",
       "3   7.3   VC   0.5\n",
       "4   5.8   VC   0.5\n",
       "5   6.4   VC   0.5"
      ]
     },
     "execution_count": 3,
     "metadata": {},
     "output_type": "execute_result"
    }
   ],
   "source": [
    "df.head()"
   ]
  },
  {
   "cell_type": "code",
   "execution_count": 4,
   "metadata": {
    "scrolled": true
   },
   "outputs": [
    {
     "data": {
      "text/html": [
       "<div>\n",
       "<style scoped>\n",
       "    .dataframe tbody tr th:only-of-type {\n",
       "        vertical-align: middle;\n",
       "    }\n",
       "\n",
       "    .dataframe tbody tr th {\n",
       "        vertical-align: top;\n",
       "    }\n",
       "\n",
       "    .dataframe thead th {\n",
       "        text-align: right;\n",
       "    }\n",
       "</style>\n",
       "<table border=\"1\" class=\"dataframe\">\n",
       "  <thead>\n",
       "    <tr style=\"text-align: right;\">\n",
       "      <th></th>\n",
       "      <th>len</th>\n",
       "      <th>supp</th>\n",
       "      <th>dose</th>\n",
       "    </tr>\n",
       "  </thead>\n",
       "  <tbody>\n",
       "    <tr>\n",
       "      <th>56</th>\n",
       "      <td>30.9</td>\n",
       "      <td>OJ</td>\n",
       "      <td>2.0</td>\n",
       "    </tr>\n",
       "    <tr>\n",
       "      <th>57</th>\n",
       "      <td>26.4</td>\n",
       "      <td>OJ</td>\n",
       "      <td>2.0</td>\n",
       "    </tr>\n",
       "    <tr>\n",
       "      <th>58</th>\n",
       "      <td>27.3</td>\n",
       "      <td>OJ</td>\n",
       "      <td>2.0</td>\n",
       "    </tr>\n",
       "    <tr>\n",
       "      <th>59</th>\n",
       "      <td>29.4</td>\n",
       "      <td>OJ</td>\n",
       "      <td>2.0</td>\n",
       "    </tr>\n",
       "    <tr>\n",
       "      <th>60</th>\n",
       "      <td>23.0</td>\n",
       "      <td>OJ</td>\n",
       "      <td>2.0</td>\n",
       "    </tr>\n",
       "  </tbody>\n",
       "</table>\n",
       "</div>"
      ],
      "text/plain": [
       "     len supp  dose\n",
       "56  30.9   OJ   2.0\n",
       "57  26.4   OJ   2.0\n",
       "58  27.3   OJ   2.0\n",
       "59  29.4   OJ   2.0\n",
       "60  23.0   OJ   2.0"
      ]
     },
     "execution_count": 4,
     "metadata": {},
     "output_type": "execute_result"
    }
   ],
   "source": [
    "df.tail()"
   ]
  },
  {
   "cell_type": "code",
   "execution_count": 5,
   "metadata": {},
   "outputs": [
    {
     "data": {
      "text/html": [
       "<div>\n",
       "<style scoped>\n",
       "    .dataframe tbody tr th:only-of-type {\n",
       "        vertical-align: middle;\n",
       "    }\n",
       "\n",
       "    .dataframe tbody tr th {\n",
       "        vertical-align: top;\n",
       "    }\n",
       "\n",
       "    .dataframe thead th {\n",
       "        text-align: right;\n",
       "    }\n",
       "</style>\n",
       "<table border=\"1\" class=\"dataframe\">\n",
       "  <thead>\n",
       "    <tr style=\"text-align: right;\">\n",
       "      <th></th>\n",
       "      <th>len</th>\n",
       "    </tr>\n",
       "  </thead>\n",
       "  <tbody>\n",
       "    <tr>\n",
       "      <th>count</th>\n",
       "      <td>60.00</td>\n",
       "    </tr>\n",
       "    <tr>\n",
       "      <th>mean</th>\n",
       "      <td>18.81</td>\n",
       "    </tr>\n",
       "    <tr>\n",
       "      <th>median</th>\n",
       "      <td>19.25</td>\n",
       "    </tr>\n",
       "    <tr>\n",
       "      <th>std</th>\n",
       "      <td>7.65</td>\n",
       "    </tr>\n",
       "    <tr>\n",
       "      <th>min</th>\n",
       "      <td>4.20</td>\n",
       "    </tr>\n",
       "    <tr>\n",
       "      <th>max</th>\n",
       "      <td>33.90</td>\n",
       "    </tr>\n",
       "  </tbody>\n",
       "</table>\n",
       "</div>"
      ],
      "text/plain": [
       "          len\n",
       "count   60.00\n",
       "mean    18.81\n",
       "median  19.25\n",
       "std      7.65\n",
       "min      4.20\n",
       "max     33.90"
      ]
     },
     "execution_count": 5,
     "metadata": {},
     "output_type": "execute_result"
    }
   ],
   "source": [
    "df.agg({'len': ['count','mean','median','std','min','max']}).round(2)"
   ]
  },
  {
   "cell_type": "code",
   "execution_count": 6,
   "metadata": {
    "scrolled": false
   },
   "outputs": [
    {
     "data": {
      "text/html": [
       "<div>\n",
       "<style scoped>\n",
       "    .dataframe tbody tr th:only-of-type {\n",
       "        vertical-align: middle;\n",
       "    }\n",
       "\n",
       "    .dataframe tbody tr th {\n",
       "        vertical-align: top;\n",
       "    }\n",
       "\n",
       "    .dataframe thead tr th {\n",
       "        text-align: left;\n",
       "    }\n",
       "\n",
       "    .dataframe thead tr:last-of-type th {\n",
       "        text-align: right;\n",
       "    }\n",
       "</style>\n",
       "<table border=\"1\" class=\"dataframe\">\n",
       "  <thead>\n",
       "    <tr>\n",
       "      <th></th>\n",
       "      <th colspan=\"6\" halign=\"left\">len</th>\n",
       "    </tr>\n",
       "    <tr>\n",
       "      <th></th>\n",
       "      <th>count</th>\n",
       "      <th>mean</th>\n",
       "      <th>median</th>\n",
       "      <th>std</th>\n",
       "      <th>min</th>\n",
       "      <th>max</th>\n",
       "    </tr>\n",
       "    <tr>\n",
       "      <th>supp</th>\n",
       "      <th></th>\n",
       "      <th></th>\n",
       "      <th></th>\n",
       "      <th></th>\n",
       "      <th></th>\n",
       "      <th></th>\n",
       "    </tr>\n",
       "  </thead>\n",
       "  <tbody>\n",
       "    <tr>\n",
       "      <th>OJ</th>\n",
       "      <td>30</td>\n",
       "      <td>20.66</td>\n",
       "      <td>22.7</td>\n",
       "      <td>6.61</td>\n",
       "      <td>8.2</td>\n",
       "      <td>30.9</td>\n",
       "    </tr>\n",
       "    <tr>\n",
       "      <th>VC</th>\n",
       "      <td>30</td>\n",
       "      <td>16.96</td>\n",
       "      <td>16.5</td>\n",
       "      <td>8.27</td>\n",
       "      <td>4.2</td>\n",
       "      <td>33.9</td>\n",
       "    </tr>\n",
       "  </tbody>\n",
       "</table>\n",
       "</div>"
      ],
      "text/plain": [
       "       len                               \n",
       "     count   mean median   std  min   max\n",
       "supp                                     \n",
       "OJ      30  20.66   22.7  6.61  8.2  30.9\n",
       "VC      30  16.96   16.5  8.27  4.2  33.9"
      ]
     },
     "execution_count": 6,
     "metadata": {},
     "output_type": "execute_result"
    }
   ],
   "source": [
    "df.groupby(['supp']).agg({'len': ['count','mean','median','std','min','max']}).round(2)"
   ]
  },
  {
   "cell_type": "code",
   "execution_count": 7,
   "metadata": {
    "scrolled": true
   },
   "outputs": [
    {
     "data": {
      "text/html": [
       "<div>\n",
       "<style scoped>\n",
       "    .dataframe tbody tr th:only-of-type {\n",
       "        vertical-align: middle;\n",
       "    }\n",
       "\n",
       "    .dataframe tbody tr th {\n",
       "        vertical-align: top;\n",
       "    }\n",
       "\n",
       "    .dataframe thead tr th {\n",
       "        text-align: left;\n",
       "    }\n",
       "\n",
       "    .dataframe thead tr:last-of-type th {\n",
       "        text-align: right;\n",
       "    }\n",
       "</style>\n",
       "<table border=\"1\" class=\"dataframe\">\n",
       "  <thead>\n",
       "    <tr>\n",
       "      <th></th>\n",
       "      <th colspan=\"6\" halign=\"left\">len</th>\n",
       "    </tr>\n",
       "    <tr>\n",
       "      <th></th>\n",
       "      <th>count</th>\n",
       "      <th>mean</th>\n",
       "      <th>median</th>\n",
       "      <th>std</th>\n",
       "      <th>min</th>\n",
       "      <th>max</th>\n",
       "    </tr>\n",
       "    <tr>\n",
       "      <th>dose</th>\n",
       "      <th></th>\n",
       "      <th></th>\n",
       "      <th></th>\n",
       "      <th></th>\n",
       "      <th></th>\n",
       "      <th></th>\n",
       "    </tr>\n",
       "  </thead>\n",
       "  <tbody>\n",
       "    <tr>\n",
       "      <th>0.5</th>\n",
       "      <td>20</td>\n",
       "      <td>10.60</td>\n",
       "      <td>9.85</td>\n",
       "      <td>4.50</td>\n",
       "      <td>4.2</td>\n",
       "      <td>21.5</td>\n",
       "    </tr>\n",
       "    <tr>\n",
       "      <th>1.0</th>\n",
       "      <td>20</td>\n",
       "      <td>19.74</td>\n",
       "      <td>19.25</td>\n",
       "      <td>4.42</td>\n",
       "      <td>13.6</td>\n",
       "      <td>27.3</td>\n",
       "    </tr>\n",
       "    <tr>\n",
       "      <th>2.0</th>\n",
       "      <td>20</td>\n",
       "      <td>26.10</td>\n",
       "      <td>25.95</td>\n",
       "      <td>3.77</td>\n",
       "      <td>18.5</td>\n",
       "      <td>33.9</td>\n",
       "    </tr>\n",
       "  </tbody>\n",
       "</table>\n",
       "</div>"
      ],
      "text/plain": [
       "       len                                \n",
       "     count   mean median   std   min   max\n",
       "dose                                      \n",
       "0.5     20  10.60   9.85  4.50   4.2  21.5\n",
       "1.0     20  19.74  19.25  4.42  13.6  27.3\n",
       "2.0     20  26.10  25.95  3.77  18.5  33.9"
      ]
     },
     "execution_count": 7,
     "metadata": {},
     "output_type": "execute_result"
    }
   ],
   "source": [
    "df.groupby(['dose']).agg({'len': ['count','mean','median','std','min','max']}).round(2)"
   ]
  },
  {
   "cell_type": "markdown",
   "metadata": {},
   "source": [
    "From the descriptive data it appears the Vitamin C from the asorbic acid had the greatest range of tooth length in the guinea pigs. A guinea pig given the  lowest dose of VC has teeth 4.2 units long and the guinea pig with the highest dose of VC has a tooth length of 33.9 units. Guinea pigs given the highest dose of either supplement had the greatest tooth lengths, and those with the smallest lengths recieved the lowest dose."
   ]
  },
  {
   "cell_type": "code",
   "execution_count": 8,
   "metadata": {
    "scrolled": true
   },
   "outputs": [
    {
     "data": {
      "text/plain": [
       "<AxesSubplot:xlabel='dose', ylabel='len'>"
      ]
     },
     "execution_count": 8,
     "metadata": {},
     "output_type": "execute_result"
    },
    {
     "data": {
      "image/png": "[encoded data removed]",
      "text/plain": [
       "<Figure size 432x288 with 1 Axes>"
      ]
     },
     "metadata": {},
     "output_type": "display_data"
    }
   ],
   "source": [
    "sns.histplot(data=df, x='dose',y='len',hue='supp', bins=3)"
   ]
  },
  {
   "cell_type": "code",
   "execution_count": 9,
   "metadata": {
    "scrolled": false
   },
   "outputs": [
    {
     "data": {
      "text/plain": [
       "<AxesSubplot:xlabel='len', ylabel='Probability'>"
      ]
     },
     "execution_count": 9,
     "metadata": {},
     "output_type": "execute_result"
    },
    {
     "data": {
      "image/png": "[encoded data removed]",
      "text/plain": [
       "<Figure size 432x288 with 1 Axes>"
      ]
     },
     "metadata": {},
     "output_type": "display_data"
    }
   ],
   "source": [
    "sns.histplot(data=df,x='len',hue='supp', stat='probability')"
   ]
  },
  {
   "cell_type": "markdown",
   "metadata": {},
   "source": [
    "More guniea pigs who receive vitamin c from orange juice have teeth with lengths of 20-30 units long than those that received ascorbic acid. Subjects that only took doses of ascorbic acid had equal probability to have teeth of lengths 10-15 and 20-30."
   ]
  },
  {
   "cell_type": "code",
   "execution_count": 10,
   "metadata": {
    "scrolled": true
   },
   "outputs": [
    {
     "data": {
      "text/plain": [
       "<AxesSubplot:xlabel='len', ylabel='Probability'>"
      ]
     },
     "execution_count": 10,
     "metadata": {},
     "output_type": "execute_result"
    },
    {
     "data": {
      "image/png": "[encoded data removed]",
      "text/plain": [
       "<Figure size 432x288 with 1 Axes>"
      ]
     },
     "metadata": {},
     "output_type": "display_data"
    }
   ],
   "source": [
    "sns.histplot(data=df,x='len',hue='dose', stat='probability')"
   ]
  },
  {
   "cell_type": "markdown",
   "metadata": {},
   "source": [
    "Subjects with 0.5 mg doses did not have teeth longer than 25 units long. Those with doses of 1.0 only had lengths between 13 and 30, no more and no less. Guniea pigs with doses of 2.0 had lengths between 17 and 35, no more and no less. Only those with a dose of 0.5 had has probability of landing between 5-13 and those with doses of 2.0 have has probability of having teeth greater than 30 units long."
   ]
  },
  {
   "cell_type": "code",
   "execution_count": 11,
   "metadata": {},
   "outputs": [
    {
     "data": {
      "text/plain": [
       "<AxesSubplot:xlabel='len'>"
      ]
     },
     "execution_count": 11,
     "metadata": {},
     "output_type": "execute_result"
    },
    {
     "data": {
      "image/png": "[encoded data removed]",
      "text/plain": [
       "<Figure size 432x288 with 1 Axes>"
      ]
     },
     "metadata": {},
     "output_type": "display_data"
    }
   ],
   "source": [
    "sns.boxplot(data=df, x='len')"
   ]
  },
  {
   "cell_type": "markdown",
   "metadata": {},
   "source": [
    "This boxplot appears to have a relatively normal distribution of lengths in teeth."
   ]
  },
  {
   "cell_type": "code",
   "execution_count": 12,
   "metadata": {
    "scrolled": false
   },
   "outputs": [
    {
     "data": {
      "text/plain": [
       "<AxesSubplot:xlabel='dose', ylabel='len'>"
      ]
     },
     "execution_count": 12,
     "metadata": {},
     "output_type": "execute_result"
    },
    {
     "data": {
      "image/png": "[encoded data removed]",
      "text/plain": [
       "<Figure size 432x288 with 1 Axes>"
      ]
     },
     "metadata": {},
     "output_type": "display_data"
    }
   ],
   "source": [
    "sns.boxplot(data=df, x='dose', y='len', hue='supp')"
   ]
  },
  {
   "cell_type": "markdown",
   "metadata": {},
   "source": [
    "This data is a little more interesting. So the distributions of the guniea pigs who received the same doses were different given the type of supplement administered. \n",
    "\n",
    "- **Dose 0.5, Supp VC:** The majority of lengths landed in the 50-75th percentile range and above the median.\n",
    "- **Dose 0.5, Supp OJ:** The majority of lengths landed in the 75-100th percentile range, above the median, and overall had greater values than the same dose of VC.\n",
    "- **Dose 1.0, Supp VC:** The lengths have a much shorter range than the rest of the trials from about 13 units to about 18 units and outliers between 20 and 25 units long.\n",
    "- **Dose 1.0, Supp OJ:** The majority of lengths occur from 0-25th percentile and under the median. The outliers of VC occured under the median of the same dose of OJ.\n",
    "- **Dose 2.0, Supp VC:** This is a fairly normal distribution and it is hard to see where the majority lies on either side of the median. This range is greater than all other trials, from around 18 units to almost 35 units long.\n",
    "- **Dose 2.0, Supp OC:** This range lies almost exactly within the 25-75th percentile of the same dose of VC, from around 23-29, and has outliers past 30 units long."
   ]
  },
  {
   "cell_type": "code",
   "execution_count": 13,
   "metadata": {
    "scrolled": true
   },
   "outputs": [
    {
     "data": {
      "text/plain": [
       "<AxesSubplot:xlabel='dose', ylabel='len'>"
      ]
     },
     "execution_count": 13,
     "metadata": {},
     "output_type": "execute_result"
    },
    {
     "data": {
      "image/png": "[encoded data removed]",
      "text/plain": [
       "<Figure size 432x288 with 1 Axes>"
      ]
     },
     "metadata": {},
     "output_type": "display_data"
    }
   ],
   "source": [
    "sns.scatterplot(data=df,x='dose',y='len',hue='supp')"
   ]
  },
  {
   "cell_type": "markdown",
   "metadata": {},
   "source": [
    "## 2. Check of data normality, using both methods\n",
    "    - Graphically  check for normality\n",
    "    - Statistical test for normality"
   ]
  },
  {
   "cell_type": "code",
   "execution_count": 14,
   "metadata": {},
   "outputs": [
    {
     "name": "stdout",
     "output_type": "stream",
     "text": [
      "mean=18.813 stdv=7.585\n",
      "VC_mean=16.963 VC_stdv=8.127\n",
      "OJ_mean=20.663 OJ_stdv=6.495\n"
     ]
    }
   ],
   "source": [
    "from numpy import mean\n",
    "from numpy import std\n",
    "data = df['len']\n",
    "data_VC = df[df['supp'] == 'VC']\n",
    "data_OJ = df[df['supp'] == 'OJ']\n",
    "print('mean=%.3f stdv=%.3f' % (mean(data), std(data)))\n",
    "print('VC_mean=%.3f VC_stdv=%.3f' % (mean(data_VC['len']), std(data_VC['len'])))\n",
    "print('OJ_mean=%.3f OJ_stdv=%.3f' % (mean(data_OJ['len']), std(data_OJ['len'])))"
   ]
  },
  {
   "cell_type": "markdown",
   "metadata": {},
   "source": [
    "Normal Distribution calculated from formula with random variable (1):\n",
    "\n",
    "$$f(len) = \\frac{1}{\\left(7.585\\right)\\sqrt{2\\pi}}e^{-\\frac{1}{2}\\left(\\frac{1-18.83}{7.585}\\right)^{2}}= 0.003$$\n",
    "\n",
    "$$f(lenVC) = \\frac{1}{\\left(8.127\\right)\\sqrt{2\\pi}}e^{-\\frac{1}{2}\\left(\\frac{1-16.963}{8.127}\\right)^{2}}= 0.007$$\n",
    "\n",
    "$$f(lenOJ) = \\frac{1}{\\left(6.495\\right)\\sqrt{2\\pi}}e^{-\\frac{1}{2}\\left(\\frac{1-20.663}{6.495}\\right)^{2}}= 0.0006$$\n",
    "\n",
    "***\n",
    "\n",
    "The distribution is very close to normal given the Normal Distribution calculation produces a value close to zero."
   ]
  },
  {
   "cell_type": "code",
   "execution_count": 15,
   "metadata": {
    "scrolled": true
   },
   "outputs": [
    {
     "data": {
      "text/plain": [
       "<seaborn.axisgrid.FacetGrid at 0x1f5fccd4c40>"
      ]
     },
     "execution_count": 15,
     "metadata": {},
     "output_type": "execute_result"
    },
    {
     "data": {
      "image/png": "[encoded data removed]",
      "text/plain": [
       "<Figure size 360x360 with 1 Axes>"
      ]
     },
     "metadata": {},
     "output_type": "display_data"
    }
   ],
   "source": [
    "sns.displot(data,kde=True)"
   ]
  },
  {
   "cell_type": "markdown",
   "metadata": {},
   "source": [
    "Seems there are two peaks of the bell curve, highest one is to the left, lower one is to the right. This represents the full dataset."
   ]
  },
  {
   "cell_type": "code",
   "execution_count": 16,
   "metadata": {
    "scrolled": false
   },
   "outputs": [
    {
     "data": {
      "text/plain": [
       "<seaborn.axisgrid.FacetGrid at 0x1f5fe05ac10>"
      ]
     },
     "execution_count": 16,
     "metadata": {},
     "output_type": "execute_result"
    },
    {
     "data": {
      "image/png": "[encoded data removed]",
      "text/plain": [
       "<Figure size 360x360 with 1 Axes>"
      ]
     },
     "metadata": {},
     "output_type": "display_data"
    }
   ],
   "source": [
    "sns.displot(data_VC['len'],kde=True)"
   ]
  },
  {
   "cell_type": "markdown",
   "metadata": {},
   "source": [
    "The data set with only VC seems to be a better bell-shape than the full dataset but is still not perfectly normally distributed."
   ]
  },
  {
   "cell_type": "code",
   "execution_count": 17,
   "metadata": {
    "scrolled": true
   },
   "outputs": [
    {
     "data": {
      "text/plain": [
       "<seaborn.axisgrid.FacetGrid at 0x1f5fe0c1b80>"
      ]
     },
     "execution_count": 17,
     "metadata": {},
     "output_type": "execute_result"
    },
    {
     "data": {
      "image/png": "[encoded data removed]",
      "text/plain": [
       "<Figure size 360x360 with 1 Axes>"
      ]
     },
     "metadata": {},
     "output_type": "display_data"
    }
   ],
   "source": [
    "sns.displot(data_OJ['len'],kde=True)"
   ]
  },
  {
   "cell_type": "markdown",
   "metadata": {},
   "source": [
    "This dataset with only OJ trails is a lit"
   ]
  },
  {
   "cell_type": "code",
   "execution_count": 18,
   "metadata": {
    "scrolled": true
   },
   "outputs": [
    {
     "data": {
      "image/png": "[encoded data removed]",
      "text/plain": [
       "<Figure size 432x288 with 1 Axes>"
      ]
     },
     "metadata": {},
     "output_type": "display_data"
    }
   ],
   "source": [
    "import scipy.stats as stats\n",
    "res = stats.probplot(data, plot=plt)"
   ]
  },
  {
   "cell_type": "markdown",
   "metadata": {},
   "source": [
    "There are quite a few deviations above and below the mean. showing me that it really is not Normally Distributed. What will the statistical tests show me?"
   ]
  },
  {
   "cell_type": "code",
   "execution_count": 19,
   "metadata": {},
   "outputs": [
    {
     "name": "stdout",
     "output_type": "stream",
     "text": [
      "Statistics=0.967, p=0.109\n",
      "Sample looks normally distributed (fail to reject H0)\n"
     ]
    }
   ],
   "source": [
    "from scipy.stats import shapiro\n",
    "\n",
    "# normality test\n",
    "stat, p = shapiro(data)\n",
    "print('Statistics=%.3f, p=%.3f' % (stat, p))\n",
    "\n",
    "# interpret\n",
    "alpha = 0.05 #I want to be 95% confident that my analysis its correct CI=0.95\n",
    "if p > alpha:\n",
    "    print('Sample looks normally distributed (fail to reject H0)')\n",
    "else:\n",
    "    print('Sample does not look normally distributed (reject H0)')"
   ]
  },
  {
   "cell_type": "markdown",
   "metadata": {},
   "source": [
    "Taken from this week's FTE. The p-value is greater than the alpha so the confidence interval includes the H0, or \"it is not significant.\""
   ]
  },
  {
   "cell_type": "code",
   "execution_count": 20,
   "metadata": {},
   "outputs": [
    {
     "name": "stdout",
     "output_type": "stream",
     "text": [
      "Statistics=6.490, p=0.039\n",
      "Sample does not look normally distributed (reject H0)\n",
      "-0.14995189829252065\n",
      "-0.9549824842435792\n"
     ]
    }
   ],
   "source": [
    "from scipy.stats import normaltest\n",
    "\n",
    "# normality test\n",
    "stat, p = normaltest(data)\n",
    "print('Statistics=%.3f, p=%.3f' % (stat, p))\n",
    "\n",
    "# interpret\n",
    "alpha = 0.05 #I want to be 95% confident that my analysis its correct CI=0.95\n",
    "if p > alpha:\n",
    "    print('Sample looks normally distributed (fail to reject H0)')\n",
    "else:\n",
    "    print('Sample does not look normally distributed (reject H0)')\n",
    "    \n",
    "print(data.skew())\n",
    "print(data.kurt())"
   ]
  },
  {
   "cell_type": "markdown",
   "metadata": {},
   "source": [
    "Interestingly, using the D'Agostino's K^2 Test produced a p-value lower than the alpha which resulted in rejecting the null hypothesis.\n",
    "\n",
    "Skewness was -0.15 meaning it was partially skewed to the right with the longer tail being on the right of the mean.\n",
    "Kurtosis was -0.95 meaning 95% of the total outcomes landed in the tail on the right list of the mean.\n",
    "\n",
    "This makes more sense with our graphical representations of the distrbution above and more accurately represents the normality of the distribution, where it does not look normally distributed."
   ]
  },
  {
   "cell_type": "markdown",
   "metadata": {},
   "source": [
    "## 3. Defined a null and alternative hypothesis (Ho and Ha) for the dataset\n",
    "    - Be specific and clear in your definitions"
   ]
  },
  {
   "cell_type": "markdown",
   "metadata": {},
   "source": [
    "**H<sub>0</sub>:**  If a guinea pig is given a 2.0mg dose of vitamin C then the length of their teeth will be greater than the mean.\n",
    "\n",
    "if dose = 2.0mg then len > mean-len\n",
    "\n",
    "**H<sub>A</sub>:** If a guinea pig is given a 2.0mg dose of vitamin C then the length of their teeth will be less than the mean.\n",
    "\n",
    "if dose = 2.0mg then len < mean-len\n",
    "\n",
    "***\n",
    "\n",
    "**H<sub>0</sub>:**  If a guinea pig is given a 0.5mg or 1mg dose of vitamin C then the length of their teeth will be less than the mean.\n",
    "\n",
    "if dose < 2.0mg then len < mean-len\n",
    "\n",
    "**H<sub>A</sub>:**  If a guinea pig is given a 0.5mg or 1mg dose of vitamin C then the length of their teeth will be greater than the mean.\n",
    "\n",
    "if dose < 2.0mg then len > mean-len\n",
    "\n",
    "***"
   ]
  },
  {
   "cell_type": "code",
   "execution_count": 21,
   "metadata": {},
   "outputs": [
    {
     "data": {
      "text/plain": [
       "len     18.813333\n",
       "dose     1.166667\n",
       "dtype: float64"
      ]
     },
     "execution_count": 21,
     "metadata": {},
     "output_type": "execute_result"
    }
   ],
   "source": [
    "df.mean()"
   ]
  },
  {
   "cell_type": "code",
   "execution_count": 22,
   "metadata": {},
   "outputs": [
    {
     "data": {
      "text/html": [
       "<div>\n",
       "<style scoped>\n",
       "    .dataframe tbody tr th:only-of-type {\n",
       "        vertical-align: middle;\n",
       "    }\n",
       "\n",
       "    .dataframe tbody tr th {\n",
       "        vertical-align: top;\n",
       "    }\n",
       "\n",
       "    .dataframe thead th {\n",
       "        text-align: right;\n",
       "    }\n",
       "</style>\n",
       "<table border=\"1\" class=\"dataframe\">\n",
       "  <thead>\n",
       "    <tr style=\"text-align: right;\">\n",
       "      <th></th>\n",
       "      <th>len</th>\n",
       "      <th>supp</th>\n",
       "      <th>dose</th>\n",
       "    </tr>\n",
       "  </thead>\n",
       "  <tbody>\n",
       "    <tr>\n",
       "      <th>21</th>\n",
       "      <td>23.6</td>\n",
       "      <td>VC</td>\n",
       "      <td>2.0</td>\n",
       "    </tr>\n",
       "    <tr>\n",
       "      <th>22</th>\n",
       "      <td>18.5</td>\n",
       "      <td>VC</td>\n",
       "      <td>2.0</td>\n",
       "    </tr>\n",
       "    <tr>\n",
       "      <th>23</th>\n",
       "      <td>33.9</td>\n",
       "      <td>VC</td>\n",
       "      <td>2.0</td>\n",
       "    </tr>\n",
       "    <tr>\n",
       "      <th>24</th>\n",
       "      <td>25.5</td>\n",
       "      <td>VC</td>\n",
       "      <td>2.0</td>\n",
       "    </tr>\n",
       "    <tr>\n",
       "      <th>25</th>\n",
       "      <td>26.4</td>\n",
       "      <td>VC</td>\n",
       "      <td>2.0</td>\n",
       "    </tr>\n",
       "  </tbody>\n",
       "</table>\n",
       "</div>"
      ],
      "text/plain": [
       "     len supp  dose\n",
       "21  23.6   VC   2.0\n",
       "22  18.5   VC   2.0\n",
       "23  33.9   VC   2.0\n",
       "24  25.5   VC   2.0\n",
       "25  26.4   VC   2.0"
      ]
     },
     "execution_count": 22,
     "metadata": {},
     "output_type": "execute_result"
    }
   ],
   "source": [
    "d=2.0\n",
    "dfnull = df[df['dose'] ==d]\n",
    "dfnull2 = df[df['dose'] <d]\n",
    "dfnull.head()"
   ]
  },
  {
   "cell_type": "code",
   "execution_count": 23,
   "metadata": {},
   "outputs": [
    {
     "data": {
      "text/html": [
       "<div>\n",
       "<style scoped>\n",
       "    .dataframe tbody tr th:only-of-type {\n",
       "        vertical-align: middle;\n",
       "    }\n",
       "\n",
       "    .dataframe tbody tr th {\n",
       "        vertical-align: top;\n",
       "    }\n",
       "\n",
       "    .dataframe thead th {\n",
       "        text-align: right;\n",
       "    }\n",
       "</style>\n",
       "<table border=\"1\" class=\"dataframe\">\n",
       "  <thead>\n",
       "    <tr style=\"text-align: right;\">\n",
       "      <th></th>\n",
       "      <th>len</th>\n",
       "      <th>supp</th>\n",
       "      <th>dose</th>\n",
       "    </tr>\n",
       "  </thead>\n",
       "  <tbody>\n",
       "    <tr>\n",
       "      <th>21</th>\n",
       "      <td>23.6</td>\n",
       "      <td>VC</td>\n",
       "      <td>2.0</td>\n",
       "    </tr>\n",
       "    <tr>\n",
       "      <th>22</th>\n",
       "      <td>18.5</td>\n",
       "      <td>VC</td>\n",
       "      <td>2.0</td>\n",
       "    </tr>\n",
       "    <tr>\n",
       "      <th>23</th>\n",
       "      <td>33.9</td>\n",
       "      <td>VC</td>\n",
       "      <td>2.0</td>\n",
       "    </tr>\n",
       "    <tr>\n",
       "      <th>24</th>\n",
       "      <td>25.5</td>\n",
       "      <td>VC</td>\n",
       "      <td>2.0</td>\n",
       "    </tr>\n",
       "    <tr>\n",
       "      <th>25</th>\n",
       "      <td>26.4</td>\n",
       "      <td>VC</td>\n",
       "      <td>2.0</td>\n",
       "    </tr>\n",
       "  </tbody>\n",
       "</table>\n",
       "</div>"
      ],
      "text/plain": [
       "     len supp  dose\n",
       "21  23.6   VC   2.0\n",
       "22  18.5   VC   2.0\n",
       "23  33.9   VC   2.0\n",
       "24  25.5   VC   2.0\n",
       "25  26.4   VC   2.0"
      ]
     },
     "execution_count": 23,
     "metadata": {},
     "output_type": "execute_result"
    }
   ],
   "source": [
    "dfnull.head()"
   ]
  },
  {
   "cell_type": "markdown",
   "metadata": {},
   "source": [
    "## Results/Output"
   ]
  },
  {
   "cell_type": "markdown",
   "metadata": {},
   "source": [
    "## 4. Hypothesis testing \n",
    "    - Explain why you chose the test(s) you are using\n",
    "    - Summarize your findings from the test(s) you performed"
   ]
  },
  {
   "cell_type": "markdown",
   "metadata": {},
   "source": [
    "I will be using the one sampled t-test to observe the sample mean of the population with 2.0mg doses of Vitamin C to test if the sample mean is greater than the population mean. Would this be one-sampled or dependent sampled? I would think it was only a one-sampled because we are not testing against doses below 2mg yet."
   ]
  },
  {
   "cell_type": "markdown",
   "metadata": {},
   "source": [
    "#### One Sample T-Test 1)"
   ]
  },
  {
   "cell_type": "code",
   "execution_count": 24,
   "metadata": {},
   "outputs": [
    {
     "name": "stdout",
     "output_type": "stream",
     "text": [
      "Mean: 26.099999999999994\n",
      "p-value: 0.999999973520445\n",
      "Accept null hypothesis\n"
     ]
    }
   ],
   "source": [
    "from scipy.stats import ttest_1samp\n",
    "\n",
    "\n",
    "dfnull_mean = np.mean(dfnull['len'])\n",
    "print(f'Mean: {dfnull_mean}')\n",
    "\n",
    "#t-test, where we are defining the Ho = 18.813\n",
    "tset, pval = ttest_1samp(dfnull['len'], 18.813, alternative='less')\n",
    "print(f'p-value: {pval}')\n",
    "\n",
    "# eval p-value\n",
    "if pval < 0.01:    # alpha value is 0.01 or 1% which means CV is 99%\n",
    "   print('Reject null hypothesis')\n",
    "else:\n",
    "  print('Accept null hypothesis')"
   ]
  },
  {
   "cell_type": "markdown",
   "metadata": {},
   "source": [
    "#### One Sample T-Test 2)"
   ]
  },
  {
   "cell_type": "code",
   "execution_count": 25,
   "metadata": {
    "scrolled": false
   },
   "outputs": [
    {
     "name": "stdout",
     "output_type": "stream",
     "text": [
      "Mean: 15.169999999999998\n",
      "p-value: 0.9995691965299406\n",
      "Accept null hypothesis\n"
     ]
    }
   ],
   "source": [
    "dfnull2_mean = np.mean(dfnull2['len'])\n",
    "print(f'Mean: {dfnull2_mean}')\n",
    "\n",
    "#t-test, where we are defining the Ho = 18.813\n",
    "tset, pval = ttest_1samp(dfnull2['len'], 18.813, alternative='greater')\n",
    "print(f'p-value: {pval}')\n",
    "\n",
    "# eval p-value\n",
    "if pval < 0.01:    # alpha value is 0.01 or 1% which means CV is 99%\n",
    "   print('Reject null hypothesis')\n",
    "else:\n",
    "  print('Accept null hypothesis')"
   ]
  },
  {
   "cell_type": "markdown",
   "metadata": {},
   "source": [
    "I will try to use the dependent or paired t-test to compare these two samples."
   ]
  },
  {
   "cell_type": "code",
   "execution_count": 26,
   "metadata": {},
   "outputs": [
    {
     "data": {
      "text/html": [
       "<div>\n",
       "<style scoped>\n",
       "    .dataframe tbody tr th:only-of-type {\n",
       "        vertical-align: middle;\n",
       "    }\n",
       "\n",
       "    .dataframe tbody tr th {\n",
       "        vertical-align: top;\n",
       "    }\n",
       "\n",
       "    .dataframe thead th {\n",
       "        text-align: right;\n",
       "    }\n",
       "</style>\n",
       "<table border=\"1\" class=\"dataframe\">\n",
       "  <thead>\n",
       "    <tr style=\"text-align: right;\">\n",
       "      <th></th>\n",
       "      <th>len</th>\n",
       "      <th>supp</th>\n",
       "      <th>dose</th>\n",
       "      <th>2mg</th>\n",
       "      <th>&lt;2mg</th>\n",
       "    </tr>\n",
       "  </thead>\n",
       "  <tbody>\n",
       "    <tr>\n",
       "      <th>1</th>\n",
       "      <td>4.2</td>\n",
       "      <td>VC</td>\n",
       "      <td>0.5</td>\n",
       "      <td>26.1</td>\n",
       "      <td>4.2</td>\n",
       "    </tr>\n",
       "    <tr>\n",
       "      <th>2</th>\n",
       "      <td>11.5</td>\n",
       "      <td>VC</td>\n",
       "      <td>0.5</td>\n",
       "      <td>26.1</td>\n",
       "      <td>11.5</td>\n",
       "    </tr>\n",
       "    <tr>\n",
       "      <th>3</th>\n",
       "      <td>7.3</td>\n",
       "      <td>VC</td>\n",
       "      <td>0.5</td>\n",
       "      <td>26.1</td>\n",
       "      <td>7.3</td>\n",
       "    </tr>\n",
       "    <tr>\n",
       "      <th>4</th>\n",
       "      <td>5.8</td>\n",
       "      <td>VC</td>\n",
       "      <td>0.5</td>\n",
       "      <td>26.1</td>\n",
       "      <td>5.8</td>\n",
       "    </tr>\n",
       "    <tr>\n",
       "      <th>5</th>\n",
       "      <td>6.4</td>\n",
       "      <td>VC</td>\n",
       "      <td>0.5</td>\n",
       "      <td>26.1</td>\n",
       "      <td>6.4</td>\n",
       "    </tr>\n",
       "  </tbody>\n",
       "</table>\n",
       "</div>"
      ],
      "text/plain": [
       "    len supp  dose   2mg  <2mg\n",
       "1   4.2   VC   0.5  26.1   4.2\n",
       "2  11.5   VC   0.5  26.1  11.5\n",
       "3   7.3   VC   0.5  26.1   7.3\n",
       "4   5.8   VC   0.5  26.1   5.8\n",
       "5   6.4   VC   0.5  26.1   6.4"
      ]
     },
     "execution_count": 26,
     "metadata": {},
     "output_type": "execute_result"
    }
   ],
   "source": [
    "d=2.0\n",
    "df['2mg'] = df['dose'] == d\n",
    "df['<2mg'] = df['dose'] < d\n",
    "df['2mg'] = df[df['dose'] == d]\n",
    "df['<2mg'] = df[df['dose'] < d]\n",
    "df['2mg'].fillna(df['2mg'].mean(), inplace=True)\n",
    "df['<2mg'].fillna(df['2mg'].mean(), inplace=True)\n",
    "df.head()"
   ]
  },
  {
   "cell_type": "code",
   "execution_count": 27,
   "metadata": {},
   "outputs": [
    {
     "name": "stdout",
     "output_type": "stream",
     "text": [
      "p-value: 6.17388312567309e-10\n",
      "Reject null hypothesis\n"
     ]
    }
   ],
   "source": [
    "#paired t-test\n",
    "ttest,pval = stats.ttest_rel(df['2mg'], df['<2mg'], nan_policy='omit')\n",
    "print(f'p-value: {pval}')\n",
    "\n",
    "# eval p-value\n",
    "if pval < 0.05:    # alpha value is 0.05 or 5%\n",
    "   print('Reject null hypothesis')\n",
    "else:\n",
    "  print('Accept null hypothesis')"
   ]
  },
  {
   "cell_type": "markdown",
   "metadata": {},
   "source": [
    "## Analysis of Results"
   ]
  },
  {
   "cell_type": "markdown",
   "metadata": {},
   "source": [
    "## 5. Conclusion based on your analysis\n",
    "    - Be sure to defend your conclusion. Include supporting information for your analysis."
   ]
  },
  {
   "cell_type": "markdown",
   "metadata": {},
   "source": [
    "**One Sample T-Test 1:**\n",
    "\n",
    "The p-value (.99) is significantly greater than the alpha which suggests the null hypothesis must be accepted. Guinea pigs with vitamin C doses of 2mg had an average tooth length of 26 in our t-test, which is significantly greater than 18.813(the population mean). This outcome is tested at a 99% confidence interval, meaning we are 99 percent confident that the average tooth length in the sample of 2mg doses will be greater than the population mean, or a 1% chance of accepting the null hypothesis when it is in fact false (False Positive).\n",
    "\n",
    "***"
   ]
  },
  {
   "cell_type": "markdown",
   "metadata": {},
   "source": [
    "**One Sample T-Test 2:**\n",
    "\n",
    "\n",
    "The p-value (.99) is significantly greater than the alpha which suggests the null hypothesis must be accepted. Guinea pigs with vitamin C doses of 2mg had an average tooth length of about 15 in our t-test, which is significantly less  than 18.813(the population mean). This outcome is tested at a 99% confidence interval, meaning we are 99 percent confident that the average tooth length in the sample of less than 2mg doses will be greater than the population mean, or a 1% chance of accepting the null hypothesis when it is in fact false (False Positive).\n",
    "\n",
    "***"
   ]
  },
  {
   "cell_type": "markdown",
   "metadata": {},
   "source": [
    "**Paired T-Test:** \n",
    "\n",
    "I did not present the most accurate results because there needs to be an equal number of trials and there are 20 per dose, giving my alt hypothesis 40 trails and my null only 20. I would have to use the paired-test with something like the supplement type, for a simplified test. Alternatively, there are ways around this:\n",
    "\n",
    "1. I could include a MLalgorithm to populate predicted outcomes for another 20 trials of doses at 2.0mg.\n",
    "2. I could randomly remove 20 trials from either side of the mean of the lower doses.\n",
    "3. Fill the missing values in the main dataframe with the mean of both trials.\n",
    "\n",
    "Anyway it would effect my random-error by removing valuable data or inputting random data. The most accurate solution would be the first or second way. The first would predict lengths based on the other trials with OJ/VC and dosage size. The second way would wouldn't add predicted results but may skew the normality of our data structure by removing outliers.\n",
    "\n",
    "I performed this test using the 3rd solution, in an attempt to not skew our normality. What I found was that the p-value was significantly smaller and rejected the null hypothesis which means the dosage strength did not significantly affect the length of the the guinea pigs teeth and there is a larger chance that the null is falsely rejected. This would be a better test if we knew the lengths of the teeth before and after the trials."
   ]
  },
  {
   "cell_type": "markdown",
   "metadata": {},
   "source": [
    "## 6. Refine your initial hypothesis and repeat steps 3 through 5\n",
    "- How did the outcome(s) change between your original Ho/Ha and your refined Ho/Ha?\n",
    "    \n",
    "**H1<sub>0</sub>:**  If a guinea pig is given a 2.0mg dose of OJ then the length of their teeth will be greater than the mean of a guinea pig given a 2.0mg dose VC.\n",
    "\n",
    "_2.0mg OJ mean-len **>** mean-len of 2.0mg VC_ \n",
    "\n",
    "**H1<sub>A</sub>:**  If a guinea pig is given a 2.0mg dose of OJ then the length of their teeth will be greater than the mean of a guinea pig given a 2.0mg dose VC.\n",
    "\n",
    "_2.0mg OJ mean-len **<** mean-len of 2.0mg VC_ \n",
    "\n",
    "***\n",
    "\n",
    "**H2<sub>0</sub>:**  If a guinea pig is given less than a 2.0mg dose of OJ then the length of their teeth will be greater than the mean of a guinea pig given less than a 2.0mg dose of VC.\n",
    "\n",
    "_\\<2.0mg OJ mean-len **>** mean-len of <2.0mg VC_ \n",
    "\n",
    "**H2<sub>A</sub>:**  If a guinea pig is given less than a 2.0mg dose of OJ then the length of their teeth will be greater than the mean of a guinea pig given less than a 2.0mg dose of VC.\n",
    "\n",
    "_\\<2.0mg OJ mean-len **<** mean-len of <2.0mg VC_ \n",
    "\n",
    "***"
   ]
  },
  {
   "cell_type": "code",
   "execution_count": 28,
   "metadata": {},
   "outputs": [],
   "source": [
    "df = df.drop(columns={'<2mg', '2mg'})"
   ]
  },
  {
   "cell_type": "code",
   "execution_count": 29,
   "metadata": {},
   "outputs": [
    {
     "data": {
      "text/html": [
       "<div>\n",
       "<style scoped>\n",
       "    .dataframe tbody tr th:only-of-type {\n",
       "        vertical-align: middle;\n",
       "    }\n",
       "\n",
       "    .dataframe tbody tr th {\n",
       "        vertical-align: top;\n",
       "    }\n",
       "\n",
       "    .dataframe thead th {\n",
       "        text-align: right;\n",
       "    }\n",
       "</style>\n",
       "<table border=\"1\" class=\"dataframe\">\n",
       "  <thead>\n",
       "    <tr style=\"text-align: right;\">\n",
       "      <th></th>\n",
       "      <th>len</th>\n",
       "      <th>supp</th>\n",
       "      <th>dose</th>\n",
       "    </tr>\n",
       "  </thead>\n",
       "  <tbody>\n",
       "    <tr>\n",
       "      <th>51</th>\n",
       "      <td>25.5</td>\n",
       "      <td>OJ</td>\n",
       "      <td>2.0</td>\n",
       "    </tr>\n",
       "    <tr>\n",
       "      <th>52</th>\n",
       "      <td>26.4</td>\n",
       "      <td>OJ</td>\n",
       "      <td>2.0</td>\n",
       "    </tr>\n",
       "    <tr>\n",
       "      <th>53</th>\n",
       "      <td>22.4</td>\n",
       "      <td>OJ</td>\n",
       "      <td>2.0</td>\n",
       "    </tr>\n",
       "    <tr>\n",
       "      <th>54</th>\n",
       "      <td>24.5</td>\n",
       "      <td>OJ</td>\n",
       "      <td>2.0</td>\n",
       "    </tr>\n",
       "    <tr>\n",
       "      <th>55</th>\n",
       "      <td>24.8</td>\n",
       "      <td>OJ</td>\n",
       "      <td>2.0</td>\n",
       "    </tr>\n",
       "    <tr>\n",
       "      <th>56</th>\n",
       "      <td>30.9</td>\n",
       "      <td>OJ</td>\n",
       "      <td>2.0</td>\n",
       "    </tr>\n",
       "    <tr>\n",
       "      <th>57</th>\n",
       "      <td>26.4</td>\n",
       "      <td>OJ</td>\n",
       "      <td>2.0</td>\n",
       "    </tr>\n",
       "    <tr>\n",
       "      <th>58</th>\n",
       "      <td>27.3</td>\n",
       "      <td>OJ</td>\n",
       "      <td>2.0</td>\n",
       "    </tr>\n",
       "    <tr>\n",
       "      <th>59</th>\n",
       "      <td>29.4</td>\n",
       "      <td>OJ</td>\n",
       "      <td>2.0</td>\n",
       "    </tr>\n",
       "    <tr>\n",
       "      <th>60</th>\n",
       "      <td>23.0</td>\n",
       "      <td>OJ</td>\n",
       "      <td>2.0</td>\n",
       "    </tr>\n",
       "  </tbody>\n",
       "</table>\n",
       "</div>"
      ],
      "text/plain": [
       "     len supp  dose\n",
       "51  25.5   OJ   2.0\n",
       "52  26.4   OJ   2.0\n",
       "53  22.4   OJ   2.0\n",
       "54  24.5   OJ   2.0\n",
       "55  24.8   OJ   2.0\n",
       "56  30.9   OJ   2.0\n",
       "57  26.4   OJ   2.0\n",
       "58  27.3   OJ   2.0\n",
       "59  29.4   OJ   2.0\n",
       "60  23.0   OJ   2.0"
      ]
     },
     "execution_count": 29,
     "metadata": {},
     "output_type": "execute_result"
    }
   ],
   "source": [
    "d=2.0\n",
    "df1 = df[df['dose'] == d]\n",
    "df1_OJ = df1[df1['supp'] == 'OJ']\n",
    "df1_VC = df1[df1['supp'] == 'VC']\n",
    "df2 = df[df['dose'] < d]\n",
    "df2_OJ = df2[df2['supp'] == 'OJ']\n",
    "df2_VC = df2[df2['supp'] == 'VC']\n",
    "df1_OJ"
   ]
  },
  {
   "cell_type": "markdown",
   "metadata": {},
   "source": [
    "I will try to use the relative t-test to compare these two samples of the null hypotheses."
   ]
  },
  {
   "cell_type": "code",
   "execution_count": 30,
   "metadata": {},
   "outputs": [
    {
     "name": "stdout",
     "output_type": "stream",
     "text": [
      "p-value: 0.48347835207019463\n",
      "Accept null hypothesis\n"
     ]
    }
   ],
   "source": [
    "#paired t-test where doses are 2.0 mg\n",
    "ttest,pval = stats.ttest_rel(df1_OJ['len'], df1_VC['len'], alternative='less')\n",
    "print(f'p-value: {pval}')\n",
    "\n",
    "# eval p-value\n",
    "if pval < 0.05:    # alpha value is 0.05 or 5%\n",
    "   print('Reject null hypothesis')\n",
    "else:\n",
    "  print('Accept null hypothesis')"
   ]
  },
  {
   "cell_type": "markdown",
   "metadata": {},
   "source": [
    "P-value is greater than the alpha so the null hypothesis is accepted with a 5% chance of accepting the null when it is false. This means that the 95% confidence the mean length of teeth of guinea pigs who were given 2.0 mg of OJ is greater than the mean length of teeth of guinea pigs given 2.0 mg of ascorbic acid."
   ]
  },
  {
   "cell_type": "code",
   "execution_count": 31,
   "metadata": {},
   "outputs": [
    {
     "name": "stdout",
     "output_type": "stream",
     "text": [
      "p-value: 9.680271310047733e-05\n",
      "Reject null hypothesis\n"
     ]
    }
   ],
   "source": [
    "#paired t-test where doses are less than 2.0 mg\n",
    "ttest,pval = stats.ttest_rel(df2_OJ['len'], df2_VC['len'], alternative='greater')\n",
    "print(f'p-value: {pval}')\n",
    "\n",
    "# eval p-value\n",
    "if pval < 0.05:    # alpha value is 0.05 or 5%\n",
    "   print('Reject null hypothesis')\n",
    "else:\n",
    "  print('Accept null hypothesis')"
   ]
  },
  {
   "cell_type": "markdown",
   "metadata": {},
   "source": [
    "Alternatively, the p-value (0.0009) less than the alpha value, therefore we reject the null with a 5% chance of rejecting the null when it is in fact true. We are 95% confident that the mean length of teeth of guinea pigs given doses less than 2.0mg of OJ will not contain the mean of the same dose of VC."
   ]
  },
  {
   "cell_type": "markdown",
   "metadata": {},
   "source": [
    "Let's try the independent t-test:\n",
    "\n",
    "**H1<sub>0</sub>:** 2.0mg OJ mean-len - 2.0mg VC mean-len = 0\n",
    "\n",
    "**H1<sub>A</sub>:** 2.0mg OJ mean-len - 2.0mg VC mean-len < 0\n",
    "\n",
    "***\n",
    "\n",
    "**H2<sub>0</sub>:** <2.0mg OJ mean-len - <2.0mg VC mean-len = 0\n",
    "\n",
    "**H2<sub>A</sub>:** <2.0mg OJ mean-len - <2.0mg VC mean-len < 0\n",
    "\n",
    "***\n"
   ]
  },
  {
   "cell_type": "code",
   "execution_count": 32,
   "metadata": {},
   "outputs": [
    {
     "name": "stdout",
     "output_type": "stream",
     "text": [
      "p-value: 0.9638515887233756\n",
      "Accept null hypothesis\n"
     ]
    }
   ],
   "source": [
    "#independent t-test where doses are 2.0 mg\n",
    "ttest,pval = stats.ttest_ind(df1_OJ['len'], df1_VC['len'], equal_var=False)\n",
    "print(f'p-value: {pval}')\n",
    "\n",
    "# eval p-value\n",
    "if pval < 0.05:    # alpha value is 0.05 or 5%\n",
    "   print('Reject null hypothesis')\n",
    "else:\n",
    "  print('Accept null hypothesis')"
   ]
  },
  {
   "cell_type": "code",
   "execution_count": 33,
   "metadata": {},
   "outputs": [
    {
     "name": "stdout",
     "output_type": "stream",
     "text": [
      "p-value: 0.00423860972808583\n",
      "Reject null hypothesis\n"
     ]
    }
   ],
   "source": [
    "#independent t-test where doses are less than 2.0 mg\n",
    "ttest,pval = stats.ttest_ind(df2_OJ['len'], df2_VC['len'], equal_var=False)\n",
    "print(f'p-value: {pval}')\n",
    "\n",
    "# eval p-value\n",
    "if pval < 0.05:    # alpha value is 0.05 or 5%\n",
    "   print('Reject null hypothesis')\n",
    "else:\n",
    "  print('Accept null hypothesis')"
   ]
  },
  {
   "cell_type": "markdown",
   "metadata": {},
   "source": [
    "Similar outcome to the relative t-test though there is greater confidence in the second null hypothesis because the p-value is greater, thought still lower than the alpha value."
   ]
  },
  {
   "cell_type": "markdown",
   "metadata": {},
   "source": [
    "## Conclusion"
   ]
  },
  {
   "cell_type": "markdown",
   "metadata": {},
   "source": [
    "As I ran through this assignment I found minor difficulties in simplifying my hypotheses. I could have done that better but I wanted to learn so many things at once. I will keep that in mind for future anaylses as I will have more time to complete them and a reason for thorough investigating. On the otherhand, there were only 3 features in the dataset and I found many questions to be answered. If there were more, like before and after trial lengths, how many doses were given and for how long, how old th guinea pigs were, whether they were male or female would have been useful information for finding relationships in the effectiveness in the Vitamin C doses. How did the factors of nature affect the length of their teeth vs the vitamin C doses?\n",
    "\n",
    "I could see the use of using ANOVA testing for multiple groups like 0.5, 1, and 2mg doses. Using Chi-Squared and Regression models would ahve shown us the interdependence of the variables on the length of the teeth better than the one and two-sided t-tests. Correlation coefficients or R<sup>2</sup> would have shown us the strength of those relationships with explicit values showing positive, negative, or no relationships between the variables. The Correlation Coefficients can be used in a stochastic equation of various confidence intervals to predict future outcomes. An R<sup>2</sup> would show the linear relationship of predicted values relative to the actual values( i.e. how well the coefficients can be explained by the variables vs what percent cannot be explained.)\n",
    "\n",
    "I look forward to implementing these other tests."
   ]
  }
 ],
 "metadata": {
  "kernelspec": {
   "display_name": "Python 3",
   "language": "python",
   "name": "python3"
  },
  "language_info": {
   "codemirror_mode": {
    "name": "ipython",
    "version": 3
   },
   "file_extension": ".py",
   "mimetype": "text/x-python",
   "name": "python",
   "nbconvert_exporter": "python",
   "pygments_lexer": "ipython3",
   "version": "3.8.8"
  }
 },
 "nbformat": 4,
 "nbformat_minor": 4
}
