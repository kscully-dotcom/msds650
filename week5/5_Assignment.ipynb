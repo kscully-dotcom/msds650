{
 "cells": [
  {
   "cell_type": "markdown",
   "metadata": {},
   "source": [
    "# Week 5 Lab: Supervised Learning"
   ]
  },
  {
   "cell_type": "markdown",
   "metadata": {},
   "source": [
    "<img align=\"right\" style=\"padding-right:10px;\" src=\"figures_wk5/knn.png\" width=300><br>\n",
    "\n",
    "This week's assignment will focus completeing a KNN analysis and comparing its performance with other supervised algorithms.\n",
    "\n",
    "\n",
    "## Our Dataset: \n",
    "**Dataset:** bank-additional-full.csv (Provided in folder assign_wk5)\n",
    "\n",
    "Remember to take a look at the bank-additional-names.txt files for a better understanding of the dataset.\n"
   ]
  },
  {
   "cell_type": "markdown",
   "metadata": {},
   "source": [
    "# Assignment Requirements\n",
    "\n",
    "## Part 1: KNN Analysis\n",
    "**Objective:** According to the dataset's text file, the target column the last column in the dataset.\n",
    "   - Cleanup the datset as you see deem appropriate. As always, defend your reasoning!!!\n",
    "       - Missing values?\n",
    "       - Column names\n",
    "   - Prepare the data for machine learning\n",
    "       - A little EDA goeas a long way\n",
    "       - Do you need to do anything about data types?\n",
    "   - KNN analysis\n",
    "       - What is your objective from the analysis?\n",
    "       - What is your optimal K? \n",
    "       - How about accuracy rate? \n",
    "    - Discover any insights from this analysis? \n",
    "       - Include numbers/graphs corresponding to your conclusions\n",
    "       - Discuss ways to improve the performance of your KNN model \n",
    "       - Defend and backup your thoughts!!!!!!"
   ]
  },
  {
   "cell_type": "markdown",
   "metadata": {},
   "source": [
    "## Part 2: Comparison to other supervised algorithm\n",
    "As we saw in the lecture notebook, algorithm performance varies based on the algorithm used. The lecture demostrated using K-Fold Cross-Validation to compare the performance of several algorithm for the same dataset. \n",
    "   - At the end of part 1 you discussed ways to improve the performance of you KNN model. \n",
    "       - Implement one of those methods to improve your KNN model performance.\n",
    "       - Rerun a KNN analysis for your improved dataset\n",
    "       - Discuss the change in performance from the model in part 1\n",
    "   - Complete a K-fold cross-validation analysis for your improved model\n",
    "       - You need to use at less three additional models\n",
    "       - Discuss the difference in the performance of the 4 algorithms against your improved dataset."
   ]
  },
  {
   "cell_type": "markdown",
   "metadata": {},
   "source": [
    "# Deliverables:\n"
   ]
  },
  {
   "cell_type": "markdown",
   "metadata": {},
   "source": [
    "Upload your Jupyter Notebook to the corresponding location in WorldClass. \n",
    "\n",
    "**Note::** Make sure you have clearly indicated each assignment requirement within your notebook.\n",
    "   \n",
    "**Important:** Make sure your provide complete and thorough explanations for all of your analysis. You need to defend your thought processes and reasoning."
   ]
  },
  {
   "cell_type": "code",
   "execution_count": null,
   "metadata": {},
   "outputs": [],
   "source": []
  }
 ],
 "metadata": {
  "kernelspec": {
   "display_name": "Python 3",
   "language": "python",
   "name": "python3"
  },
  "language_info": {
   "codemirror_mode": {
    "name": "ipython",
    "version": 3
   },
   "file_extension": ".py",
   "mimetype": "text/x-python",
   "name": "python",
   "nbconvert_exporter": "python",
   "pygments_lexer": "ipython3",
   "version": "3.7.7"
  }
 },
 "nbformat": 4,
 "nbformat_minor": 4
}
