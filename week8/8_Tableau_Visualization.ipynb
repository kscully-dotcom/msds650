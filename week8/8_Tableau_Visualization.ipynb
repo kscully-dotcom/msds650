{
 "cells": [
  {
   "cell_type": "markdown",
   "metadata": {},
   "source": [
    "# Tableau Visualization\n",
    "<img align=\"right\" style=\"padding-right:10px;\" src=\"figures_wk8/data_visualization.png\" width=500><br>\n",
    "\n",
    "**Outline**\n",
    "\n",
    "* What is Data Visualization?\n",
    "   - Why is data visualization so important?\n",
    "   - Different types of Data Visualization\n",
    "* Getting started with Tableau\n",
    "   - Student License\n",
    "* Connecting to our data\n",
    "* Worksheet Tab\n",
    "* Time to build a simple graph\n",
    "* DJIA Demo\n",
    "   - Low_High_Close Graphic\n",
    "   - Duplicating an Existing Graphic\n",
    "   - Calculated Fields\n",
    "* Building a Dashboard\n",
    "* A Tableau Story\n",
    "\n",
    "[Data Visualization Image Source](https://www.inc.com/anna-johansson/the-5-things-you-need-to-remember-when-relying-on-data-visualization.html)"
   ]
  },
  {
   "cell_type": "markdown",
   "metadata": {},
   "source": [
    "## What is Data Visualization?\n",
    "Data visualization is the graphical representation of information and data. By using visual elements like charts, graphs, and maps, data visualization tools provide an accessible way to see and understand trends, outliers, and patterns in data.\n",
    "\n",
    "In the world of Big Data, data visualization tools and technologies are essential to analyze massive amounts of information and make data-driven decisions."
   ]
  },
  {
   "cell_type": "markdown",
   "metadata": {},
   "source": [
    "### Why is data visualization so important?\n",
    "Our eyes are drawn to colors and patterns. We can quickly identify red from blue, square from circle. Our culture is visual, including everything from art and advertisements to TV and movies.\n",
    "\n",
    "Data visualization is another form of visual art that grabs our interest and keeps our eyes on the message. When we see a chart, we quickly see trends and outliers. If we can see something, we internalize it quickly. It’s storytelling with a purpose. If you’ve ever stared at a massive spreadsheet of data and couldn’t see a trend, you know how much more effective a visualization can be.\n",
    "\n",
    "<img align=\"center\" style=\"padding-right:10px;\" src=\"figures_wk8/viz_benefits.png\" width=800><br>"
   ]
  },
  {
   "cell_type": "markdown",
   "metadata": {},
   "source": [
    "### Different types of Data Visualization\n",
    "When you think of data visualization, your first thought probably immediately goes to simple bar graphs or pie charts. While these may be an integral part of visualizing data and a common baseline for many data graphics, the right visualization must be paired with the right set of information. Simple graphs are only the tip of the iceberg. There’s a whole selection of visualization methods to present data in effective and interesting ways.\n",
    "\n",
    "Below is a screenshot of a handy reference chart to help you with selecting the correct type of visualization for your data. <br>(pdf version located on WorldClass: Content -> Week8)<br>\n",
    "<img align=\"center\" style=\"padding-right:10px;\" src=\"figures_wk8/chart_type.png\" width=800><br>\n",
    "\n",
    "\n",
    "Additionally, Tableau has collected [10 of the best examples of data visualization of all time](https://www.tableau.com/learn/articles/best-beautiful-data-visualization-examples), with examples that map historical conquests, analyze film scripts, reveal hidden causes of mortality, and more.  Check these out!\n",
    "\n",
    "References: <br>\n",
    "https://www.tableau.com/learn/articles/data-visualization <br>\n",
    "https://www.analyticsvidhya.com/learning-paths-data-science-business-analytics-business-intelligence-big-data/tableau-learning-path/"
   ]
  },
  {
   "cell_type": "markdown",
   "metadata": {},
   "source": [
    "## Getting started with Tableau\n",
    "Tableau offers everyone a [14-day trial subscription](https://www.tableau.com/products/trial). The trial version will be sufficient for this assignment.\n",
    "\n",
    "### Student License\n",
    "Tableau offers [students a one-year Tableau license for FREE](https://www.tableau.com/academic/students)!!! \n",
    "\n",
    "<img align=\"center\" style=\"padding-right:10px;\" src=\"figures_wk8/get_started.png\" width=600><br>\n",
    "\n",
    "<div class=\"alert alert-block alert-danger\">\n",
    "<b>Important::</b> It can take a day or two to get your free license from Tableau. After you apply for a student license, you will be directed to a 14-day trial version and then you can apply your license once you receive it from Tableau.\n",
    "</div>"
   ]
  },
  {
   "cell_type": "markdown",
   "metadata": {},
   "source": [
    "Also, Tableau has a great [Getting Started tutorial](https://help.tableau.com/current/guides/get-started-tutorial/en-us/get-started-tutorial-home.htm) on their website. It's worth taking the time to go through this tutorial.  \n",
    "\n",
    "Once you have launched Tableau Desktop, you will be taken to the **Start Page**.  <br>\n",
    "<img align=\"center\" style=\"padding-right:10px;\" src=\"figures_wk8/start_page.png\" width=700><br>\n",
    "\n",
    "Let's stop and look at a couple of the key features on the Start page: <br>\n",
    "\n",
    "In the upper left-hand corner of any Tableau page, click on the <b>Tableau icon</b> to switch you between the start page and your workspace. <br>\n",
    "\n",
    "The **Connect** section is how you connect Tableau to your data. Tableau can connect to data that is:\n",
    "<br>\n",
    "   - stored in a file, such as Microsoft Excel, PDF, Spatial files, and more. <br>\n",
    "   - stored on a server, such as Tableau Server, Microsoft SQL Server, Google Analytics, and more. <br>\n",
    "   - a data source that you’ve connected to before. <br>\n",
    "\n",
    "Tableau supports the ability to connect to a wide range of data stored in a wide variety of places. The **Connect** pane lists the most common places that you might want to connect to, or click the More links to see more options. More on connecting to data sources in the Learning Library (in the top menu)\n",
    "\n",
    "The <b>Open</b> will contain a list of existing workbooks that are available for you to open. If this is your first time working in Tableau, this section will most likely be empty.\n",
    "\n",
    "The <b>Sample Workbooks</b> section contains sample dashboards and worksheets that come with your current version of Tableau.\n",
    "\n",
    "The <b>Discover</b> section contains additional resources, available within Tableau. Here you will be able to view video tutorials, connect with others in forums and view the \"Viz of the Week\" to get ideas for building your great visualizations."
   ]
  },
  {
   "cell_type": "markdown",
   "metadata": {},
   "source": [
    "### Connecting to our data\n",
    "On our WorldClass site in the Content -> Week8 section there is an data_wk8 folder.  Make sure you have that folder downloaded and unzipped in a known location.\n",
    "\n",
    "Let's connect to the DJIA_HistoricalPrices.csv dataset.\n",
    "I clicked on **More** under the **Connect** section and was then presented with a navigation window to select my specific dataset.\n",
    "\n",
    "<img align=\"center\" style=\"padding-right:10px;\" src=\"figures_wk8/select_data.png\" width=500><br>"
   ]
  },
  {
   "cell_type": "markdown",
   "metadata": {},
   "source": [
    "After you select your dataset, you will be shown a tabular view of your data. \n",
    "\n",
    "This is where you could join multiple datasets together, filter your data or adjust your data prior to building a visualization.\n",
    "\n",
    "<img align=\"center\" style=\"padding-right:10px;\" src=\"figures_wk8/data_view.png\" width=700><br>"
   ]
  },
  {
   "cell_type": "markdown",
   "metadata": {},
   "source": [
    "**Important:**\n",
    "\n",
    "<img align=\"left\" style=\"padding-right:10px;\" src=\"figures_wk8/worksheet_button.png\" width=200><br>\n",
    "When you are satisfied with your data, you need to click on the orange worksheet tab at the bottom of the screen"
   ]
  },
  {
   "cell_type": "markdown",
   "metadata": {},
   "source": [
    "### Worksheet Tab\n",
    "\n",
    "In Tableau, the worksheet tab is where you will build your visualization.\n",
    "\n",
    "<img align=\"left\" style=\"padding-right:10px;\" src=\"figures_wk8/worksheet_data_fields.png\" width=200><br>\n",
    "The left panel on the worksheet, is where you will access the individual data elements from within your dataset.\n",
    "\n",
    "Let's view the different sections: <br>\n",
    "\n",
    "&emsp;* Data Source: this is a very top and marked with the database icon. <br>\n",
    "\n",
    "&emsp;* Roles: Tableau has two type of data element roles: Dimensions and Measures.<br>\n",
    "\n",
    "&emsp;&emsp;- Dimensions are categorical or qualitative data elements from your dataset<br>\n",
    "\n",
    "&emsp;&emsp;- Measures are numerical or quantitative data elements from your dataset<br>\n",
    "\n",
    "&emsp;* Fields: the name of the data elements in your dataset<br>\n",
    "\n",
    "&emsp;* Data Type: the specific type of the individual data field.<br>\n",
    "\n",
    "\n"
   ]
  },
  {
   "cell_type": "markdown",
   "metadata": {},
   "source": [
    "<div class=\"alert alert-block alert-info\">\n",
    "<b>Helpful Hint::</b> In Tableau a shelf is another name for region or area within the worksheet.\n",
    "</div>\n",
    "\n",
    "<img align=\"left\" style=\"padding-right:10px;\" src=\"figures_wk8/columns_rows.png\" width=200><br>\n",
    "This is a topic that was a bit confusing for me at first, but I found this tip helpful in keeping things straight. \n",
    "\n",
    "The data elements that you put on the **Columns** shelf relate to the x-axis of your graphic, and the **Rows** shelf relates to the x-axis for your graphic.\n"
   ]
  },
  {
   "cell_type": "markdown",
   "metadata": {},
   "source": [
    "### Time to build a simple graph\n",
    "To build your visual! You will need to drag and drop the individual fields from the left pane to the **Columns** shelf and **Rows** shelf.\n",
    "\n",
    "Let's start by dragging **Date** to the **Columns** shelf and **Close** to the **Rows** shelf.\n",
    "\n",
    "<img align=\"center\" style=\"padding-right:10px;\" src=\"figures_wk8/DJIA_1.png\" width=500><br>"
   ]
  },
  {
   "cell_type": "markdown",
   "metadata": {},
   "source": [
    "### Customize the data elements\n",
    "<img align=\"left\" style=\"padding-right:10px;\" src=\"figures_wk8/DJIA_2b.png\" width=200><br>\n",
    "Well, it is a graph, but doesn't look like any DJIA graph that I've seen before.  Let's see if we can improve things a bit.\n",
    "\n",
    "First thing that I'll adjust is the **Columns**.  Notice that when we dropped **Date** onto the **Columns** shelf, Tableau automatically aggregated our underlying datset at te *YEAR* level. I think I'd prefer to look at this data on a *DAILY* basis. To do this hover over the right end of the **Date** object and a down arrow should appear. Click on the down arrow and select **Day** from the list of options.\n",
    "\n",
    "Next, we should probably do something to adjust the **Close** data element.  Looking at the tick mark values,things seem really high to me. Again Tableau is trying to help us out and summed all the values within the **Close** data element to start our graph. We can change this by **Average** rather than **Sum**. this one a little bit tricky in that you have to click on the triangle next to the **Measure(Sum)** entry.\n"
   ]
  },
  {
   "cell_type": "markdown",
   "metadata": {},
   "source": [
    "Here's what things look like now.\n",
    "\n",
    "<img align=\"center\" style=\"padding-right:10px;\" src=\"figures_wk8/DJIA_2.png\" width=500><br>"
   ]
  },
  {
   "cell_type": "markdown",
   "metadata": {},
   "source": [
    "Hmmm..  Something still doesn't seem right. \n",
    "\n",
    "The x-axis tick marks are implying that we only have one month of data. When in reality we have a years worth of data. (11/18/2016 through 11/16/2017). What Tableau has done here is to go through the dataset and summed all the data based on date within the month.  \n",
    "\n",
    "For example, for Day 1 - all of the months that had data for the 1st of the month, were summed togehter and then displayed.\n",
    "\n",
    "So let's adjust our **Date** field again.  This time let's select the options **More - > Custom**.  I'm going to select **Month / Day / Year** from the drop-down list.\n",
    "\n",
    "<img align=\"left\" style=\"padding-right:10px;\" src=\"figures_wk8/DJIA_3b.png\" width=200>\n"
   ]
  },
  {
   "cell_type": "markdown",
   "metadata": {},
   "source": [
    "<img align=\"left\" style=\"padding-right:10px;\" src=\"figures_wk8/DJIA_3.png\" width=400><br>"
   ]
  },
  {
   "cell_type": "markdown",
   "metadata": {},
   "source": [
    "That looks better!  We have individual dates now!  You should be able to scroll through all the individual dates within our dataset.\n",
    "\n",
    "<img align=\"center\" style=\"padding-right:10px;\" src=\"figures_wk8/DJIA_4.png\" width=500><br>"
   ]
  },
  {
   "cell_type": "markdown",
   "metadata": {},
   "source": [
    "### DJIA Demo\n",
    "I find it easier to learn if I have a target objective that I'm striving for, so let's apply that philosophy to our current Tableau exercise. \n",
    "\n",
    "#### Low_High_Close Graphic\n",
    "**Objective:** I'd like to build a graphic showing the range of the DJIA prices (low to high range)for every day within a given month and overlay the closing price on a daily basis.\n",
    "\n",
    "Go ahead and remove the **Close** field from the **Rows** shelf.  You can do this by right-clicking and selecting **Remove**.\n",
    "\n",
    "I'm going to start by filtering our dataset down to one month. To do this, I'm going to drag **Date** from the left panel to the **Filters** shelf. The **Filter Fields** dialogue box will open up and I'll select **Month/Year** from this dialogue box and then click on **Next**. I'm going to select the month of **August 2017**.\n",
    "\n",
    "<img align=\"left\" style=\"padding-right:10px;\" src=\"figures_wk8/Filter_Fields_2.png\" width=400>\n"
   ]
  },
  {
   "cell_type": "markdown",
   "metadata": {},
   "source": [
    "\n",
    "<img align=\"left\" style=\"padding-right:10px;\" src=\"figures_wk8/Filter_Fields.png\" width=300><br>"
   ]
  },
  {
   "cell_type": "markdown",
   "metadata": {},
   "source": [
    "Now we need to Add **Measure Values** for our graphic.  To do this right click on **Measure Values** in the left panel. Select **Add to Sheet** \n",
    "<img align=\"left\" style=\"padding-right:10px;\" src=\"figures_wk8/DJIA_6.png\" width=300>"
   ]
  },
  {
   "cell_type": "markdown",
   "metadata": {},
   "source": [
    "You will notice that a Measure Values section is opened up below the **Marks** shelf. All of the quantitative data elements are automatically added to this section. Remove all of the data elements except **Low** and **High**.\n",
    "\n",
    "<img align=\"left\" style=\"padding-right:10px;\" src=\"figures_wk8/DJIA_6b.png\" width=300><br>"
   ]
  },
  {
   "cell_type": "markdown",
   "metadata": {},
   "source": [
    "Now drag **Measure Values** from the left panel to the **Rows** shelf. (You might need to remove **Measure Names** if it's already on the Rows shelf.)\n",
    "\n",
    "<img align=\"center\" style=\"padding-right:10px;\" src=\"figures_wk8/DJIA_6c.png\" width=400><br>\n",
    "\n",
    "In the **Filters** shelf, notice that **Measure Names** has appeared. Right click on **Measure Names** in the **Filters** section, then select **Edit Filter**. \n",
    "<img align=\"left\" style=\"padding-right:10px;\" src=\"figures_wk8/DJIA_6d.png\" width=300>"
   ]
  },
  {
   "cell_type": "markdown",
   "metadata": {},
   "source": [
    "Verify that only high and low are selected.<br>\n",
    "<img align=\"left\" style=\"padding-right:10px;\" src=\"figures_wk8/DJIA_6e.png\" width=300><br>"
   ]
  },
  {
   "cell_type": "markdown",
   "metadata": {},
   "source": [
    "Now let's tell Tableau to use our newly created **Measure Names** as a way to create a color distinction in our graphic by dropping **Measure Names** from the left panel on **Colors** in the **Mark** shelf.\n",
    "\n",
    "<img align=\"center\" style=\"padding-right:10px;\" src=\"figures_wk8/DJIA_7.png\" width=500><br>"
   ]
  },
  {
   "cell_type": "markdown",
   "metadata": {},
   "source": [
    "Last step, we can change the type f graph used to display our data.  I'm going to select **Bar**. This is done witht he drop down at the top of the **Marks** section.\n",
    "\n",
    "Tableau automatically determined that a Stacked Bar graph would be the best way to display this data. For the most part I agree, but I don't like the *additive* effect of stacking the low and high on top of each other.  I'd rather see these two values stacked one in front of the other.   To do this we need to change the focus of the graphic. \n",
    "\n",
    "At the top of the Tableau window/screen, select **Analysis -> Stack Marks -> Off** from the toolbar across the top of your Tableau window.\n",
    "\n",
    "<img align=\"center\" style=\"padding-right:10px;\" src=\"figures_wk8/DJIA_8.png\" width=500><br>"
   ]
  },
  {
   "cell_type": "markdown",
   "metadata": {},
   "source": [
    "I know, it doesn't look like we are making progress, but we are. Trust me!\n",
    "\n",
    "The current issue is that the **High** values are blocking the **Low** values in the graphic.   To fix this, we need to ensure that **Low** is first in the list of our **Measure Values** shelf.  It's not, so I will drag **Low** above **High**\n",
    "\n",
    "<img align=\"center\" style=\"padding-right:10px;\" src=\"figures_wk8/DJIA_9.png\" width=500><br>"
   ]
  },
  {
   "cell_type": "markdown",
   "metadata": {},
   "source": [
    "Getting better!  I can see a hint of blue at the top of the orange bars.\n",
    "\n",
    "\n",
    "\n",
    "Now we can adjust the range of the y-axis so we can see more of a distinction between the **Low** and **High** DJIA price each day. \n",
    "\n",
    "To do this right click on the **Value** label along the y-axis. Select **Edit Axis**. I'll set:\n",
    "   * Range to be a **Fixed range between 21,500 and 22,200**. \n",
    "   * Y-axis Title to be **DJIA - Low and High Price**.\n",
    "\n",
    "<img align=\"left\" style=\"padding-right:10px;\" src=\"figures_wk8/DJIA_10b.png\" width=300> <br>"
   ]
  },
  {
   "cell_type": "markdown",
   "metadata": {},
   "source": [
    "<img align=\"left\" style=\"padding-right:10px;\" src=\"figures_wk8/DJIA_10.png\" width=400><br>"
   ]
  },
  {
   "cell_type": "markdown",
   "metadata": {},
   "source": [
    "Here's what my graph looks like at this point.\n",
    "\n",
    "<img align=\"center\" style=\"padding-right:10px;\" src=\"figures_wk8/DJIA_10c.png\" width=500><br>\n"
   ]
  },
  {
   "cell_type": "markdown",
   "metadata": {},
   "source": [
    "I want to turn-off the data values at the end of end bar in the chart. To do this we need to click on the **Label** icon in the **Marks** section\n",
    "<img align=\"center\" style=\"padding-right:10px;\" src=\"figures_wk8/DJIA_10d.png\" width=400><br>\n",
    "\n",
    "Hmmm.. the x-axis still looks a bit too congested to me. I'm going to edit the **Date** in the **columns** shelf to be **Day**.\n",
    "\n",
    "<img align=\"center\" style=\"padding-right:10px;\" src=\"figures_wk8/Hi_Low_Day.png\" width=500><br>\n"
   ]
  },
  {
   "cell_type": "markdown",
   "metadata": {},
   "source": [
    "### Adding a another data element\n",
    "Moving right along, it's time to add **Close** to this graphic. To do this you will need to drag **Close** from the left panel to the right side of the existing graphic. Once you are near the right edge of the graphic you will see *a bolded dashed line appear along the right edge* of the existing graphic. You need to drop **Close** on that dashed line.\n",
    "\n",
    "<img align=\"center\" style=\"padding-right:10px;\" src=\"figures_wk8/DJIA_11.png\" width=700><br>"
   ]
  },
  {
   "cell_type": "markdown",
   "metadata": {},
   "source": [
    "We are getting there... Just need to clean things up a bit.  Let's start with adjusting the two sets of y-axes so that they are on the same scale with each other. Right click on the **Close** y-axis and select **Synchronize Axis**.\n",
    "\n",
    "<img align=\"center\" style=\"padding-right:10px;\" src=\"figures_wk8/DJIA_12.png\" width=500><br>"
   ]
  },
  {
   "cell_type": "markdown",
   "metadata": {},
   "source": [
    "Well, now that the axes are in synch, we still have an issue that the bars for **Close** are covering up most of the graphic. We can fix this by changing the graphic type for the **Close** data elelment.  \n",
    "\n",
    "To do this go to the **Marks** shelf and click on **Close** (it should be bolded after you click on it). In this same shlef area, use the drop-down selector to change the graphic type for **Close** to **Line** from **Bar**. Make sure you are only adjusting the graphic type for **Close**.\n",
    "\n",
    "Here's what our graphic will look like at this point.\n",
    "\n",
    "<img align=\"center\" style=\"padding-right:10px;\" src=\"figures_wk8/DJIA_13.png\" width=700><br>"
   ]
  },
  {
   "cell_type": "markdown",
   "metadata": {},
   "source": [
    "Things are looking a lot better. But, I'm not too crazy about the default colors that Tableau selected.To adjust the color of the **Close** line, click on the **Color** icon in the **Marks** shelf.  Make sure you are on the appropriate shelf.\n",
    "\n",
    "<img align=\"center\" style=\"padding-right:10px;\" src=\"figures_wk8/DJIA_14b.png\" width=400><br>\n",
    "\n",
    "To adjust the colors for **Low** and **High**, we need to go to the very upper right corner of the worksheet space. You should see a **Measure Names** shelf. It is possible that the **Show Me** shelf is expanded and hiding the **Measure Names** shelf in this section of the worksheet. Collapse **Show Me** if necessary.\n",
    "\n",
    "Click on **Measure Names** and then select the down arrow to the right of the name. Select **Edit Color** and adjust the colors to your preference.  I'll set my colors as follows:\n",
    "\n",
    "<img align=\"center\" style=\"padding-right:10px;\" src=\"figures_wk8/DJIA_14.png\" width=400><br>"
   ]
  },
  {
   "cell_type": "markdown",
   "metadata": {},
   "source": [
    "This graphic is really starting to take shape.  However, I'm still a bit confused because I have no easy way to determine when the DJIA is trading or not trading. Since the markets are closed on weekends and holidays, I'd like to find a way to represent that. \n",
    "\n",
    "Let's go back up to the **Columns** shelf and edit **Date** again. This time we will change the data element to be **Continuous**.\n",
    "\n",
    "<img align=\"center\" style=\"padding-right:10px;\" src=\"figures_wk8/DJIA_15.png\" width=400><br>"
   ]
  },
  {
   "cell_type": "markdown",
   "metadata": {},
   "source": [
    "Time to put the final touches on this graphic.\n",
    "\n",
    "Let's edit the x-axis and add a **Axis Title** of **Business Day**. \n",
    "\n",
    "We should also clean up our second y-axis by changing that **Axis Title** to **Closing Price**.\n",
    "\n",
    "Finally, we need to give our graphic a **Title**.  To do this go to the **Sheet 1** shelf and click on the down arrow in the far upper right corner of this shelf area. Here is what I entered for my **Title**:\n",
    "<img align=\"center\" style=\"padding-right:10px;\" src=\"figures_wk8/DJIA_16.png\" width=500><br>"
   ]
  },
  {
   "cell_type": "markdown",
   "metadata": {},
   "source": [
    "Pulling it all together, you should see a graphic that looks like this.\n",
    "\n",
    "<img align=\"center\" style=\"padding-right:10px;\" src=\"figures_wk8/DJIA_17.png\" width=600><br>"
   ]
  },
  {
   "cell_type": "markdown",
   "metadata": {},
   "source": [
    "Congrats!! You have made your first Tableau graphic. \n",
    "\n",
    "Make sure you rename your worksheet to be something meaningful and that you **SAVE** your work thus far.\n",
    "\n",
    "Now we need to create a couple of additional graphics so that we can learn how to build a dashboard.\n",
    "\n",
    "#### Duplicating an Existing Graphic\n",
    "For our second graphic, I'm going to take the easy route and simply duplicate our existing worksheet and then adjust it from there.  \n",
    "\n",
    "**Objective:** Duplicate the August 2017 graphic and change the date range to another month within our dataset.\n",
    "\n",
    "To do this right click on the worksheet tab and select **Duplicate**.\n",
    "\n",
    "<img align=\"center\" style=\"padding-right:10px;\" src=\"figures_wk8/DJIA_18.png\" width=300><br>"
   ]
  },
  {
   "cell_type": "markdown",
   "metadata": {},
   "source": [
    "Make sure you are on the newly created worksheet. This would be a great time to rename the sheet to help keep things straight.  \n",
    "\n",
    "Let's adjust the date range to be another month. In the **Filters** shelf, select **Show Filter**.  \n",
    "<img align=\"center\" style=\"padding-right:10px;\" src=\"figures_wk8/DJIA_25.png\" width=300><br>\n",
    "\n",
    "The filter for this field will open ont he right side of the Tableau window.\n",
    "\n",
    "<img align=\"center\" style=\"padding-right:10px;\" src=\"figures_wk8/DJIA_25b.png\" width=300><br>\n"
   ]
  },
  {
   "cell_type": "markdown",
   "metadata": {},
   "source": [
    "Remember where we adjusted the colors for our first graphic, now you should see a range selector for the **Date** data element. I'm going to change this to be the month of **April 2017**\n",
    "\n",
    "<img align=\"center\" style=\"padding-right:10px;\" src=\"figures_wk8/DJIA_19.png\" width=700><br>"
   ]
  },
  {
   "cell_type": "markdown",
   "metadata": {},
   "source": [
    "Ummm... That's a bit troubling, where did the graphic go???\n",
    "\n",
    "If we click on **Data Source** in the lower left corner, we can go back to the dataset itself and look to see what the range of values are for the month of April 2017. \n",
    "\n",
    "Yup! that's our problem, we have the y-axis set to a **fixed** range that is greater than the possible range of values for the month of **April 2017**. Go ahead and adjust this range to be between **20,200 and 21,200**.\n",
    "\n",
    "Look that graphic is back!\n",
    "\n",
    "We should also adjust the graphic title to reflect the fact the we are looking at **April 2017**\n",
    "\n",
    "<img align=\"center\" style=\"padding-right:10px;\" src=\"figures_wk8/DJIA_20.png\" width=600><br>\n"
   ]
  },
  {
   "cell_type": "markdown",
   "metadata": {},
   "source": [
    "### Calculated Fields\n",
    "Let's make another graphic that uses **Calculated Fields**. \n",
    "\n",
    "**Objective:** Display the market growth and decline on a per day basis for the month of August 2017.\n",
    "\n",
    "We will start by duplicating the August 2017 graphic again. Rename the new worksheet to be reflective of the graphic.\n",
    "\n",
    "We need to do a little cleanup before we really get started.  This graphic has nothing to do with **Close**, so we will remove it from the **Rows** shelf."
   ]
  },
  {
   "cell_type": "markdown",
   "metadata": {},
   "source": [
    "We need to start by creating the **Calculated Field** since it's the subject of this graphic. Select **Create Calculated Field** under the **Analysis** tab with Tableau.\n",
    "\n",
    "<img align=\"center\" style=\"padding-right:10px;\" src=\"figures_wk8/DJIA_26.png\" width=600><br>"
   ]
  },
  {
   "cell_type": "markdown",
   "metadata": {},
   "source": [
    "Let's create our **Calculated Field** by first naming the field, I used **Market Growth/Decline**. \n",
    "\n",
    "The large blank space in this dialogue box is where you actually put the logic for your calculation. I'm going to define two states for my calculation:\n",
    "* **Decline**: when the DJIA closes lower than where it opened for the day\n",
    "* **Growth**: when the DJIA closes higher than where it opened for the day\n",
    "\n",
    "This is what my **Calculated Field** looks like\n",
    "\n",
    "<img align=\"center\" style=\"padding-right:10px;\" src=\"figures_wk8/DJIA_27.png\" width=600><br>"
   ]
  },
  {
   "cell_type": "markdown",
   "metadata": {},
   "source": [
    "If you look in the **Measures** shelf, you should see our newly created **Calculated Field**.\n",
    "\n",
    "<img align=\"center\" style=\"padding-right:10px;\" src=\"figures_wk8/DJIA_28b.png\" width=400><br>\n",
    "\n",
    "We are going to use this claculated field as our color distinction data element. As before, we will drag \"Market Growth/Decline\" from the left panel to the **Color** are within the **Marks** shelf. \n",
    "\n",
    "I'm also going to change the color selection that Tableau assigned to the values **Growth** (to be green) and **Decline** (to be red).  Remember how to do this?\n",
    "\n",
    "<img align=\"center\" style=\"padding-right:10px;\" src=\"figures_wk8/DJIA_28.png\" width=400><br>"
   ]
  },
  {
   "cell_type": "markdown",
   "metadata": {},
   "source": [
    "Time to switch things up a bit.  I'd like the display per day be a bit more significant.  I want to bound the bars in this graphic to show the difference between **Open** and **Close** only.\n",
    "\n",
    "To do this, we will add the following data elements to the **Details** within the **Marks** shelf, remember to pull the fields from the left panel:\n",
    "* **Date**: You will need to adjust the display type to by **Day** to match the **Columns** shelf\n",
    "* **Open**\n",
    "* **Close**\n",
    "\n",
    "Final adjustment for **Marks**, I'm going to let Tableau sort out the best way to display this type of information, so I'll switch the graphic type to be **Automatic**.\n",
    "\n",
    "Now it's time to tweak the rest of the graphic. The y-axis title isn't accurate now, so I'll change it to be **DJIA Price**.  One last step, the overall title of the graphic is off a bit now too.  So, I'll update that to be **DJIA Market Growth vs Decline** and leave the date range.\n",
    "\n",
    "Here's what we have at this point.\n",
    "\n",
    "<img align=\"center\" style=\"padding-right:10px;\" src=\"figures_wk8/DJIA_29.png\" width=9900><br>"
   ]
  },
  {
   "cell_type": "markdown",
   "metadata": {},
   "source": [
    "So what's going on with this graphic?\n",
    "\n",
    "The green bars represent a day were the DJIA gained ground (closed higher than it opened).  The red bars represent a market declining day (opened higher than it closed).  \n",
    "\n",
    "This is called a *Candlestick Bar* graph."
   ]
  },
  {
   "cell_type": "markdown",
   "metadata": {},
   "source": [
    "### Building a Dashboard\n",
    "Okay, we now have three graphics to work with.  Time to build a **Dashboard**\n",
    "\n",
    "A dashboard is a consolidated display of many worksheets and related information in a single place. It is used to compare and monitor a variety of data simultaneously. The different data views are displayed all at once. Dashboards are shown as tabs at the bottom of the workbook and they usually get updated with the most recent data from the data source. While creating a dashboard, you can add views from any worksheet in the workbook along with many supporting objects such as text areas, web pages, and images.\n",
    "\n",
    "Each view you add to the dashboard is connected to its corresponding worksheet. So when you modify the worksheet, the dashboard is updated and when you modify the view in the dashboard, the worksheet is updated.\n"
   ]
  },
  {
   "cell_type": "markdown",
   "metadata": {},
   "source": [
    "<img align=\"left\" style=\"padding-right:10px;\" src=\"figures_wk8/DJIA_21.png\" width=50><br>\n",
    "To start building a dashboard, select the **Dashboard** icon along the bottom of your workbook."
   ]
  },
  {
   "cell_type": "markdown",
   "metadata": {},
   "source": [
    "This will open up the dashboard workspace for you.  Don't worry this is the easy part.\n",
    "\n",
    "<img align=\"left\" style=\"padding-right:10px;\" src=\"figures_wk8/DJIA_22.png\" width=600><br>"
   ]
  },
  {
   "cell_type": "markdown",
   "metadata": {},
   "source": [
    "You will notice that there is a **Sheets** shelf on the left side of the work space.  Here you will find a list of all the available worksheets that you can add to your dashboard. I have the three worksheets that we have created together.\n",
    "\n",
    "To build the **Dashboard** all you have to do is pick a worksheet and drag it onto the workspace. I'll start with our Market Growth/Decline graphic.\n",
    "\n",
    "Now select one of the other graphics and drag it onto the workspace too. Tableau will show you shaded blocks that represent where you might consider locating that this worksheet.  I decided to place my graphic with the April data below the Market Growth/Decline graphic.\n",
    "\n",
    "One more to go. I'll now drag the graphic for the August 2017 data and drag it onto the workspace.  I decide to split the space currently occupied by the Arpil graphic with the August graphic too.  So now the two low_high_close graphics are sitting side-by-side.\n",
    "\n",
    "Here's what my final result looks like.\n",
    "\n",
    "<img align=\"left\" style=\"padding-right:10px;\" src=\"figures_wk8/DJIA_23.png\" width=700><br>"
   ]
  },
  {
   "cell_type": "markdown",
   "metadata": {},
   "source": [
    "### A Tableau Story\n",
    "\n",
    "In Tableau, a **Story** is a sequence of graphics that work together to convey information. You can create stories to tell a data narrative, provide context, demonstrate how decisions relate to outcomes or to simply make a compelling case.\n",
    "\n",
    "In short a Tableau **Story** is a collection of Dashboards and Worksheets that work together to tell a story about your data. This mimics a PowerPoint presentation, but is stored and powered through Tableau.\n",
    "\n",
    "You can publish Tableau a **Dashboard** and **Story** to shre your insights with others.\n",
    "\n",
    "<img align=\"left\" style=\"padding-right:10px;\" src=\"figures_wk8/DJIA_24.png\" width=50><br>\n",
    "To start building a dashboard, select the **Story** icon along the bottom of your workbook.\n",
    "\n",
    "From here, you follow the same process as you did to build a **Dashboard**.\n",
    "\n",
    "\n"
   ]
  },
  {
   "cell_type": "code",
   "execution_count": null,
   "metadata": {},
   "outputs": [],
   "source": []
  },
  {
   "cell_type": "code",
   "execution_count": null,
   "metadata": {},
   "outputs": [],
   "source": []
  }
 ],
 "metadata": {
  "kernelspec": {
   "display_name": "Python 3",
   "language": "python",
   "name": "python3"
  },
  "language_info": {
   "codemirror_mode": {
    "name": "ipython",
    "version": 3
   },
   "file_extension": ".py",
   "mimetype": "text/x-python",
   "name": "python",
   "nbconvert_exporter": "python",
   "pygments_lexer": "ipython3",
   "version": "3.8.5"
  }
 },
 "nbformat": 4,
 "nbformat_minor": 4
}
