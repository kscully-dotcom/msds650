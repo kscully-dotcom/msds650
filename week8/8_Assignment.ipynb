{
 "cells": [
  {
   "cell_type": "markdown",
   "metadata": {},
   "source": [
    "# Week 8 Lab - Visualizations"
   ]
  },
  {
   "cell_type": "markdown",
   "metadata": {},
   "source": [
    "<img align=\"right\" style=\"padding-right:10px;\" src=\"figures_wk8/tableau_sample.png\" width=350><br>\n",
    "This week's assignment will focus on using Tableau to produce insights and visualizations for a dataset of your choice.\n",
    "## Data: \n",
    "Find an \"interesting\" data set to work with. UCI Machine Learning Archive and data.gov are always good places to start. You will need two datasets in total.\n",
    "\n",
    "## Task 1:\n",
    "For one of your chosen datasets, complete the following\n",
    "1. Create at least 3 descriptive graphics to communicate some aspect of your data.\n",
    "2. Pay attention to the following:\n",
    "   - Use of colors\n",
    "   - Labeling of your axes\n",
    "   - Descriptive title for your charts  \n",
    "3. Make sure you use the following at least once within your 3 graphics\n",
    "    - Change the Tableau default data display type (Think back to our Date field being aggregated by year)\n",
    "    - Measure Values\n",
    "    - Calculated field\n",
    "4. Create at least one dashboard\n",
    "5. Create a Story\n",
    "\n",
    "## Task 2:\n",
    "For your second chosen datasets, complete the following.\n",
    "1. Create at least one graphic that was not demostrated in the Lecture FTE.\n",
    "   Take a look at this [Tableau Tutorial](https://www.tutorialspoint.com/tableau/tableau_dashboard.htm) page for additional graphic types.\n",
    "2. Create a dashboard with your graphic(s) from step 1.\n",
    "\n",
    "\n",
    "**Important:** Make sure your graphics are fairly self explanatory.  If you need to provide additional explanations of the information you are conveying to me, add this information to you Dashboard or Story page."
   ]
  },
  {
   "cell_type": "markdown",
   "metadata": {},
   "source": [
    "## Deliverables:\n",
    "\n",
    "Upload your Tableau workbooks to WorldClass. You can choice to do both Tasks in one workbook or separate workbooks."
   ]
  },
  {
   "cell_type": "code",
   "execution_count": null,
   "metadata": {},
   "outputs": [],
   "source": []
  }
 ],
 "metadata": {
  "kernelspec": {
   "display_name": "Python 3",
   "language": "python",
   "name": "python3"
  },
  "language_info": {
   "codemirror_mode": {
    "name": "ipython",
    "version": 3
   },
   "file_extension": ".py",
   "mimetype": "text/x-python",
   "name": "python",
   "nbconvert_exporter": "python",
   "pygments_lexer": "ipython3",
   "version": "3.8.5"
  }
 },
 "nbformat": 4,
 "nbformat_minor": 4
}
