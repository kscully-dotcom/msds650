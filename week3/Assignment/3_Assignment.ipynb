{
 "cells": [
  {
   "cell_type": "markdown",
   "metadata": {
    "id": "_RcJx15kL_y6"
   },
   "source": [
    "\n",
    "# Week 3  Lab - Exploratory Data Analysis (EDA)\n",
    "\n",
    "<img align=\"right\" style=\"padding-right:10px;\" src=\"figures_wk3/curious.png\" width=300><br>\n",
    "This week's assignment will focus on EDA techniques and practices for a given dataset.\n",
    "\n",
    "## Dataset for Week3: \n",
    "**Dataset Name::** <br>\n",
    "Use any dataset that is of interest to you for this assignment.\n",
    "\n",
    "   * https://archive.ics.uci.edu/ml/datasets.php\n",
    "   * https://www.data.gov/\n",
    "   * https://www.kaggle.com/datasets\n"
   ]
  },
  {
   "cell_type": "markdown",
   "metadata": {
    "id": "1g6ks2wEL_y_"
   },
   "source": [
    "# Assignment Requirements\n",
    "\n",
    "Complete an Exploratory data analysis for the dataset of your choice. Define a few questions that you wish to discover about your dataset to guide your EDA effort. Your analysis should include the items listed below. Make sure you have clearly indicated each assignment requirement within your notebook. For each of the items, document your approach, providing reasoning for your treatment of the data and insights or conclusions that you have reached. Use the [Lab Format](https://colab.research.google.com/drive/1VeVhtWCSG5s4ifEP45hAy3Bk7ncEDG4Y#scrollTo=1g6ks2wEL_y_&line=3&uniqifier=1) document as a guideline for your write up.\n",
    "\n",
    "Define a few questions that you wish to discover about your dataset to guide your EDA effort.\n",
    "  \n",
    "**Important:** Make sure your provide complete and thorough explanations for all of your analysis steps. You need to defend your thought processes and reasoning."
   ]
  },
  {
   "cell_type": "markdown",
   "metadata": {},
   "source": [
    "# Define a few questions that you wish to discover about your dataset to guide your EDA effort.\n",
    "  \n",
    "**Important:** Make sure your provide complete and thorough explanations for all of your analysis steps. You need to defend your thought processes and reasoning."
   ]
  },
  {
   "cell_type": "code",
   "execution_count": 6,
   "metadata": {},
   "outputs": [],
   "source": [
    "import pandas as pd\n",
    "import numpy as np\n",
    "import seaborn as sns\n",
    "import matplotlib.pyplot as plt\n",
    "%matplotlib inline\n",
    "sns.set()"
   ]
  },
  {
   "cell_type": "code",
   "execution_count": 30,
   "metadata": {},
   "outputs": [],
   "source": [
    "df = pd.read_csv('adult.csv', \n",
    "                 names=[\n",
    "    'age', \n",
    "    'workclass', \n",
    "    'fnlwgt',\n",
    "    'education',\n",
    "    'education-num',\n",
    "    'marital-status',\n",
    "    'occupation',\n",
    "    'relationship',\n",
    "    'race',\n",
    "    'sex',\n",
    "    'capital-gain',\n",
    "    'capital-loss',\n",
    "    'hours-per-week',\n",
    "    'native-country'\n",
    "],\n",
    "                index_col=False)"
   ]
  },
  {
   "cell_type": "markdown",
   "metadata": {},
   "source": [
    "## 1. Describe the data within the dataset.\n",
    "       - Data types: Categorical vs Continuous variables\n",
    "       - Statistical summary, etc."
   ]
  },
  {
   "cell_type": "markdown",
   "metadata": {},
   "source": [
    "The data is already clean (: This is a dataset from an analysis pulling data from the 1994 census to document people who make under and over .$50k a year.\n",
    "\n",
    "From:\n",
    "Becker, B. and Kohavi, R. (1996). UCI Machine Learning Repository [https://archive.ics.uci.edu/ml/datasets/Census+Income]. Irvine, CA: University of California, School of Information and Computer Science.\n",
    "\n",
    "Dua, D. and Graff, C. (2019). UCI Machine Learning Repository [http://archive.ics.uci.edu/ml]. Irvine, CA: University of California, School of Information and Computer Science.\n",
    "\n",
    "Data Set name: Census Income Data Set\n",
    "Dataset URL: ./https://archive.ics.uci.edu/ml/datasets/Census+Income/.\n",
    "Data Set Abstract: \"Predict whether income exceeds $50K/yr based on census data. Also known as \"Adult\" dataset.\" (Kohavi, 1996)"
   ]
  },
  {
   "cell_type": "code",
   "execution_count": 31,
   "metadata": {},
   "outputs": [
    {
     "data": {
      "text/plain": [
       "pandas.core.frame.DataFrame"
      ]
     },
     "execution_count": 31,
     "metadata": {},
     "output_type": "execute_result"
    }
   ],
   "source": [
    "type(df)"
   ]
  },
  {
   "cell_type": "code",
   "execution_count": 32,
   "metadata": {},
   "outputs": [
    {
     "name": "stdout",
     "output_type": "stream",
     "text": [
      "<class 'pandas.core.frame.DataFrame'>\n",
      "RangeIndex: 32561 entries, 0 to 32560\n",
      "Data columns (total 14 columns):\n",
      " #   Column          Non-Null Count  Dtype \n",
      "---  ------          --------------  ----- \n",
      " 0   age             32561 non-null  int64 \n",
      " 1   workclass       32561 non-null  object\n",
      " 2   fnlwgt          32561 non-null  int64 \n",
      " 3   education       32561 non-null  object\n",
      " 4   education-num   32561 non-null  int64 \n",
      " 5   marital-status  32561 non-null  object\n",
      " 6   occupation      32561 non-null  object\n",
      " 7   relationship    32561 non-null  object\n",
      " 8   race            32561 non-null  object\n",
      " 9   sex             32561 non-null  object\n",
      " 10  capital-gain    32561 non-null  int64 \n",
      " 11  capital-loss    32561 non-null  int64 \n",
      " 12  hours-per-week  32561 non-null  int64 \n",
      " 13  native-country  32561 non-null  object\n",
      "dtypes: int64(6), object(8)\n",
      "memory usage: 3.5+ MB\n"
     ]
    }
   ],
   "source": [
    "df.info()"
   ]
  },
  {
   "cell_type": "markdown",
   "metadata": {},
   "source": [
    "I had to input the column names from the [adult_names.csv](adult_names.csv) \n",
    "\n",
    "**Continuous Variables:** age, fnlwage, education-num, capital gail, capital-loss, hours-per-week\n",
    "\n",
    "**Categorical Variables:** workclass, education,, marital-status, occupation, relationship, race, sex, native-country"
   ]
  },
  {
   "cell_type": "code",
   "execution_count": 33,
   "metadata": {},
   "outputs": [
    {
     "data": {
      "text/plain": [
       "(32561, 14)"
      ]
     },
     "execution_count": 33,
     "metadata": {},
     "output_type": "execute_result"
    }
   ],
   "source": [
    "df.shape"
   ]
  },
  {
   "cell_type": "markdown",
   "metadata": {},
   "source": [
    " ## 2. Data Cleaning\n",
    "       - Identify and handle missing values\n",
    "       - Identify and handle outliers"
   ]
  },
  {
   "cell_type": "markdown",
   "metadata": {},
   "source": [
    "Outliers <--- use set_index to create index row on dataset."
   ]
  },
  {
   "cell_type": "code",
   "execution_count": null,
   "metadata": {},
   "outputs": [],
   "source": []
  },
  {
   "cell_type": "markdown",
   "metadata": {},
   "source": [
    "  ## 3. Feature Selection\n",
    "       - Graphical visualization of features \n",
    "       - Examine the relationships within the dataset - using 2 different methods\n",
    "       - Reduction of the dimensionality of the dataset"
   ]
  },
  {
   "cell_type": "markdown",
   "metadata": {},
   "source": [
    "##   4. Insights and Findings\n",
    "       - Describe an insights and/or findings from within the datset."
   ]
  },
  {
   "cell_type": "markdown",
   "metadata": {},
   "source": [
    "##   5. Bonus: Feature Engineering\n",
    "       - Create a new feature based for findings."
   ]
  },
  {
   "cell_type": "markdown",
   "metadata": {
    "id": "enPpSmPCL_zB"
   },
   "source": [
    "# Deliverables:\n",
    "Upload your Jupyter Notebook to the corresponding location in WorldClass. Also, you will need to provide a copy of your dataset.\n",
    "\n",
    "**Note::** Make sure you have clearly indicated each assignment requirement within your notebook."
   ]
  },
  {
   "cell_type": "code",
   "execution_count": null,
   "metadata": {
    "id": "2Uk8BJ2YL_zC"
   },
   "outputs": [],
   "source": []
  }
 ],
 "metadata": {
  "colab": {
   "collapsed_sections": [],
   "name": "3_Assignment.ipynb",
   "provenance": [
    {
     "file_id": "1VeVhtWCSG5s4ifEP45hAy3Bk7ncEDG4Y",
     "timestamp": 1635818036098
    }
   ]
  },
  "kernelspec": {
   "display_name": "Python 3",
   "language": "python",
   "name": "python3"
  },
  "language_info": {
   "codemirror_mode": {
    "name": "ipython",
    "version": 3
   },
   "file_extension": ".py",
   "mimetype": "text/x-python",
   "name": "python",
   "nbconvert_exporter": "python",
   "pygments_lexer": "ipython3",
   "version": "3.8.8"
  }
 },
 "nbformat": 4,
 "nbformat_minor": 1
}
