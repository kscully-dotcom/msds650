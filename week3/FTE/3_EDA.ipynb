{
 "cells": [
  {
   "cell_type": "markdown",
   "metadata": {},
   "source": [
    "# Exploratory Data Analysis"
   ]
  },
  {
   "cell_type": "markdown",
   "metadata": {},
   "source": [
    "<img align=\"right\" style=\"padding-right:10px;\" src=\"figures_wk3/Data-Preparation-for-Machine-Learning.png\" width=200><br>\n",
    "\n",
    "\n",
    "It has been estimated that 75% or more of a Data Scientist's time is spent manipulating the data before any \"data science\" can even start. Exploratory Data Analysis (EDA) is the process of **getting to know your data**.\n",
    "\n",
    "Classical statistics tests hypotheses by fitting models that demonstrate relationships among the data. But what if you don't have a hypothesis?\n",
    "\n",
    "**Exploratory Data Analysis** helps uncover those relationships so you can form hypotheses. EDA is the first step in virtually every **machine learning** model you will build. \n",
    "\n",
    "**_Data Preparation for Machine Learning_** is a great ebook by \"machine learning specialist,\" Jason Brownlee. Even though the book does not explicitly state that it is teaching EDA, that is absolutely the purpose of the demonstrated techniques. \n",
    "\n",
    "\n",
    "We will be using the Palmer Penguins data set to demonstrate these concepts. The **Seaborn** graphing package can download and access the data from a repository on GitHub using its `load_dataset()` function. \n",
    "\n",
    "<img align=\"right\" style=\"padding-right:10px;\" src=\"figures_wk3/logo.png\" width=200><br>\n",
    "\n",
    "Reference:\n",
    "> Data Preparation for Machine Learning<br>\n",
    "> Jason Brownlee<br>\n",
    "> https://machinelearningmastery.com/data-preparation-for-machine-learning/\n",
    "\n",
    "\n",
    ">   Horst AM, Hill AP, Gorman KB (2020). palmerpenguins: Palmer<br>\n",
    ">   Archipelago (Antarctica) penguin data. R package version 0.1.0.<br>\n",
    ">   https://allisonhorst.github.io/palmerpenguins/. doi:<br>\n",
    ">   10.5281/zenodo.3960218.<br>"
   ]
  },
  {
   "cell_type": "markdown",
   "metadata": {},
   "source": [
    "## The Bad News"
   ]
  },
  {
   "cell_type": "markdown",
   "metadata": {},
   "source": [
    "EDA is as much art as it is science. The steps you take will depend as much on the data set and your end goal as any set of predefined recipe-like steps I can give you. All I can do is give you an introduction and encourage you to **continue to study the topic on your own**. "
   ]
  },
  {
   "cell_type": "markdown",
   "metadata": {
    "tags": []
   },
   "source": [
    "## The Good News"
   ]
  },
  {
   "cell_type": "markdown",
   "metadata": {},
   "source": [
    "The good news is that there are several tasks that you will need to do with every data set. Jason Brownlee gives us a basic framework for data preparation or EDA:\n",
    "\n",
    "* **Data Cleaning**: Finding and fixing errors and problems in the data (outliers, missing data, etc.)<br>\n",
    "* **Feature Selection**: Identifying the relationships between variables and their importance in the task.<br>\n",
    "* **Data Transforms**: Change the scale or distribution of the numbers in a variable.<br>\n",
    "* **Feature Engineering**: Creating new variables from existing variables.<br>\n",
    "* **Dimensionality Reduction**: \"Compacting\" several variables down into a smaller number of variables (i.e. 10 variables down to 3 for easier graphing).<br>\n",
    "\n",
    "Graphically, that looks something like this:<br>\n",
    "\n",
    "<table>\n",
    "    <tr>\n",
    "        <td><img style=\"padding-right:10px;\" src=\"figures_wk3/Data_cleaning_overview.png\"></td>\n",
    "        <td><img style=\"padding-right:10px;\" src=\"figures_wk3/Feature_selection_overview.png\"></td>\n",
    "        <td><img style=\"padding-right:10px;\" src=\"figures_wk3/Data_variable_overview.png\"></td>\n",
    "    </tr>\n",
    "</table>\n",
    "    "
   ]
  },
  {
   "cell_type": "markdown",
   "metadata": {},
   "source": [
    "# Data Cleaning"
   ]
  },
  {
   "cell_type": "markdown",
   "metadata": {},
   "source": [
    "Data cleaning is where you will find and handle missing values, look for outliers, detect duplicate rows, check to make sure columns have enough variance, etc.\n",
    "\n",
    "Let's demonstrate these ideas with the data set. "
   ]
  },
  {
   "cell_type": "markdown",
   "metadata": {},
   "source": [
    "## Libraries and Data"
   ]
  },
  {
   "cell_type": "code",
   "execution_count": 1,
   "metadata": {
    "execution": {
     "iopub.execute_input": "2021-06-25T18:53:38.135307Z",
     "iopub.status.busy": "2021-06-25T18:53:38.135007Z",
     "iopub.status.idle": "2021-06-25T18:53:40.020816Z",
     "shell.execute_reply": "2021-06-25T18:53:40.020060Z",
     "shell.execute_reply.started": "2021-06-25T18:53:38.135234Z"
    }
   },
   "outputs": [],
   "source": [
    "import pandas as pd\n",
    "import numpy as np\n",
    "import matplotlib.pyplot as plt\n",
    "import seaborn as sns\n",
    "\n",
    "%matplotlib inline\n",
    "\n",
    "# Makes graphics look better\n",
    "sns.set() "
   ]
  },
  {
   "cell_type": "markdown",
   "metadata": {},
   "source": [
    "The Palmer Penguins data set is one of the Seaborn \"built-in\" data sets. That is, a dataset stored in a special GitHub repository that Seaborn knows how to access."
   ]
  },
  {
   "cell_type": "code",
   "execution_count": 2,
   "metadata": {
    "execution": {
     "iopub.execute_input": "2021-06-25T18:53:40.021815Z",
     "iopub.status.busy": "2021-06-25T18:53:40.021655Z",
     "iopub.status.idle": "2021-06-25T18:53:40.164463Z",
     "shell.execute_reply": "2021-06-25T18:53:40.163783Z",
     "shell.execute_reply.started": "2021-06-25T18:53:40.021794Z"
    },
    "tags": []
   },
   "outputs": [],
   "source": [
    "penguins = sns.load_dataset('penguins')"
   ]
  },
  {
   "cell_type": "markdown",
   "metadata": {},
   "source": [
    "<img style=\"padding-right:10px;\" src=\"figures_wk3/lter_penguins.png\" width=\"600\"><br>\n",
    "\n",
    "First of all, I don't know exactly what kind of variable the data was loaded into. Let's check. "
   ]
  },
  {
   "cell_type": "code",
   "execution_count": 3,
   "metadata": {
    "execution": {
     "iopub.execute_input": "2021-06-25T18:53:40.166050Z",
     "iopub.status.busy": "2021-06-25T18:53:40.165820Z",
     "iopub.status.idle": "2021-06-25T18:53:40.175148Z",
     "shell.execute_reply": "2021-06-25T18:53:40.174494Z",
     "shell.execute_reply.started": "2021-06-25T18:53:40.166011Z"
    }
   },
   "outputs": [
    {
     "data": {
      "text/plain": [
       "pandas.core.frame.DataFrame"
      ]
     },
     "execution_count": 3,
     "metadata": {},
     "output_type": "execute_result"
    }
   ],
   "source": [
    "type(penguins)"
   ]
  },
  {
   "cell_type": "markdown",
   "metadata": {},
   "source": [
    "Great! Its a Pandas dataframe. \n",
    "\n",
    "Now, let's see the size."
   ]
  },
  {
   "cell_type": "code",
   "execution_count": 4,
   "metadata": {
    "execution": {
     "iopub.execute_input": "2021-06-25T18:53:40.176319Z",
     "iopub.status.busy": "2021-06-25T18:53:40.176133Z",
     "iopub.status.idle": "2021-06-25T18:53:40.251226Z",
     "shell.execute_reply": "2021-06-25T18:53:40.250697Z",
     "shell.execute_reply.started": "2021-06-25T18:53:40.176296Z"
    },
    "tags": []
   },
   "outputs": [
    {
     "data": {
      "text/plain": [
       "(344, 7)"
      ]
     },
     "execution_count": 4,
     "metadata": {},
     "output_type": "execute_result"
    }
   ],
   "source": [
    "penguins.shape"
   ]
  },
  {
   "cell_type": "markdown",
   "metadata": {},
   "source": [
    "344 rows by 7 columns. \n",
    "\n",
    "Let's look at the first few rows."
   ]
  },
  {
   "cell_type": "code",
   "execution_count": 5,
   "metadata": {
    "execution": {
     "iopub.execute_input": "2021-06-25T18:53:40.252676Z",
     "iopub.status.busy": "2021-06-25T18:53:40.252476Z",
     "iopub.status.idle": "2021-06-25T18:53:40.424967Z",
     "shell.execute_reply": "2021-06-25T18:53:40.424449Z",
     "shell.execute_reply.started": "2021-06-25T18:53:40.252649Z"
    }
   },
   "outputs": [
    {
     "data": {
      "text/html": [
       "<div>\n",
       "<style scoped>\n",
       "    .dataframe tbody tr th:only-of-type {\n",
       "        vertical-align: middle;\n",
       "    }\n",
       "\n",
       "    .dataframe tbody tr th {\n",
       "        vertical-align: top;\n",
       "    }\n",
       "\n",
       "    .dataframe thead th {\n",
       "        text-align: right;\n",
       "    }\n",
       "</style>\n",
       "<table border=\"1\" class=\"dataframe\">\n",
       "  <thead>\n",
       "    <tr style=\"text-align: right;\">\n",
       "      <th></th>\n",
       "      <th>species</th>\n",
       "      <th>island</th>\n",
       "      <th>bill_length_mm</th>\n",
       "      <th>bill_depth_mm</th>\n",
       "      <th>flipper_length_mm</th>\n",
       "      <th>body_mass_g</th>\n",
       "      <th>sex</th>\n",
       "    </tr>\n",
       "  </thead>\n",
       "  <tbody>\n",
       "    <tr>\n",
       "      <th>0</th>\n",
       "      <td>Adelie</td>\n",
       "      <td>Torgersen</td>\n",
       "      <td>39.1</td>\n",
       "      <td>18.7</td>\n",
       "      <td>181.0</td>\n",
       "      <td>3750.0</td>\n",
       "      <td>Male</td>\n",
       "    </tr>\n",
       "    <tr>\n",
       "      <th>1</th>\n",
       "      <td>Adelie</td>\n",
       "      <td>Torgersen</td>\n",
       "      <td>39.5</td>\n",
       "      <td>17.4</td>\n",
       "      <td>186.0</td>\n",
       "      <td>3800.0</td>\n",
       "      <td>Female</td>\n",
       "    </tr>\n",
       "    <tr>\n",
       "      <th>2</th>\n",
       "      <td>Adelie</td>\n",
       "      <td>Torgersen</td>\n",
       "      <td>40.3</td>\n",
       "      <td>18.0</td>\n",
       "      <td>195.0</td>\n",
       "      <td>3250.0</td>\n",
       "      <td>Female</td>\n",
       "    </tr>\n",
       "    <tr>\n",
       "      <th>3</th>\n",
       "      <td>Adelie</td>\n",
       "      <td>Torgersen</td>\n",
       "      <td>NaN</td>\n",
       "      <td>NaN</td>\n",
       "      <td>NaN</td>\n",
       "      <td>NaN</td>\n",
       "      <td>NaN</td>\n",
       "    </tr>\n",
       "    <tr>\n",
       "      <th>4</th>\n",
       "      <td>Adelie</td>\n",
       "      <td>Torgersen</td>\n",
       "      <td>36.7</td>\n",
       "      <td>19.3</td>\n",
       "      <td>193.0</td>\n",
       "      <td>3450.0</td>\n",
       "      <td>Female</td>\n",
       "    </tr>\n",
       "  </tbody>\n",
       "</table>\n",
       "</div>"
      ],
      "text/plain": [
       "  species     island  bill_length_mm  bill_depth_mm  flipper_length_mm  \\\n",
       "0  Adelie  Torgersen            39.1           18.7              181.0   \n",
       "1  Adelie  Torgersen            39.5           17.4              186.0   \n",
       "2  Adelie  Torgersen            40.3           18.0              195.0   \n",
       "3  Adelie  Torgersen             NaN            NaN                NaN   \n",
       "4  Adelie  Torgersen            36.7           19.3              193.0   \n",
       "\n",
       "   body_mass_g     sex  \n",
       "0       3750.0    Male  \n",
       "1       3800.0  Female  \n",
       "2       3250.0  Female  \n",
       "3          NaN     NaN  \n",
       "4       3450.0  Female  "
      ]
     },
     "execution_count": 5,
     "metadata": {},
     "output_type": "execute_result"
    }
   ],
   "source": [
    "penguins.head()"
   ]
  },
  {
   "cell_type": "markdown",
   "metadata": {},
   "source": [
    "<img style=\"padding-right:10px;\" src=\"figures_wk3/culmen_depth.png\" width=\"600\"><br>"
   ]
  },
  {
   "cell_type": "code",
   "execution_count": 6,
   "metadata": {
    "execution": {
     "iopub.execute_input": "2021-06-25T18:53:40.425705Z",
     "iopub.status.busy": "2021-06-25T18:53:40.425594Z",
     "iopub.status.idle": "2021-06-25T18:53:40.476871Z",
     "shell.execute_reply": "2021-06-25T18:53:40.476285Z",
     "shell.execute_reply.started": "2021-06-25T18:53:40.425689Z"
    }
   },
   "outputs": [
    {
     "name": "stdout",
     "output_type": "stream",
     "text": [
      "<class 'pandas.core.frame.DataFrame'>\n",
      "RangeIndex: 344 entries, 0 to 343\n",
      "Data columns (total 7 columns):\n",
      " #   Column             Non-Null Count  Dtype  \n",
      "---  ------             --------------  -----  \n",
      " 0   species            344 non-null    object \n",
      " 1   island             344 non-null    object \n",
      " 2   bill_length_mm     342 non-null    float64\n",
      " 3   bill_depth_mm      342 non-null    float64\n",
      " 4   flipper_length_mm  342 non-null    float64\n",
      " 5   body_mass_g        342 non-null    float64\n",
      " 6   sex                333 non-null    object \n",
      "dtypes: float64(4), object(3)\n",
      "memory usage: 18.9+ KB\n"
     ]
    }
   ],
   "source": [
    "penguins.info()"
   ]
  },
  {
   "cell_type": "markdown",
   "metadata": {},
   "source": [
    "As you can see, the `info()` function tells us how many rows we have, how many non-null in each row, and data type for each row. \n",
    "\n",
    "Let's look at some more summary statistics, then we can sort out the missing categorical data. "
   ]
  },
  {
   "cell_type": "code",
   "execution_count": 7,
   "metadata": {
    "execution": {
     "iopub.execute_input": "2021-06-25T18:53:50.590514Z",
     "iopub.status.busy": "2021-06-25T18:53:50.590247Z",
     "iopub.status.idle": "2021-06-25T18:53:50.626325Z",
     "shell.execute_reply": "2021-06-25T18:53:50.625926Z",
     "shell.execute_reply.started": "2021-06-25T18:53:50.590484Z"
    }
   },
   "outputs": [
    {
     "data": {
      "text/html": [
       "<div>\n",
       "<style scoped>\n",
       "    .dataframe tbody tr th:only-of-type {\n",
       "        vertical-align: middle;\n",
       "    }\n",
       "\n",
       "    .dataframe tbody tr th {\n",
       "        vertical-align: top;\n",
       "    }\n",
       "\n",
       "    .dataframe thead th {\n",
       "        text-align: right;\n",
       "    }\n",
       "</style>\n",
       "<table border=\"1\" class=\"dataframe\">\n",
       "  <thead>\n",
       "    <tr style=\"text-align: right;\">\n",
       "      <th></th>\n",
       "      <th>bill_length_mm</th>\n",
       "      <th>bill_depth_mm</th>\n",
       "      <th>flipper_length_mm</th>\n",
       "      <th>body_mass_g</th>\n",
       "    </tr>\n",
       "  </thead>\n",
       "  <tbody>\n",
       "    <tr>\n",
       "      <th>count</th>\n",
       "      <td>342.000000</td>\n",
       "      <td>342.000000</td>\n",
       "      <td>342.000000</td>\n",
       "      <td>342.000000</td>\n",
       "    </tr>\n",
       "    <tr>\n",
       "      <th>mean</th>\n",
       "      <td>43.921930</td>\n",
       "      <td>17.151170</td>\n",
       "      <td>200.915205</td>\n",
       "      <td>4201.754386</td>\n",
       "    </tr>\n",
       "    <tr>\n",
       "      <th>std</th>\n",
       "      <td>5.459584</td>\n",
       "      <td>1.974793</td>\n",
       "      <td>14.061714</td>\n",
       "      <td>801.954536</td>\n",
       "    </tr>\n",
       "    <tr>\n",
       "      <th>min</th>\n",
       "      <td>32.100000</td>\n",
       "      <td>13.100000</td>\n",
       "      <td>172.000000</td>\n",
       "      <td>2700.000000</td>\n",
       "    </tr>\n",
       "    <tr>\n",
       "      <th>25%</th>\n",
       "      <td>39.225000</td>\n",
       "      <td>15.600000</td>\n",
       "      <td>190.000000</td>\n",
       "      <td>3550.000000</td>\n",
       "    </tr>\n",
       "    <tr>\n",
       "      <th>50%</th>\n",
       "      <td>44.450000</td>\n",
       "      <td>17.300000</td>\n",
       "      <td>197.000000</td>\n",
       "      <td>4050.000000</td>\n",
       "    </tr>\n",
       "    <tr>\n",
       "      <th>75%</th>\n",
       "      <td>48.500000</td>\n",
       "      <td>18.700000</td>\n",
       "      <td>213.000000</td>\n",
       "      <td>4750.000000</td>\n",
       "    </tr>\n",
       "    <tr>\n",
       "      <th>max</th>\n",
       "      <td>59.600000</td>\n",
       "      <td>21.500000</td>\n",
       "      <td>231.000000</td>\n",
       "      <td>6300.000000</td>\n",
       "    </tr>\n",
       "  </tbody>\n",
       "</table>\n",
       "</div>"
      ],
      "text/plain": [
       "       bill_length_mm  bill_depth_mm  flipper_length_mm  body_mass_g\n",
       "count      342.000000     342.000000         342.000000   342.000000\n",
       "mean        43.921930      17.151170         200.915205  4201.754386\n",
       "std          5.459584       1.974793          14.061714   801.954536\n",
       "min         32.100000      13.100000         172.000000  2700.000000\n",
       "25%         39.225000      15.600000         190.000000  3550.000000\n",
       "50%         44.450000      17.300000         197.000000  4050.000000\n",
       "75%         48.500000      18.700000         213.000000  4750.000000\n",
       "max         59.600000      21.500000         231.000000  6300.000000"
      ]
     },
     "execution_count": 7,
     "metadata": {},
     "output_type": "execute_result"
    }
   ],
   "source": [
    "penguins.describe()"
   ]
  },
  {
   "cell_type": "markdown",
   "metadata": {},
   "source": [
    "You can also rotate that display for easier reading:"
   ]
  },
  {
   "cell_type": "code",
   "execution_count": 8,
   "metadata": {
    "execution": {
     "iopub.execute_input": "2021-06-25T18:54:50.188050Z",
     "iopub.status.busy": "2021-06-25T18:54:50.187788Z",
     "iopub.status.idle": "2021-06-25T18:54:50.208262Z",
     "shell.execute_reply": "2021-06-25T18:54:50.207807Z",
     "shell.execute_reply.started": "2021-06-25T18:54:50.188021Z"
    }
   },
   "outputs": [
    {
     "data": {
      "text/html": [
       "<div>\n",
       "<style scoped>\n",
       "    .dataframe tbody tr th:only-of-type {\n",
       "        vertical-align: middle;\n",
       "    }\n",
       "\n",
       "    .dataframe tbody tr th {\n",
       "        vertical-align: top;\n",
       "    }\n",
       "\n",
       "    .dataframe thead th {\n",
       "        text-align: right;\n",
       "    }\n",
       "</style>\n",
       "<table border=\"1\" class=\"dataframe\">\n",
       "  <thead>\n",
       "    <tr style=\"text-align: right;\">\n",
       "      <th></th>\n",
       "      <th>count</th>\n",
       "      <th>mean</th>\n",
       "      <th>std</th>\n",
       "      <th>min</th>\n",
       "      <th>25%</th>\n",
       "      <th>50%</th>\n",
       "      <th>75%</th>\n",
       "      <th>max</th>\n",
       "    </tr>\n",
       "  </thead>\n",
       "  <tbody>\n",
       "    <tr>\n",
       "      <th>bill_length_mm</th>\n",
       "      <td>342.0</td>\n",
       "      <td>43.921930</td>\n",
       "      <td>5.459584</td>\n",
       "      <td>32.1</td>\n",
       "      <td>39.225</td>\n",
       "      <td>44.45</td>\n",
       "      <td>48.5</td>\n",
       "      <td>59.6</td>\n",
       "    </tr>\n",
       "    <tr>\n",
       "      <th>bill_depth_mm</th>\n",
       "      <td>342.0</td>\n",
       "      <td>17.151170</td>\n",
       "      <td>1.974793</td>\n",
       "      <td>13.1</td>\n",
       "      <td>15.600</td>\n",
       "      <td>17.30</td>\n",
       "      <td>18.7</td>\n",
       "      <td>21.5</td>\n",
       "    </tr>\n",
       "    <tr>\n",
       "      <th>flipper_length_mm</th>\n",
       "      <td>342.0</td>\n",
       "      <td>200.915205</td>\n",
       "      <td>14.061714</td>\n",
       "      <td>172.0</td>\n",
       "      <td>190.000</td>\n",
       "      <td>197.00</td>\n",
       "      <td>213.0</td>\n",
       "      <td>231.0</td>\n",
       "    </tr>\n",
       "    <tr>\n",
       "      <th>body_mass_g</th>\n",
       "      <td>342.0</td>\n",
       "      <td>4201.754386</td>\n",
       "      <td>801.954536</td>\n",
       "      <td>2700.0</td>\n",
       "      <td>3550.000</td>\n",
       "      <td>4050.00</td>\n",
       "      <td>4750.0</td>\n",
       "      <td>6300.0</td>\n",
       "    </tr>\n",
       "  </tbody>\n",
       "</table>\n",
       "</div>"
      ],
      "text/plain": [
       "                   count         mean         std     min       25%      50%  \\\n",
       "bill_length_mm     342.0    43.921930    5.459584    32.1    39.225    44.45   \n",
       "bill_depth_mm      342.0    17.151170    1.974793    13.1    15.600    17.30   \n",
       "flipper_length_mm  342.0   200.915205   14.061714   172.0   190.000   197.00   \n",
       "body_mass_g        342.0  4201.754386  801.954536  2700.0  3550.000  4050.00   \n",
       "\n",
       "                      75%     max  \n",
       "bill_length_mm       48.5    59.6  \n",
       "bill_depth_mm        18.7    21.5  \n",
       "flipper_length_mm   213.0   231.0  \n",
       "body_mass_g        4750.0  6300.0  "
      ]
     },
     "execution_count": 8,
     "metadata": {},
     "output_type": "execute_result"
    }
   ],
   "source": [
    "penguins.describe().T"
   ]
  },
  {
   "cell_type": "markdown",
   "metadata": {},
   "source": [
    "The \"T\" means \"transform\" -- in this case, swap rows and columns.\n",
    "\n",
    "We will look at this data graphically in a few minutes."
   ]
  },
  {
   "cell_type": "markdown",
   "metadata": {},
   "source": [
    "## Missing Data"
   ]
  },
  {
   "cell_type": "markdown",
   "metadata": {},
   "source": [
    "Looking at the first 5 rows above, we see one row where almost all the data is missing. Row 3 simply has the species and island filled out. That row probably won't contribute much to analysis and we could **drop it**. BUT, we need to be careful -- there are many ways to deal with missing data, and dropping rows is the sledgehammer approach. **Dropping rows should probably _NOT_ be the first tool you reach for.**"
   ]
  },
  {
   "cell_type": "code",
   "execution_count": 9,
   "metadata": {
    "execution": {
     "iopub.execute_input": "2021-06-25T19:08:14.507530Z",
     "iopub.status.busy": "2021-06-25T19:08:14.507305Z",
     "iopub.status.idle": "2021-06-25T19:08:14.524187Z",
     "shell.execute_reply": "2021-06-25T19:08:14.523638Z",
     "shell.execute_reply.started": "2021-06-25T19:08:14.507508Z"
    },
    "tags": []
   },
   "outputs": [
    {
     "data": {
      "text/html": [
       "<div>\n",
       "<style scoped>\n",
       "    .dataframe tbody tr th:only-of-type {\n",
       "        vertical-align: middle;\n",
       "    }\n",
       "\n",
       "    .dataframe tbody tr th {\n",
       "        vertical-align: top;\n",
       "    }\n",
       "\n",
       "    .dataframe thead th {\n",
       "        text-align: right;\n",
       "    }\n",
       "</style>\n",
       "<table border=\"1\" class=\"dataframe\">\n",
       "  <thead>\n",
       "    <tr style=\"text-align: right;\">\n",
       "      <th></th>\n",
       "      <th>species</th>\n",
       "      <th>island</th>\n",
       "      <th>bill_length_mm</th>\n",
       "      <th>bill_depth_mm</th>\n",
       "      <th>flipper_length_mm</th>\n",
       "      <th>body_mass_g</th>\n",
       "      <th>sex</th>\n",
       "    </tr>\n",
       "  </thead>\n",
       "  <tbody>\n",
       "    <tr>\n",
       "      <th>3</th>\n",
       "      <td>Adelie</td>\n",
       "      <td>Torgersen</td>\n",
       "      <td>NaN</td>\n",
       "      <td>NaN</td>\n",
       "      <td>NaN</td>\n",
       "      <td>NaN</td>\n",
       "      <td>NaN</td>\n",
       "    </tr>\n",
       "    <tr>\n",
       "      <th>8</th>\n",
       "      <td>Adelie</td>\n",
       "      <td>Torgersen</td>\n",
       "      <td>34.1</td>\n",
       "      <td>18.1</td>\n",
       "      <td>193.0</td>\n",
       "      <td>3475.0</td>\n",
       "      <td>NaN</td>\n",
       "    </tr>\n",
       "    <tr>\n",
       "      <th>9</th>\n",
       "      <td>Adelie</td>\n",
       "      <td>Torgersen</td>\n",
       "      <td>42.0</td>\n",
       "      <td>20.2</td>\n",
       "      <td>190.0</td>\n",
       "      <td>4250.0</td>\n",
       "      <td>NaN</td>\n",
       "    </tr>\n",
       "    <tr>\n",
       "      <th>10</th>\n",
       "      <td>Adelie</td>\n",
       "      <td>Torgersen</td>\n",
       "      <td>37.8</td>\n",
       "      <td>17.1</td>\n",
       "      <td>186.0</td>\n",
       "      <td>3300.0</td>\n",
       "      <td>NaN</td>\n",
       "    </tr>\n",
       "    <tr>\n",
       "      <th>11</th>\n",
       "      <td>Adelie</td>\n",
       "      <td>Torgersen</td>\n",
       "      <td>37.8</td>\n",
       "      <td>17.3</td>\n",
       "      <td>180.0</td>\n",
       "      <td>3700.0</td>\n",
       "      <td>NaN</td>\n",
       "    </tr>\n",
       "    <tr>\n",
       "      <th>47</th>\n",
       "      <td>Adelie</td>\n",
       "      <td>Dream</td>\n",
       "      <td>37.5</td>\n",
       "      <td>18.9</td>\n",
       "      <td>179.0</td>\n",
       "      <td>2975.0</td>\n",
       "      <td>NaN</td>\n",
       "    </tr>\n",
       "    <tr>\n",
       "      <th>246</th>\n",
       "      <td>Gentoo</td>\n",
       "      <td>Biscoe</td>\n",
       "      <td>44.5</td>\n",
       "      <td>14.3</td>\n",
       "      <td>216.0</td>\n",
       "      <td>4100.0</td>\n",
       "      <td>NaN</td>\n",
       "    </tr>\n",
       "    <tr>\n",
       "      <th>286</th>\n",
       "      <td>Gentoo</td>\n",
       "      <td>Biscoe</td>\n",
       "      <td>46.2</td>\n",
       "      <td>14.4</td>\n",
       "      <td>214.0</td>\n",
       "      <td>4650.0</td>\n",
       "      <td>NaN</td>\n",
       "    </tr>\n",
       "    <tr>\n",
       "      <th>324</th>\n",
       "      <td>Gentoo</td>\n",
       "      <td>Biscoe</td>\n",
       "      <td>47.3</td>\n",
       "      <td>13.8</td>\n",
       "      <td>216.0</td>\n",
       "      <td>4725.0</td>\n",
       "      <td>NaN</td>\n",
       "    </tr>\n",
       "    <tr>\n",
       "      <th>336</th>\n",
       "      <td>Gentoo</td>\n",
       "      <td>Biscoe</td>\n",
       "      <td>44.5</td>\n",
       "      <td>15.7</td>\n",
       "      <td>217.0</td>\n",
       "      <td>4875.0</td>\n",
       "      <td>NaN</td>\n",
       "    </tr>\n",
       "    <tr>\n",
       "      <th>339</th>\n",
       "      <td>Gentoo</td>\n",
       "      <td>Biscoe</td>\n",
       "      <td>NaN</td>\n",
       "      <td>NaN</td>\n",
       "      <td>NaN</td>\n",
       "      <td>NaN</td>\n",
       "      <td>NaN</td>\n",
       "    </tr>\n",
       "  </tbody>\n",
       "</table>\n",
       "</div>"
      ],
      "text/plain": [
       "    species     island  bill_length_mm  bill_depth_mm  flipper_length_mm  \\\n",
       "3    Adelie  Torgersen             NaN            NaN                NaN   \n",
       "8    Adelie  Torgersen            34.1           18.1              193.0   \n",
       "9    Adelie  Torgersen            42.0           20.2              190.0   \n",
       "10   Adelie  Torgersen            37.8           17.1              186.0   \n",
       "11   Adelie  Torgersen            37.8           17.3              180.0   \n",
       "47   Adelie      Dream            37.5           18.9              179.0   \n",
       "246  Gentoo     Biscoe            44.5           14.3              216.0   \n",
       "286  Gentoo     Biscoe            46.2           14.4              214.0   \n",
       "324  Gentoo     Biscoe            47.3           13.8              216.0   \n",
       "336  Gentoo     Biscoe            44.5           15.7              217.0   \n",
       "339  Gentoo     Biscoe             NaN            NaN                NaN   \n",
       "\n",
       "     body_mass_g  sex  \n",
       "3            NaN  NaN  \n",
       "8         3475.0  NaN  \n",
       "9         4250.0  NaN  \n",
       "10        3300.0  NaN  \n",
       "11        3700.0  NaN  \n",
       "47        2975.0  NaN  \n",
       "246       4100.0  NaN  \n",
       "286       4650.0  NaN  \n",
       "324       4725.0  NaN  \n",
       "336       4875.0  NaN  \n",
       "339          NaN  NaN  "
      ]
     },
     "execution_count": 9,
     "metadata": {},
     "output_type": "execute_result"
    }
   ],
   "source": [
    "penguins[penguins.isnull().values.any(axis=1)]"
   ]
  },
  {
   "cell_type": "markdown",
   "metadata": {},
   "source": [
    "As you can see, there are only 2 rows missing all data. The others only have sex data missing, **which can be inferred**. \n",
    "\n",
    "Another way to look at NaNs:"
   ]
  },
  {
   "cell_type": "code",
   "execution_count": 10,
   "metadata": {
    "execution": {
     "iopub.execute_input": "2021-06-25T19:08:16.072135Z",
     "iopub.status.busy": "2021-06-25T19:08:16.071859Z",
     "iopub.status.idle": "2021-06-25T19:08:16.078484Z",
     "shell.execute_reply": "2021-06-25T19:08:16.077953Z",
     "shell.execute_reply.started": "2021-06-25T19:08:16.072106Z"
    },
    "tags": []
   },
   "outputs": [
    {
     "data": {
      "text/plain": [
       "species               0\n",
       "island                0\n",
       "bill_length_mm        2\n",
       "bill_depth_mm         2\n",
       "flipper_length_mm     2\n",
       "body_mass_g           2\n",
       "sex                  11\n",
       "dtype: int64"
      ]
     },
     "execution_count": 10,
     "metadata": {},
     "output_type": "execute_result"
    }
   ],
   "source": [
    "penguins.isnull().sum()"
   ]
  },
  {
   "cell_type": "markdown",
   "metadata": {},
   "source": [
    "First, let's get rid of the entries that do not have a weight -- we will do this by copying all rows that have a weight into a new (but same-named) dataframe."
   ]
  },
  {
   "cell_type": "code",
   "execution_count": 11,
   "metadata": {
    "execution": {
     "iopub.execute_input": "2021-06-25T19:08:18.976610Z",
     "iopub.status.busy": "2021-06-25T19:08:18.976340Z",
     "iopub.status.idle": "2021-06-25T19:08:18.988869Z",
     "shell.execute_reply": "2021-06-25T19:08:18.988076Z",
     "shell.execute_reply.started": "2021-06-25T19:08:18.976582Z"
    },
    "tags": []
   },
   "outputs": [
    {
     "name": "stdout",
     "output_type": "stream",
     "text": [
      "<class 'pandas.core.frame.DataFrame'>\n",
      "Int64Index: 342 entries, 0 to 343\n",
      "Data columns (total 7 columns):\n",
      " #   Column             Non-Null Count  Dtype  \n",
      "---  ------             --------------  -----  \n",
      " 0   species            342 non-null    object \n",
      " 1   island             342 non-null    object \n",
      " 2   bill_length_mm     342 non-null    float64\n",
      " 3   bill_depth_mm      342 non-null    float64\n",
      " 4   flipper_length_mm  342 non-null    float64\n",
      " 5   body_mass_g        342 non-null    float64\n",
      " 6   sex                333 non-null    object \n",
      "dtypes: float64(4), object(3)\n",
      "memory usage: 21.4+ KB\n"
     ]
    }
   ],
   "source": [
    "penguins = penguins[penguins.body_mass_g.notna()]\n",
    "\n",
    "penguins.info()"
   ]
  },
  {
   "cell_type": "markdown",
   "metadata": {},
   "source": [
    "Notice that we immediately used `info()` to check and make sure we only dropped two rows.\n",
    "\n",
    "It looks like the 'sex' column is the only one that still has missing values. Let's figure out what the percentage of missing values is:"
   ]
  },
  {
   "cell_type": "code",
   "execution_count": 12,
   "metadata": {
    "execution": {
     "iopub.execute_input": "2021-06-25T19:08:20.497055Z",
     "iopub.status.busy": "2021-06-25T19:08:20.496789Z",
     "iopub.status.idle": "2021-06-25T19:08:20.501771Z",
     "shell.execute_reply": "2021-06-25T19:08:20.501301Z",
     "shell.execute_reply.started": "2021-06-25T19:08:20.497025Z"
    },
    "tags": []
   },
   "outputs": [
    {
     "data": {
      "text/plain": [
       "9"
      ]
     },
     "execution_count": 12,
     "metadata": {},
     "output_type": "execute_result"
    }
   ],
   "source": [
    "penguins.sex.isnull().sum()"
   ]
  },
  {
   "cell_type": "code",
   "execution_count": 13,
   "metadata": {
    "execution": {
     "iopub.execute_input": "2021-06-25T19:08:21.608749Z",
     "iopub.status.busy": "2021-06-25T19:08:21.608523Z",
     "iopub.status.idle": "2021-06-25T19:08:21.613509Z",
     "shell.execute_reply": "2021-06-25T19:08:21.613014Z",
     "shell.execute_reply.started": "2021-06-25T19:08:21.608727Z"
    },
    "tags": []
   },
   "outputs": [
    {
     "data": {
      "text/plain": [
       "2.631578947368421"
      ]
     },
     "execution_count": 13,
     "metadata": {},
     "output_type": "execute_result"
    }
   ],
   "source": [
    "penguins.sex.isnull().sum() / penguins.shape[0] * 100"
   ]
  },
  {
   "cell_type": "markdown",
   "metadata": {},
   "source": [
    "Only about 2.6% of the values in the 'sex' column are missing. There are various ways we could take care of these values:\n",
    "\n",
    "1. As mentioned, we could drop these rows.\n",
    "2. We could use one of Scikit-learn's imputer functions to figure out a value for us.\n",
    "3. We could use the average (numerical) or the most frequent value (category)\n",
    "4. **We could use machine learning to guess the values.**\n",
    "\n",
    "\\#4 is interesting -- if we consider our column with missing data as being our target, and columns that have data as being our predictor variables, then we can construct a machine learning model using complete records as the train and test data and records with incomplete entries as our general target. \n",
    "\n",
    "Let's try it:\n",
    "\n",
    "\n",
    "First, we have to make sure our target column has only \"Male\", \"Female\", and \" \". "
   ]
  },
  {
   "cell_type": "code",
   "execution_count": 14,
   "metadata": {
    "execution": {
     "iopub.execute_input": "2021-06-25T19:08:23.136721Z",
     "iopub.status.busy": "2021-06-25T19:08:23.136498Z",
     "iopub.status.idle": "2021-06-25T19:08:23.150832Z",
     "shell.execute_reply": "2021-06-25T19:08:23.150330Z",
     "shell.execute_reply.started": "2021-06-25T19:08:23.136700Z"
    },
    "tags": []
   },
   "outputs": [
    {
     "data": {
      "text/html": [
       "<div>\n",
       "<style scoped>\n",
       "    .dataframe tbody tr th:only-of-type {\n",
       "        vertical-align: middle;\n",
       "    }\n",
       "\n",
       "    .dataframe tbody tr th {\n",
       "        vertical-align: top;\n",
       "    }\n",
       "\n",
       "    .dataframe thead th {\n",
       "        text-align: right;\n",
       "    }\n",
       "</style>\n",
       "<table border=\"1\" class=\"dataframe\">\n",
       "  <thead>\n",
       "    <tr style=\"text-align: right;\">\n",
       "      <th></th>\n",
       "      <th>species</th>\n",
       "      <th>island</th>\n",
       "      <th>bill_length_mm</th>\n",
       "      <th>bill_depth_mm</th>\n",
       "      <th>flipper_length_mm</th>\n",
       "      <th>body_mass_g</th>\n",
       "      <th>sex</th>\n",
       "    </tr>\n",
       "  </thead>\n",
       "  <tbody>\n",
       "    <tr>\n",
       "      <th>8</th>\n",
       "      <td>Adelie</td>\n",
       "      <td>Torgersen</td>\n",
       "      <td>34.1</td>\n",
       "      <td>18.1</td>\n",
       "      <td>193.0</td>\n",
       "      <td>3475.0</td>\n",
       "      <td>NaN</td>\n",
       "    </tr>\n",
       "    <tr>\n",
       "      <th>9</th>\n",
       "      <td>Adelie</td>\n",
       "      <td>Torgersen</td>\n",
       "      <td>42.0</td>\n",
       "      <td>20.2</td>\n",
       "      <td>190.0</td>\n",
       "      <td>4250.0</td>\n",
       "      <td>NaN</td>\n",
       "    </tr>\n",
       "    <tr>\n",
       "      <th>10</th>\n",
       "      <td>Adelie</td>\n",
       "      <td>Torgersen</td>\n",
       "      <td>37.8</td>\n",
       "      <td>17.1</td>\n",
       "      <td>186.0</td>\n",
       "      <td>3300.0</td>\n",
       "      <td>NaN</td>\n",
       "    </tr>\n",
       "    <tr>\n",
       "      <th>11</th>\n",
       "      <td>Adelie</td>\n",
       "      <td>Torgersen</td>\n",
       "      <td>37.8</td>\n",
       "      <td>17.3</td>\n",
       "      <td>180.0</td>\n",
       "      <td>3700.0</td>\n",
       "      <td>NaN</td>\n",
       "    </tr>\n",
       "    <tr>\n",
       "      <th>47</th>\n",
       "      <td>Adelie</td>\n",
       "      <td>Dream</td>\n",
       "      <td>37.5</td>\n",
       "      <td>18.9</td>\n",
       "      <td>179.0</td>\n",
       "      <td>2975.0</td>\n",
       "      <td>NaN</td>\n",
       "    </tr>\n",
       "    <tr>\n",
       "      <th>246</th>\n",
       "      <td>Gentoo</td>\n",
       "      <td>Biscoe</td>\n",
       "      <td>44.5</td>\n",
       "      <td>14.3</td>\n",
       "      <td>216.0</td>\n",
       "      <td>4100.0</td>\n",
       "      <td>NaN</td>\n",
       "    </tr>\n",
       "    <tr>\n",
       "      <th>286</th>\n",
       "      <td>Gentoo</td>\n",
       "      <td>Biscoe</td>\n",
       "      <td>46.2</td>\n",
       "      <td>14.4</td>\n",
       "      <td>214.0</td>\n",
       "      <td>4650.0</td>\n",
       "      <td>NaN</td>\n",
       "    </tr>\n",
       "    <tr>\n",
       "      <th>324</th>\n",
       "      <td>Gentoo</td>\n",
       "      <td>Biscoe</td>\n",
       "      <td>47.3</td>\n",
       "      <td>13.8</td>\n",
       "      <td>216.0</td>\n",
       "      <td>4725.0</td>\n",
       "      <td>NaN</td>\n",
       "    </tr>\n",
       "    <tr>\n",
       "      <th>336</th>\n",
       "      <td>Gentoo</td>\n",
       "      <td>Biscoe</td>\n",
       "      <td>44.5</td>\n",
       "      <td>15.7</td>\n",
       "      <td>217.0</td>\n",
       "      <td>4875.0</td>\n",
       "      <td>NaN</td>\n",
       "    </tr>\n",
       "  </tbody>\n",
       "</table>\n",
       "</div>"
      ],
      "text/plain": [
       "    species     island  bill_length_mm  bill_depth_mm  flipper_length_mm  \\\n",
       "8    Adelie  Torgersen            34.1           18.1              193.0   \n",
       "9    Adelie  Torgersen            42.0           20.2              190.0   \n",
       "10   Adelie  Torgersen            37.8           17.1              186.0   \n",
       "11   Adelie  Torgersen            37.8           17.3              180.0   \n",
       "47   Adelie      Dream            37.5           18.9              179.0   \n",
       "246  Gentoo     Biscoe            44.5           14.3              216.0   \n",
       "286  Gentoo     Biscoe            46.2           14.4              214.0   \n",
       "324  Gentoo     Biscoe            47.3           13.8              216.0   \n",
       "336  Gentoo     Biscoe            44.5           15.7              217.0   \n",
       "\n",
       "     body_mass_g  sex  \n",
       "8         3475.0  NaN  \n",
       "9         4250.0  NaN  \n",
       "10        3300.0  NaN  \n",
       "11        3700.0  NaN  \n",
       "47        2975.0  NaN  \n",
       "246       4100.0  NaN  \n",
       "286       4650.0  NaN  \n",
       "324       4725.0  NaN  \n",
       "336       4875.0  NaN  "
      ]
     },
     "execution_count": 14,
     "metadata": {},
     "output_type": "execute_result"
    }
   ],
   "source": [
    "penguins.loc[(penguins.sex != \"Male\") & (penguins.sex != 'Female')]"
   ]
  },
  {
   "cell_type": "markdown",
   "metadata": {},
   "source": [
    "First, though, we need to change the **'object'** columns to categories."
   ]
  },
  {
   "cell_type": "markdown",
   "metadata": {
    "tags": []
   },
   "source": [
    "## Categorical Data"
   ]
  },
  {
   "cell_type": "markdown",
   "metadata": {},
   "source": [
    "The columns that have an **object** type have non-numeric data in them. That data could be something with little analytical value (like an individual person's name), or it could be something like a category. In this case, we could consider **species, island, and sex** to be categories. \n",
    "\n",
    "Most machine learning algorithms won't work with string data, but Pandas has a \"category\" data type that will display a string for **your** convenience, but actually be a number for the ML. \n",
    "\n",
    "There are some complexities to be aware of when converting categories from string to numeric. Numbers imply order. If we number the species like so:\n",
    "\n",
    "* 1 - Chinstrap\n",
    "* 2 - Adelie\n",
    "* 3 - Gentoo\n",
    "\n",
    "Does that imply that Chinstrap is *better* than Gentoo? There are more of them? They are bigger? In our case, the numbers have no meaning and we have to make sure the ML algorithms understand that. \n",
    "\n",
    "Pandas \"category\" type can be either ordered or unordered, with unordered being the default. Let's convert those columns now."
   ]
  },
  {
   "cell_type": "code",
   "execution_count": 15,
   "metadata": {
    "execution": {
     "iopub.execute_input": "2021-06-25T19:08:26.840061Z",
     "iopub.status.busy": "2021-06-25T19:08:26.839809Z",
     "iopub.status.idle": "2021-06-25T19:08:26.896175Z",
     "shell.execute_reply": "2021-06-25T19:08:26.895641Z",
     "shell.execute_reply.started": "2021-06-25T19:08:26.840041Z"
    },
    "tags": []
   },
   "outputs": [
    {
     "name": "stdout",
     "output_type": "stream",
     "text": [
      "<class 'pandas.core.frame.DataFrame'>\n",
      "Int64Index: 342 entries, 0 to 343\n",
      "Data columns (total 7 columns):\n",
      " #   Column             Non-Null Count  Dtype   \n",
      "---  ------             --------------  -----   \n",
      " 0   species            342 non-null    category\n",
      " 1   island             342 non-null    category\n",
      " 2   bill_length_mm     342 non-null    float64 \n",
      " 3   bill_depth_mm      342 non-null    float64 \n",
      " 4   flipper_length_mm  342 non-null    float64 \n",
      " 5   body_mass_g        342 non-null    float64 \n",
      " 6   sex                333 non-null    category\n",
      "dtypes: category(3), float64(4)\n",
      "memory usage: 14.7 KB\n"
     ]
    },
    {
     "name": "stderr",
     "output_type": "stream",
     "text": [
      "/opt/anaconda3/lib/python3.8/site-packages/pandas/core/generic.py:5494: SettingWithCopyWarning: \n",
      "A value is trying to be set on a copy of a slice from a DataFrame.\n",
      "Try using .loc[row_indexer,col_indexer] = value instead\n",
      "\n",
      "See the caveats in the documentation: https://pandas.pydata.org/pandas-docs/stable/user_guide/indexing.html#returning-a-view-versus-a-copy\n",
      "  self[name] = value\n"
     ]
    }
   ],
   "source": [
    "penguins.species = penguins.species.astype('category')\n",
    "penguins.island = penguins.island.astype('category')\n",
    "penguins.sex = penguins.sex.astype('category')\n",
    "\n",
    "penguins.info()"
   ]
  },
  {
   "cell_type": "markdown",
   "metadata": {},
   "source": [
    "### Pandas get_dummy()"
   ]
  },
  {
   "cell_type": "markdown",
   "metadata": {},
   "source": [
    "Even though the columns are categories, they still need to be encoded, and Pandas has a function to help with that. "
   ]
  },
  {
   "cell_type": "code",
   "execution_count": 16,
   "metadata": {
    "execution": {
     "iopub.execute_input": "2021-06-25T19:09:20.371698Z",
     "iopub.status.busy": "2021-06-25T19:09:20.371414Z",
     "iopub.status.idle": "2021-06-25T19:09:20.398026Z",
     "shell.execute_reply": "2021-06-25T19:09:20.397448Z",
     "shell.execute_reply.started": "2021-06-25T19:09:20.371668Z"
    },
    "tags": []
   },
   "outputs": [
    {
     "data": {
      "text/html": [
       "<div>\n",
       "<style scoped>\n",
       "    .dataframe tbody tr th:only-of-type {\n",
       "        vertical-align: middle;\n",
       "    }\n",
       "\n",
       "    .dataframe tbody tr th {\n",
       "        vertical-align: top;\n",
       "    }\n",
       "\n",
       "    .dataframe thead th {\n",
       "        text-align: right;\n",
       "    }\n",
       "</style>\n",
       "<table border=\"1\" class=\"dataframe\">\n",
       "  <thead>\n",
       "    <tr style=\"text-align: right;\">\n",
       "      <th></th>\n",
       "      <th>bill_length_mm</th>\n",
       "      <th>bill_depth_mm</th>\n",
       "      <th>flipper_length_mm</th>\n",
       "      <th>body_mass_g</th>\n",
       "      <th>sex</th>\n",
       "      <th>island_Biscoe</th>\n",
       "      <th>island_Dream</th>\n",
       "      <th>island_Torgersen</th>\n",
       "      <th>species_Adelie</th>\n",
       "      <th>species_Chinstrap</th>\n",
       "      <th>species_Gentoo</th>\n",
       "    </tr>\n",
       "  </thead>\n",
       "  <tbody>\n",
       "    <tr>\n",
       "      <th>0</th>\n",
       "      <td>39.1</td>\n",
       "      <td>18.7</td>\n",
       "      <td>181.0</td>\n",
       "      <td>3750.0</td>\n",
       "      <td>Male</td>\n",
       "      <td>0</td>\n",
       "      <td>0</td>\n",
       "      <td>1</td>\n",
       "      <td>1</td>\n",
       "      <td>0</td>\n",
       "      <td>0</td>\n",
       "    </tr>\n",
       "    <tr>\n",
       "      <th>1</th>\n",
       "      <td>39.5</td>\n",
       "      <td>17.4</td>\n",
       "      <td>186.0</td>\n",
       "      <td>3800.0</td>\n",
       "      <td>Female</td>\n",
       "      <td>0</td>\n",
       "      <td>0</td>\n",
       "      <td>1</td>\n",
       "      <td>1</td>\n",
       "      <td>0</td>\n",
       "      <td>0</td>\n",
       "    </tr>\n",
       "    <tr>\n",
       "      <th>2</th>\n",
       "      <td>40.3</td>\n",
       "      <td>18.0</td>\n",
       "      <td>195.0</td>\n",
       "      <td>3250.0</td>\n",
       "      <td>Female</td>\n",
       "      <td>0</td>\n",
       "      <td>0</td>\n",
       "      <td>1</td>\n",
       "      <td>1</td>\n",
       "      <td>0</td>\n",
       "      <td>0</td>\n",
       "    </tr>\n",
       "    <tr>\n",
       "      <th>4</th>\n",
       "      <td>36.7</td>\n",
       "      <td>19.3</td>\n",
       "      <td>193.0</td>\n",
       "      <td>3450.0</td>\n",
       "      <td>Female</td>\n",
       "      <td>0</td>\n",
       "      <td>0</td>\n",
       "      <td>1</td>\n",
       "      <td>1</td>\n",
       "      <td>0</td>\n",
       "      <td>0</td>\n",
       "    </tr>\n",
       "    <tr>\n",
       "      <th>5</th>\n",
       "      <td>39.3</td>\n",
       "      <td>20.6</td>\n",
       "      <td>190.0</td>\n",
       "      <td>3650.0</td>\n",
       "      <td>Male</td>\n",
       "      <td>0</td>\n",
       "      <td>0</td>\n",
       "      <td>1</td>\n",
       "      <td>1</td>\n",
       "      <td>0</td>\n",
       "      <td>0</td>\n",
       "    </tr>\n",
       "    <tr>\n",
       "      <th>...</th>\n",
       "      <td>...</td>\n",
       "      <td>...</td>\n",
       "      <td>...</td>\n",
       "      <td>...</td>\n",
       "      <td>...</td>\n",
       "      <td>...</td>\n",
       "      <td>...</td>\n",
       "      <td>...</td>\n",
       "      <td>...</td>\n",
       "      <td>...</td>\n",
       "      <td>...</td>\n",
       "    </tr>\n",
       "    <tr>\n",
       "      <th>338</th>\n",
       "      <td>47.2</td>\n",
       "      <td>13.7</td>\n",
       "      <td>214.0</td>\n",
       "      <td>4925.0</td>\n",
       "      <td>Female</td>\n",
       "      <td>1</td>\n",
       "      <td>0</td>\n",
       "      <td>0</td>\n",
       "      <td>0</td>\n",
       "      <td>0</td>\n",
       "      <td>1</td>\n",
       "    </tr>\n",
       "    <tr>\n",
       "      <th>340</th>\n",
       "      <td>46.8</td>\n",
       "      <td>14.3</td>\n",
       "      <td>215.0</td>\n",
       "      <td>4850.0</td>\n",
       "      <td>Female</td>\n",
       "      <td>1</td>\n",
       "      <td>0</td>\n",
       "      <td>0</td>\n",
       "      <td>0</td>\n",
       "      <td>0</td>\n",
       "      <td>1</td>\n",
       "    </tr>\n",
       "    <tr>\n",
       "      <th>341</th>\n",
       "      <td>50.4</td>\n",
       "      <td>15.7</td>\n",
       "      <td>222.0</td>\n",
       "      <td>5750.0</td>\n",
       "      <td>Male</td>\n",
       "      <td>1</td>\n",
       "      <td>0</td>\n",
       "      <td>0</td>\n",
       "      <td>0</td>\n",
       "      <td>0</td>\n",
       "      <td>1</td>\n",
       "    </tr>\n",
       "    <tr>\n",
       "      <th>342</th>\n",
       "      <td>45.2</td>\n",
       "      <td>14.8</td>\n",
       "      <td>212.0</td>\n",
       "      <td>5200.0</td>\n",
       "      <td>Female</td>\n",
       "      <td>1</td>\n",
       "      <td>0</td>\n",
       "      <td>0</td>\n",
       "      <td>0</td>\n",
       "      <td>0</td>\n",
       "      <td>1</td>\n",
       "    </tr>\n",
       "    <tr>\n",
       "      <th>343</th>\n",
       "      <td>49.9</td>\n",
       "      <td>16.1</td>\n",
       "      <td>213.0</td>\n",
       "      <td>5400.0</td>\n",
       "      <td>Male</td>\n",
       "      <td>1</td>\n",
       "      <td>0</td>\n",
       "      <td>0</td>\n",
       "      <td>0</td>\n",
       "      <td>0</td>\n",
       "      <td>1</td>\n",
       "    </tr>\n",
       "  </tbody>\n",
       "</table>\n",
       "<p>342 rows × 11 columns</p>\n",
       "</div>"
      ],
      "text/plain": [
       "     bill_length_mm  bill_depth_mm  flipper_length_mm  body_mass_g     sex  \\\n",
       "0              39.1           18.7              181.0       3750.0    Male   \n",
       "1              39.5           17.4              186.0       3800.0  Female   \n",
       "2              40.3           18.0              195.0       3250.0  Female   \n",
       "4              36.7           19.3              193.0       3450.0  Female   \n",
       "5              39.3           20.6              190.0       3650.0    Male   \n",
       "..              ...            ...                ...          ...     ...   \n",
       "338            47.2           13.7              214.0       4925.0  Female   \n",
       "340            46.8           14.3              215.0       4850.0  Female   \n",
       "341            50.4           15.7              222.0       5750.0    Male   \n",
       "342            45.2           14.8              212.0       5200.0  Female   \n",
       "343            49.9           16.1              213.0       5400.0    Male   \n",
       "\n",
       "     island_Biscoe  island_Dream  island_Torgersen  species_Adelie  \\\n",
       "0                0             0                 1               1   \n",
       "1                0             0                 1               1   \n",
       "2                0             0                 1               1   \n",
       "4                0             0                 1               1   \n",
       "5                0             0                 1               1   \n",
       "..             ...           ...               ...             ...   \n",
       "338              1             0                 0               0   \n",
       "340              1             0                 0               0   \n",
       "341              1             0                 0               0   \n",
       "342              1             0                 0               0   \n",
       "343              1             0                 0               0   \n",
       "\n",
       "     species_Chinstrap  species_Gentoo  \n",
       "0                    0               0  \n",
       "1                    0               0  \n",
       "2                    0               0  \n",
       "4                    0               0  \n",
       "5                    0               0  \n",
       "..                 ...             ...  \n",
       "338                  0               1  \n",
       "340                  0               1  \n",
       "341                  0               1  \n",
       "342                  0               1  \n",
       "343                  0               1  \n",
       "\n",
       "[342 rows x 11 columns]"
      ]
     },
     "execution_count": 16,
     "metadata": {},
     "output_type": "execute_result"
    }
   ],
   "source": [
    "peng_encoded = pd.get_dummies(penguins, columns=['island','species'], prefix=['island', 'species'])\n",
    "peng_encoded"
   ]
  },
  {
   "cell_type": "markdown",
   "metadata": {},
   "source": [
    "Now, just simple 0/1 for 'sex'."
   ]
  },
  {
   "cell_type": "code",
   "execution_count": 17,
   "metadata": {
    "execution": {
     "iopub.execute_input": "2021-06-25T19:09:25.246785Z",
     "iopub.status.busy": "2021-06-25T19:09:25.246508Z",
     "iopub.status.idle": "2021-06-25T19:09:25.251946Z",
     "shell.execute_reply": "2021-06-25T19:09:25.251273Z",
     "shell.execute_reply.started": "2021-06-25T19:09:25.246755Z"
    },
    "tags": []
   },
   "outputs": [],
   "source": [
    "peng_encoded['sex'] = peng_encoded['sex'].map({'Male':0, 'Female':1})"
   ]
  },
  {
   "cell_type": "code",
   "execution_count": 18,
   "metadata": {
    "execution": {
     "iopub.execute_input": "2021-06-25T19:09:26.416885Z",
     "iopub.status.busy": "2021-06-25T19:09:26.416600Z",
     "iopub.status.idle": "2021-06-25T19:09:26.424796Z",
     "shell.execute_reply": "2021-06-25T19:09:26.424170Z",
     "shell.execute_reply.started": "2021-06-25T19:09:26.416854Z"
    },
    "tags": []
   },
   "outputs": [
    {
     "data": {
      "text/plain": [
       "bill_length_mm       0\n",
       "bill_depth_mm        0\n",
       "flipper_length_mm    0\n",
       "body_mass_g          0\n",
       "sex                  9\n",
       "island_Biscoe        0\n",
       "island_Dream         0\n",
       "island_Torgersen     0\n",
       "species_Adelie       0\n",
       "species_Chinstrap    0\n",
       "species_Gentoo       0\n",
       "dtype: int64"
      ]
     },
     "execution_count": 18,
     "metadata": {},
     "output_type": "execute_result"
    }
   ],
   "source": [
    "peng_encoded.isnull().sum()"
   ]
  },
  {
   "cell_type": "code",
   "execution_count": null,
   "metadata": {},
   "outputs": [],
   "source": []
  },
  {
   "cell_type": "markdown",
   "metadata": {
    "tags": []
   },
   "source": [
    "--- \n",
    "\n",
    "Scikit-learn also has many types of encoding for categories. You should spend some time investigating them."
   ]
  },
  {
   "cell_type": "markdown",
   "metadata": {},
   "source": [
    "## Impute Missing Data"
   ]
  },
  {
   "cell_type": "markdown",
   "metadata": {},
   "source": [
    "Typically, we use capital 'x' as the dataset variable and 'y' as the target. We will be using a simple form of **supervised** machine learning, RandomForestClassifier. \n",
    "\n",
    "In supervised ML, our training dataset has to have known target values, so we will divide our data for training, testing and prediction. \n",
    "\n",
    "Now, for our data, we want all the rows that have a complete set of data and all the columns except 'sex'. That one will go into our training target dataset."
   ]
  },
  {
   "cell_type": "code",
   "execution_count": 19,
   "metadata": {
    "execution": {
     "iopub.execute_input": "2021-06-25T19:10:05.791691Z",
     "iopub.status.busy": "2021-06-25T19:10:05.791347Z",
     "iopub.status.idle": "2021-06-25T19:10:05.794927Z",
     "shell.execute_reply": "2021-06-25T19:10:05.794384Z",
     "shell.execute_reply.started": "2021-06-25T19:10:05.791655Z"
    },
    "tags": []
   },
   "outputs": [],
   "source": [
    "columns = [c for c in peng_encoded.columns if c != 'sex']"
   ]
  },
  {
   "cell_type": "code",
   "execution_count": 20,
   "metadata": {
    "execution": {
     "iopub.execute_input": "2021-06-25T19:10:06.362972Z",
     "iopub.status.busy": "2021-06-25T19:10:06.362706Z",
     "iopub.status.idle": "2021-06-25T19:10:06.380660Z",
     "shell.execute_reply": "2021-06-25T19:10:06.380250Z",
     "shell.execute_reply.started": "2021-06-25T19:10:06.362943Z"
    },
    "tags": []
   },
   "outputs": [
    {
     "data": {
      "text/html": [
       "<div>\n",
       "<style scoped>\n",
       "    .dataframe tbody tr th:only-of-type {\n",
       "        vertical-align: middle;\n",
       "    }\n",
       "\n",
       "    .dataframe tbody tr th {\n",
       "        vertical-align: top;\n",
       "    }\n",
       "\n",
       "    .dataframe thead th {\n",
       "        text-align: right;\n",
       "    }\n",
       "</style>\n",
       "<table border=\"1\" class=\"dataframe\">\n",
       "  <thead>\n",
       "    <tr style=\"text-align: right;\">\n",
       "      <th></th>\n",
       "      <th>bill_length_mm</th>\n",
       "      <th>bill_depth_mm</th>\n",
       "      <th>flipper_length_mm</th>\n",
       "      <th>body_mass_g</th>\n",
       "      <th>island_Biscoe</th>\n",
       "      <th>island_Dream</th>\n",
       "      <th>island_Torgersen</th>\n",
       "      <th>species_Adelie</th>\n",
       "      <th>species_Chinstrap</th>\n",
       "      <th>species_Gentoo</th>\n",
       "    </tr>\n",
       "  </thead>\n",
       "  <tbody>\n",
       "    <tr>\n",
       "      <th>0</th>\n",
       "      <td>39.1</td>\n",
       "      <td>18.7</td>\n",
       "      <td>181.0</td>\n",
       "      <td>3750.0</td>\n",
       "      <td>0</td>\n",
       "      <td>0</td>\n",
       "      <td>1</td>\n",
       "      <td>1</td>\n",
       "      <td>0</td>\n",
       "      <td>0</td>\n",
       "    </tr>\n",
       "    <tr>\n",
       "      <th>1</th>\n",
       "      <td>39.5</td>\n",
       "      <td>17.4</td>\n",
       "      <td>186.0</td>\n",
       "      <td>3800.0</td>\n",
       "      <td>0</td>\n",
       "      <td>0</td>\n",
       "      <td>1</td>\n",
       "      <td>1</td>\n",
       "      <td>0</td>\n",
       "      <td>0</td>\n",
       "    </tr>\n",
       "    <tr>\n",
       "      <th>2</th>\n",
       "      <td>40.3</td>\n",
       "      <td>18.0</td>\n",
       "      <td>195.0</td>\n",
       "      <td>3250.0</td>\n",
       "      <td>0</td>\n",
       "      <td>0</td>\n",
       "      <td>1</td>\n",
       "      <td>1</td>\n",
       "      <td>0</td>\n",
       "      <td>0</td>\n",
       "    </tr>\n",
       "    <tr>\n",
       "      <th>4</th>\n",
       "      <td>36.7</td>\n",
       "      <td>19.3</td>\n",
       "      <td>193.0</td>\n",
       "      <td>3450.0</td>\n",
       "      <td>0</td>\n",
       "      <td>0</td>\n",
       "      <td>1</td>\n",
       "      <td>1</td>\n",
       "      <td>0</td>\n",
       "      <td>0</td>\n",
       "    </tr>\n",
       "    <tr>\n",
       "      <th>5</th>\n",
       "      <td>39.3</td>\n",
       "      <td>20.6</td>\n",
       "      <td>190.0</td>\n",
       "      <td>3650.0</td>\n",
       "      <td>0</td>\n",
       "      <td>0</td>\n",
       "      <td>1</td>\n",
       "      <td>1</td>\n",
       "      <td>0</td>\n",
       "      <td>0</td>\n",
       "    </tr>\n",
       "    <tr>\n",
       "      <th>...</th>\n",
       "      <td>...</td>\n",
       "      <td>...</td>\n",
       "      <td>...</td>\n",
       "      <td>...</td>\n",
       "      <td>...</td>\n",
       "      <td>...</td>\n",
       "      <td>...</td>\n",
       "      <td>...</td>\n",
       "      <td>...</td>\n",
       "      <td>...</td>\n",
       "    </tr>\n",
       "    <tr>\n",
       "      <th>338</th>\n",
       "      <td>47.2</td>\n",
       "      <td>13.7</td>\n",
       "      <td>214.0</td>\n",
       "      <td>4925.0</td>\n",
       "      <td>1</td>\n",
       "      <td>0</td>\n",
       "      <td>0</td>\n",
       "      <td>0</td>\n",
       "      <td>0</td>\n",
       "      <td>1</td>\n",
       "    </tr>\n",
       "    <tr>\n",
       "      <th>340</th>\n",
       "      <td>46.8</td>\n",
       "      <td>14.3</td>\n",
       "      <td>215.0</td>\n",
       "      <td>4850.0</td>\n",
       "      <td>1</td>\n",
       "      <td>0</td>\n",
       "      <td>0</td>\n",
       "      <td>0</td>\n",
       "      <td>0</td>\n",
       "      <td>1</td>\n",
       "    </tr>\n",
       "    <tr>\n",
       "      <th>341</th>\n",
       "      <td>50.4</td>\n",
       "      <td>15.7</td>\n",
       "      <td>222.0</td>\n",
       "      <td>5750.0</td>\n",
       "      <td>1</td>\n",
       "      <td>0</td>\n",
       "      <td>0</td>\n",
       "      <td>0</td>\n",
       "      <td>0</td>\n",
       "      <td>1</td>\n",
       "    </tr>\n",
       "    <tr>\n",
       "      <th>342</th>\n",
       "      <td>45.2</td>\n",
       "      <td>14.8</td>\n",
       "      <td>212.0</td>\n",
       "      <td>5200.0</td>\n",
       "      <td>1</td>\n",
       "      <td>0</td>\n",
       "      <td>0</td>\n",
       "      <td>0</td>\n",
       "      <td>0</td>\n",
       "      <td>1</td>\n",
       "    </tr>\n",
       "    <tr>\n",
       "      <th>343</th>\n",
       "      <td>49.9</td>\n",
       "      <td>16.1</td>\n",
       "      <td>213.0</td>\n",
       "      <td>5400.0</td>\n",
       "      <td>1</td>\n",
       "      <td>0</td>\n",
       "      <td>0</td>\n",
       "      <td>0</td>\n",
       "      <td>0</td>\n",
       "      <td>1</td>\n",
       "    </tr>\n",
       "  </tbody>\n",
       "</table>\n",
       "<p>333 rows × 10 columns</p>\n",
       "</div>"
      ],
      "text/plain": [
       "     bill_length_mm  bill_depth_mm  flipper_length_mm  body_mass_g  \\\n",
       "0              39.1           18.7              181.0       3750.0   \n",
       "1              39.5           17.4              186.0       3800.0   \n",
       "2              40.3           18.0              195.0       3250.0   \n",
       "4              36.7           19.3              193.0       3450.0   \n",
       "5              39.3           20.6              190.0       3650.0   \n",
       "..              ...            ...                ...          ...   \n",
       "338            47.2           13.7              214.0       4925.0   \n",
       "340            46.8           14.3              215.0       4850.0   \n",
       "341            50.4           15.7              222.0       5750.0   \n",
       "342            45.2           14.8              212.0       5200.0   \n",
       "343            49.9           16.1              213.0       5400.0   \n",
       "\n",
       "     island_Biscoe  island_Dream  island_Torgersen  species_Adelie  \\\n",
       "0                0             0                 1               1   \n",
       "1                0             0                 1               1   \n",
       "2                0             0                 1               1   \n",
       "4                0             0                 1               1   \n",
       "5                0             0                 1               1   \n",
       "..             ...           ...               ...             ...   \n",
       "338              1             0                 0               0   \n",
       "340              1             0                 0               0   \n",
       "341              1             0                 0               0   \n",
       "342              1             0                 0               0   \n",
       "343              1             0                 0               0   \n",
       "\n",
       "     species_Chinstrap  species_Gentoo  \n",
       "0                    0               0  \n",
       "1                    0               0  \n",
       "2                    0               0  \n",
       "4                    0               0  \n",
       "5                    0               0  \n",
       "..                 ...             ...  \n",
       "338                  0               1  \n",
       "340                  0               1  \n",
       "341                  0               1  \n",
       "342                  0               1  \n",
       "343                  0               1  \n",
       "\n",
       "[333 rows x 10 columns]"
      ]
     },
     "execution_count": 20,
     "metadata": {},
     "output_type": "execute_result"
    }
   ],
   "source": [
    "X = peng_encoded[peng_encoded.sex.notnull()].loc[:,columns]\n",
    "X"
   ]
  },
  {
   "cell_type": "markdown",
   "metadata": {},
   "source": [
    "Now, we need all the 'sex' values that are not null and corresponding to the array above.\n",
    "\n",
    "The first set of square brackets choose which rows we want -- the not null ones -- and the second set choose the column we want. "
   ]
  },
  {
   "cell_type": "code",
   "execution_count": 21,
   "metadata": {
    "execution": {
     "iopub.execute_input": "2021-06-25T19:10:29.985101Z",
     "iopub.status.busy": "2021-06-25T19:10:29.984853Z",
     "iopub.status.idle": "2021-06-25T19:10:29.993059Z",
     "shell.execute_reply": "2021-06-25T19:10:29.992178Z",
     "shell.execute_reply.started": "2021-06-25T19:10:29.985076Z"
    },
    "tags": []
   },
   "outputs": [
    {
     "data": {
      "text/plain": [
       "0      0\n",
       "1      1\n",
       "2      1\n",
       "4      1\n",
       "5      0\n",
       "      ..\n",
       "338    1\n",
       "340    1\n",
       "341    0\n",
       "342    1\n",
       "343    0\n",
       "Name: sex, Length: 333, dtype: category\n",
       "Categories (2, int64): [1, 0]"
      ]
     },
     "execution_count": 21,
     "metadata": {},
     "output_type": "execute_result"
    }
   ],
   "source": [
    "y = peng_encoded[peng_encoded.sex.notnull()]['sex']\n",
    "y"
   ]
  },
  {
   "cell_type": "markdown",
   "metadata": {},
   "source": [
    "Next, I'm going to split up the training data so I have a testing set and can look at accuracy statistics. "
   ]
  },
  {
   "cell_type": "code",
   "execution_count": 22,
   "metadata": {
    "execution": {
     "iopub.execute_input": "2021-06-25T19:10:34.634813Z",
     "iopub.status.busy": "2021-06-25T19:10:34.634545Z",
     "iopub.status.idle": "2021-06-25T19:10:35.564684Z",
     "shell.execute_reply": "2021-06-25T19:10:35.563959Z",
     "shell.execute_reply.started": "2021-06-25T19:10:34.634784Z"
    },
    "tags": []
   },
   "outputs": [],
   "source": [
    "from sklearn.model_selection import train_test_split"
   ]
  },
  {
   "cell_type": "code",
   "execution_count": 23,
   "metadata": {
    "execution": {
     "iopub.execute_input": "2021-06-25T19:10:35.565791Z",
     "iopub.status.busy": "2021-06-25T19:10:35.565616Z",
     "iopub.status.idle": "2021-06-25T19:10:35.570148Z",
     "shell.execute_reply": "2021-06-25T19:10:35.569601Z",
     "shell.execute_reply.started": "2021-06-25T19:10:35.565766Z"
    },
    "tags": []
   },
   "outputs": [],
   "source": [
    "x_train, x_test, y_train, y_test = train_test_split(X, y, test_size=0.70)"
   ]
  },
  {
   "cell_type": "markdown",
   "metadata": {},
   "source": [
    "Now we import and use the classifier."
   ]
  },
  {
   "cell_type": "code",
   "execution_count": 24,
   "metadata": {
    "execution": {
     "iopub.execute_input": "2021-06-25T19:10:38.875642Z",
     "iopub.status.busy": "2021-06-25T19:10:38.875342Z",
     "iopub.status.idle": "2021-06-25T19:10:39.506004Z",
     "shell.execute_reply": "2021-06-25T19:10:39.505390Z",
     "shell.execute_reply.started": "2021-06-25T19:10:38.875606Z"
    },
    "tags": []
   },
   "outputs": [],
   "source": [
    "from sklearn.ensemble import RandomForestClassifier"
   ]
  },
  {
   "cell_type": "code",
   "execution_count": 25,
   "metadata": {
    "execution": {
     "iopub.execute_input": "2021-06-25T19:10:39.507305Z",
     "iopub.status.busy": "2021-06-25T19:10:39.507096Z",
     "iopub.status.idle": "2021-06-25T19:10:39.510011Z",
     "shell.execute_reply": "2021-06-25T19:10:39.509567Z",
     "shell.execute_reply.started": "2021-06-25T19:10:39.507277Z"
    },
    "tags": []
   },
   "outputs": [],
   "source": [
    "clf = RandomForestClassifier(n_estimators=100)"
   ]
  },
  {
   "cell_type": "code",
   "execution_count": 26,
   "metadata": {
    "execution": {
     "iopub.execute_input": "2021-06-25T19:10:39.696594Z",
     "iopub.status.busy": "2021-06-25T19:10:39.696327Z",
     "iopub.status.idle": "2021-06-25T19:10:39.829214Z",
     "shell.execute_reply": "2021-06-25T19:10:39.828398Z",
     "shell.execute_reply.started": "2021-06-25T19:10:39.696566Z"
    },
    "tags": []
   },
   "outputs": [
    {
     "data": {
      "text/plain": [
       "RandomForestClassifier()"
      ]
     },
     "execution_count": 26,
     "metadata": {},
     "output_type": "execute_result"
    }
   ],
   "source": [
    "clf.fit(x_train, y_train)"
   ]
  },
  {
   "cell_type": "markdown",
   "metadata": {},
   "source": [
    "That's all there is to training the Classifier. Let's see how we did:"
   ]
  },
  {
   "cell_type": "code",
   "execution_count": 27,
   "metadata": {
    "execution": {
     "iopub.execute_input": "2021-06-25T19:10:41.701822Z",
     "iopub.status.busy": "2021-06-25T19:10:41.701554Z",
     "iopub.status.idle": "2021-06-25T19:10:41.719082Z",
     "shell.execute_reply": "2021-06-25T19:10:41.718663Z",
     "shell.execute_reply.started": "2021-06-25T19:10:41.701793Z"
    },
    "tags": []
   },
   "outputs": [],
   "source": [
    "y_pred = clf.predict(x_test)"
   ]
  },
  {
   "cell_type": "code",
   "execution_count": 28,
   "metadata": {
    "execution": {
     "iopub.execute_input": "2021-06-25T19:10:42.104077Z",
     "iopub.status.busy": "2021-06-25T19:10:42.103799Z",
     "iopub.status.idle": "2021-06-25T19:10:42.107058Z",
     "shell.execute_reply": "2021-06-25T19:10:42.106414Z",
     "shell.execute_reply.started": "2021-06-25T19:10:42.104046Z"
    },
    "tags": []
   },
   "outputs": [],
   "source": [
    "from sklearn import metrics"
   ]
  },
  {
   "cell_type": "code",
   "execution_count": 29,
   "metadata": {
    "execution": {
     "iopub.execute_input": "2021-06-25T19:10:42.584774Z",
     "iopub.status.busy": "2021-06-25T19:10:42.584512Z",
     "iopub.status.idle": "2021-06-25T19:10:42.589650Z",
     "shell.execute_reply": "2021-06-25T19:10:42.589024Z",
     "shell.execute_reply.started": "2021-06-25T19:10:42.584746Z"
    },
    "tags": []
   },
   "outputs": [
    {
     "name": "stdout",
     "output_type": "stream",
     "text": [
      "Model accuracy = 0.8504273504273504\n"
     ]
    }
   ],
   "source": [
    "print(f'Model accuracy = {metrics.accuracy_score(y_test,y_pred)}')"
   ]
  },
  {
   "cell_type": "markdown",
   "metadata": {},
   "source": [
    "That's almost 90% accurate. Not bad! We could probably get better by segregating island and species, and on larger datasets it would probably be worth it. \n",
    "\n",
    "Now, let's get the missing values and move on..."
   ]
  },
  {
   "cell_type": "code",
   "execution_count": 30,
   "metadata": {
    "execution": {
     "iopub.execute_input": "2021-06-25T19:10:56.943997Z",
     "iopub.status.busy": "2021-06-25T19:10:56.943730Z",
     "iopub.status.idle": "2021-06-25T19:10:56.960410Z",
     "shell.execute_reply": "2021-06-25T19:10:56.960032Z",
     "shell.execute_reply.started": "2021-06-25T19:10:56.943969Z"
    },
    "tags": []
   },
   "outputs": [
    {
     "data": {
      "text/html": [
       "<div>\n",
       "<style scoped>\n",
       "    .dataframe tbody tr th:only-of-type {\n",
       "        vertical-align: middle;\n",
       "    }\n",
       "\n",
       "    .dataframe tbody tr th {\n",
       "        vertical-align: top;\n",
       "    }\n",
       "\n",
       "    .dataframe thead th {\n",
       "        text-align: right;\n",
       "    }\n",
       "</style>\n",
       "<table border=\"1\" class=\"dataframe\">\n",
       "  <thead>\n",
       "    <tr style=\"text-align: right;\">\n",
       "      <th></th>\n",
       "      <th>bill_length_mm</th>\n",
       "      <th>bill_depth_mm</th>\n",
       "      <th>flipper_length_mm</th>\n",
       "      <th>body_mass_g</th>\n",
       "      <th>island_Biscoe</th>\n",
       "      <th>island_Dream</th>\n",
       "      <th>island_Torgersen</th>\n",
       "      <th>species_Adelie</th>\n",
       "      <th>species_Chinstrap</th>\n",
       "      <th>species_Gentoo</th>\n",
       "    </tr>\n",
       "  </thead>\n",
       "  <tbody>\n",
       "    <tr>\n",
       "      <th>8</th>\n",
       "      <td>34.1</td>\n",
       "      <td>18.1</td>\n",
       "      <td>193.0</td>\n",
       "      <td>3475.0</td>\n",
       "      <td>0</td>\n",
       "      <td>0</td>\n",
       "      <td>1</td>\n",
       "      <td>1</td>\n",
       "      <td>0</td>\n",
       "      <td>0</td>\n",
       "    </tr>\n",
       "    <tr>\n",
       "      <th>9</th>\n",
       "      <td>42.0</td>\n",
       "      <td>20.2</td>\n",
       "      <td>190.0</td>\n",
       "      <td>4250.0</td>\n",
       "      <td>0</td>\n",
       "      <td>0</td>\n",
       "      <td>1</td>\n",
       "      <td>1</td>\n",
       "      <td>0</td>\n",
       "      <td>0</td>\n",
       "    </tr>\n",
       "    <tr>\n",
       "      <th>10</th>\n",
       "      <td>37.8</td>\n",
       "      <td>17.1</td>\n",
       "      <td>186.0</td>\n",
       "      <td>3300.0</td>\n",
       "      <td>0</td>\n",
       "      <td>0</td>\n",
       "      <td>1</td>\n",
       "      <td>1</td>\n",
       "      <td>0</td>\n",
       "      <td>0</td>\n",
       "    </tr>\n",
       "    <tr>\n",
       "      <th>11</th>\n",
       "      <td>37.8</td>\n",
       "      <td>17.3</td>\n",
       "      <td>180.0</td>\n",
       "      <td>3700.0</td>\n",
       "      <td>0</td>\n",
       "      <td>0</td>\n",
       "      <td>1</td>\n",
       "      <td>1</td>\n",
       "      <td>0</td>\n",
       "      <td>0</td>\n",
       "    </tr>\n",
       "    <tr>\n",
       "      <th>47</th>\n",
       "      <td>37.5</td>\n",
       "      <td>18.9</td>\n",
       "      <td>179.0</td>\n",
       "      <td>2975.0</td>\n",
       "      <td>0</td>\n",
       "      <td>1</td>\n",
       "      <td>0</td>\n",
       "      <td>1</td>\n",
       "      <td>0</td>\n",
       "      <td>0</td>\n",
       "    </tr>\n",
       "    <tr>\n",
       "      <th>246</th>\n",
       "      <td>44.5</td>\n",
       "      <td>14.3</td>\n",
       "      <td>216.0</td>\n",
       "      <td>4100.0</td>\n",
       "      <td>1</td>\n",
       "      <td>0</td>\n",
       "      <td>0</td>\n",
       "      <td>0</td>\n",
       "      <td>0</td>\n",
       "      <td>1</td>\n",
       "    </tr>\n",
       "    <tr>\n",
       "      <th>286</th>\n",
       "      <td>46.2</td>\n",
       "      <td>14.4</td>\n",
       "      <td>214.0</td>\n",
       "      <td>4650.0</td>\n",
       "      <td>1</td>\n",
       "      <td>0</td>\n",
       "      <td>0</td>\n",
       "      <td>0</td>\n",
       "      <td>0</td>\n",
       "      <td>1</td>\n",
       "    </tr>\n",
       "    <tr>\n",
       "      <th>324</th>\n",
       "      <td>47.3</td>\n",
       "      <td>13.8</td>\n",
       "      <td>216.0</td>\n",
       "      <td>4725.0</td>\n",
       "      <td>1</td>\n",
       "      <td>0</td>\n",
       "      <td>0</td>\n",
       "      <td>0</td>\n",
       "      <td>0</td>\n",
       "      <td>1</td>\n",
       "    </tr>\n",
       "    <tr>\n",
       "      <th>336</th>\n",
       "      <td>44.5</td>\n",
       "      <td>15.7</td>\n",
       "      <td>217.0</td>\n",
       "      <td>4875.0</td>\n",
       "      <td>1</td>\n",
       "      <td>0</td>\n",
       "      <td>0</td>\n",
       "      <td>0</td>\n",
       "      <td>0</td>\n",
       "      <td>1</td>\n",
       "    </tr>\n",
       "  </tbody>\n",
       "</table>\n",
       "</div>"
      ],
      "text/plain": [
       "     bill_length_mm  bill_depth_mm  flipper_length_mm  body_mass_g  \\\n",
       "8              34.1           18.1              193.0       3475.0   \n",
       "9              42.0           20.2              190.0       4250.0   \n",
       "10             37.8           17.1              186.0       3300.0   \n",
       "11             37.8           17.3              180.0       3700.0   \n",
       "47             37.5           18.9              179.0       2975.0   \n",
       "246            44.5           14.3              216.0       4100.0   \n",
       "286            46.2           14.4              214.0       4650.0   \n",
       "324            47.3           13.8              216.0       4725.0   \n",
       "336            44.5           15.7              217.0       4875.0   \n",
       "\n",
       "     island_Biscoe  island_Dream  island_Torgersen  species_Adelie  \\\n",
       "8                0             0                 1               1   \n",
       "9                0             0                 1               1   \n",
       "10               0             0                 1               1   \n",
       "11               0             0                 1               1   \n",
       "47               0             1                 0               1   \n",
       "246              1             0                 0               0   \n",
       "286              1             0                 0               0   \n",
       "324              1             0                 0               0   \n",
       "336              1             0                 0               0   \n",
       "\n",
       "     species_Chinstrap  species_Gentoo  \n",
       "8                    0               0  \n",
       "9                    0               0  \n",
       "10                   0               0  \n",
       "11                   0               0  \n",
       "47                   0               0  \n",
       "246                  0               1  \n",
       "286                  0               1  \n",
       "324                  0               1  \n",
       "336                  0               1  "
      ]
     },
     "execution_count": 30,
     "metadata": {},
     "output_type": "execute_result"
    }
   ],
   "source": [
    "x_missing = peng_encoded[peng_encoded.sex.isnull()].loc[:,columns]\n",
    "x_missing"
   ]
  },
  {
   "cell_type": "code",
   "execution_count": 31,
   "metadata": {
    "execution": {
     "iopub.execute_input": "2021-06-25T19:11:05.135616Z",
     "iopub.status.busy": "2021-06-25T19:11:05.135337Z",
     "iopub.status.idle": "2021-06-25T19:11:05.152016Z",
     "shell.execute_reply": "2021-06-25T19:11:05.151510Z",
     "shell.execute_reply.started": "2021-06-25T19:11:05.135572Z"
    },
    "tags": []
   },
   "outputs": [],
   "source": [
    "y_missing = clf.predict(x_missing)"
   ]
  },
  {
   "cell_type": "code",
   "execution_count": 32,
   "metadata": {
    "execution": {
     "iopub.execute_input": "2021-06-25T19:11:08.049276Z",
     "iopub.status.busy": "2021-06-25T19:11:08.049014Z",
     "iopub.status.idle": "2021-06-25T19:11:08.053624Z",
     "shell.execute_reply": "2021-06-25T19:11:08.052919Z",
     "shell.execute_reply.started": "2021-06-25T19:11:08.049247Z"
    },
    "tags": []
   },
   "outputs": [
    {
     "data": {
      "text/plain": [
       "array([1, 0, 1, 1, 1, 1, 1, 1, 0])"
      ]
     },
     "execution_count": 32,
     "metadata": {},
     "output_type": "execute_result"
    }
   ],
   "source": [
    "y_missing"
   ]
  },
  {
   "cell_type": "code",
   "execution_count": 33,
   "metadata": {
    "execution": {
     "iopub.execute_input": "2021-06-25T19:12:37.508459Z",
     "iopub.status.busy": "2021-06-25T19:12:37.508194Z",
     "iopub.status.idle": "2021-06-25T19:12:37.511629Z",
     "shell.execute_reply": "2021-06-25T19:12:37.511027Z",
     "shell.execute_reply.started": "2021-06-25T19:12:37.508430Z"
    },
    "tags": []
   },
   "outputs": [],
   "source": [
    "peng_encoded_bk = peng_encoded.copy()"
   ]
  },
  {
   "cell_type": "code",
   "execution_count": 34,
   "metadata": {
    "execution": {
     "iopub.execute_input": "2021-06-25T19:12:37.985168Z",
     "iopub.status.busy": "2021-06-25T19:12:37.984902Z",
     "iopub.status.idle": "2021-06-25T19:12:37.988875Z",
     "shell.execute_reply": "2021-06-25T19:12:37.988306Z",
     "shell.execute_reply.started": "2021-06-25T19:12:37.985139Z"
    },
    "tags": []
   },
   "outputs": [],
   "source": [
    "x_missing['sex'] = y_missing.astype('int')"
   ]
  },
  {
   "cell_type": "code",
   "execution_count": 35,
   "metadata": {
    "execution": {
     "iopub.execute_input": "2021-06-25T19:12:38.561259Z",
     "iopub.status.busy": "2021-06-25T19:12:38.560995Z",
     "iopub.status.idle": "2021-06-25T19:12:38.577137Z",
     "shell.execute_reply": "2021-06-25T19:12:38.576599Z",
     "shell.execute_reply.started": "2021-06-25T19:12:38.561230Z"
    },
    "tags": []
   },
   "outputs": [
    {
     "data": {
      "text/html": [
       "<div>\n",
       "<style scoped>\n",
       "    .dataframe tbody tr th:only-of-type {\n",
       "        vertical-align: middle;\n",
       "    }\n",
       "\n",
       "    .dataframe tbody tr th {\n",
       "        vertical-align: top;\n",
       "    }\n",
       "\n",
       "    .dataframe thead th {\n",
       "        text-align: right;\n",
       "    }\n",
       "</style>\n",
       "<table border=\"1\" class=\"dataframe\">\n",
       "  <thead>\n",
       "    <tr style=\"text-align: right;\">\n",
       "      <th></th>\n",
       "      <th>bill_length_mm</th>\n",
       "      <th>bill_depth_mm</th>\n",
       "      <th>flipper_length_mm</th>\n",
       "      <th>body_mass_g</th>\n",
       "      <th>island_Biscoe</th>\n",
       "      <th>island_Dream</th>\n",
       "      <th>island_Torgersen</th>\n",
       "      <th>species_Adelie</th>\n",
       "      <th>species_Chinstrap</th>\n",
       "      <th>species_Gentoo</th>\n",
       "      <th>sex</th>\n",
       "    </tr>\n",
       "  </thead>\n",
       "  <tbody>\n",
       "    <tr>\n",
       "      <th>8</th>\n",
       "      <td>34.1</td>\n",
       "      <td>18.1</td>\n",
       "      <td>193.0</td>\n",
       "      <td>3475.0</td>\n",
       "      <td>0</td>\n",
       "      <td>0</td>\n",
       "      <td>1</td>\n",
       "      <td>1</td>\n",
       "      <td>0</td>\n",
       "      <td>0</td>\n",
       "      <td>1</td>\n",
       "    </tr>\n",
       "    <tr>\n",
       "      <th>9</th>\n",
       "      <td>42.0</td>\n",
       "      <td>20.2</td>\n",
       "      <td>190.0</td>\n",
       "      <td>4250.0</td>\n",
       "      <td>0</td>\n",
       "      <td>0</td>\n",
       "      <td>1</td>\n",
       "      <td>1</td>\n",
       "      <td>0</td>\n",
       "      <td>0</td>\n",
       "      <td>0</td>\n",
       "    </tr>\n",
       "    <tr>\n",
       "      <th>10</th>\n",
       "      <td>37.8</td>\n",
       "      <td>17.1</td>\n",
       "      <td>186.0</td>\n",
       "      <td>3300.0</td>\n",
       "      <td>0</td>\n",
       "      <td>0</td>\n",
       "      <td>1</td>\n",
       "      <td>1</td>\n",
       "      <td>0</td>\n",
       "      <td>0</td>\n",
       "      <td>1</td>\n",
       "    </tr>\n",
       "    <tr>\n",
       "      <th>11</th>\n",
       "      <td>37.8</td>\n",
       "      <td>17.3</td>\n",
       "      <td>180.0</td>\n",
       "      <td>3700.0</td>\n",
       "      <td>0</td>\n",
       "      <td>0</td>\n",
       "      <td>1</td>\n",
       "      <td>1</td>\n",
       "      <td>0</td>\n",
       "      <td>0</td>\n",
       "      <td>1</td>\n",
       "    </tr>\n",
       "    <tr>\n",
       "      <th>47</th>\n",
       "      <td>37.5</td>\n",
       "      <td>18.9</td>\n",
       "      <td>179.0</td>\n",
       "      <td>2975.0</td>\n",
       "      <td>0</td>\n",
       "      <td>1</td>\n",
       "      <td>0</td>\n",
       "      <td>1</td>\n",
       "      <td>0</td>\n",
       "      <td>0</td>\n",
       "      <td>1</td>\n",
       "    </tr>\n",
       "    <tr>\n",
       "      <th>246</th>\n",
       "      <td>44.5</td>\n",
       "      <td>14.3</td>\n",
       "      <td>216.0</td>\n",
       "      <td>4100.0</td>\n",
       "      <td>1</td>\n",
       "      <td>0</td>\n",
       "      <td>0</td>\n",
       "      <td>0</td>\n",
       "      <td>0</td>\n",
       "      <td>1</td>\n",
       "      <td>1</td>\n",
       "    </tr>\n",
       "    <tr>\n",
       "      <th>286</th>\n",
       "      <td>46.2</td>\n",
       "      <td>14.4</td>\n",
       "      <td>214.0</td>\n",
       "      <td>4650.0</td>\n",
       "      <td>1</td>\n",
       "      <td>0</td>\n",
       "      <td>0</td>\n",
       "      <td>0</td>\n",
       "      <td>0</td>\n",
       "      <td>1</td>\n",
       "      <td>1</td>\n",
       "    </tr>\n",
       "    <tr>\n",
       "      <th>324</th>\n",
       "      <td>47.3</td>\n",
       "      <td>13.8</td>\n",
       "      <td>216.0</td>\n",
       "      <td>4725.0</td>\n",
       "      <td>1</td>\n",
       "      <td>0</td>\n",
       "      <td>0</td>\n",
       "      <td>0</td>\n",
       "      <td>0</td>\n",
       "      <td>1</td>\n",
       "      <td>1</td>\n",
       "    </tr>\n",
       "    <tr>\n",
       "      <th>336</th>\n",
       "      <td>44.5</td>\n",
       "      <td>15.7</td>\n",
       "      <td>217.0</td>\n",
       "      <td>4875.0</td>\n",
       "      <td>1</td>\n",
       "      <td>0</td>\n",
       "      <td>0</td>\n",
       "      <td>0</td>\n",
       "      <td>0</td>\n",
       "      <td>1</td>\n",
       "      <td>0</td>\n",
       "    </tr>\n",
       "  </tbody>\n",
       "</table>\n",
       "</div>"
      ],
      "text/plain": [
       "     bill_length_mm  bill_depth_mm  flipper_length_mm  body_mass_g  \\\n",
       "8              34.1           18.1              193.0       3475.0   \n",
       "9              42.0           20.2              190.0       4250.0   \n",
       "10             37.8           17.1              186.0       3300.0   \n",
       "11             37.8           17.3              180.0       3700.0   \n",
       "47             37.5           18.9              179.0       2975.0   \n",
       "246            44.5           14.3              216.0       4100.0   \n",
       "286            46.2           14.4              214.0       4650.0   \n",
       "324            47.3           13.8              216.0       4725.0   \n",
       "336            44.5           15.7              217.0       4875.0   \n",
       "\n",
       "     island_Biscoe  island_Dream  island_Torgersen  species_Adelie  \\\n",
       "8                0             0                 1               1   \n",
       "9                0             0                 1               1   \n",
       "10               0             0                 1               1   \n",
       "11               0             0                 1               1   \n",
       "47               0             1                 0               1   \n",
       "246              1             0                 0               0   \n",
       "286              1             0                 0               0   \n",
       "324              1             0                 0               0   \n",
       "336              1             0                 0               0   \n",
       "\n",
       "     species_Chinstrap  species_Gentoo  sex  \n",
       "8                    0               0    1  \n",
       "9                    0               0    0  \n",
       "10                   0               0    1  \n",
       "11                   0               0    1  \n",
       "47                   0               0    1  \n",
       "246                  0               1    1  \n",
       "286                  0               1    1  \n",
       "324                  0               1    1  \n",
       "336                  0               1    0  "
      ]
     },
     "execution_count": 35,
     "metadata": {},
     "output_type": "execute_result"
    }
   ],
   "source": [
    "x_missing"
   ]
  },
  {
   "cell_type": "markdown",
   "metadata": {},
   "source": [
    "Interestingly enough, it looks like the original indexes followed the rows all the way through the process. We should be able to use that to put the values back in the original dataframe."
   ]
  },
  {
   "cell_type": "code",
   "execution_count": 42,
   "metadata": {
    "execution": {
     "iopub.execute_input": "2021-06-25T19:15:39.922052Z",
     "iopub.status.busy": "2021-06-25T19:15:39.921763Z",
     "iopub.status.idle": "2021-06-25T19:15:39.928489Z",
     "shell.execute_reply": "2021-06-25T19:15:39.927963Z",
     "shell.execute_reply.started": "2021-06-25T19:15:39.922020Z"
    },
    "tags": []
   },
   "outputs": [
    {
     "data": {
      "text/plain": [
       "bill_length_mm         34.1\n",
       "bill_depth_mm          18.1\n",
       "flipper_length_mm     193.0\n",
       "body_mass_g          3475.0\n",
       "island_Biscoe           0.0\n",
       "island_Dream            0.0\n",
       "island_Torgersen        1.0\n",
       "species_Adelie          1.0\n",
       "species_Chinstrap       0.0\n",
       "species_Gentoo          0.0\n",
       "sex                     1.0\n",
       "Name: 8, dtype: float64"
      ]
     },
     "execution_count": 42,
     "metadata": {},
     "output_type": "execute_result"
    }
   ],
   "source": [
    "x_missing.loc[8]"
   ]
  },
  {
   "cell_type": "code",
   "execution_count": 43,
   "metadata": {
    "execution": {
     "iopub.execute_input": "2021-06-25T19:16:09.178196Z",
     "iopub.status.busy": "2021-06-25T19:16:09.177936Z",
     "iopub.status.idle": "2021-06-25T19:16:09.184742Z",
     "shell.execute_reply": "2021-06-25T19:16:09.184245Z",
     "shell.execute_reply.started": "2021-06-25T19:16:09.178167Z"
    }
   },
   "outputs": [
    {
     "data": {
      "text/plain": [
       "species                 Adelie\n",
       "island               Torgersen\n",
       "bill_length_mm            34.1\n",
       "bill_depth_mm             18.1\n",
       "flipper_length_mm        193.0\n",
       "body_mass_g             3475.0\n",
       "sex                        NaN\n",
       "Name: 8, dtype: object"
      ]
     },
     "execution_count": 43,
     "metadata": {},
     "output_type": "execute_result"
    }
   ],
   "source": [
    "penguins.loc[8]"
   ]
  },
  {
   "cell_type": "code",
   "execution_count": 47,
   "metadata": {
    "execution": {
     "iopub.execute_input": "2021-06-25T19:23:58.654090Z",
     "iopub.status.busy": "2021-06-25T19:23:58.653827Z",
     "iopub.status.idle": "2021-06-25T19:23:58.658933Z",
     "shell.execute_reply": "2021-06-25T19:23:58.658326Z",
     "shell.execute_reply.started": "2021-06-25T19:23:58.654062Z"
    },
    "tags": []
   },
   "outputs": [
    {
     "data": {
      "text/plain": [
       "[8, 9, 10, 11, 47, 246, 286, 324, 336]"
      ]
     },
     "execution_count": 47,
     "metadata": {},
     "output_type": "execute_result"
    }
   ],
   "source": [
    "x_missing.index.to_list()"
   ]
  },
  {
   "cell_type": "code",
   "execution_count": 45,
   "metadata": {
    "execution": {
     "iopub.execute_input": "2021-06-25T19:23:06.914364Z",
     "iopub.status.busy": "2021-06-25T19:23:06.914099Z",
     "iopub.status.idle": "2021-06-25T19:23:06.919300Z",
     "shell.execute_reply": "2021-06-25T19:23:06.918724Z",
     "shell.execute_reply.started": "2021-06-25T19:23:06.914336Z"
    }
   },
   "outputs": [],
   "source": [
    "x_missing['sex'] = x_missing['sex'].map({0:'Male', 1:'Female'})"
   ]
  },
  {
   "cell_type": "code",
   "execution_count": 46,
   "metadata": {
    "execution": {
     "iopub.execute_input": "2021-06-25T19:23:16.246030Z",
     "iopub.status.busy": "2021-06-25T19:23:16.245634Z",
     "iopub.status.idle": "2021-06-25T19:23:16.265032Z",
     "shell.execute_reply": "2021-06-25T19:23:16.264432Z",
     "shell.execute_reply.started": "2021-06-25T19:23:16.245987Z"
    }
   },
   "outputs": [
    {
     "data": {
      "text/html": [
       "<div>\n",
       "<style scoped>\n",
       "    .dataframe tbody tr th:only-of-type {\n",
       "        vertical-align: middle;\n",
       "    }\n",
       "\n",
       "    .dataframe tbody tr th {\n",
       "        vertical-align: top;\n",
       "    }\n",
       "\n",
       "    .dataframe thead th {\n",
       "        text-align: right;\n",
       "    }\n",
       "</style>\n",
       "<table border=\"1\" class=\"dataframe\">\n",
       "  <thead>\n",
       "    <tr style=\"text-align: right;\">\n",
       "      <th></th>\n",
       "      <th>bill_length_mm</th>\n",
       "      <th>bill_depth_mm</th>\n",
       "      <th>flipper_length_mm</th>\n",
       "      <th>body_mass_g</th>\n",
       "      <th>island_Biscoe</th>\n",
       "      <th>island_Dream</th>\n",
       "      <th>island_Torgersen</th>\n",
       "      <th>species_Adelie</th>\n",
       "      <th>species_Chinstrap</th>\n",
       "      <th>species_Gentoo</th>\n",
       "      <th>sex</th>\n",
       "    </tr>\n",
       "  </thead>\n",
       "  <tbody>\n",
       "    <tr>\n",
       "      <th>8</th>\n",
       "      <td>34.1</td>\n",
       "      <td>18.1</td>\n",
       "      <td>193.0</td>\n",
       "      <td>3475.0</td>\n",
       "      <td>0</td>\n",
       "      <td>0</td>\n",
       "      <td>1</td>\n",
       "      <td>1</td>\n",
       "      <td>0</td>\n",
       "      <td>0</td>\n",
       "      <td>Female</td>\n",
       "    </tr>\n",
       "    <tr>\n",
       "      <th>9</th>\n",
       "      <td>42.0</td>\n",
       "      <td>20.2</td>\n",
       "      <td>190.0</td>\n",
       "      <td>4250.0</td>\n",
       "      <td>0</td>\n",
       "      <td>0</td>\n",
       "      <td>1</td>\n",
       "      <td>1</td>\n",
       "      <td>0</td>\n",
       "      <td>0</td>\n",
       "      <td>Male</td>\n",
       "    </tr>\n",
       "    <tr>\n",
       "      <th>10</th>\n",
       "      <td>37.8</td>\n",
       "      <td>17.1</td>\n",
       "      <td>186.0</td>\n",
       "      <td>3300.0</td>\n",
       "      <td>0</td>\n",
       "      <td>0</td>\n",
       "      <td>1</td>\n",
       "      <td>1</td>\n",
       "      <td>0</td>\n",
       "      <td>0</td>\n",
       "      <td>Female</td>\n",
       "    </tr>\n",
       "    <tr>\n",
       "      <th>11</th>\n",
       "      <td>37.8</td>\n",
       "      <td>17.3</td>\n",
       "      <td>180.0</td>\n",
       "      <td>3700.0</td>\n",
       "      <td>0</td>\n",
       "      <td>0</td>\n",
       "      <td>1</td>\n",
       "      <td>1</td>\n",
       "      <td>0</td>\n",
       "      <td>0</td>\n",
       "      <td>Female</td>\n",
       "    </tr>\n",
       "    <tr>\n",
       "      <th>47</th>\n",
       "      <td>37.5</td>\n",
       "      <td>18.9</td>\n",
       "      <td>179.0</td>\n",
       "      <td>2975.0</td>\n",
       "      <td>0</td>\n",
       "      <td>1</td>\n",
       "      <td>0</td>\n",
       "      <td>1</td>\n",
       "      <td>0</td>\n",
       "      <td>0</td>\n",
       "      <td>Female</td>\n",
       "    </tr>\n",
       "    <tr>\n",
       "      <th>246</th>\n",
       "      <td>44.5</td>\n",
       "      <td>14.3</td>\n",
       "      <td>216.0</td>\n",
       "      <td>4100.0</td>\n",
       "      <td>1</td>\n",
       "      <td>0</td>\n",
       "      <td>0</td>\n",
       "      <td>0</td>\n",
       "      <td>0</td>\n",
       "      <td>1</td>\n",
       "      <td>Female</td>\n",
       "    </tr>\n",
       "    <tr>\n",
       "      <th>286</th>\n",
       "      <td>46.2</td>\n",
       "      <td>14.4</td>\n",
       "      <td>214.0</td>\n",
       "      <td>4650.0</td>\n",
       "      <td>1</td>\n",
       "      <td>0</td>\n",
       "      <td>0</td>\n",
       "      <td>0</td>\n",
       "      <td>0</td>\n",
       "      <td>1</td>\n",
       "      <td>Female</td>\n",
       "    </tr>\n",
       "    <tr>\n",
       "      <th>324</th>\n",
       "      <td>47.3</td>\n",
       "      <td>13.8</td>\n",
       "      <td>216.0</td>\n",
       "      <td>4725.0</td>\n",
       "      <td>1</td>\n",
       "      <td>0</td>\n",
       "      <td>0</td>\n",
       "      <td>0</td>\n",
       "      <td>0</td>\n",
       "      <td>1</td>\n",
       "      <td>Female</td>\n",
       "    </tr>\n",
       "    <tr>\n",
       "      <th>336</th>\n",
       "      <td>44.5</td>\n",
       "      <td>15.7</td>\n",
       "      <td>217.0</td>\n",
       "      <td>4875.0</td>\n",
       "      <td>1</td>\n",
       "      <td>0</td>\n",
       "      <td>0</td>\n",
       "      <td>0</td>\n",
       "      <td>0</td>\n",
       "      <td>1</td>\n",
       "      <td>Male</td>\n",
       "    </tr>\n",
       "  </tbody>\n",
       "</table>\n",
       "</div>"
      ],
      "text/plain": [
       "     bill_length_mm  bill_depth_mm  flipper_length_mm  body_mass_g  \\\n",
       "8              34.1           18.1              193.0       3475.0   \n",
       "9              42.0           20.2              190.0       4250.0   \n",
       "10             37.8           17.1              186.0       3300.0   \n",
       "11             37.8           17.3              180.0       3700.0   \n",
       "47             37.5           18.9              179.0       2975.0   \n",
       "246            44.5           14.3              216.0       4100.0   \n",
       "286            46.2           14.4              214.0       4650.0   \n",
       "324            47.3           13.8              216.0       4725.0   \n",
       "336            44.5           15.7              217.0       4875.0   \n",
       "\n",
       "     island_Biscoe  island_Dream  island_Torgersen  species_Adelie  \\\n",
       "8                0             0                 1               1   \n",
       "9                0             0                 1               1   \n",
       "10               0             0                 1               1   \n",
       "11               0             0                 1               1   \n",
       "47               0             1                 0               1   \n",
       "246              1             0                 0               0   \n",
       "286              1             0                 0               0   \n",
       "324              1             0                 0               0   \n",
       "336              1             0                 0               0   \n",
       "\n",
       "     species_Chinstrap  species_Gentoo     sex  \n",
       "8                    0               0  Female  \n",
       "9                    0               0    Male  \n",
       "10                   0               0  Female  \n",
       "11                   0               0  Female  \n",
       "47                   0               0  Female  \n",
       "246                  0               1  Female  \n",
       "286                  0               1  Female  \n",
       "324                  0               1  Female  \n",
       "336                  0               1    Male  "
      ]
     },
     "execution_count": 46,
     "metadata": {},
     "output_type": "execute_result"
    }
   ],
   "source": [
    "x_missing"
   ]
  },
  {
   "cell_type": "code",
   "execution_count": 48,
   "metadata": {
    "execution": {
     "iopub.execute_input": "2021-06-25T19:27:16.821212Z",
     "iopub.status.busy": "2021-06-25T19:27:16.821020Z",
     "iopub.status.idle": "2021-06-25T19:27:16.827780Z",
     "shell.execute_reply": "2021-06-25T19:27:16.827190Z",
     "shell.execute_reply.started": "2021-06-25T19:27:16.821188Z"
    }
   },
   "outputs": [],
   "source": [
    "for i in x_missing.index.to_list():\n",
    "    penguins['sex'].loc[i] = x_missing['sex'].loc[i]"
   ]
  },
  {
   "cell_type": "code",
   "execution_count": 49,
   "metadata": {
    "execution": {
     "iopub.execute_input": "2021-06-25T19:27:28.294555Z",
     "iopub.status.busy": "2021-06-25T19:27:28.294266Z",
     "iopub.status.idle": "2021-06-25T19:27:28.309854Z",
     "shell.execute_reply": "2021-06-25T19:27:28.309326Z",
     "shell.execute_reply.started": "2021-06-25T19:27:28.294522Z"
    }
   },
   "outputs": [
    {
     "name": "stdout",
     "output_type": "stream",
     "text": [
      "<class 'pandas.core.frame.DataFrame'>\n",
      "Int64Index: 342 entries, 0 to 343\n",
      "Data columns (total 7 columns):\n",
      " #   Column             Non-Null Count  Dtype   \n",
      "---  ------             --------------  -----   \n",
      " 0   species            342 non-null    category\n",
      " 1   island             342 non-null    category\n",
      " 2   bill_length_mm     342 non-null    float64 \n",
      " 3   bill_depth_mm      342 non-null    float64 \n",
      " 4   flipper_length_mm  342 non-null    float64 \n",
      " 5   body_mass_g        342 non-null    float64 \n",
      " 6   sex                342 non-null    category\n",
      "dtypes: category(3), float64(4)\n",
      "memory usage: 22.8 KB\n"
     ]
    }
   ],
   "source": [
    "penguins.info()"
   ]
  },
  {
   "cell_type": "markdown",
   "metadata": {},
   "source": [
    "Now, the rows with the missing 'sex' data has the predictions added back in. All that is left to do is add the two dataframes back together and reset the index. "
   ]
  },
  {
   "cell_type": "markdown",
   "metadata": {},
   "source": [
    "Notice the **inplace=True** above. \n",
    "\n",
    "Let's check to make sure there aren't any NaNs left:"
   ]
  },
  {
   "cell_type": "code",
   "execution_count": 169,
   "metadata": {
    "execution": {
     "iopub.execute_input": "2021-06-23T22:14:20.760245Z",
     "iopub.status.busy": "2021-06-23T22:14:20.759986Z",
     "iopub.status.idle": "2021-06-23T22:14:20.766930Z",
     "shell.execute_reply": "2021-06-23T22:14:20.766413Z",
     "shell.execute_reply.started": "2021-06-23T22:14:20.760218Z"
    },
    "tags": []
   },
   "outputs": [
    {
     "data": {
      "text/plain": [
       "bill_length_mm       0\n",
       "bill_depth_mm        0\n",
       "flipper_length_mm    0\n",
       "body_mass_g          0\n",
       "sex                  8\n",
       "island_Biscoe        0\n",
       "island_Dream         0\n",
       "island_Torgersen     0\n",
       "species_Adelie       0\n",
       "species_Chinstrap    0\n",
       "species_Gentoo       0\n",
       "dtype: int64"
      ]
     },
     "execution_count": 169,
     "metadata": {},
     "output_type": "execute_result"
    }
   ],
   "source": [
    "peng_encoded.isnull().sum()"
   ]
  },
  {
   "cell_type": "markdown",
   "metadata": {},
   "source": [
    "## Data Variance"
   ]
  },
  {
   "cell_type": "markdown",
   "metadata": {},
   "source": [
    "Sometimes columns will have only 1 value or a very small number of unique values. Analytically speaking, these columns aren't worth much. \n",
    "\n",
    "**Variance** is defined as the average value from the mean. Therefore, columns that have only one value have **_zero_** variance. \n",
    "\n",
    "Let's briefly load a \"standard\" example machine learning data set to demonstrate."
   ]
  },
  {
   "cell_type": "code",
   "execution_count": 94,
   "metadata": {
    "execution": {
     "iopub.execute_input": "2021-06-25T22:03:21.173608Z",
     "iopub.status.busy": "2021-06-25T22:03:21.173345Z",
     "iopub.status.idle": "2021-06-25T22:03:21.187313Z",
     "shell.execute_reply": "2021-06-25T22:03:21.186761Z",
     "shell.execute_reply.started": "2021-06-25T22:03:21.173578Z"
    },
    "tags": []
   },
   "outputs": [],
   "source": [
    "oil = pd.read_csv('data_wk4/oil-spill.csv', header=None)"
   ]
  },
  {
   "cell_type": "code",
   "execution_count": 95,
   "metadata": {
    "execution": {
     "iopub.execute_input": "2021-06-25T22:03:26.907618Z",
     "iopub.status.busy": "2021-06-25T22:03:26.907343Z",
     "iopub.status.idle": "2021-06-25T22:03:26.927446Z",
     "shell.execute_reply": "2021-06-25T22:03:26.927029Z",
     "shell.execute_reply.started": "2021-06-25T22:03:26.907578Z"
    },
    "tags": []
   },
   "outputs": [
    {
     "data": {
      "text/html": [
       "<div>\n",
       "<style scoped>\n",
       "    .dataframe tbody tr th:only-of-type {\n",
       "        vertical-align: middle;\n",
       "    }\n",
       "\n",
       "    .dataframe tbody tr th {\n",
       "        vertical-align: top;\n",
       "    }\n",
       "\n",
       "    .dataframe thead th {\n",
       "        text-align: right;\n",
       "    }\n",
       "</style>\n",
       "<table border=\"1\" class=\"dataframe\">\n",
       "  <thead>\n",
       "    <tr style=\"text-align: right;\">\n",
       "      <th></th>\n",
       "      <th>0</th>\n",
       "      <th>1</th>\n",
       "      <th>2</th>\n",
       "      <th>3</th>\n",
       "      <th>4</th>\n",
       "      <th>5</th>\n",
       "      <th>6</th>\n",
       "      <th>7</th>\n",
       "      <th>8</th>\n",
       "      <th>9</th>\n",
       "      <th>...</th>\n",
       "      <th>40</th>\n",
       "      <th>41</th>\n",
       "      <th>42</th>\n",
       "      <th>43</th>\n",
       "      <th>44</th>\n",
       "      <th>45</th>\n",
       "      <th>46</th>\n",
       "      <th>47</th>\n",
       "      <th>48</th>\n",
       "      <th>49</th>\n",
       "    </tr>\n",
       "  </thead>\n",
       "  <tbody>\n",
       "    <tr>\n",
       "      <th>0</th>\n",
       "      <td>1</td>\n",
       "      <td>2558</td>\n",
       "      <td>1506.09</td>\n",
       "      <td>456.63</td>\n",
       "      <td>90</td>\n",
       "      <td>6395000.0</td>\n",
       "      <td>40.88</td>\n",
       "      <td>7.89</td>\n",
       "      <td>29780.0</td>\n",
       "      <td>0.19</td>\n",
       "      <td>...</td>\n",
       "      <td>2850.00</td>\n",
       "      <td>1000.00</td>\n",
       "      <td>763.16</td>\n",
       "      <td>135.46</td>\n",
       "      <td>3.73</td>\n",
       "      <td>0</td>\n",
       "      <td>33243.19</td>\n",
       "      <td>65.74</td>\n",
       "      <td>7.95</td>\n",
       "      <td>1</td>\n",
       "    </tr>\n",
       "    <tr>\n",
       "      <th>1</th>\n",
       "      <td>2</td>\n",
       "      <td>22325</td>\n",
       "      <td>79.11</td>\n",
       "      <td>841.03</td>\n",
       "      <td>180</td>\n",
       "      <td>55812500.0</td>\n",
       "      <td>51.11</td>\n",
       "      <td>1.21</td>\n",
       "      <td>61900.0</td>\n",
       "      <td>0.02</td>\n",
       "      <td>...</td>\n",
       "      <td>5750.00</td>\n",
       "      <td>11500.00</td>\n",
       "      <td>9593.48</td>\n",
       "      <td>1648.80</td>\n",
       "      <td>0.60</td>\n",
       "      <td>0</td>\n",
       "      <td>51572.04</td>\n",
       "      <td>65.73</td>\n",
       "      <td>6.26</td>\n",
       "      <td>0</td>\n",
       "    </tr>\n",
       "    <tr>\n",
       "      <th>2</th>\n",
       "      <td>3</td>\n",
       "      <td>115</td>\n",
       "      <td>1449.85</td>\n",
       "      <td>608.43</td>\n",
       "      <td>88</td>\n",
       "      <td>287500.0</td>\n",
       "      <td>40.42</td>\n",
       "      <td>7.34</td>\n",
       "      <td>3340.0</td>\n",
       "      <td>0.18</td>\n",
       "      <td>...</td>\n",
       "      <td>1400.00</td>\n",
       "      <td>250.00</td>\n",
       "      <td>150.00</td>\n",
       "      <td>45.13</td>\n",
       "      <td>9.33</td>\n",
       "      <td>1</td>\n",
       "      <td>31692.84</td>\n",
       "      <td>65.81</td>\n",
       "      <td>7.84</td>\n",
       "      <td>1</td>\n",
       "    </tr>\n",
       "    <tr>\n",
       "      <th>3</th>\n",
       "      <td>4</td>\n",
       "      <td>1201</td>\n",
       "      <td>1562.53</td>\n",
       "      <td>295.65</td>\n",
       "      <td>66</td>\n",
       "      <td>3002500.0</td>\n",
       "      <td>42.40</td>\n",
       "      <td>7.97</td>\n",
       "      <td>18030.0</td>\n",
       "      <td>0.19</td>\n",
       "      <td>...</td>\n",
       "      <td>6041.52</td>\n",
       "      <td>761.58</td>\n",
       "      <td>453.21</td>\n",
       "      <td>144.97</td>\n",
       "      <td>13.33</td>\n",
       "      <td>1</td>\n",
       "      <td>37696.21</td>\n",
       "      <td>65.67</td>\n",
       "      <td>8.07</td>\n",
       "      <td>1</td>\n",
       "    </tr>\n",
       "    <tr>\n",
       "      <th>4</th>\n",
       "      <td>5</td>\n",
       "      <td>312</td>\n",
       "      <td>950.27</td>\n",
       "      <td>440.86</td>\n",
       "      <td>37</td>\n",
       "      <td>780000.0</td>\n",
       "      <td>41.43</td>\n",
       "      <td>7.03</td>\n",
       "      <td>3350.0</td>\n",
       "      <td>0.17</td>\n",
       "      <td>...</td>\n",
       "      <td>1320.04</td>\n",
       "      <td>710.63</td>\n",
       "      <td>512.54</td>\n",
       "      <td>109.16</td>\n",
       "      <td>2.58</td>\n",
       "      <td>0</td>\n",
       "      <td>29038.17</td>\n",
       "      <td>65.66</td>\n",
       "      <td>7.35</td>\n",
       "      <td>0</td>\n",
       "    </tr>\n",
       "  </tbody>\n",
       "</table>\n",
       "<p>5 rows × 50 columns</p>\n",
       "</div>"
      ],
      "text/plain": [
       "   0      1        2       3    4           5      6     7        8     9   \\\n",
       "0   1   2558  1506.09  456.63   90   6395000.0  40.88  7.89  29780.0  0.19   \n",
       "1   2  22325    79.11  841.03  180  55812500.0  51.11  1.21  61900.0  0.02   \n",
       "2   3    115  1449.85  608.43   88    287500.0  40.42  7.34   3340.0  0.18   \n",
       "3   4   1201  1562.53  295.65   66   3002500.0  42.40  7.97  18030.0  0.19   \n",
       "4   5    312   950.27  440.86   37    780000.0  41.43  7.03   3350.0  0.17   \n",
       "\n",
       "   ...       40        41       42       43     44  45        46     47    48  \\\n",
       "0  ...  2850.00   1000.00   763.16   135.46   3.73   0  33243.19  65.74  7.95   \n",
       "1  ...  5750.00  11500.00  9593.48  1648.80   0.60   0  51572.04  65.73  6.26   \n",
       "2  ...  1400.00    250.00   150.00    45.13   9.33   1  31692.84  65.81  7.84   \n",
       "3  ...  6041.52    761.58   453.21   144.97  13.33   1  37696.21  65.67  8.07   \n",
       "4  ...  1320.04    710.63   512.54   109.16   2.58   0  29038.17  65.66  7.35   \n",
       "\n",
       "   49  \n",
       "0   1  \n",
       "1   0  \n",
       "2   1  \n",
       "3   1  \n",
       "4   0  \n",
       "\n",
       "[5 rows x 50 columns]"
      ]
     },
     "execution_count": 95,
     "metadata": {},
     "output_type": "execute_result"
    }
   ],
   "source": [
    "oil.head()"
   ]
  },
  {
   "cell_type": "markdown",
   "metadata": {},
   "source": [
    "We'll use the Pandas `nunique()` function to see how many unique values exist in each column:"
   ]
  },
  {
   "cell_type": "code",
   "execution_count": 96,
   "metadata": {
    "execution": {
     "iopub.execute_input": "2021-06-25T22:03:34.654648Z",
     "iopub.status.busy": "2021-06-25T22:03:34.654364Z",
     "iopub.status.idle": "2021-06-25T22:03:34.676363Z",
     "shell.execute_reply": "2021-06-25T22:03:34.675843Z",
     "shell.execute_reply.started": "2021-06-25T22:03:34.654616Z"
    },
    "tags": []
   },
   "outputs": [
    {
     "data": {
      "text/plain": [
       "0     238\n",
       "1     297\n",
       "2     927\n",
       "3     933\n",
       "4     179\n",
       "5     375\n",
       "6     820\n",
       "7     618\n",
       "8     561\n",
       "9      57\n",
       "10    577\n",
       "11     59\n",
       "12     73\n",
       "13    107\n",
       "14     53\n",
       "15     91\n",
       "16    893\n",
       "17    810\n",
       "18    170\n",
       "19     53\n",
       "20     68\n",
       "21      9\n",
       "22      1\n",
       "23     92\n",
       "24      9\n",
       "25      8\n",
       "26      9\n",
       "27    308\n",
       "28    447\n",
       "29    392\n",
       "30    107\n",
       "31     42\n",
       "32      4\n",
       "33     45\n",
       "34    141\n",
       "35    110\n",
       "36      3\n",
       "37    758\n",
       "38      9\n",
       "39      9\n",
       "40    388\n",
       "41    220\n",
       "42    644\n",
       "43    649\n",
       "44    499\n",
       "45      2\n",
       "46    937\n",
       "47    169\n",
       "48    286\n",
       "49      2\n",
       "dtype: int64"
      ]
     },
     "execution_count": 96,
     "metadata": {},
     "output_type": "execute_result"
    }
   ],
   "source": [
    "oil.nunique()"
   ]
  },
  {
   "cell_type": "markdown",
   "metadata": {},
   "source": [
    "As you can see, Column 22 has only 1 unique value and several columns have fewer than 10 unique values. "
   ]
  },
  {
   "cell_type": "markdown",
   "metadata": {},
   "source": [
    "### Boxplots"
   ]
  },
  {
   "cell_type": "markdown",
   "metadata": {},
   "source": [
    "Box-and-whisker plots, or just boxplots, can help detect this type of problem, also. Recall:<br> \n",
    "* The top and bottom \"whiskers\" show min and max values, <br>\n",
    "* The bottom of the box shows the first quartile<br>\n",
    "* The line in the middle shows the mean<br>\n",
    "* The top of the box shows the third quartile.<br>\n",
    "* Outliers are shown outside of the min/max whiskers.<br>\n",
    "\n",
    "Pandas knows how to make boxplots of columns. It can plot all columns (default) or a list of columns. Here are a couple of examples from the oil spill dataset above:"
   ]
  },
  {
   "cell_type": "code",
   "execution_count": 97,
   "metadata": {
    "execution": {
     "iopub.execute_input": "2021-06-25T22:03:43.387724Z",
     "iopub.status.busy": "2021-06-25T22:03:43.387450Z",
     "iopub.status.idle": "2021-06-25T22:03:43.500721Z",
     "shell.execute_reply": "2021-06-25T22:03:43.500289Z",
     "shell.execute_reply.started": "2021-06-25T22:03:43.387700Z"
    },
    "tags": []
   },
   "outputs": [
    {
     "data": {
      "text/plain": [
       "<AxesSubplot:>"
      ]
     },
     "execution_count": 97,
     "metadata": {},
     "output_type": "execute_result"
    },
    {
     "data": {
      "image/png": "[encoded data removed]",
      "text/plain": [
       "<Figure size 432x288 with 1 Axes>"
      ]
     },
     "metadata": {},
     "output_type": "display_data"
    }
   ],
   "source": [
    "oil.boxplot([2,3])"
   ]
  },
  {
   "cell_type": "markdown",
   "metadata": {},
   "source": [
    "Now, compare that to columns 22, 36, 45, etc."
   ]
  },
  {
   "cell_type": "code",
   "execution_count": 98,
   "metadata": {
    "execution": {
     "iopub.execute_input": "2021-06-25T22:03:50.520045Z",
     "iopub.status.busy": "2021-06-25T22:03:50.519865Z",
     "iopub.status.idle": "2021-06-25T22:03:50.654000Z",
     "shell.execute_reply": "2021-06-25T22:03:50.653379Z",
     "shell.execute_reply.started": "2021-06-25T22:03:50.520027Z"
    },
    "tags": []
   },
   "outputs": [
    {
     "data": {
      "text/plain": [
       "<AxesSubplot:>"
      ]
     },
     "execution_count": 98,
     "metadata": {},
     "output_type": "execute_result"
    },
    {
     "data": {
      "image/png": "[encoded data removed]",
      "text/plain": [
       "<Figure size 432x288 with 1 Axes>"
      ]
     },
     "metadata": {},
     "output_type": "display_data"
    }
   ],
   "source": [
    "oil.boxplot([22, 36, 45, 49])"
   ]
  },
  {
   "cell_type": "markdown",
   "metadata": {},
   "source": [
    "Something is obviously going on with those columns, and they should be investigated before being used in modeling and analysis. You don't want to throw away a perfectly good categorical column that is already in number form.\n",
    "\n",
    "Now, let's go back to our penguins. If we just ask Pandas to create a default boxplot, we see that the body_mass_g column overshadows the others (indicating it may be a good candidate for scaling, later)."
   ]
  },
  {
   "cell_type": "code",
   "execution_count": 50,
   "metadata": {
    "execution": {
     "iopub.execute_input": "2021-06-25T19:33:39.378122Z",
     "iopub.status.busy": "2021-06-25T19:33:39.377858Z",
     "iopub.status.idle": "2021-06-25T19:33:39.669459Z",
     "shell.execute_reply": "2021-06-25T19:33:39.669042Z",
     "shell.execute_reply.started": "2021-06-25T19:33:39.378092Z"
    }
   },
   "outputs": [
    {
     "data": {
      "text/plain": [
       "<AxesSubplot:>"
      ]
     },
     "execution_count": 50,
     "metadata": {},
     "output_type": "execute_result"
    },
    {
     "data": {
      "image/png": "[encoded data removed]",
      "text/plain": [
       "<Figure size 432x288 with 1 Axes>"
      ]
     },
     "metadata": {},
     "output_type": "display_data"
    }
   ],
   "source": [
    "penguins.boxplot()"
   ]
  },
  {
   "cell_type": "markdown",
   "metadata": {},
   "source": [
    "Let's look at the columns without body_mass_g:"
   ]
  },
  {
   "cell_type": "code",
   "execution_count": 67,
   "metadata": {
    "execution": {
     "iopub.execute_input": "2021-06-25T20:31:35.042413Z",
     "iopub.status.busy": "2021-06-25T20:31:35.042150Z",
     "iopub.status.idle": "2021-06-25T20:31:35.046882Z",
     "shell.execute_reply": "2021-06-25T20:31:35.046371Z",
     "shell.execute_reply.started": "2021-06-25T20:31:35.042384Z"
    },
    "tags": []
   },
   "outputs": [
    {
     "data": {
      "text/plain": [
       "Index(['species', 'island', 'bill_length_mm', 'bill_depth_mm',\n",
       "       'flipper_length_mm', 'body_mass_g', 'sex'],\n",
       "      dtype='object')"
      ]
     },
     "execution_count": 67,
     "metadata": {},
     "output_type": "execute_result"
    }
   ],
   "source": [
    "penguins.columns"
   ]
  },
  {
   "cell_type": "code",
   "execution_count": 68,
   "metadata": {
    "execution": {
     "iopub.execute_input": "2021-06-25T20:32:24.953042Z",
     "iopub.status.busy": "2021-06-25T20:32:24.952772Z",
     "iopub.status.idle": "2021-06-25T20:32:25.072144Z",
     "shell.execute_reply": "2021-06-25T20:32:25.071732Z",
     "shell.execute_reply.started": "2021-06-25T20:32:24.953012Z"
    }
   },
   "outputs": [
    {
     "data": {
      "text/plain": [
       "<AxesSubplot:>"
      ]
     },
     "execution_count": 68,
     "metadata": {},
     "output_type": "execute_result"
    },
    {
     "data": {
      "image/png": "[encoded data removed]",
      "text/plain": [
       "<Figure size 432x288 with 1 Axes>"
      ]
     },
     "metadata": {},
     "output_type": "display_data"
    }
   ],
   "source": [
    "penguins.boxplot(['bill_length_mm', 'bill_depth_mm','flipper_length_mm'])"
   ]
  },
  {
   "cell_type": "code",
   "execution_count": 69,
   "metadata": {
    "execution": {
     "iopub.execute_input": "2021-06-25T20:33:20.269898Z",
     "iopub.status.busy": "2021-06-25T20:33:20.269534Z",
     "iopub.status.idle": "2021-06-25T20:33:20.359476Z",
     "shell.execute_reply": "2021-06-25T20:33:20.359082Z",
     "shell.execute_reply.started": "2021-06-25T20:33:20.269860Z"
    }
   },
   "outputs": [
    {
     "data": {
      "text/plain": [
       "<AxesSubplot:>"
      ]
     },
     "execution_count": 69,
     "metadata": {},
     "output_type": "execute_result"
    },
    {
     "data": {
      "image/png": "[encoded data removed]",
      "text/plain": [
       "<Figure size 432x288 with 1 Axes>"
      ]
     },
     "metadata": {},
     "output_type": "display_data"
    }
   ],
   "source": [
    "penguins.boxplot(['bill_length_mm', 'bill_depth_mm'])"
   ]
  },
  {
   "cell_type": "code",
   "execution_count": 70,
   "metadata": {
    "execution": {
     "iopub.execute_input": "2021-06-25T20:39:19.717365Z",
     "iopub.status.busy": "2021-06-25T20:39:19.717050Z",
     "iopub.status.idle": "2021-06-25T20:39:19.728334Z",
     "shell.execute_reply": "2021-06-25T20:39:19.727967Z",
     "shell.execute_reply.started": "2021-06-25T20:39:19.717333Z"
    }
   },
   "outputs": [
    {
     "data": {
      "text/plain": [
       "species                3\n",
       "island                 3\n",
       "bill_length_mm       164\n",
       "bill_depth_mm         80\n",
       "flipper_length_mm     55\n",
       "body_mass_g           94\n",
       "sex                    2\n",
       "dtype: int64"
      ]
     },
     "execution_count": 70,
     "metadata": {},
     "output_type": "execute_result"
    }
   ],
   "source": [
    "penguins.nunique()"
   ]
  },
  {
   "cell_type": "markdown",
   "metadata": {},
   "source": [
    "## Duplicate Rows"
   ]
  },
  {
   "cell_type": "markdown",
   "metadata": {},
   "source": [
    "Pandas can give us some help in identifying duplicate rows, although it just gives us a True or False. To see it in action, let's look at the **Iris** data set:"
   ]
  },
  {
   "cell_type": "code",
   "execution_count": 74,
   "metadata": {
    "execution": {
     "iopub.execute_input": "2021-06-25T21:14:28.433376Z",
     "iopub.status.busy": "2021-06-25T21:14:28.433104Z",
     "iopub.status.idle": "2021-06-25T21:14:29.205549Z",
     "shell.execute_reply": "2021-06-25T21:14:29.204883Z",
     "shell.execute_reply.started": "2021-06-25T21:14:28.433341Z"
    }
   },
   "outputs": [],
   "source": [
    "iris = sns.load_dataset('iris')"
   ]
  },
  {
   "cell_type": "code",
   "execution_count": 75,
   "metadata": {
    "execution": {
     "iopub.execute_input": "2021-06-25T21:14:42.341220Z",
     "iopub.status.busy": "2021-06-25T21:14:42.340939Z",
     "iopub.status.idle": "2021-06-25T21:14:42.349507Z",
     "shell.execute_reply": "2021-06-25T21:14:42.348898Z",
     "shell.execute_reply.started": "2021-06-25T21:14:42.341188Z"
    }
   },
   "outputs": [
    {
     "data": {
      "text/plain": [
       "0      False\n",
       "1      False\n",
       "2      False\n",
       "3      False\n",
       "4      False\n",
       "       ...  \n",
       "145    False\n",
       "146    False\n",
       "147    False\n",
       "148    False\n",
       "149    False\n",
       "Length: 150, dtype: bool"
      ]
     },
     "execution_count": 75,
     "metadata": {},
     "output_type": "execute_result"
    }
   ],
   "source": [
    "iris.duplicated()"
   ]
  },
  {
   "cell_type": "markdown",
   "metadata": {},
   "source": [
    "To really see what is going on, we can use the Python `any()` filter:"
   ]
  },
  {
   "cell_type": "code",
   "execution_count": 79,
   "metadata": {
    "execution": {
     "iopub.execute_input": "2021-06-25T21:16:46.797763Z",
     "iopub.status.busy": "2021-06-25T21:16:46.797504Z",
     "iopub.status.idle": "2021-06-25T21:16:46.804996Z",
     "shell.execute_reply": "2021-06-25T21:16:46.804083Z",
     "shell.execute_reply.started": "2021-06-25T21:16:46.797734Z"
    },
    "tags": []
   },
   "outputs": [
    {
     "data": {
      "text/plain": [
       "True"
      ]
     },
     "execution_count": 79,
     "metadata": {},
     "output_type": "execute_result"
    }
   ],
   "source": [
    "iris.duplicated().any()"
   ]
  },
  {
   "cell_type": "markdown",
   "metadata": {},
   "source": [
    "OK, so we have some duplicates. Let's put that back in the dataset to see which ones:"
   ]
  },
  {
   "cell_type": "code",
   "execution_count": 81,
   "metadata": {
    "execution": {
     "iopub.execute_input": "2021-06-25T21:18:43.468000Z",
     "iopub.status.busy": "2021-06-25T21:18:43.467730Z",
     "iopub.status.idle": "2021-06-25T21:18:43.476726Z",
     "shell.execute_reply": "2021-06-25T21:18:43.476136Z",
     "shell.execute_reply.started": "2021-06-25T21:18:43.467971Z"
    },
    "tags": []
   },
   "outputs": [
    {
     "name": "stdout",
     "output_type": "stream",
     "text": [
      "     sepal_length  sepal_width  petal_length  petal_width    species\n",
      "142           5.8          2.7           5.1          1.9  virginica\n"
     ]
    }
   ],
   "source": [
    "dupes = iris.duplicated()\n",
    "print(iris[dupes])"
   ]
  },
  {
   "cell_type": "markdown",
   "metadata": {},
   "source": [
    "Pandas also has a `drop_duplicates()` function to help."
   ]
  },
  {
   "cell_type": "code",
   "execution_count": 84,
   "metadata": {
    "execution": {
     "iopub.execute_input": "2021-06-25T21:21:09.353323Z",
     "iopub.status.busy": "2021-06-25T21:21:09.353058Z",
     "iopub.status.idle": "2021-06-25T21:21:09.359517Z",
     "shell.execute_reply": "2021-06-25T21:21:09.358918Z",
     "shell.execute_reply.started": "2021-06-25T21:21:09.353294Z"
    },
    "tags": []
   },
   "outputs": [
    {
     "name": "stdout",
     "output_type": "stream",
     "text": [
      "Before: (150, 5)\n",
      "After: (149, 5)\n"
     ]
    }
   ],
   "source": [
    "print(f'Before: {iris.shape}')\n",
    "iris.drop_duplicates(inplace=True)\n",
    "print(f'After: {iris.shape}')"
   ]
  },
  {
   "cell_type": "markdown",
   "metadata": {},
   "source": [
    "## Outliers"
   ]
  },
  {
   "cell_type": "markdown",
   "metadata": {},
   "source": [
    "Outliers are data points that **lie out**side of \"normal\" observations. \n",
    "\n",
    "As we saw earlier, boxplots can show us outliers, and so can scatter plots. Remember, column 3 of the **oil** data set had some outliers: "
   ]
  },
  {
   "cell_type": "code",
   "execution_count": 100,
   "metadata": {
    "execution": {
     "iopub.execute_input": "2021-06-25T22:04:29.774072Z",
     "iopub.status.busy": "2021-06-25T22:04:29.773796Z",
     "iopub.status.idle": "2021-06-25T22:04:29.940360Z",
     "shell.execute_reply": "2021-06-25T22:04:29.939913Z",
     "shell.execute_reply.started": "2021-06-25T22:04:29.774042Z"
    },
    "tags": []
   },
   "outputs": [
    {
     "data": {
      "text/plain": [
       "<AxesSubplot:xlabel='2', ylabel='3'>"
      ]
     },
     "execution_count": 100,
     "metadata": {},
     "output_type": "execute_result"
    },
    {
     "data": {
      "image/png": "[encoded data removed]",
      "text/plain": [
       "<Figure size 432x288 with 1 Axes>"
      ]
     },
     "metadata": {},
     "output_type": "display_data"
    }
   ],
   "source": [
    "oil.plot.scatter(2,3, c='darkblue')"
   ]
  },
  {
   "cell_type": "markdown",
   "metadata": {},
   "source": [
    "It really gets fun when we add color. Let's look at our penguins...\n",
    "\n",
    "I'm switching to Seaborn because Pandas can't interpret 'species' unless I convert it to a number."
   ]
  },
  {
   "cell_type": "code",
   "execution_count": 93,
   "metadata": {
    "execution": {
     "iopub.execute_input": "2021-06-25T21:57:51.723377Z",
     "iopub.status.busy": "2021-06-25T21:57:51.723121Z",
     "iopub.status.idle": "2021-06-25T21:57:52.128033Z",
     "shell.execute_reply": "2021-06-25T21:57:52.127617Z",
     "shell.execute_reply.started": "2021-06-25T21:57:51.723349Z"
    },
    "tags": []
   },
   "outputs": [
    {
     "data": {
      "text/plain": [
       "<AxesSubplot:xlabel='flipper_length_mm', ylabel='body_mass_g'>"
      ]
     },
     "execution_count": 93,
     "metadata": {},
     "output_type": "execute_result"
    },
    {
     "data": {
      "image/png": "[encoded data removed]",
      "text/plain": [
       "<Figure size 432x288 with 1 Axes>"
      ]
     },
     "metadata": {},
     "output_type": "display_data"
    }
   ],
   "source": [
    "sns.scatterplot(data=penguins,x='flipper_length_mm', y='body_mass_g',hue='species')"
   ]
  },
  {
   "cell_type": "markdown",
   "metadata": {},
   "source": [
    "Wow... there is clearly a linear relationship between flipper length and body mass, and Gentoo penguins are obviously larger than the other two species. \n",
    "\n",
    "Sometimes the outliers aren't as easy to identify visually. **Jason Brownlee** presents several methods for mathematically determining outliers, including:<br>\n",
    "* Standard deviation method<br>\n",
    "* Interquartile range method<br>\n",
    "\n",
    "Then he introduces **Automatic Outlier Detection** using SciKit-Learn's `LocalOutlierFactor` class and demonstrates how removing outliers improves predictive accuracy using one of the simplest forms of predictive modeling -- linear regression. In a nutshell, linear regression uses the training data to draw a straight \"regression\" line on the graph of the data. Predictive requests are then matched up to the appropriate (x, y) coordinate and the resulting value returned.\n",
    "\n",
    "Mr. Brownlee's code is reproduced below:\n",
    "\n",
    "First, **linear regression** leaving the outliers in:"
   ]
  },
  {
   "cell_type": "code",
   "execution_count": 104,
   "metadata": {
    "execution": {
     "iopub.execute_input": "2021-06-25T22:19:56.461116Z",
     "iopub.status.busy": "2021-06-25T22:19:56.460855Z",
     "iopub.status.idle": "2021-06-25T22:19:56.624269Z",
     "shell.execute_reply": "2021-06-25T22:19:56.623588Z",
     "shell.execute_reply.started": "2021-06-25T22:19:56.461088Z"
    },
    "tags": []
   },
   "outputs": [
    {
     "name": "stdout",
     "output_type": "stream",
     "text": [
      "MAE: 3.417\n"
     ]
    }
   ],
   "source": [
    "# evaluate model on the raw dataset\n",
    "from pandas import read_csv\n",
    "from sklearn.model_selection import train_test_split\n",
    "from sklearn.linear_model import LinearRegression\n",
    "from sklearn.metrics import mean_absolute_error\n",
    "# load the dataset\n",
    "df = read_csv('data_wk4/housing.csv', header=None)\n",
    "# retrieve the array\n",
    "data = df.values\n",
    "# split into input and output elements\n",
    "X, y = data[:, :-1], data[:, -1]\n",
    "# split into train and test sets\n",
    "X_train, X_test, y_train, y_test = train_test_split(X, y, test_size=0.33, random_state=1)\n",
    "# fit the model\n",
    "model = LinearRegression()\n",
    "model.fit(X_train, y_train)\n",
    "# evaluate the model\n",
    "yhat = model.predict(X_test)\n",
    "# evaluate predictions\n",
    "mae = mean_absolute_error(y_test, yhat)\n",
    "print('MAE: %.3f' % mae)"
   ]
  },
  {
   "cell_type": "markdown",
   "metadata": {},
   "source": [
    "According to https://www.statisticshowto.com/absolute-error/, **Absolute Error** measures the difference between a measured value and the \"true\" value. In this case, it is the difference between the **predicted** value and the true value.\n",
    "\n",
    "**Mean Absolute Error (MAE)** measures the mean of all absolute errors in a group of observations (like our test data set).\n",
    "\n",
    "Now, let's remove the outliers:"
   ]
  },
  {
   "cell_type": "code",
   "execution_count": 106,
   "metadata": {
    "execution": {
     "iopub.execute_input": "2021-06-25T22:20:50.474115Z",
     "iopub.status.busy": "2021-06-25T22:20:50.473859Z",
     "iopub.status.idle": "2021-06-25T22:20:50.532700Z",
     "shell.execute_reply": "2021-06-25T22:20:50.531896Z",
     "shell.execute_reply.started": "2021-06-25T22:20:50.474086Z"
    },
    "tags": []
   },
   "outputs": [
    {
     "name": "stdout",
     "output_type": "stream",
     "text": [
      "(339, 13) (339,)\n",
      "(305, 13) (305,)\n",
      "MAE: 3.356\n"
     ]
    }
   ],
   "source": [
    "# evaluate model on training dataset with outliers removed\n",
    "from pandas import read_csv\n",
    "from sklearn.model_selection import train_test_split\n",
    "from sklearn.linear_model import LinearRegression\n",
    "from sklearn.neighbors import LocalOutlierFactor\n",
    "from sklearn.metrics import mean_absolute_error\n",
    "# load the dataset\n",
    "df = read_csv('data_wk4/housing.csv', header=None)\n",
    "# retrieve the array\n",
    "data = df.values\n",
    "# split into input and output elements\n",
    "X, y = data[:, :-1], data[:, -1]\n",
    "# split into train and test sets\n",
    "X_train, X_test, y_train, y_test = train_test_split(X, y, test_size=0.33, random_state=1)\n",
    "# summarize the shape of the training dataset\n",
    "print(X_train.shape, y_train.shape)\n",
    "# identify outliers in the training dataset\n",
    "lof = LocalOutlierFactor()\n",
    "yhat = lof.fit_predict(X_train)\n",
    "# select all rows that are not outliers\n",
    "mask = yhat != -1\n",
    "X_train, y_train = X_train[mask, :], y_train[mask]\n",
    "# summarize the shape of the updated training dataset\n",
    "print(X_train.shape, y_train.shape)\n",
    "# fit the model\n",
    "model = LinearRegression()\n",
    "model.fit(X_train, y_train)\n",
    "# evaluate the model\n",
    "yhat = model.predict(X_test)\n",
    "# evaluate predictions\n",
    "mae = mean_absolute_error(y_test, yhat)\n",
    "print('MAE: %.3f' % mae)"
   ]
  },
  {
   "cell_type": "markdown",
   "metadata": {},
   "source": [
    "---\n",
    "\n",
    "The decrease in **Mean Absolute Error** indicates an increase in accuracy. The easy assumption is that the outliers biased the model's learning and thus affected the predictive ability. "
   ]
  },
  {
   "cell_type": "markdown",
   "metadata": {},
   "source": [
    "# Feature Selection"
   ]
  },
  {
   "cell_type": "markdown",
   "metadata": {},
   "source": [
    "**Features** are, of course, the columns of your dataset. \n",
    "\n",
    "**Feature selection** involves deciding which features to include in the training and usage of machine learning models. \n",
    "\n",
    "> Many models, especially those based on regression slopes and intercepts, will estimate\n",
    "parameters for every term in the model. Because of this, the presence of non-\n",
    "informative variables can add uncertainty to the predictions and reduce the overall\n",
    "effectiveness of the model.\n",
    ">\n",
    "> *— Page 488, Applied Predictive Modeling, 2013.*\n",
    "\n",
    "Besides accuracy concerns, with many model types, more features will mean increased training time.  \n"
   ]
  },
  {
   "cell_type": "markdown",
   "metadata": {},
   "source": [
    "## Pairplot"
   ]
  },
  {
   "cell_type": "markdown",
   "metadata": {},
   "source": [
    "Seaborn has the ability to plot each feature, one by one, against the others. As you can see below, this is an easy way to uncover linear relationships.\n",
    "\n",
    "**Caution:** Doing a pairplot on a large dataset with no restrictions can bring your computer to its knees. Only plot **subsets** of the variables, as appropriate."
   ]
  },
  {
   "cell_type": "code",
   "execution_count": 107,
   "metadata": {
    "execution": {
     "iopub.execute_input": "2021-06-30T20:46:18.833411Z",
     "iopub.status.busy": "2021-06-30T20:46:18.833146Z",
     "iopub.status.idle": "2021-06-30T20:46:20.727571Z",
     "shell.execute_reply": "2021-06-30T20:46:20.726890Z",
     "shell.execute_reply.started": "2021-06-30T20:46:18.833381Z"
    }
   },
   "outputs": [
    {
     "data": {
      "text/plain": [
       "<seaborn.axisgrid.PairGrid at 0x7fb110046520>"
      ]
     },
     "execution_count": 107,
     "metadata": {},
     "output_type": "execute_result"
    },
    {
     "data": {
      "image/png": "[encoded data removed]",
      "text/plain": [
       "<Figure size 720x720 with 20 Axes>"
      ]
     },
     "metadata": {},
     "output_type": "display_data"
    }
   ],
   "source": [
    "sns.pairplot(penguins)"
   ]
  },
  {
   "cell_type": "markdown",
   "metadata": {},
   "source": [
    "## Correlation matrix and heatmaps"
   ]
  },
  {
   "cell_type": "markdown",
   "metadata": {},
   "source": [
    "A Pandas dataset knows how to create a correlation matrix showing relationships among all the features. While this can be useful, it outputs a table of numbers that can be hard to intrepret over a large dataset.\n",
    "\n",
    "The `corr()` function does a pearson correlation by default, although others are available."
   ]
  },
  {
   "cell_type": "code",
   "execution_count": 131,
   "metadata": {
    "execution": {
     "iopub.execute_input": "2021-07-02T19:32:03.603882Z",
     "iopub.status.busy": "2021-07-02T19:32:03.603554Z",
     "iopub.status.idle": "2021-07-02T19:32:03.615248Z",
     "shell.execute_reply": "2021-07-02T19:32:03.614744Z",
     "shell.execute_reply.started": "2021-07-02T19:32:03.603844Z"
    },
    "tags": []
   },
   "outputs": [
    {
     "data": {
      "text/html": [
       "<div>\n",
       "<style scoped>\n",
       "    .dataframe tbody tr th:only-of-type {\n",
       "        vertical-align: middle;\n",
       "    }\n",
       "\n",
       "    .dataframe tbody tr th {\n",
       "        vertical-align: top;\n",
       "    }\n",
       "\n",
       "    .dataframe thead th {\n",
       "        text-align: right;\n",
       "    }\n",
       "</style>\n",
       "<table border=\"1\" class=\"dataframe\">\n",
       "  <thead>\n",
       "    <tr style=\"text-align: right;\">\n",
       "      <th></th>\n",
       "      <th>bill_length_mm</th>\n",
       "      <th>bill_depth_mm</th>\n",
       "      <th>flipper_length_mm</th>\n",
       "      <th>body_mass_g</th>\n",
       "    </tr>\n",
       "  </thead>\n",
       "  <tbody>\n",
       "    <tr>\n",
       "      <th>bill_length_mm</th>\n",
       "      <td>1.000000</td>\n",
       "      <td>-0.235053</td>\n",
       "      <td>0.656181</td>\n",
       "      <td>0.595110</td>\n",
       "    </tr>\n",
       "    <tr>\n",
       "      <th>bill_depth_mm</th>\n",
       "      <td>-0.235053</td>\n",
       "      <td>1.000000</td>\n",
       "      <td>-0.583851</td>\n",
       "      <td>-0.471916</td>\n",
       "    </tr>\n",
       "    <tr>\n",
       "      <th>flipper_length_mm</th>\n",
       "      <td>0.656181</td>\n",
       "      <td>-0.583851</td>\n",
       "      <td>1.000000</td>\n",
       "      <td>0.871202</td>\n",
       "    </tr>\n",
       "    <tr>\n",
       "      <th>body_mass_g</th>\n",
       "      <td>0.595110</td>\n",
       "      <td>-0.471916</td>\n",
       "      <td>0.871202</td>\n",
       "      <td>1.000000</td>\n",
       "    </tr>\n",
       "  </tbody>\n",
       "</table>\n",
       "</div>"
      ],
      "text/plain": [
       "                   bill_length_mm  bill_depth_mm  flipper_length_mm  \\\n",
       "bill_length_mm           1.000000      -0.235053           0.656181   \n",
       "bill_depth_mm           -0.235053       1.000000          -0.583851   \n",
       "flipper_length_mm        0.656181      -0.583851           1.000000   \n",
       "body_mass_g              0.595110      -0.471916           0.871202   \n",
       "\n",
       "                   body_mass_g  \n",
       "bill_length_mm        0.595110  \n",
       "bill_depth_mm        -0.471916  \n",
       "flipper_length_mm     0.871202  \n",
       "body_mass_g           1.000000  "
      ]
     },
     "execution_count": 131,
     "metadata": {},
     "output_type": "execute_result"
    }
   ],
   "source": [
    "# Pandas' pearson correlation\n",
    "corrmat = penguins.corr()\n",
    "corrmat"
   ]
  },
  {
   "cell_type": "markdown",
   "metadata": {},
   "source": [
    "A much better way is to put the correlation matrix into a Seaborn heatmap.\n",
    "\n",
    "Note that the heatmap will show both positive and negative correlations."
   ]
  },
  {
   "cell_type": "code",
   "execution_count": 108,
   "metadata": {
    "execution": {
     "iopub.execute_input": "2021-06-30T20:55:38.949338Z",
     "iopub.status.busy": "2021-06-30T20:55:38.949061Z",
     "iopub.status.idle": "2021-06-30T20:55:39.130263Z",
     "shell.execute_reply": "2021-06-30T20:55:39.129723Z",
     "shell.execute_reply.started": "2021-06-30T20:55:38.949308Z"
    }
   },
   "outputs": [
    {
     "data": {
      "text/plain": [
       "<AxesSubplot:>"
      ]
     },
     "execution_count": 108,
     "metadata": {},
     "output_type": "execute_result"
    },
    {
     "data": {
      "image/png": "[encoded data removed]",
      "text/plain": [
       "<Figure size 864x720 with 2 Axes>"
      ]
     },
     "metadata": {},
     "output_type": "display_data"
    }
   ],
   "source": [
    "f, ax = plt.subplots(figsize=(12,10)) #setting some parameters of the plot to help readability\n",
    "sns.heatmap(corrmat, vmax = .8, square=True)"
   ]
  },
  {
   "cell_type": "markdown",
   "metadata": {},
   "source": [
    "---\n",
    "\n",
    "It might be useful to see the actual correlation values in the heatmap cells. To do that, we can turn on cell annotations with the `annot=True` parameter:"
   ]
  },
  {
   "cell_type": "code",
   "execution_count": 136,
   "metadata": {
    "execution": {
     "iopub.execute_input": "2021-07-02T19:34:57.278155Z",
     "iopub.status.busy": "2021-07-02T19:34:57.277887Z",
     "iopub.status.idle": "2021-07-02T19:34:57.446470Z",
     "shell.execute_reply": "2021-07-02T19:34:57.445999Z",
     "shell.execute_reply.started": "2021-07-02T19:34:57.278125Z"
    },
    "tags": []
   },
   "outputs": [
    {
     "data": {
      "text/plain": [
       "<function matplotlib.pyplot.show(close=None, block=None)>"
      ]
     },
     "execution_count": 136,
     "metadata": {},
     "output_type": "execute_result"
    },
    {
     "data": {
      "image/png": "[encoded data removed]",
      "text/plain": [
       "<Figure size 432x288 with 2 Axes>"
      ]
     },
     "metadata": {},
     "output_type": "display_data"
    }
   ],
   "source": [
    "hm = sns.heatmap(corrmat, cbar=True, annot=True, square=True, fmt='.2f', annot_kws={'size':14},yticklabels=cols.values, xticklabels=cols.values)\n",
    "plt.show"
   ]
  },
  {
   "cell_type": "markdown",
   "metadata": {},
   "source": [
    "But what if we have a whole bunch of variables? Remember our housing dataset? Let's look at a version that has headers real quick:"
   ]
  },
  {
   "cell_type": "code",
   "execution_count": 144,
   "metadata": {
    "execution": {
     "iopub.execute_input": "2021-07-02T19:54:13.240772Z",
     "iopub.status.busy": "2021-07-02T19:54:13.240510Z",
     "iopub.status.idle": "2021-07-02T19:54:13.275169Z",
     "shell.execute_reply": "2021-07-02T19:54:13.274559Z",
     "shell.execute_reply.started": "2021-07-02T19:54:13.240743Z"
    },
    "tags": []
   },
   "outputs": [
    {
     "data": {
      "text/html": [
       "<div>\n",
       "<style scoped>\n",
       "    .dataframe tbody tr th:only-of-type {\n",
       "        vertical-align: middle;\n",
       "    }\n",
       "\n",
       "    .dataframe tbody tr th {\n",
       "        vertical-align: top;\n",
       "    }\n",
       "\n",
       "    .dataframe thead th {\n",
       "        text-align: right;\n",
       "    }\n",
       "</style>\n",
       "<table border=\"1\" class=\"dataframe\">\n",
       "  <thead>\n",
       "    <tr style=\"text-align: right;\">\n",
       "      <th></th>\n",
       "      <th>Id</th>\n",
       "      <th>MSSubClass</th>\n",
       "      <th>MSZoning</th>\n",
       "      <th>LotFrontage</th>\n",
       "      <th>LotArea</th>\n",
       "      <th>Street</th>\n",
       "      <th>Alley</th>\n",
       "      <th>LotShape</th>\n",
       "      <th>LandContour</th>\n",
       "      <th>Utilities</th>\n",
       "      <th>...</th>\n",
       "      <th>PoolArea</th>\n",
       "      <th>PoolQC</th>\n",
       "      <th>Fence</th>\n",
       "      <th>MiscFeature</th>\n",
       "      <th>MiscVal</th>\n",
       "      <th>MoSold</th>\n",
       "      <th>YrSold</th>\n",
       "      <th>SaleType</th>\n",
       "      <th>SaleCondition</th>\n",
       "      <th>SalePrice</th>\n",
       "    </tr>\n",
       "  </thead>\n",
       "  <tbody>\n",
       "    <tr>\n",
       "      <th>0</th>\n",
       "      <td>1</td>\n",
       "      <td>60</td>\n",
       "      <td>RL</td>\n",
       "      <td>65.0</td>\n",
       "      <td>8450</td>\n",
       "      <td>Pave</td>\n",
       "      <td>NaN</td>\n",
       "      <td>Reg</td>\n",
       "      <td>Lvl</td>\n",
       "      <td>AllPub</td>\n",
       "      <td>...</td>\n",
       "      <td>0</td>\n",
       "      <td>NaN</td>\n",
       "      <td>NaN</td>\n",
       "      <td>NaN</td>\n",
       "      <td>0</td>\n",
       "      <td>2</td>\n",
       "      <td>2008</td>\n",
       "      <td>WD</td>\n",
       "      <td>Normal</td>\n",
       "      <td>208500</td>\n",
       "    </tr>\n",
       "    <tr>\n",
       "      <th>1</th>\n",
       "      <td>2</td>\n",
       "      <td>20</td>\n",
       "      <td>RL</td>\n",
       "      <td>80.0</td>\n",
       "      <td>9600</td>\n",
       "      <td>Pave</td>\n",
       "      <td>NaN</td>\n",
       "      <td>Reg</td>\n",
       "      <td>Lvl</td>\n",
       "      <td>AllPub</td>\n",
       "      <td>...</td>\n",
       "      <td>0</td>\n",
       "      <td>NaN</td>\n",
       "      <td>NaN</td>\n",
       "      <td>NaN</td>\n",
       "      <td>0</td>\n",
       "      <td>5</td>\n",
       "      <td>2007</td>\n",
       "      <td>WD</td>\n",
       "      <td>Normal</td>\n",
       "      <td>181500</td>\n",
       "    </tr>\n",
       "    <tr>\n",
       "      <th>2</th>\n",
       "      <td>3</td>\n",
       "      <td>60</td>\n",
       "      <td>RL</td>\n",
       "      <td>68.0</td>\n",
       "      <td>11250</td>\n",
       "      <td>Pave</td>\n",
       "      <td>NaN</td>\n",
       "      <td>IR1</td>\n",
       "      <td>Lvl</td>\n",
       "      <td>AllPub</td>\n",
       "      <td>...</td>\n",
       "      <td>0</td>\n",
       "      <td>NaN</td>\n",
       "      <td>NaN</td>\n",
       "      <td>NaN</td>\n",
       "      <td>0</td>\n",
       "      <td>9</td>\n",
       "      <td>2008</td>\n",
       "      <td>WD</td>\n",
       "      <td>Normal</td>\n",
       "      <td>223500</td>\n",
       "    </tr>\n",
       "    <tr>\n",
       "      <th>3</th>\n",
       "      <td>4</td>\n",
       "      <td>70</td>\n",
       "      <td>RL</td>\n",
       "      <td>60.0</td>\n",
       "      <td>9550</td>\n",
       "      <td>Pave</td>\n",
       "      <td>NaN</td>\n",
       "      <td>IR1</td>\n",
       "      <td>Lvl</td>\n",
       "      <td>AllPub</td>\n",
       "      <td>...</td>\n",
       "      <td>0</td>\n",
       "      <td>NaN</td>\n",
       "      <td>NaN</td>\n",
       "      <td>NaN</td>\n",
       "      <td>0</td>\n",
       "      <td>2</td>\n",
       "      <td>2006</td>\n",
       "      <td>WD</td>\n",
       "      <td>Abnorml</td>\n",
       "      <td>140000</td>\n",
       "    </tr>\n",
       "    <tr>\n",
       "      <th>4</th>\n",
       "      <td>5</td>\n",
       "      <td>60</td>\n",
       "      <td>RL</td>\n",
       "      <td>84.0</td>\n",
       "      <td>14260</td>\n",
       "      <td>Pave</td>\n",
       "      <td>NaN</td>\n",
       "      <td>IR1</td>\n",
       "      <td>Lvl</td>\n",
       "      <td>AllPub</td>\n",
       "      <td>...</td>\n",
       "      <td>0</td>\n",
       "      <td>NaN</td>\n",
       "      <td>NaN</td>\n",
       "      <td>NaN</td>\n",
       "      <td>0</td>\n",
       "      <td>12</td>\n",
       "      <td>2008</td>\n",
       "      <td>WD</td>\n",
       "      <td>Normal</td>\n",
       "      <td>250000</td>\n",
       "    </tr>\n",
       "  </tbody>\n",
       "</table>\n",
       "<p>5 rows × 81 columns</p>\n",
       "</div>"
      ],
      "text/plain": [
       "   Id  MSSubClass MSZoning  LotFrontage  LotArea Street Alley LotShape  \\\n",
       "0   1          60       RL         65.0     8450   Pave   NaN      Reg   \n",
       "1   2          20       RL         80.0     9600   Pave   NaN      Reg   \n",
       "2   3          60       RL         68.0    11250   Pave   NaN      IR1   \n",
       "3   4          70       RL         60.0     9550   Pave   NaN      IR1   \n",
       "4   5          60       RL         84.0    14260   Pave   NaN      IR1   \n",
       "\n",
       "  LandContour Utilities  ... PoolArea PoolQC Fence MiscFeature MiscVal MoSold  \\\n",
       "0         Lvl    AllPub  ...        0    NaN   NaN         NaN       0      2   \n",
       "1         Lvl    AllPub  ...        0    NaN   NaN         NaN       0      5   \n",
       "2         Lvl    AllPub  ...        0    NaN   NaN         NaN       0      9   \n",
       "3         Lvl    AllPub  ...        0    NaN   NaN         NaN       0      2   \n",
       "4         Lvl    AllPub  ...        0    NaN   NaN         NaN       0     12   \n",
       "\n",
       "  YrSold  SaleType  SaleCondition  SalePrice  \n",
       "0   2008        WD         Normal     208500  \n",
       "1   2007        WD         Normal     181500  \n",
       "2   2008        WD         Normal     223500  \n",
       "3   2006        WD        Abnorml     140000  \n",
       "4   2008        WD         Normal     250000  \n",
       "\n",
       "[5 rows x 81 columns]"
      ]
     },
     "execution_count": 144,
     "metadata": {},
     "output_type": "execute_result"
    }
   ],
   "source": [
    "house = pd.read_csv('data_wk4/housing_train.csv')\n",
    "house.head()"
   ]
  },
  {
   "cell_type": "markdown",
   "metadata": {},
   "source": [
    "Let's drop that Id column. It won't help anything in the analysis."
   ]
  },
  {
   "cell_type": "code",
   "execution_count": 157,
   "metadata": {
    "execution": {
     "iopub.execute_input": "2021-07-02T21:11:30.276573Z",
     "iopub.status.busy": "2021-07-02T21:11:30.276314Z",
     "iopub.status.idle": "2021-07-02T21:11:30.281826Z",
     "shell.execute_reply": "2021-07-02T21:11:30.281107Z",
     "shell.execute_reply.started": "2021-07-02T21:11:30.276544Z"
    },
    "tags": []
   },
   "outputs": [],
   "source": [
    "house.drop('Id', axis=1, inplace=True)"
   ]
  },
  {
   "cell_type": "code",
   "execution_count": 158,
   "metadata": {
    "execution": {
     "iopub.execute_input": "2021-07-02T21:11:32.253914Z",
     "iopub.status.busy": "2021-07-02T21:11:32.253639Z",
     "iopub.status.idle": "2021-07-02T21:11:32.258782Z",
     "shell.execute_reply": "2021-07-02T21:11:32.258074Z",
     "shell.execute_reply.started": "2021-07-02T21:11:32.253885Z"
    },
    "tags": []
   },
   "outputs": [
    {
     "data": {
      "text/plain": [
       "(1460, 80)"
      ]
     },
     "execution_count": 158,
     "metadata": {},
     "output_type": "execute_result"
    }
   ],
   "source": [
    "house.shape"
   ]
  },
  {
   "cell_type": "markdown",
   "metadata": {},
   "source": [
    "81 columns should be enough to prove a point.\n",
    "\n",
    "First, the heatmap:"
   ]
  },
  {
   "cell_type": "code",
   "execution_count": 159,
   "metadata": {
    "execution": {
     "iopub.execute_input": "2021-07-02T21:11:36.064846Z",
     "iopub.status.busy": "2021-07-02T21:11:36.064573Z",
     "iopub.status.idle": "2021-07-02T21:11:36.075462Z",
     "shell.execute_reply": "2021-07-02T21:11:36.074774Z",
     "shell.execute_reply.started": "2021-07-02T21:11:36.064817Z"
    },
    "tags": []
   },
   "outputs": [],
   "source": [
    "house_cor = house.corr()"
   ]
  },
  {
   "cell_type": "code",
   "execution_count": 160,
   "metadata": {
    "execution": {
     "iopub.execute_input": "2021-07-02T21:11:36.899846Z",
     "iopub.status.busy": "2021-07-02T21:11:36.899546Z",
     "iopub.status.idle": "2021-07-02T21:11:37.170154Z",
     "shell.execute_reply": "2021-07-02T21:11:37.169560Z",
     "shell.execute_reply.started": "2021-07-02T21:11:36.899817Z"
    },
    "tags": []
   },
   "outputs": [
    {
     "data": {
      "text/plain": [
       "<AxesSubplot:>"
      ]
     },
     "execution_count": 160,
     "metadata": {},
     "output_type": "execute_result"
    },
    {
     "data": {
      "image/png": "[encoded data removed]",
      "text/plain": [
       "<Figure size 432x288 with 2 Axes>"
      ]
     },
     "metadata": {},
     "output_type": "display_data"
    }
   ],
   "source": [
    "sns.heatmap(house_cor)"
   ]
  },
  {
   "cell_type": "markdown",
   "metadata": {},
   "source": [
    "Looks a bit like a pizza!\n",
    "\n",
    "Maybe making it bigger will help."
   ]
  },
  {
   "cell_type": "code",
   "execution_count": 161,
   "metadata": {
    "execution": {
     "iopub.execute_input": "2021-07-02T21:11:42.741213Z",
     "iopub.status.busy": "2021-07-02T21:11:42.740952Z",
     "iopub.status.idle": "2021-07-02T21:11:43.335388Z",
     "shell.execute_reply": "2021-07-02T21:11:43.334809Z",
     "shell.execute_reply.started": "2021-07-02T21:11:42.741184Z"
    },
    "tags": []
   },
   "outputs": [
    {
     "data": {
      "text/plain": [
       "<AxesSubplot:>"
      ]
     },
     "execution_count": 161,
     "metadata": {},
     "output_type": "execute_result"
    },
    {
     "data": {
      "image/png": "[encoded data removed]",
      "text/plain": [
       "<Figure size 864x720 with 2 Axes>"
      ]
     },
     "metadata": {},
     "output_type": "display_data"
    }
   ],
   "source": [
    "f, ax = plt.subplots(figsize=(12,10)) #setting some parameters of the plot to help readability\n",
    "sns.heatmap(house_cor, vmax = .8, square=True)"
   ]
  },
  {
   "cell_type": "markdown",
   "metadata": {},
   "source": [
    "That's still a lot of variables. **SalePrice** is often our ML target variable, trying to predict sales price based on other factors. Let's look at the top 10 variables related to SalePrice."
   ]
  },
  {
   "cell_type": "code",
   "execution_count": 162,
   "metadata": {
    "execution": {
     "iopub.execute_input": "2021-07-02T21:11:49.517452Z",
     "iopub.status.busy": "2021-07-02T21:11:49.517199Z",
     "iopub.status.idle": "2021-07-02T21:11:49.935933Z",
     "shell.execute_reply": "2021-07-02T21:11:49.935400Z",
     "shell.execute_reply.started": "2021-07-02T21:11:49.517423Z"
    },
    "tags": []
   },
   "outputs": [
    {
     "data": {
      "text/plain": [
       "<function matplotlib.pyplot.show(close=None, block=None)>"
      ]
     },
     "execution_count": 162,
     "metadata": {},
     "output_type": "execute_result"
    },
    {
     "data": {
      "image/png": "[encoded data removed]",
      "text/plain": [
       "<Figure size 720x576 with 2 Axes>"
      ]
     },
     "metadata": {},
     "output_type": "display_data"
    }
   ],
   "source": [
    "k = 10\n",
    "cols = house_cor.nlargest(k, 'SalePrice')['SalePrice'].index\n",
    "\n",
    "#Numpy corrcoef gives a pearson correlation coefficient\n",
    "cm = np.corrcoef(house[cols].values.T)\n",
    "sns.set(font_scale = 1.25)\n",
    "f, ax = plt.subplots(figsize=(10,8))\n",
    "hm = sns.heatmap(cm, cbar=True, annot=True, square=True, fmt='.2f', annot_kws={'size':14},yticklabels=cols.values, xticklabels=cols.values)\n",
    "plt.show"
   ]
  },
  {
   "cell_type": "markdown",
   "metadata": {},
   "source": [
    "## Statistical selection"
   ]
  },
  {
   "cell_type": "markdown",
   "metadata": {
    "tags": []
   },
   "source": [
    "**Jason Brownlee** very helpfully breaks statistics-based feature selection down based on **input variable** and **output type.** Either one can be numerical or categorical. The output variable type will be determined by the type of problem you are solving.\n",
    "\n",
    "**Output Variable**:\n",
    "* Numerical -- Regression predictive modeling.\n",
    "* Categorical -- Classification predictive modeling.\n",
    "\n",
    "<img style=\"padding-right:10px;\" src=\"figures_wk3/feature_selection_graph.png\" ><br>\n",
    "\n",
    "Pearson's was demonstrated above with the correlation matrix and heatmaps. Other methods will be demonstrated later and throughout your education."
   ]
  },
  {
   "cell_type": "markdown",
   "metadata": {},
   "source": [
    "## Feature importance -- RandomForest"
   ]
  },
  {
   "cell_type": "markdown",
   "metadata": {},
   "source": [
    "One of my favorite methods of choosing features is to let the RandomForest algorithm tell me what it decided was important.\n",
    "\n",
    "Tree-based algorithms operate very much like a single *binary tree*. A starting point is determined, then a decision is made to get down to the next level, over and over, until an answer is reached. The graph above showing variable selection is a good example. \n",
    "\n",
    "Classification and regression trees (CART) track the importance of the variables at the decision points.\n",
    "\n",
    "A **RandomForest** uses a whole bunch of decision trees to solve a problem, and because many trees are used, many solutions can be tried, improving results. \n",
    "\n",
    "Let's use a `RandomForestRegressor` on the housing dataset and see if it agrees with what our heatmap told us.\n",
    "\n",
    "**First**, the RandomForestRegressor will only use numeric data, so we are going to ignore the categorical columns, for now. a truly complete picture would include them, of course. \n",
    "\n",
    "The correlation matrix dataset above should give us the column names of the numeric columns, so we'll just make a subset using it, but first we'll have to deal with **missing values**. In this case, we will drop them. **If I were really trying to do predictions, I would impute them.**"
   ]
  },
  {
   "cell_type": "code",
   "execution_count": 164,
   "metadata": {
    "execution": {
     "iopub.execute_input": "2021-07-02T21:13:58.927404Z",
     "iopub.status.busy": "2021-07-02T21:13:58.927141Z",
     "iopub.status.idle": "2021-07-02T21:13:58.932235Z",
     "shell.execute_reply": "2021-07-02T21:13:58.931697Z",
     "shell.execute_reply.started": "2021-07-02T21:13:58.927375Z"
    },
    "tags": []
   },
   "outputs": [
    {
     "data": {
      "text/plain": [
       "Index(['MSSubClass', 'LotFrontage', 'LotArea', 'OverallQual', 'OverallCond',\n",
       "       'YearBuilt', 'YearRemodAdd', 'MasVnrArea', 'BsmtFinSF1', 'BsmtFinSF2',\n",
       "       'BsmtUnfSF', 'TotalBsmtSF', '1stFlrSF', '2ndFlrSF', 'LowQualFinSF',\n",
       "       'GrLivArea', 'BsmtFullBath', 'BsmtHalfBath', 'FullBath', 'HalfBath',\n",
       "       'BedroomAbvGr', 'KitchenAbvGr', 'TotRmsAbvGrd', 'Fireplaces',\n",
       "       'GarageYrBlt', 'GarageCars', 'GarageArea', 'WoodDeckSF', 'OpenPorchSF',\n",
       "       'EnclosedPorch', '3SsnPorch', 'ScreenPorch', 'PoolArea', 'MiscVal',\n",
       "       'MoSold', 'YrSold', 'SalePrice'],\n",
       "      dtype='object')"
      ]
     },
     "execution_count": 164,
     "metadata": {},
     "output_type": "execute_result"
    }
   ],
   "source": [
    "house_cor.columns"
   ]
  },
  {
   "cell_type": "code",
   "execution_count": 171,
   "metadata": {
    "execution": {
     "iopub.execute_input": "2021-07-02T21:23:14.703964Z",
     "iopub.status.busy": "2021-07-02T21:23:14.703694Z",
     "iopub.status.idle": "2021-07-02T21:23:14.724780Z",
     "shell.execute_reply": "2021-07-02T21:23:14.724326Z",
     "shell.execute_reply.started": "2021-07-02T21:23:14.703934Z"
    }
   },
   "outputs": [
    {
     "data": {
      "text/html": [
       "<div>\n",
       "<style scoped>\n",
       "    .dataframe tbody tr th:only-of-type {\n",
       "        vertical-align: middle;\n",
       "    }\n",
       "\n",
       "    .dataframe tbody tr th {\n",
       "        vertical-align: top;\n",
       "    }\n",
       "\n",
       "    .dataframe thead th {\n",
       "        text-align: right;\n",
       "    }\n",
       "</style>\n",
       "<table border=\"1\" class=\"dataframe\">\n",
       "  <thead>\n",
       "    <tr style=\"text-align: right;\">\n",
       "      <th></th>\n",
       "      <th>Total</th>\n",
       "      <th>Percent</th>\n",
       "    </tr>\n",
       "  </thead>\n",
       "  <tbody>\n",
       "    <tr>\n",
       "      <th>PoolQC</th>\n",
       "      <td>1453</td>\n",
       "      <td>0.995205</td>\n",
       "    </tr>\n",
       "    <tr>\n",
       "      <th>MiscFeature</th>\n",
       "      <td>1406</td>\n",
       "      <td>0.963014</td>\n",
       "    </tr>\n",
       "    <tr>\n",
       "      <th>Alley</th>\n",
       "      <td>1369</td>\n",
       "      <td>0.937671</td>\n",
       "    </tr>\n",
       "    <tr>\n",
       "      <th>Fence</th>\n",
       "      <td>1179</td>\n",
       "      <td>0.807534</td>\n",
       "    </tr>\n",
       "    <tr>\n",
       "      <th>FireplaceQu</th>\n",
       "      <td>690</td>\n",
       "      <td>0.472603</td>\n",
       "    </tr>\n",
       "    <tr>\n",
       "      <th>LotFrontage</th>\n",
       "      <td>259</td>\n",
       "      <td>0.177397</td>\n",
       "    </tr>\n",
       "    <tr>\n",
       "      <th>GarageYrBlt</th>\n",
       "      <td>81</td>\n",
       "      <td>0.055479</td>\n",
       "    </tr>\n",
       "    <tr>\n",
       "      <th>GarageCond</th>\n",
       "      <td>81</td>\n",
       "      <td>0.055479</td>\n",
       "    </tr>\n",
       "    <tr>\n",
       "      <th>GarageType</th>\n",
       "      <td>81</td>\n",
       "      <td>0.055479</td>\n",
       "    </tr>\n",
       "    <tr>\n",
       "      <th>GarageFinish</th>\n",
       "      <td>81</td>\n",
       "      <td>0.055479</td>\n",
       "    </tr>\n",
       "    <tr>\n",
       "      <th>GarageQual</th>\n",
       "      <td>81</td>\n",
       "      <td>0.055479</td>\n",
       "    </tr>\n",
       "    <tr>\n",
       "      <th>BsmtExposure</th>\n",
       "      <td>38</td>\n",
       "      <td>0.026027</td>\n",
       "    </tr>\n",
       "    <tr>\n",
       "      <th>BsmtFinType2</th>\n",
       "      <td>38</td>\n",
       "      <td>0.026027</td>\n",
       "    </tr>\n",
       "    <tr>\n",
       "      <th>BsmtCond</th>\n",
       "      <td>37</td>\n",
       "      <td>0.025342</td>\n",
       "    </tr>\n",
       "    <tr>\n",
       "      <th>BsmtQual</th>\n",
       "      <td>37</td>\n",
       "      <td>0.025342</td>\n",
       "    </tr>\n",
       "    <tr>\n",
       "      <th>BsmtFinType1</th>\n",
       "      <td>37</td>\n",
       "      <td>0.025342</td>\n",
       "    </tr>\n",
       "    <tr>\n",
       "      <th>MasVnrArea</th>\n",
       "      <td>8</td>\n",
       "      <td>0.005479</td>\n",
       "    </tr>\n",
       "    <tr>\n",
       "      <th>MasVnrType</th>\n",
       "      <td>8</td>\n",
       "      <td>0.005479</td>\n",
       "    </tr>\n",
       "    <tr>\n",
       "      <th>Electrical</th>\n",
       "      <td>1</td>\n",
       "      <td>0.000685</td>\n",
       "    </tr>\n",
       "    <tr>\n",
       "      <th>MSSubClass</th>\n",
       "      <td>0</td>\n",
       "      <td>0.000000</td>\n",
       "    </tr>\n",
       "  </tbody>\n",
       "</table>\n",
       "</div>"
      ],
      "text/plain": [
       "              Total   Percent\n",
       "PoolQC         1453  0.995205\n",
       "MiscFeature    1406  0.963014\n",
       "Alley          1369  0.937671\n",
       "Fence          1179  0.807534\n",
       "FireplaceQu     690  0.472603\n",
       "LotFrontage     259  0.177397\n",
       "GarageYrBlt      81  0.055479\n",
       "GarageCond       81  0.055479\n",
       "GarageType       81  0.055479\n",
       "GarageFinish     81  0.055479\n",
       "GarageQual       81  0.055479\n",
       "BsmtExposure     38  0.026027\n",
       "BsmtFinType2     38  0.026027\n",
       "BsmtCond         37  0.025342\n",
       "BsmtQual         37  0.025342\n",
       "BsmtFinType1     37  0.025342\n",
       "MasVnrArea        8  0.005479\n",
       "MasVnrType        8  0.005479\n",
       "Electrical        1  0.000685\n",
       "MSSubClass        0  0.000000"
      ]
     },
     "execution_count": 171,
     "metadata": {},
     "output_type": "execute_result"
    }
   ],
   "source": [
    "#missing data\n",
    "total = house.isnull().sum().sort_values(ascending=False)\n",
    "percent = (house.isnull().sum()/house.isnull().count()).sort_values(ascending=False)\n",
    "missing_data = pd.concat([total, percent], axis=1, keys=['Total', 'Percent'])\n",
    "missing_data.head(20)"
   ]
  },
  {
   "cell_type": "code",
   "execution_count": 172,
   "metadata": {
    "execution": {
     "iopub.execute_input": "2021-07-02T21:24:15.744692Z",
     "iopub.status.busy": "2021-07-02T21:24:15.744430Z",
     "iopub.status.idle": "2021-07-02T21:24:15.756388Z",
     "shell.execute_reply": "2021-07-02T21:24:15.755894Z",
     "shell.execute_reply.started": "2021-07-02T21:24:15.744664Z"
    }
   },
   "outputs": [
    {
     "data": {
      "text/plain": [
       "0"
      ]
     },
     "execution_count": 172,
     "metadata": {},
     "output_type": "execute_result"
    }
   ],
   "source": [
    "#dealing with missing data\n",
    "house = house.drop((missing_data[missing_data['Total'] > 1]).index,1)\n",
    "house = house.drop(house.loc[house['Electrical'].isnull()].index)\n",
    "house.isnull().sum().max() #just checking that there's no missing data missing..."
   ]
  },
  {
   "cell_type": "code",
   "execution_count": 176,
   "metadata": {
    "execution": {
     "iopub.execute_input": "2021-07-02T21:27:15.527835Z",
     "iopub.status.busy": "2021-07-02T21:27:15.527519Z",
     "iopub.status.idle": "2021-07-02T21:27:15.537518Z",
     "shell.execute_reply": "2021-07-02T21:27:15.536922Z",
     "shell.execute_reply.started": "2021-07-02T21:27:15.527801Z"
    }
   },
   "outputs": [],
   "source": [
    "house_cor = house.corr()"
   ]
  },
  {
   "cell_type": "code",
   "execution_count": 177,
   "metadata": {
    "execution": {
     "iopub.execute_input": "2021-07-02T21:27:28.641011Z",
     "iopub.status.busy": "2021-07-02T21:27:28.640706Z",
     "iopub.status.idle": "2021-07-02T21:27:28.661679Z",
     "shell.execute_reply": "2021-07-02T21:27:28.661265Z",
     "shell.execute_reply.started": "2021-07-02T21:27:28.640978Z"
    },
    "tags": []
   },
   "outputs": [
    {
     "data": {
      "text/html": [
       "<div>\n",
       "<style scoped>\n",
       "    .dataframe tbody tr th:only-of-type {\n",
       "        vertical-align: middle;\n",
       "    }\n",
       "\n",
       "    .dataframe tbody tr th {\n",
       "        vertical-align: top;\n",
       "    }\n",
       "\n",
       "    .dataframe thead th {\n",
       "        text-align: right;\n",
       "    }\n",
       "</style>\n",
       "<table border=\"1\" class=\"dataframe\">\n",
       "  <thead>\n",
       "    <tr style=\"text-align: right;\">\n",
       "      <th></th>\n",
       "      <th>MSSubClass</th>\n",
       "      <th>LotArea</th>\n",
       "      <th>OverallQual</th>\n",
       "      <th>OverallCond</th>\n",
       "      <th>YearBuilt</th>\n",
       "      <th>YearRemodAdd</th>\n",
       "      <th>BsmtFinSF1</th>\n",
       "      <th>BsmtFinSF2</th>\n",
       "      <th>BsmtUnfSF</th>\n",
       "      <th>TotalBsmtSF</th>\n",
       "      <th>...</th>\n",
       "      <th>GarageArea</th>\n",
       "      <th>WoodDeckSF</th>\n",
       "      <th>OpenPorchSF</th>\n",
       "      <th>EnclosedPorch</th>\n",
       "      <th>3SsnPorch</th>\n",
       "      <th>ScreenPorch</th>\n",
       "      <th>PoolArea</th>\n",
       "      <th>MiscVal</th>\n",
       "      <th>MoSold</th>\n",
       "      <th>YrSold</th>\n",
       "    </tr>\n",
       "  </thead>\n",
       "  <tbody>\n",
       "    <tr>\n",
       "      <th>0</th>\n",
       "      <td>60</td>\n",
       "      <td>8450</td>\n",
       "      <td>7</td>\n",
       "      <td>5</td>\n",
       "      <td>2003</td>\n",
       "      <td>2003</td>\n",
       "      <td>706</td>\n",
       "      <td>0</td>\n",
       "      <td>150</td>\n",
       "      <td>856</td>\n",
       "      <td>...</td>\n",
       "      <td>548</td>\n",
       "      <td>0</td>\n",
       "      <td>61</td>\n",
       "      <td>0</td>\n",
       "      <td>0</td>\n",
       "      <td>0</td>\n",
       "      <td>0</td>\n",
       "      <td>0</td>\n",
       "      <td>2</td>\n",
       "      <td>2008</td>\n",
       "    </tr>\n",
       "    <tr>\n",
       "      <th>1</th>\n",
       "      <td>20</td>\n",
       "      <td>9600</td>\n",
       "      <td>6</td>\n",
       "      <td>8</td>\n",
       "      <td>1976</td>\n",
       "      <td>1976</td>\n",
       "      <td>978</td>\n",
       "      <td>0</td>\n",
       "      <td>284</td>\n",
       "      <td>1262</td>\n",
       "      <td>...</td>\n",
       "      <td>460</td>\n",
       "      <td>298</td>\n",
       "      <td>0</td>\n",
       "      <td>0</td>\n",
       "      <td>0</td>\n",
       "      <td>0</td>\n",
       "      <td>0</td>\n",
       "      <td>0</td>\n",
       "      <td>5</td>\n",
       "      <td>2007</td>\n",
       "    </tr>\n",
       "    <tr>\n",
       "      <th>2</th>\n",
       "      <td>60</td>\n",
       "      <td>11250</td>\n",
       "      <td>7</td>\n",
       "      <td>5</td>\n",
       "      <td>2001</td>\n",
       "      <td>2002</td>\n",
       "      <td>486</td>\n",
       "      <td>0</td>\n",
       "      <td>434</td>\n",
       "      <td>920</td>\n",
       "      <td>...</td>\n",
       "      <td>608</td>\n",
       "      <td>0</td>\n",
       "      <td>42</td>\n",
       "      <td>0</td>\n",
       "      <td>0</td>\n",
       "      <td>0</td>\n",
       "      <td>0</td>\n",
       "      <td>0</td>\n",
       "      <td>9</td>\n",
       "      <td>2008</td>\n",
       "    </tr>\n",
       "    <tr>\n",
       "      <th>3</th>\n",
       "      <td>70</td>\n",
       "      <td>9550</td>\n",
       "      <td>7</td>\n",
       "      <td>5</td>\n",
       "      <td>1915</td>\n",
       "      <td>1970</td>\n",
       "      <td>216</td>\n",
       "      <td>0</td>\n",
       "      <td>540</td>\n",
       "      <td>756</td>\n",
       "      <td>...</td>\n",
       "      <td>642</td>\n",
       "      <td>0</td>\n",
       "      <td>35</td>\n",
       "      <td>272</td>\n",
       "      <td>0</td>\n",
       "      <td>0</td>\n",
       "      <td>0</td>\n",
       "      <td>0</td>\n",
       "      <td>2</td>\n",
       "      <td>2006</td>\n",
       "    </tr>\n",
       "    <tr>\n",
       "      <th>4</th>\n",
       "      <td>60</td>\n",
       "      <td>14260</td>\n",
       "      <td>8</td>\n",
       "      <td>5</td>\n",
       "      <td>2000</td>\n",
       "      <td>2000</td>\n",
       "      <td>655</td>\n",
       "      <td>0</td>\n",
       "      <td>490</td>\n",
       "      <td>1145</td>\n",
       "      <td>...</td>\n",
       "      <td>836</td>\n",
       "      <td>192</td>\n",
       "      <td>84</td>\n",
       "      <td>0</td>\n",
       "      <td>0</td>\n",
       "      <td>0</td>\n",
       "      <td>0</td>\n",
       "      <td>0</td>\n",
       "      <td>12</td>\n",
       "      <td>2008</td>\n",
       "    </tr>\n",
       "    <tr>\n",
       "      <th>...</th>\n",
       "      <td>...</td>\n",
       "      <td>...</td>\n",
       "      <td>...</td>\n",
       "      <td>...</td>\n",
       "      <td>...</td>\n",
       "      <td>...</td>\n",
       "      <td>...</td>\n",
       "      <td>...</td>\n",
       "      <td>...</td>\n",
       "      <td>...</td>\n",
       "      <td>...</td>\n",
       "      <td>...</td>\n",
       "      <td>...</td>\n",
       "      <td>...</td>\n",
       "      <td>...</td>\n",
       "      <td>...</td>\n",
       "      <td>...</td>\n",
       "      <td>...</td>\n",
       "      <td>...</td>\n",
       "      <td>...</td>\n",
       "      <td>...</td>\n",
       "    </tr>\n",
       "    <tr>\n",
       "      <th>1455</th>\n",
       "      <td>60</td>\n",
       "      <td>7917</td>\n",
       "      <td>6</td>\n",
       "      <td>5</td>\n",
       "      <td>1999</td>\n",
       "      <td>2000</td>\n",
       "      <td>0</td>\n",
       "      <td>0</td>\n",
       "      <td>953</td>\n",
       "      <td>953</td>\n",
       "      <td>...</td>\n",
       "      <td>460</td>\n",
       "      <td>0</td>\n",
       "      <td>40</td>\n",
       "      <td>0</td>\n",
       "      <td>0</td>\n",
       "      <td>0</td>\n",
       "      <td>0</td>\n",
       "      <td>0</td>\n",
       "      <td>8</td>\n",
       "      <td>2007</td>\n",
       "    </tr>\n",
       "    <tr>\n",
       "      <th>1456</th>\n",
       "      <td>20</td>\n",
       "      <td>13175</td>\n",
       "      <td>6</td>\n",
       "      <td>6</td>\n",
       "      <td>1978</td>\n",
       "      <td>1988</td>\n",
       "      <td>790</td>\n",
       "      <td>163</td>\n",
       "      <td>589</td>\n",
       "      <td>1542</td>\n",
       "      <td>...</td>\n",
       "      <td>500</td>\n",
       "      <td>349</td>\n",
       "      <td>0</td>\n",
       "      <td>0</td>\n",
       "      <td>0</td>\n",
       "      <td>0</td>\n",
       "      <td>0</td>\n",
       "      <td>0</td>\n",
       "      <td>2</td>\n",
       "      <td>2010</td>\n",
       "    </tr>\n",
       "    <tr>\n",
       "      <th>1457</th>\n",
       "      <td>70</td>\n",
       "      <td>9042</td>\n",
       "      <td>7</td>\n",
       "      <td>9</td>\n",
       "      <td>1941</td>\n",
       "      <td>2006</td>\n",
       "      <td>275</td>\n",
       "      <td>0</td>\n",
       "      <td>877</td>\n",
       "      <td>1152</td>\n",
       "      <td>...</td>\n",
       "      <td>252</td>\n",
       "      <td>0</td>\n",
       "      <td>60</td>\n",
       "      <td>0</td>\n",
       "      <td>0</td>\n",
       "      <td>0</td>\n",
       "      <td>0</td>\n",
       "      <td>2500</td>\n",
       "      <td>5</td>\n",
       "      <td>2010</td>\n",
       "    </tr>\n",
       "    <tr>\n",
       "      <th>1458</th>\n",
       "      <td>20</td>\n",
       "      <td>9717</td>\n",
       "      <td>5</td>\n",
       "      <td>6</td>\n",
       "      <td>1950</td>\n",
       "      <td>1996</td>\n",
       "      <td>49</td>\n",
       "      <td>1029</td>\n",
       "      <td>0</td>\n",
       "      <td>1078</td>\n",
       "      <td>...</td>\n",
       "      <td>240</td>\n",
       "      <td>366</td>\n",
       "      <td>0</td>\n",
       "      <td>112</td>\n",
       "      <td>0</td>\n",
       "      <td>0</td>\n",
       "      <td>0</td>\n",
       "      <td>0</td>\n",
       "      <td>4</td>\n",
       "      <td>2010</td>\n",
       "    </tr>\n",
       "    <tr>\n",
       "      <th>1459</th>\n",
       "      <td>20</td>\n",
       "      <td>9937</td>\n",
       "      <td>5</td>\n",
       "      <td>6</td>\n",
       "      <td>1965</td>\n",
       "      <td>1965</td>\n",
       "      <td>830</td>\n",
       "      <td>290</td>\n",
       "      <td>136</td>\n",
       "      <td>1256</td>\n",
       "      <td>...</td>\n",
       "      <td>276</td>\n",
       "      <td>736</td>\n",
       "      <td>68</td>\n",
       "      <td>0</td>\n",
       "      <td>0</td>\n",
       "      <td>0</td>\n",
       "      <td>0</td>\n",
       "      <td>0</td>\n",
       "      <td>6</td>\n",
       "      <td>2008</td>\n",
       "    </tr>\n",
       "  </tbody>\n",
       "</table>\n",
       "<p>1459 rows × 33 columns</p>\n",
       "</div>"
      ],
      "text/plain": [
       "      MSSubClass  LotArea  OverallQual  OverallCond  YearBuilt  YearRemodAdd  \\\n",
       "0             60     8450            7            5       2003          2003   \n",
       "1             20     9600            6            8       1976          1976   \n",
       "2             60    11250            7            5       2001          2002   \n",
       "3             70     9550            7            5       1915          1970   \n",
       "4             60    14260            8            5       2000          2000   \n",
       "...          ...      ...          ...          ...        ...           ...   \n",
       "1455          60     7917            6            5       1999          2000   \n",
       "1456          20    13175            6            6       1978          1988   \n",
       "1457          70     9042            7            9       1941          2006   \n",
       "1458          20     9717            5            6       1950          1996   \n",
       "1459          20     9937            5            6       1965          1965   \n",
       "\n",
       "      BsmtFinSF1  BsmtFinSF2  BsmtUnfSF  TotalBsmtSF  ...  GarageArea  \\\n",
       "0            706           0        150          856  ...         548   \n",
       "1            978           0        284         1262  ...         460   \n",
       "2            486           0        434          920  ...         608   \n",
       "3            216           0        540          756  ...         642   \n",
       "4            655           0        490         1145  ...         836   \n",
       "...          ...         ...        ...          ...  ...         ...   \n",
       "1455           0           0        953          953  ...         460   \n",
       "1456         790         163        589         1542  ...         500   \n",
       "1457         275           0        877         1152  ...         252   \n",
       "1458          49        1029          0         1078  ...         240   \n",
       "1459         830         290        136         1256  ...         276   \n",
       "\n",
       "      WoodDeckSF  OpenPorchSF  EnclosedPorch  3SsnPorch  ScreenPorch  \\\n",
       "0              0           61              0          0            0   \n",
       "1            298            0              0          0            0   \n",
       "2              0           42              0          0            0   \n",
       "3              0           35            272          0            0   \n",
       "4            192           84              0          0            0   \n",
       "...          ...          ...            ...        ...          ...   \n",
       "1455           0           40              0          0            0   \n",
       "1456         349            0              0          0            0   \n",
       "1457           0           60              0          0            0   \n",
       "1458         366            0            112          0            0   \n",
       "1459         736           68              0          0            0   \n",
       "\n",
       "      PoolArea  MiscVal  MoSold  YrSold  \n",
       "0            0        0       2    2008  \n",
       "1            0        0       5    2007  \n",
       "2            0        0       9    2008  \n",
       "3            0        0       2    2006  \n",
       "4            0        0      12    2008  \n",
       "...        ...      ...     ...     ...  \n",
       "1455         0        0       8    2007  \n",
       "1456         0        0       2    2010  \n",
       "1457         0     2500       5    2010  \n",
       "1458         0        0       4    2010  \n",
       "1459         0        0       6    2008  \n",
       "\n",
       "[1459 rows x 33 columns]"
      ]
     },
     "execution_count": 177,
     "metadata": {},
     "output_type": "execute_result"
    }
   ],
   "source": [
    "X = house[house_cor.columns[:-1]]\n",
    "X"
   ]
  },
  {
   "cell_type": "code",
   "execution_count": 184,
   "metadata": {
    "execution": {
     "iopub.execute_input": "2021-07-02T21:31:13.884483Z",
     "iopub.status.busy": "2021-07-02T21:31:13.884202Z",
     "iopub.status.idle": "2021-07-02T21:31:13.889735Z",
     "shell.execute_reply": "2021-07-02T21:31:13.889020Z",
     "shell.execute_reply.started": "2021-07-02T21:31:13.884453Z"
    },
    "tags": []
   },
   "outputs": [
    {
     "data": {
      "text/plain": [
       "array([208500, 181500, 223500, ..., 266500, 142125, 147500])"
      ]
     },
     "execution_count": 184,
     "metadata": {},
     "output_type": "execute_result"
    }
   ],
   "source": [
    "y = house['SalePrice'].values\n",
    "y"
   ]
  },
  {
   "cell_type": "code",
   "execution_count": 179,
   "metadata": {
    "execution": {
     "iopub.execute_input": "2021-07-02T21:27:36.861749Z",
     "iopub.status.busy": "2021-07-02T21:27:36.861483Z",
     "iopub.status.idle": "2021-07-02T21:27:36.864764Z",
     "shell.execute_reply": "2021-07-02T21:27:36.864197Z",
     "shell.execute_reply.started": "2021-07-02T21:27:36.861720Z"
    },
    "tags": []
   },
   "outputs": [],
   "source": [
    "from sklearn.ensemble import RandomForestRegressor"
   ]
  },
  {
   "cell_type": "code",
   "execution_count": 180,
   "metadata": {
    "execution": {
     "iopub.execute_input": "2021-07-02T21:27:37.675735Z",
     "iopub.status.busy": "2021-07-02T21:27:37.675457Z",
     "iopub.status.idle": "2021-07-02T21:27:37.678756Z",
     "shell.execute_reply": "2021-07-02T21:27:37.678177Z",
     "shell.execute_reply.started": "2021-07-02T21:27:37.675706Z"
    },
    "tags": []
   },
   "outputs": [],
   "source": [
    "model = RandomForestRegressor()"
   ]
  },
  {
   "cell_type": "code",
   "execution_count": 185,
   "metadata": {
    "execution": {
     "iopub.execute_input": "2021-07-02T21:31:19.376635Z",
     "iopub.status.busy": "2021-07-02T21:31:19.376357Z",
     "iopub.status.idle": "2021-07-02T21:31:20.250089Z",
     "shell.execute_reply": "2021-07-02T21:31:20.249462Z",
     "shell.execute_reply.started": "2021-07-02T21:31:19.376605Z"
    },
    "tags": []
   },
   "outputs": [
    {
     "data": {
      "text/plain": [
       "RandomForestRegressor()"
      ]
     },
     "execution_count": 185,
     "metadata": {},
     "output_type": "execute_result"
    }
   ],
   "source": [
    "model.fit(X,y)"
   ]
  },
  {
   "cell_type": "code",
   "execution_count": 187,
   "metadata": {
    "execution": {
     "iopub.execute_input": "2021-07-02T21:37:24.456861Z",
     "iopub.status.busy": "2021-07-02T21:37:24.456593Z",
     "iopub.status.idle": "2021-07-02T21:37:24.475310Z",
     "shell.execute_reply": "2021-07-02T21:37:24.474954Z",
     "shell.execute_reply.started": "2021-07-02T21:37:24.456831Z"
    },
    "tags": []
   },
   "outputs": [
    {
     "data": {
      "text/plain": [
       "[('OverallQual', 0.5898462002708634),\n",
       " ('GrLivArea', 0.11113158618373249),\n",
       " ('TotalBsmtSF', 0.04328757688121592),\n",
       " ('2ndFlrSF', 0.041486194023448525),\n",
       " ('BsmtFinSF1', 0.03222049311543179),\n",
       " ('1stFlrSF', 0.027153683233832673),\n",
       " ('GarageCars', 0.02121987624588119),\n",
       " ('GarageArea', 0.018272210506619545),\n",
       " ('LotArea', 0.018063510683359058),\n",
       " ('YearBuilt', 0.01565914955712876),\n",
       " ('YearRemodAdd', 0.010815070095892146),\n",
       " ('TotRmsAbvGrd', 0.007833975245919998),\n",
       " ('WoodDeckSF', 0.006772364670055347),\n",
       " ('BsmtUnfSF', 0.006725805994234097),\n",
       " ('FullBath', 0.006582744710837616),\n",
       " ('OpenPorchSF', 0.00652728059761808),\n",
       " ('OverallCond', 0.006297519901118362),\n",
       " ('Fireplaces', 0.005303473550857227),\n",
       " ('MoSold', 0.005123252593543955),\n",
       " ('BedroomAbvGr', 0.0027814071903912046),\n",
       " ('MSSubClass', 0.0027611077526348555),\n",
       " ('YrSold', 0.0025869273807112066),\n",
       " ('ScreenPorch', 0.0020323314802176227),\n",
       " ('EnclosedPorch', 0.001572432327053476),\n",
       " ('HalfBath', 0.0015455214775177508),\n",
       " ('KitchenAbvGr', 0.0014718709291488296),\n",
       " ('BsmtFullBath', 0.0013719565290636138),\n",
       " ('PoolArea', 0.0011791618915606037),\n",
       " ('BsmtFinSF2', 0.0011086462135566862),\n",
       " ('3SsnPorch', 0.0005626280947740445),\n",
       " ('LowQualFinSF', 0.00027048256453404267),\n",
       " ('BsmtHalfBath', 0.0002404666168504812),\n",
       " ('MiscVal', 0.0001930914903952525)]"
      ]
     },
     "execution_count": 187,
     "metadata": {},
     "output_type": "execute_result"
    }
   ],
   "source": [
    "importance_list = list(zip(X.columns, model.feature_importances_))\n",
    "sorted_importance = sorted(importance_list, key=lambda x: x[1], reverse=True)\n",
    "sorted_importance\n",
    "# importance = model.feature_importances_\n",
    "# X.columns"
   ]
  },
  {
   "cell_type": "markdown",
   "metadata": {},
   "source": [
    "You would need to make a decision at what point a feature is not important enough to use. **Many times I'll throw in a column of random numbers and use all the columns that are more important than the randoms.**\n",
    "\n",
    "Here is a really fancy way to display the list -- I'll leave it up to you to figure out how it works."
   ]
  },
  {
   "cell_type": "code",
   "execution_count": 188,
   "metadata": {
    "execution": {
     "iopub.execute_input": "2021-07-02T21:40:58.054424Z",
     "iopub.status.busy": "2021-07-02T21:40:58.054167Z",
     "iopub.status.idle": "2021-07-02T21:40:58.057770Z",
     "shell.execute_reply": "2021-07-02T21:40:58.057053Z",
     "shell.execute_reply.started": "2021-07-02T21:40:58.054395Z"
    }
   },
   "outputs": [],
   "source": [
    "max_feature_len = len(max(X.columns, key=len))"
   ]
  },
  {
   "cell_type": "code",
   "execution_count": 189,
   "metadata": {
    "execution": {
     "iopub.execute_input": "2021-07-02T21:42:24.156131Z",
     "iopub.status.busy": "2021-07-02T21:42:24.155824Z",
     "iopub.status.idle": "2021-07-02T21:42:24.163134Z",
     "shell.execute_reply": "2021-07-02T21:42:24.162589Z",
     "shell.execute_reply.started": "2021-07-02T21:42:24.156096Z"
    }
   },
   "outputs": [
    {
     "name": "stdout",
     "output_type": "stream",
     "text": [
      "OverallQual: .. 58.98%\n",
      "GrLivArea: .... 11.11%\n",
      "TotalBsmtSF: .. 4.33%\n",
      "2ndFlrSF: ..... 4.15%\n",
      "BsmtFinSF1: ... 3.22%\n",
      "1stFlrSF: ..... 2.72%\n",
      "GarageCars: ... 2.12%\n",
      "GarageArea: ... 1.83%\n",
      "LotArea: ...... 1.81%\n",
      "YearBuilt: .... 1.57%\n",
      "YearRemodAdd: . 1.08%\n",
      "TotRmsAbvGrd: . 0.78%\n",
      "WoodDeckSF: ... 0.68%\n",
      "BsmtUnfSF: .... 0.67%\n",
      "FullBath: ..... 0.66%\n",
      "OpenPorchSF: .. 0.65%\n",
      "OverallCond: .. 0.63%\n",
      "Fireplaces: ... 0.53%\n",
      "MoSold: ....... 0.51%\n",
      "BedroomAbvGr: . 0.28%\n",
      "MSSubClass: ... 0.28%\n",
      "YrSold: ....... 0.26%\n",
      "ScreenPorch: .. 0.20%\n",
      "EnclosedPorch:  0.16%\n",
      "HalfBath: ..... 0.15%\n",
      "KitchenAbvGr: . 0.15%\n",
      "BsmtFullBath: . 0.14%\n",
      "PoolArea: ..... 0.12%\n",
      "BsmtFinSF2: ... 0.11%\n",
      "3SsnPorch: .... 0.06%\n",
      "LowQualFinSF: . 0.03%\n",
      "BsmtHalfBath: . 0.02%\n",
      "MiscVal: ...... 0.02%\n"
     ]
    }
   ],
   "source": [
    "for feature, rank in sorted_importance:\n",
    "    dots = max_feature_len - len(feature)\n",
    "    print(f'{feature}: {\".\"*dots} {rank*100:.2f}%')"
   ]
  },
  {
   "cell_type": "markdown",
   "metadata": {},
   "source": [
    "---\n",
    "\n",
    "The section below doesn't really relate to anything beyond some advanced Pandas usage. I just didn't want to throw it away after I got that far and then decided to go a different way."
   ]
  },
  {
   "cell_type": "markdown",
   "metadata": {},
   "source": [
    "# Bonus -- finding average weights by gender"
   ]
  },
  {
   "cell_type": "markdown",
   "metadata": {},
   "source": [
    "Another way to deal with missing 'sex' entries is to try to fill in the values based on weight (or mass, in this case). The cells below make a dataset of the min, max and mean for each species as a start to this method."
   ]
  },
  {
   "cell_type": "code",
   "execution_count": 25,
   "metadata": {
    "execution": {
     "iopub.execute_input": "2021-06-23T17:54:02.076503Z",
     "iopub.status.busy": "2021-06-23T17:54:02.076240Z",
     "iopub.status.idle": "2021-06-23T17:54:02.082965Z",
     "shell.execute_reply": "2021-06-23T17:54:02.082446Z",
     "shell.execute_reply.started": "2021-06-23T17:54:02.076475Z"
    },
    "tags": []
   },
   "outputs": [
    {
     "data": {
      "text/plain": [
       "4775.0"
      ]
     },
     "execution_count": 25,
     "metadata": {},
     "output_type": "execute_result"
    }
   ],
   "source": [
    "penguins[(penguins.species == 'Adelie') & (penguins.sex == 'Male')].body_mass_g.max()"
   ]
  },
  {
   "cell_type": "code",
   "execution_count": 26,
   "metadata": {
    "execution": {
     "iopub.execute_input": "2021-06-23T17:57:24.077035Z",
     "iopub.status.busy": "2021-06-23T17:57:24.076712Z",
     "iopub.status.idle": "2021-06-23T17:57:24.085195Z",
     "shell.execute_reply": "2021-06-23T17:57:24.084473Z",
     "shell.execute_reply.started": "2021-06-23T17:57:24.076999Z"
    },
    "tags": []
   },
   "outputs": [
    {
     "data": {
      "text/plain": [
       "3325.0"
      ]
     },
     "execution_count": 26,
     "metadata": {},
     "output_type": "execute_result"
    }
   ],
   "source": [
    "penguins[(penguins.species == 'Adelie') & (penguins.sex == 'Male')].body_mass_g.min()"
   ]
  },
  {
   "cell_type": "markdown",
   "metadata": {},
   "source": [
    "It's great to be able to figure these out one at a time, but what if we had 100 speies? We need to generalize this."
   ]
  },
  {
   "cell_type": "code",
   "execution_count": 63,
   "metadata": {
    "execution": {
     "iopub.execute_input": "2021-06-23T19:03:00.398524Z",
     "iopub.status.busy": "2021-06-23T19:03:00.398250Z",
     "iopub.status.idle": "2021-06-23T19:03:00.435549Z",
     "shell.execute_reply": "2021-06-23T19:03:00.435089Z",
     "shell.execute_reply.started": "2021-06-23T19:03:00.398494Z"
    },
    "tags": []
   },
   "outputs": [],
   "source": [
    "peng_mass = penguins.groupby(['species','sex']).agg({'body_mass_g':['min','max', 'mean']})"
   ]
  },
  {
   "cell_type": "code",
   "execution_count": 64,
   "metadata": {
    "execution": {
     "iopub.execute_input": "2021-06-23T19:03:01.304124Z",
     "iopub.status.busy": "2021-06-23T19:03:01.303850Z",
     "iopub.status.idle": "2021-06-23T19:03:01.317459Z",
     "shell.execute_reply": "2021-06-23T19:03:01.317001Z",
     "shell.execute_reply.started": "2021-06-23T19:03:01.304094Z"
    },
    "tags": []
   },
   "outputs": [
    {
     "data": {
      "text/html": [
       "<div>\n",
       "<style scoped>\n",
       "    .dataframe tbody tr th:only-of-type {\n",
       "        vertical-align: middle;\n",
       "    }\n",
       "\n",
       "    .dataframe tbody tr th {\n",
       "        vertical-align: top;\n",
       "    }\n",
       "\n",
       "    .dataframe thead tr th {\n",
       "        text-align: left;\n",
       "    }\n",
       "\n",
       "    .dataframe thead tr:last-of-type th {\n",
       "        text-align: right;\n",
       "    }\n",
       "</style>\n",
       "<table border=\"1\" class=\"dataframe\">\n",
       "  <thead>\n",
       "    <tr>\n",
       "      <th></th>\n",
       "      <th></th>\n",
       "      <th colspan=\"3\" halign=\"left\">body_mass_g</th>\n",
       "    </tr>\n",
       "    <tr>\n",
       "      <th></th>\n",
       "      <th></th>\n",
       "      <th>min</th>\n",
       "      <th>max</th>\n",
       "      <th>mean</th>\n",
       "    </tr>\n",
       "    <tr>\n",
       "      <th>species</th>\n",
       "      <th>sex</th>\n",
       "      <th></th>\n",
       "      <th></th>\n",
       "      <th></th>\n",
       "    </tr>\n",
       "  </thead>\n",
       "  <tbody>\n",
       "    <tr>\n",
       "      <th rowspan=\"2\" valign=\"top\">Adelie</th>\n",
       "      <th>Female</th>\n",
       "      <td>2850.0</td>\n",
       "      <td>3900.0</td>\n",
       "      <td>3368.835616</td>\n",
       "    </tr>\n",
       "    <tr>\n",
       "      <th>Male</th>\n",
       "      <td>3325.0</td>\n",
       "      <td>4775.0</td>\n",
       "      <td>4043.493151</td>\n",
       "    </tr>\n",
       "    <tr>\n",
       "      <th rowspan=\"2\" valign=\"top\">Chinstrap</th>\n",
       "      <th>Female</th>\n",
       "      <td>2700.0</td>\n",
       "      <td>4150.0</td>\n",
       "      <td>3527.205882</td>\n",
       "    </tr>\n",
       "    <tr>\n",
       "      <th>Male</th>\n",
       "      <td>3250.0</td>\n",
       "      <td>4800.0</td>\n",
       "      <td>3938.970588</td>\n",
       "    </tr>\n",
       "    <tr>\n",
       "      <th rowspan=\"2\" valign=\"top\">Gentoo</th>\n",
       "      <th>Female</th>\n",
       "      <td>3950.0</td>\n",
       "      <td>5200.0</td>\n",
       "      <td>4679.741379</td>\n",
       "    </tr>\n",
       "    <tr>\n",
       "      <th>Male</th>\n",
       "      <td>4750.0</td>\n",
       "      <td>6300.0</td>\n",
       "      <td>5484.836066</td>\n",
       "    </tr>\n",
       "  </tbody>\n",
       "</table>\n",
       "</div>"
      ],
      "text/plain": [
       "                 body_mass_g                     \n",
       "                         min     max         mean\n",
       "species   sex                                    \n",
       "Adelie    Female      2850.0  3900.0  3368.835616\n",
       "          Male        3325.0  4775.0  4043.493151\n",
       "Chinstrap Female      2700.0  4150.0  3527.205882\n",
       "          Male        3250.0  4800.0  3938.970588\n",
       "Gentoo    Female      3950.0  5200.0  4679.741379\n",
       "          Male        4750.0  6300.0  5484.836066"
      ]
     },
     "execution_count": 64,
     "metadata": {},
     "output_type": "execute_result"
    }
   ],
   "source": [
    "peng_mass"
   ]
  },
  {
   "cell_type": "code",
   "execution_count": 65,
   "metadata": {
    "execution": {
     "iopub.execute_input": "2021-06-23T19:03:09.691827Z",
     "iopub.status.busy": "2021-06-23T19:03:09.691563Z",
     "iopub.status.idle": "2021-06-23T19:03:09.696369Z",
     "shell.execute_reply": "2021-06-23T19:03:09.695708Z",
     "shell.execute_reply.started": "2021-06-23T19:03:09.691798Z"
    },
    "tags": []
   },
   "outputs": [
    {
     "data": {
      "text/plain": [
       "pandas.core.frame.DataFrame"
      ]
     },
     "execution_count": 65,
     "metadata": {},
     "output_type": "execute_result"
    }
   ],
   "source": [
    "type(peng_mass)"
   ]
  },
  {
   "cell_type": "markdown",
   "metadata": {},
   "source": [
    "--- \n",
    "\n",
    "OK, this is good. this gave us min and max ranges for each species, but our resulting dataframe is some weird multi-indexed thing. We can **reset the index** to fix some of it:"
   ]
  },
  {
   "cell_type": "code",
   "execution_count": 66,
   "metadata": {
    "execution": {
     "iopub.execute_input": "2021-06-23T19:03:12.681141Z",
     "iopub.status.busy": "2021-06-23T19:03:12.680862Z",
     "iopub.status.idle": "2021-06-23T19:03:12.698302Z",
     "shell.execute_reply": "2021-06-23T19:03:12.697749Z",
     "shell.execute_reply.started": "2021-06-23T19:03:12.681110Z"
    },
    "tags": []
   },
   "outputs": [
    {
     "data": {
      "text/html": [
       "<div>\n",
       "<style scoped>\n",
       "    .dataframe tbody tr th:only-of-type {\n",
       "        vertical-align: middle;\n",
       "    }\n",
       "\n",
       "    .dataframe tbody tr th {\n",
       "        vertical-align: top;\n",
       "    }\n",
       "\n",
       "    .dataframe thead tr th {\n",
       "        text-align: left;\n",
       "    }\n",
       "</style>\n",
       "<table border=\"1\" class=\"dataframe\">\n",
       "  <thead>\n",
       "    <tr>\n",
       "      <th></th>\n",
       "      <th>species</th>\n",
       "      <th>sex</th>\n",
       "      <th colspan=\"3\" halign=\"left\">body_mass_g</th>\n",
       "    </tr>\n",
       "    <tr>\n",
       "      <th></th>\n",
       "      <th></th>\n",
       "      <th></th>\n",
       "      <th>min</th>\n",
       "      <th>max</th>\n",
       "      <th>mean</th>\n",
       "    </tr>\n",
       "  </thead>\n",
       "  <tbody>\n",
       "    <tr>\n",
       "      <th>0</th>\n",
       "      <td>Adelie</td>\n",
       "      <td>Female</td>\n",
       "      <td>2850.0</td>\n",
       "      <td>3900.0</td>\n",
       "      <td>3368.835616</td>\n",
       "    </tr>\n",
       "    <tr>\n",
       "      <th>1</th>\n",
       "      <td>Adelie</td>\n",
       "      <td>Male</td>\n",
       "      <td>3325.0</td>\n",
       "      <td>4775.0</td>\n",
       "      <td>4043.493151</td>\n",
       "    </tr>\n",
       "    <tr>\n",
       "      <th>2</th>\n",
       "      <td>Chinstrap</td>\n",
       "      <td>Female</td>\n",
       "      <td>2700.0</td>\n",
       "      <td>4150.0</td>\n",
       "      <td>3527.205882</td>\n",
       "    </tr>\n",
       "    <tr>\n",
       "      <th>3</th>\n",
       "      <td>Chinstrap</td>\n",
       "      <td>Male</td>\n",
       "      <td>3250.0</td>\n",
       "      <td>4800.0</td>\n",
       "      <td>3938.970588</td>\n",
       "    </tr>\n",
       "    <tr>\n",
       "      <th>4</th>\n",
       "      <td>Gentoo</td>\n",
       "      <td>Female</td>\n",
       "      <td>3950.0</td>\n",
       "      <td>5200.0</td>\n",
       "      <td>4679.741379</td>\n",
       "    </tr>\n",
       "    <tr>\n",
       "      <th>5</th>\n",
       "      <td>Gentoo</td>\n",
       "      <td>Male</td>\n",
       "      <td>4750.0</td>\n",
       "      <td>6300.0</td>\n",
       "      <td>5484.836066</td>\n",
       "    </tr>\n",
       "  </tbody>\n",
       "</table>\n",
       "</div>"
      ],
      "text/plain": [
       "     species     sex body_mass_g                     \n",
       "                             min     max         mean\n",
       "0     Adelie  Female      2850.0  3900.0  3368.835616\n",
       "1     Adelie    Male      3325.0  4775.0  4043.493151\n",
       "2  Chinstrap  Female      2700.0  4150.0  3527.205882\n",
       "3  Chinstrap    Male      3250.0  4800.0  3938.970588\n",
       "4     Gentoo  Female      3950.0  5200.0  4679.741379\n",
       "5     Gentoo    Male      4750.0  6300.0  5484.836066"
      ]
     },
     "execution_count": 66,
     "metadata": {},
     "output_type": "execute_result"
    }
   ],
   "source": [
    "# Remember, this isn't permanent until we use an assignment ('=')\n",
    "peng_mass.reset_index()"
   ]
  },
  {
   "cell_type": "markdown",
   "metadata": {},
   "source": [
    "---\n",
    "\n",
    "But, the min, max, and mean columns are still oddly-named and difficult to access, as seen below:"
   ]
  },
  {
   "cell_type": "code",
   "execution_count": 67,
   "metadata": {
    "execution": {
     "iopub.execute_input": "2021-06-23T19:03:37.643819Z",
     "iopub.status.busy": "2021-06-23T19:03:37.643554Z",
     "iopub.status.idle": "2021-06-23T19:03:37.653824Z",
     "shell.execute_reply": "2021-06-23T19:03:37.653140Z",
     "shell.execute_reply.started": "2021-06-23T19:03:37.643791Z"
    },
    "tags": []
   },
   "outputs": [
    {
     "data": {
      "text/plain": [
       "species                   Adelie\n",
       "sex                       Female\n",
       "body_mass_g  min          2850.0\n",
       "             max          3900.0\n",
       "             mean    3368.835616\n",
       "Name: 0, dtype: object"
      ]
     },
     "execution_count": 67,
     "metadata": {},
     "output_type": "execute_result"
    }
   ],
   "source": [
    "peng_mass = peng_mass.reset_index()\n",
    "peng_mass.iloc[0]"
   ]
  },
  {
   "cell_type": "code",
   "execution_count": 68,
   "metadata": {
    "execution": {
     "iopub.execute_input": "2021-06-23T19:04:34.340113Z",
     "iopub.status.busy": "2021-06-23T19:04:34.339854Z",
     "iopub.status.idle": "2021-06-23T19:04:34.345377Z",
     "shell.execute_reply": "2021-06-23T19:04:34.344793Z",
     "shell.execute_reply.started": "2021-06-23T19:04:34.340085Z"
    },
    "tags": []
   },
   "outputs": [
    {
     "data": {
      "text/plain": [
       "MultiIndex([(    'species',     ''),\n",
       "            (        'sex',     ''),\n",
       "            ('body_mass_g',  'min'),\n",
       "            ('body_mass_g',  'max'),\n",
       "            ('body_mass_g', 'mean')],\n",
       "           )"
      ]
     },
     "execution_count": 68,
     "metadata": {},
     "output_type": "execute_result"
    }
   ],
   "source": [
    "peng_mass.columns"
   ]
  },
  {
   "cell_type": "markdown",
   "metadata": {},
   "source": [
    "---\n",
    "\n",
    "OK, one more try. Let's look at the `to_flat_index()` function:"
   ]
  },
  {
   "cell_type": "code",
   "execution_count": 69,
   "metadata": {
    "execution": {
     "iopub.execute_input": "2021-06-23T19:04:35.956544Z",
     "iopub.status.busy": "2021-06-23T19:04:35.956290Z",
     "iopub.status.idle": "2021-06-23T19:04:35.962587Z",
     "shell.execute_reply": "2021-06-23T19:04:35.961940Z",
     "shell.execute_reply.started": "2021-06-23T19:04:35.956516Z"
    },
    "tags": []
   },
   "outputs": [
    {
     "data": {
      "text/plain": [
       "Index([        ('species', ''),             ('sex', ''),\n",
       "        ('body_mass_g', 'min'),  ('body_mass_g', 'max'),\n",
       "       ('body_mass_g', 'mean')],\n",
       "      dtype='object')"
      ]
     },
     "execution_count": 69,
     "metadata": {},
     "output_type": "execute_result"
    }
   ],
   "source": [
    "peng_mass.columns.to_flat_index()"
   ]
  },
  {
   "cell_type": "markdown",
   "metadata": {},
   "source": [
    "---\n",
    "\n",
    "Getting closer, maybe. Let's combine with a string `join()` function:"
   ]
  },
  {
   "cell_type": "code",
   "execution_count": 70,
   "metadata": {
    "execution": {
     "iopub.execute_input": "2021-06-23T19:04:39.066192Z",
     "iopub.status.busy": "2021-06-23T19:04:39.065944Z",
     "iopub.status.idle": "2021-06-23T19:04:39.071898Z",
     "shell.execute_reply": "2021-06-23T19:04:39.071275Z",
     "shell.execute_reply.started": "2021-06-23T19:04:39.066164Z"
    },
    "tags": []
   },
   "outputs": [
    {
     "data": {
      "text/plain": [
       "Index(['species_', 'sex_', 'body_mass_g_min', 'body_mass_g_max',\n",
       "       'body_mass_g_mean'],\n",
       "      dtype='object')"
      ]
     },
     "execution_count": 70,
     "metadata": {},
     "output_type": "execute_result"
    }
   ],
   "source": [
    "peng_mass.columns.to_flat_index().str.join('_')"
   ]
  },
  {
   "cell_type": "markdown",
   "metadata": {},
   "source": [
    "---\n",
    "\n",
    "That looks pretty good. Let's make it permanent and see what the columns look like:"
   ]
  },
  {
   "cell_type": "code",
   "execution_count": 71,
   "metadata": {
    "execution": {
     "iopub.execute_input": "2021-06-23T19:04:40.112265Z",
     "iopub.status.busy": "2021-06-23T19:04:40.112015Z",
     "iopub.status.idle": "2021-06-23T19:04:40.126529Z",
     "shell.execute_reply": "2021-06-23T19:04:40.125873Z",
     "shell.execute_reply.started": "2021-06-23T19:04:40.112237Z"
    },
    "tags": []
   },
   "outputs": [
    {
     "data": {
      "text/html": [
       "<div>\n",
       "<style scoped>\n",
       "    .dataframe tbody tr th:only-of-type {\n",
       "        vertical-align: middle;\n",
       "    }\n",
       "\n",
       "    .dataframe tbody tr th {\n",
       "        vertical-align: top;\n",
       "    }\n",
       "\n",
       "    .dataframe thead th {\n",
       "        text-align: right;\n",
       "    }\n",
       "</style>\n",
       "<table border=\"1\" class=\"dataframe\">\n",
       "  <thead>\n",
       "    <tr style=\"text-align: right;\">\n",
       "      <th></th>\n",
       "      <th>species_</th>\n",
       "      <th>sex_</th>\n",
       "      <th>body_mass_g_min</th>\n",
       "      <th>body_mass_g_max</th>\n",
       "      <th>body_mass_g_mean</th>\n",
       "    </tr>\n",
       "  </thead>\n",
       "  <tbody>\n",
       "    <tr>\n",
       "      <th>0</th>\n",
       "      <td>Adelie</td>\n",
       "      <td>Female</td>\n",
       "      <td>2850.0</td>\n",
       "      <td>3900.0</td>\n",
       "      <td>3368.835616</td>\n",
       "    </tr>\n",
       "    <tr>\n",
       "      <th>1</th>\n",
       "      <td>Adelie</td>\n",
       "      <td>Male</td>\n",
       "      <td>3325.0</td>\n",
       "      <td>4775.0</td>\n",
       "      <td>4043.493151</td>\n",
       "    </tr>\n",
       "    <tr>\n",
       "      <th>2</th>\n",
       "      <td>Chinstrap</td>\n",
       "      <td>Female</td>\n",
       "      <td>2700.0</td>\n",
       "      <td>4150.0</td>\n",
       "      <td>3527.205882</td>\n",
       "    </tr>\n",
       "    <tr>\n",
       "      <th>3</th>\n",
       "      <td>Chinstrap</td>\n",
       "      <td>Male</td>\n",
       "      <td>3250.0</td>\n",
       "      <td>4800.0</td>\n",
       "      <td>3938.970588</td>\n",
       "    </tr>\n",
       "    <tr>\n",
       "      <th>4</th>\n",
       "      <td>Gentoo</td>\n",
       "      <td>Female</td>\n",
       "      <td>3950.0</td>\n",
       "      <td>5200.0</td>\n",
       "      <td>4679.741379</td>\n",
       "    </tr>\n",
       "    <tr>\n",
       "      <th>5</th>\n",
       "      <td>Gentoo</td>\n",
       "      <td>Male</td>\n",
       "      <td>4750.0</td>\n",
       "      <td>6300.0</td>\n",
       "      <td>5484.836066</td>\n",
       "    </tr>\n",
       "  </tbody>\n",
       "</table>\n",
       "</div>"
      ],
      "text/plain": [
       "    species_    sex_  body_mass_g_min  body_mass_g_max  body_mass_g_mean\n",
       "0     Adelie  Female           2850.0           3900.0       3368.835616\n",
       "1     Adelie    Male           3325.0           4775.0       4043.493151\n",
       "2  Chinstrap  Female           2700.0           4150.0       3527.205882\n",
       "3  Chinstrap    Male           3250.0           4800.0       3938.970588\n",
       "4     Gentoo  Female           3950.0           5200.0       4679.741379\n",
       "5     Gentoo    Male           4750.0           6300.0       5484.836066"
      ]
     },
     "execution_count": 71,
     "metadata": {},
     "output_type": "execute_result"
    }
   ],
   "source": [
    "peng_mass.columns = peng_mass.columns.to_flat_index().str.join('_')\n",
    "\n",
    "peng_mass"
   ]
  },
  {
   "cell_type": "markdown",
   "metadata": {},
   "source": [
    "---\n",
    "\n",
    "OK, at this point we have options how to fill in the missing values based on our new table. Unfortunately, there is overlap in the weight ranges between males and females, so we can't just check which range the unknown falls into. "
   ]
  },
  {
   "cell_type": "code",
   "execution_count": 75,
   "metadata": {
    "execution": {
     "iopub.execute_input": "2021-06-23T19:26:22.837555Z",
     "iopub.status.busy": "2021-06-23T19:26:22.837273Z",
     "iopub.status.idle": "2021-06-23T19:26:22.852742Z",
     "shell.execute_reply": "2021-06-23T19:26:22.852294Z",
     "shell.execute_reply.started": "2021-06-23T19:26:22.837525Z"
    },
    "tags": []
   },
   "outputs": [
    {
     "data": {
      "text/html": [
       "<div>\n",
       "<style scoped>\n",
       "    .dataframe tbody tr th:only-of-type {\n",
       "        vertical-align: middle;\n",
       "    }\n",
       "\n",
       "    .dataframe tbody tr th {\n",
       "        vertical-align: top;\n",
       "    }\n",
       "\n",
       "    .dataframe thead th {\n",
       "        text-align: right;\n",
       "    }\n",
       "</style>\n",
       "<table border=\"1\" class=\"dataframe\">\n",
       "  <thead>\n",
       "    <tr style=\"text-align: right;\">\n",
       "      <th></th>\n",
       "      <th>species</th>\n",
       "      <th>island</th>\n",
       "      <th>bill_length_mm</th>\n",
       "      <th>bill_depth_mm</th>\n",
       "      <th>flipper_length_mm</th>\n",
       "      <th>body_mass_g</th>\n",
       "      <th>sex</th>\n",
       "    </tr>\n",
       "  </thead>\n",
       "  <tbody>\n",
       "    <tr>\n",
       "      <th>8</th>\n",
       "      <td>Adelie</td>\n",
       "      <td>Torgersen</td>\n",
       "      <td>34.1</td>\n",
       "      <td>18.1</td>\n",
       "      <td>193.0</td>\n",
       "      <td>3475.0</td>\n",
       "      <td>NaN</td>\n",
       "    </tr>\n",
       "    <tr>\n",
       "      <th>9</th>\n",
       "      <td>Adelie</td>\n",
       "      <td>Torgersen</td>\n",
       "      <td>42.0</td>\n",
       "      <td>20.2</td>\n",
       "      <td>190.0</td>\n",
       "      <td>4250.0</td>\n",
       "      <td>NaN</td>\n",
       "    </tr>\n",
       "    <tr>\n",
       "      <th>10</th>\n",
       "      <td>Adelie</td>\n",
       "      <td>Torgersen</td>\n",
       "      <td>37.8</td>\n",
       "      <td>17.1</td>\n",
       "      <td>186.0</td>\n",
       "      <td>3300.0</td>\n",
       "      <td>NaN</td>\n",
       "    </tr>\n",
       "    <tr>\n",
       "      <th>11</th>\n",
       "      <td>Adelie</td>\n",
       "      <td>Torgersen</td>\n",
       "      <td>37.8</td>\n",
       "      <td>17.3</td>\n",
       "      <td>180.0</td>\n",
       "      <td>3700.0</td>\n",
       "      <td>NaN</td>\n",
       "    </tr>\n",
       "    <tr>\n",
       "      <th>47</th>\n",
       "      <td>Adelie</td>\n",
       "      <td>Dream</td>\n",
       "      <td>37.5</td>\n",
       "      <td>18.9</td>\n",
       "      <td>179.0</td>\n",
       "      <td>2975.0</td>\n",
       "      <td>NaN</td>\n",
       "    </tr>\n",
       "    <tr>\n",
       "      <th>246</th>\n",
       "      <td>Gentoo</td>\n",
       "      <td>Biscoe</td>\n",
       "      <td>44.5</td>\n",
       "      <td>14.3</td>\n",
       "      <td>216.0</td>\n",
       "      <td>4100.0</td>\n",
       "      <td>NaN</td>\n",
       "    </tr>\n",
       "    <tr>\n",
       "      <th>286</th>\n",
       "      <td>Gentoo</td>\n",
       "      <td>Biscoe</td>\n",
       "      <td>46.2</td>\n",
       "      <td>14.4</td>\n",
       "      <td>214.0</td>\n",
       "      <td>4650.0</td>\n",
       "      <td>NaN</td>\n",
       "    </tr>\n",
       "    <tr>\n",
       "      <th>324</th>\n",
       "      <td>Gentoo</td>\n",
       "      <td>Biscoe</td>\n",
       "      <td>47.3</td>\n",
       "      <td>13.8</td>\n",
       "      <td>216.0</td>\n",
       "      <td>4725.0</td>\n",
       "      <td>NaN</td>\n",
       "    </tr>\n",
       "    <tr>\n",
       "      <th>336</th>\n",
       "      <td>Gentoo</td>\n",
       "      <td>Biscoe</td>\n",
       "      <td>44.5</td>\n",
       "      <td>15.7</td>\n",
       "      <td>217.0</td>\n",
       "      <td>4875.0</td>\n",
       "      <td>NaN</td>\n",
       "    </tr>\n",
       "  </tbody>\n",
       "</table>\n",
       "</div>"
      ],
      "text/plain": [
       "    species     island  bill_length_mm  bill_depth_mm  flipper_length_mm  \\\n",
       "8    Adelie  Torgersen            34.1           18.1              193.0   \n",
       "9    Adelie  Torgersen            42.0           20.2              190.0   \n",
       "10   Adelie  Torgersen            37.8           17.1              186.0   \n",
       "11   Adelie  Torgersen            37.8           17.3              180.0   \n",
       "47   Adelie      Dream            37.5           18.9              179.0   \n",
       "246  Gentoo     Biscoe            44.5           14.3              216.0   \n",
       "286  Gentoo     Biscoe            46.2           14.4              214.0   \n",
       "324  Gentoo     Biscoe            47.3           13.8              216.0   \n",
       "336  Gentoo     Biscoe            44.5           15.7              217.0   \n",
       "\n",
       "     body_mass_g  sex  \n",
       "8         3475.0  NaN  \n",
       "9         4250.0  NaN  \n",
       "10        3300.0  NaN  \n",
       "11        3700.0  NaN  \n",
       "47        2975.0  NaN  \n",
       "246       4100.0  NaN  \n",
       "286       4650.0  NaN  \n",
       "324       4725.0  NaN  \n",
       "336       4875.0  NaN  "
      ]
     },
     "execution_count": 75,
     "metadata": {},
     "output_type": "execute_result"
    }
   ],
   "source": [
    "penguins[penguins.sex.isnull()]"
   ]
  },
  {
   "cell_type": "code",
   "execution_count": 85,
   "metadata": {
    "execution": {
     "iopub.execute_input": "2021-06-23T19:36:11.042213Z",
     "iopub.status.busy": "2021-06-23T19:36:11.041956Z",
     "iopub.status.idle": "2021-06-23T19:36:11.049281Z",
     "shell.execute_reply": "2021-06-23T19:36:11.048749Z",
     "shell.execute_reply.started": "2021-06-23T19:36:11.042186Z"
    },
    "tags": []
   },
   "outputs": [
    {
     "data": {
      "text/plain": [
       "0    3368.835616\n",
       "Name: body_mass_g_mean, dtype: float64"
      ]
     },
     "execution_count": 85,
     "metadata": {},
     "output_type": "execute_result"
    }
   ],
   "source": [
    "peng_mass[(peng_mass.species_=='Adelie') & (peng_mass.sex_=='Female')].body_mass_g_mean"
   ]
  },
  {
   "cell_type": "code",
   "execution_count": 79,
   "metadata": {
    "execution": {
     "iopub.execute_input": "2021-06-23T19:30:15.061552Z",
     "iopub.status.busy": "2021-06-23T19:30:15.061298Z",
     "iopub.status.idle": "2021-06-23T19:30:15.066067Z",
     "shell.execute_reply": "2021-06-23T19:30:15.065418Z",
     "shell.execute_reply.started": "2021-06-23T19:30:15.061525Z"
    },
    "tags": []
   },
   "outputs": [
    {
     "data": {
      "text/plain": [
       "332"
      ]
     },
     "execution_count": 79,
     "metadata": {},
     "output_type": "execute_result"
    }
   ],
   "source": [
    "3700 - 3368"
   ]
  },
  {
   "cell_type": "code",
   "execution_count": 80,
   "metadata": {
    "execution": {
     "iopub.execute_input": "2021-06-23T19:30:29.281938Z",
     "iopub.status.busy": "2021-06-23T19:30:29.281684Z",
     "iopub.status.idle": "2021-06-23T19:30:29.286109Z",
     "shell.execute_reply": "2021-06-23T19:30:29.285533Z",
     "shell.execute_reply.started": "2021-06-23T19:30:29.281910Z"
    }
   },
   "outputs": [
    {
     "data": {
      "text/plain": [
       "-343"
      ]
     },
     "execution_count": 80,
     "metadata": {},
     "output_type": "execute_result"
    }
   ],
   "source": [
    "3700 - 4043"
   ]
  },
  {
   "cell_type": "code",
   "execution_count": null,
   "metadata": {},
   "outputs": [],
   "source": []
  }
 ],
 "metadata": {
  "kernelspec": {
   "display_name": "Python 3 (ipykernel)",
   "language": "python",
   "name": "python3"
  },
  "language_info": {
   "codemirror_mode": {
    "name": "ipython",
    "version": 3
   },
   "file_extension": ".py",
   "mimetype": "text/x-python",
   "name": "python",
   "nbconvert_exporter": "python",
   "pygments_lexer": "ipython3",
   "version": "3.8.8"
  },
  "toc-autonumbering": true
 },
 "nbformat": 4,
 "nbformat_minor": 4
}
