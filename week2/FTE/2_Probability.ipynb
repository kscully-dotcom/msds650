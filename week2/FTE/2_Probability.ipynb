{
 "cells": [
  {
   "cell_type": "markdown",
   "metadata": {},
   "source": [
    "# Week 2 -- Probability "
   ]
  },
  {
   "cell_type": "markdown",
   "metadata": {},
   "source": [
    "<img align=\"right\" style=\"padding-right:10px;\" src=\"figures_wk2/stats_cover.png\" width=200><br>\n",
    "\n",
    "**Resources and References**\n",
    ">**Practical Statistics for Data Scientists, 2nd Edition**<br>\n",
    ">by Peter Bruce, Andrew Bruce, Peter Gedeck<br>\n",
    ">Publisher: O'Reilly Media, Inc.<br>\n",
    ">Release Date: May 2020<br>\n",
    ">ISBN: 9781492072942<br>\n",
    "\n",
    "<br>\n",
    "<br>\n",
    "\n",
    "\n",
    ">**Probability for Machine Learning**<br>\n",
    ">by Jason Brownle<br>\n",
    ">https://machinelearningmastery.com/probability-for-machine-learning/\n",
    "<img align=\"right\" style=\"padding-right:10px;\" src=\"figures_wk2/probability_cover.png\" width=200><br>"
   ]
  },
  {
   "cell_type": "markdown",
   "metadata": {},
   "source": [
    "## Data Sampling and Distribution"
   ]
  },
  {
   "cell_type": "markdown",
   "metadata": {},
   "source": [
    "### Bias and Random Sampling"
   ]
  },
  {
   "cell_type": "markdown",
   "metadata": {},
   "source": [
    "**Sample**-- subset of data taken from larger data set (usually called a **Population.** NOTE: Different from a population in biology).<br>\n",
    "**Population** -- Larger data set (real or theoretical).<br>\n",
    "**N(n)** -- size of population or sample. <br>\n",
    "**Random Sampling** -- Create a sample by randomly drawing elements from population.<br>\n",
    "**Bias** -- Systemic error<br>\n",
    "**Sample Bias** -- Sample that misrepresents the population.<br>\n",
    "* Recent example: 2016 US. Presidential election polls that placed Hillary Clinton ahead of Donald Trump. **Sample bias** was one of the contributing factors to the incorrect predictions. (Source: \"Harvard Researchers Warn 2016 Polling Mistakes Serve as a 'Cautionary Tale' in 2020\" retrieved from https://www.thecrimson.com/article/2020/11/2/2016-election-polls-kuriwaki-isakov/)\n"
   ]
  },
  {
   "cell_type": "markdown",
   "metadata": {},
   "source": [
    "#### Bias"
   ]
  },
  {
   "cell_type": "markdown",
   "metadata": {},
   "source": [
    "Error due to bias represents something wrong with the data collection or selection system itself. In the \"Practical Statistics for Data Scientists\" book referenced above, the authors use the analogy of two guns shooting at a target X-Y axis:\n",
    "\n",
    "<table style=\"font-size: 20px\">\n",
    "    <tr>\n",
    "        <th>True Aim</th><th>Biased Aim</th>\n",
    "    </tr>\n",
    "    <tr>\n",
    "        <td><img src=\"figures_wk2/true_aim.png\"></td><td><img src=\"figures_wk2/bias_aim.png\"></td>\n",
    "    </tr>\n",
    "</table>\n",
    "\n",
    "The \"True Aim\" picture shows us the result of random errors whereas the pattern we see in the \"Biased Aim\" graph "
   ]
  },
  {
   "cell_type": "markdown",
   "metadata": {},
   "source": [
    "#### Selection and Self-selection bias"
   ]
  },
  {
   "cell_type": "markdown",
   "metadata": {},
   "source": [
    "**Selection bias**: Refers to choosing data favorable to a particular conclusion, whether done deliberately or accidentally. \n",
    "\n",
    "**Self-selection bias**: Product or place reviews on social media or \"review sites\" like Yelp are not a good source of sample data. These types of reviews are not random -- rather, reviewers typically have a reason for self-selecting. Many times due to either a very good or very bad experience and thus represents a biased sample. \n",
    "\n",
    "It is worth noting that most non-compulsory surveys suffer from this same bias. Think of end of course surveys. Only a small number of course attendees usually take the time and effort to fill out a survey, and then usually only due to an extremely good or extremely bad course experience. "
   ]
  },
  {
   "cell_type": "markdown",
   "metadata": {},
   "source": [
    "#### Random Selection"
   ]
  },
  {
   "cell_type": "markdown",
   "metadata": {},
   "source": [
    "George Gallup proposed random selection as a scientific sampling method after the *Literary Digest* poll of 1936 famously predicted the incorrect outcome of Alf Landon winning the presidential election over Franklin Roosevelt. \n",
    "\n",
    "**Population**<br>\n",
    "A vital point is to correctly define the population from which the sample will be drawn. For example:<br>\n",
    "* Surveying 100 random customers to walk in the door of a grocery store may yield an acceptible sample for learning public opinion about general products. \n",
    "* Surveying 100 random men to walk in the grocery store about feminine hygiene products will probably yield a less than optimal result.\n",
    "\n",
    "Data quality and appropriate sampling is often more important than data quantity. "
   ]
  },
  {
   "cell_type": "markdown",
   "metadata": {
    "tags": []
   },
   "source": [
    "### Sampling Distribution"
   ]
  },
  {
   "cell_type": "markdown",
   "metadata": {},
   "source": [
    "**Data Distribution:** Distribution of a sample's *individual data points*.\n",
    "\n",
    "**Sampling Distribution:** Distribution of a sample statistic, such as mean. Tends to be more regular and bell-shaped than the data itself. \n",
    "\n",
    "Below is an example of this, recreated from *Practical Statistics for Data Scientists, 2nd Edition*, using Lending Club data. "
   ]
  },
  {
   "cell_type": "code",
   "execution_count": 5,
   "metadata": {
    "tags": []
   },
   "outputs": [],
   "source": [
    "%matplotlib inline\n",
    "\n",
    "from pathlib import Path\n",
    "import pandas as pd\n",
    "import numpy as np\n",
    "from scipy import stats\n",
    "from sklearn.utils import resample\n",
    "\n",
    "import seaborn as sns\n",
    "import matplotlib.pylab as plt\n",
    "\n",
    "sns.set()"
   ]
  },
  {
   "cell_type": "code",
   "execution_count": 6,
   "metadata": {
    "tags": []
   },
   "outputs": [
    {
     "name": "stdout",
     "output_type": "stream",
     "text": [
      "        income  type\n",
      "38798  51000.0  Data\n",
      "47991  45000.0  Data\n",
      "9912   62000.0  Data\n",
      "29199  26000.0  Data\n",
      "27846  55000.0  Data\n"
     ]
    }
   ],
   "source": [
    "loans_income = pd.read_csv(\"data/loans_income.csv\", squeeze=True)\n",
    "\n",
    "sample_data = pd.DataFrame({\n",
    "    'income': loans_income.sample(1000),\n",
    "    'type': 'Data',\n",
    "})\n",
    "\n",
    "sample_mean_05 = pd.DataFrame({\n",
    "    'income': [loans_income.sample(5).mean() for _ in range(1000)],\n",
    "    'type': 'Mean of 5',\n",
    "})\n",
    "\n",
    "sample_mean_20 = pd.DataFrame({\n",
    "    'income': [loans_income.sample(20).mean() for _ in range(1000)],\n",
    "    'type': 'Mean of 20',\n",
    "})\n",
    "\n",
    "results = pd.concat([sample_data, sample_mean_05, sample_mean_20])\n",
    "print(results.head())"
   ]
  },
  {
   "cell_type": "code",
   "execution_count": 7,
   "metadata": {
    "tags": []
   },
   "outputs": [
    {
     "data": {
      "image/png": "[encoded data removed]",
      "text/plain": [
       "<Figure size 864x288 with 3 Axes>"
      ]
     },
     "metadata": {},
     "output_type": "display_data"
    }
   ],
   "source": [
    "g = sns.FacetGrid(results, col='type', col_wrap=3, \n",
    "                  height=4, aspect=1)\n",
    "g.map(plt.hist, 'income', range=[0, 200000], bins=40)\n",
    "g.set_axis_labels('Income', 'Count')\n",
    "g.set_titles('{col_name}')\n",
    "\n",
    "plt.tight_layout()\n",
    "plt.show()"
   ]
  },
  {
   "cell_type": "markdown",
   "metadata": {},
   "source": [
    "* The first graph is the mean of 1000 values.\n",
    "* The second graph is 1000 means of 5 values.\n",
    "* The third graph is 1000 means of 20 values."
   ]
  },
  {
   "cell_type": "markdown",
   "metadata": {
    "tags": []
   },
   "source": [
    "#### Central Limit Theorem"
   ]
  },
  {
   "cell_type": "markdown",
   "metadata": {},
   "source": [
    "The **central limit theorem** states that means of multiple samples will be a bell-shaped curve, even if the population isn't normally distributed, if sample size is large enough and not too far off of normal."
   ]
  },
  {
   "cell_type": "markdown",
   "metadata": {},
   "source": [
    "### Normal (Gaussian) Distribution"
   ]
  },
  {
   "cell_type": "markdown",
   "metadata": {},
   "source": [
    "**Standard Normal Distribution**\n",
    "<img style=\"padding-right:10px;\" src=\"figures_wk2/normal_distribution.png\"><br>\n",
    "\n",
    "---\n",
    "\n",
    "$ \\mu = $ The population mean.\n",
    "\n",
    "\n",
    "Many statistical tests, **such as t-distributions and hypothesis testing**, assume sample statistics are normally distributed. Simple mathematics exist to compare data to a standard normal distribution, however, for our purposes, a QQ-plot is faster and easier. \n",
    "\n",
    "Normality can be checked with a **QQ-plot**. Python's *scipy* package has a QQ-plot function, called `probplot`, seen below:"
   ]
  },
  {
   "cell_type": "code",
   "execution_count": 4,
   "metadata": {},
   "outputs": [
    {
     "data": {
      "image/png": "[encoded data removed]",
      "text/plain": [
       "<Figure size 288x288 with 1 Axes>"
      ]
     },
     "metadata": {},
     "output_type": "display_data"
    }
   ],
   "source": [
    "fig, ax = plt.subplots(figsize=(4, 4))\n",
    "\n",
    "norm_sample = stats.norm.rvs(size=100)\n",
    "stats.probplot(norm_sample, plot=ax)\n",
    "\n",
    "plt.tight_layout()\n",
    "plt.show()"
   ]
  },
  {
   "cell_type": "markdown",
   "metadata": {},
   "source": [
    "The blue markers represent *z-scores*, or standardized data points, plotted vs. standard deviations away from the mean. \n"
   ]
  },
  {
   "cell_type": "markdown",
   "metadata": {},
   "source": [
    "### Long-tailed Distributions"
   ]
  },
  {
   "cell_type": "markdown",
   "metadata": {},
   "source": [
    "**Tail:** A long, narrow area of a frequency distribution where extreme cases happen with low frequency.<br>\n",
    "**Skew:** Where one tail of a distribution is longer than another.\n",
    "\n",
    "\n",
    "Despite the time and effort spent teaching about normal distributions, most data is **not** normally distributed.\n",
    "\n",
    "An example can be seen with a QQ-plot of Netflix stock data. "
   ]
  },
  {
   "cell_type": "code",
   "execution_count": 8,
   "metadata": {
    "tags": []
   },
   "outputs": [
    {
     "data": {
      "image/png": "[encoded data removed]",
      "text/plain": [
       "<Figure size 288x288 with 1 Axes>"
      ]
     },
     "metadata": {},
     "output_type": "display_data"
    }
   ],
   "source": [
    "sp500_px = pd.read_csv('data/sp500_data.csv.gz')\n",
    "\n",
    "nflx = sp500_px.NFLX\n",
    "# nflx = np.diff(np.log(nflx[nflx>0]))\n",
    "\n",
    "fig, ax = plt.subplots(figsize=(4, 4))\n",
    "stats.probplot(nflx, plot=ax)\n",
    "\n",
    "plt.tight_layout()\n",
    "plt.show()"
   ]
  },
  {
   "cell_type": "code",
   "execution_count": 9,
   "metadata": {},
   "outputs": [
    {
     "data": {
      "text/html": [
       "<div>\n",
       "<style scoped>\n",
       "    .dataframe tbody tr th:only-of-type {\n",
       "        vertical-align: middle;\n",
       "    }\n",
       "\n",
       "    .dataframe tbody tr th {\n",
       "        vertical-align: top;\n",
       "    }\n",
       "\n",
       "    .dataframe thead th {\n",
       "        text-align: right;\n",
       "    }\n",
       "</style>\n",
       "<table border=\"1\" class=\"dataframe\">\n",
       "  <thead>\n",
       "    <tr style=\"text-align: right;\">\n",
       "      <th></th>\n",
       "      <th>Unnamed: 0</th>\n",
       "      <th>ADS</th>\n",
       "      <th>CA</th>\n",
       "      <th>MSFT</th>\n",
       "      <th>RHT</th>\n",
       "      <th>CTSH</th>\n",
       "      <th>CSC</th>\n",
       "      <th>EMC</th>\n",
       "      <th>IBM</th>\n",
       "      <th>XRX</th>\n",
       "      <th>...</th>\n",
       "      <th>WAT</th>\n",
       "      <th>ALXN</th>\n",
       "      <th>AMGN</th>\n",
       "      <th>BXLT</th>\n",
       "      <th>BIIB</th>\n",
       "      <th>CELG</th>\n",
       "      <th>GILD</th>\n",
       "      <th>REGN</th>\n",
       "      <th>VRTX</th>\n",
       "      <th>HSIC</th>\n",
       "    </tr>\n",
       "  </thead>\n",
       "  <tbody>\n",
       "    <tr>\n",
       "      <th>0</th>\n",
       "      <td>1993-01-29</td>\n",
       "      <td>0.0</td>\n",
       "      <td>0.060124</td>\n",
       "      <td>-0.022100</td>\n",
       "      <td>0.0</td>\n",
       "      <td>0.0</td>\n",
       "      <td>0.018897</td>\n",
       "      <td>0.007368</td>\n",
       "      <td>0.092165</td>\n",
       "      <td>0.259140</td>\n",
       "      <td>...</td>\n",
       "      <td>0.0</td>\n",
       "      <td>0.0</td>\n",
       "      <td>0.34716</td>\n",
       "      <td>0.0</td>\n",
       "      <td>0.04167</td>\n",
       "      <td>0.00000</td>\n",
       "      <td>0.015564</td>\n",
       "      <td>1.75</td>\n",
       "      <td>0.1250</td>\n",
       "      <td>0.0</td>\n",
       "    </tr>\n",
       "    <tr>\n",
       "      <th>1</th>\n",
       "      <td>1993-02-01</td>\n",
       "      <td>0.0</td>\n",
       "      <td>-0.180389</td>\n",
       "      <td>0.027621</td>\n",
       "      <td>0.0</td>\n",
       "      <td>0.0</td>\n",
       "      <td>0.018889</td>\n",
       "      <td>0.018425</td>\n",
       "      <td>0.115207</td>\n",
       "      <td>-0.100775</td>\n",
       "      <td>...</td>\n",
       "      <td>0.0</td>\n",
       "      <td>0.0</td>\n",
       "      <td>-0.23144</td>\n",
       "      <td>0.0</td>\n",
       "      <td>0.00000</td>\n",
       "      <td>-0.01041</td>\n",
       "      <td>0.007782</td>\n",
       "      <td>1.25</td>\n",
       "      <td>0.1250</td>\n",
       "      <td>0.0</td>\n",
       "    </tr>\n",
       "    <tr>\n",
       "      <th>2</th>\n",
       "      <td>1993-02-02</td>\n",
       "      <td>0.0</td>\n",
       "      <td>-0.120257</td>\n",
       "      <td>0.035900</td>\n",
       "      <td>0.0</td>\n",
       "      <td>0.0</td>\n",
       "      <td>-0.075573</td>\n",
       "      <td>0.029482</td>\n",
       "      <td>-0.023041</td>\n",
       "      <td>0.028796</td>\n",
       "      <td>...</td>\n",
       "      <td>0.0</td>\n",
       "      <td>0.0</td>\n",
       "      <td>-0.11572</td>\n",
       "      <td>0.0</td>\n",
       "      <td>0.00000</td>\n",
       "      <td>0.00000</td>\n",
       "      <td>-0.007792</td>\n",
       "      <td>-0.25</td>\n",
       "      <td>0.0000</td>\n",
       "      <td>0.0</td>\n",
       "    </tr>\n",
       "    <tr>\n",
       "      <th>3</th>\n",
       "      <td>1993-02-03</td>\n",
       "      <td>0.0</td>\n",
       "      <td>0.060124</td>\n",
       "      <td>-0.024857</td>\n",
       "      <td>0.0</td>\n",
       "      <td>0.0</td>\n",
       "      <td>-0.151128</td>\n",
       "      <td>0.003689</td>\n",
       "      <td>-0.253454</td>\n",
       "      <td>-0.043190</td>\n",
       "      <td>...</td>\n",
       "      <td>0.0</td>\n",
       "      <td>0.0</td>\n",
       "      <td>-0.08679</td>\n",
       "      <td>0.0</td>\n",
       "      <td>0.04167</td>\n",
       "      <td>-0.04167</td>\n",
       "      <td>-0.038919</td>\n",
       "      <td>-0.50</td>\n",
       "      <td>0.0625</td>\n",
       "      <td>0.0</td>\n",
       "    </tr>\n",
       "    <tr>\n",
       "      <th>4</th>\n",
       "      <td>1993-02-04</td>\n",
       "      <td>0.0</td>\n",
       "      <td>-0.360770</td>\n",
       "      <td>-0.060757</td>\n",
       "      <td>0.0</td>\n",
       "      <td>0.0</td>\n",
       "      <td>0.113350</td>\n",
       "      <td>-0.022114</td>\n",
       "      <td>0.069862</td>\n",
       "      <td>0.000000</td>\n",
       "      <td>...</td>\n",
       "      <td>0.0</td>\n",
       "      <td>0.0</td>\n",
       "      <td>0.14465</td>\n",
       "      <td>0.0</td>\n",
       "      <td>-0.04166</td>\n",
       "      <td>-0.03126</td>\n",
       "      <td>-0.046711</td>\n",
       "      <td>0.00</td>\n",
       "      <td>0.0625</td>\n",
       "      <td>0.0</td>\n",
       "    </tr>\n",
       "  </tbody>\n",
       "</table>\n",
       "<p>5 rows × 518 columns</p>\n",
       "</div>"
      ],
      "text/plain": [
       "   Unnamed: 0  ADS        CA      MSFT  RHT  CTSH       CSC       EMC  \\\n",
       "0  1993-01-29  0.0  0.060124 -0.022100  0.0   0.0  0.018897  0.007368   \n",
       "1  1993-02-01  0.0 -0.180389  0.027621  0.0   0.0  0.018889  0.018425   \n",
       "2  1993-02-02  0.0 -0.120257  0.035900  0.0   0.0 -0.075573  0.029482   \n",
       "3  1993-02-03  0.0  0.060124 -0.024857  0.0   0.0 -0.151128  0.003689   \n",
       "4  1993-02-04  0.0 -0.360770 -0.060757  0.0   0.0  0.113350 -0.022114   \n",
       "\n",
       "        IBM       XRX  ...  WAT  ALXN     AMGN  BXLT     BIIB     CELG  \\\n",
       "0  0.092165  0.259140  ...  0.0   0.0  0.34716   0.0  0.04167  0.00000   \n",
       "1  0.115207 -0.100775  ...  0.0   0.0 -0.23144   0.0  0.00000 -0.01041   \n",
       "2 -0.023041  0.028796  ...  0.0   0.0 -0.11572   0.0  0.00000  0.00000   \n",
       "3 -0.253454 -0.043190  ...  0.0   0.0 -0.08679   0.0  0.04167 -0.04167   \n",
       "4  0.069862  0.000000  ...  0.0   0.0  0.14465   0.0 -0.04166 -0.03126   \n",
       "\n",
       "       GILD  REGN    VRTX  HSIC  \n",
       "0  0.015564  1.75  0.1250   0.0  \n",
       "1  0.007782  1.25  0.1250   0.0  \n",
       "2 -0.007792 -0.25  0.0000   0.0  \n",
       "3 -0.038919 -0.50  0.0625   0.0  \n",
       "4 -0.046711  0.00  0.0625   0.0  \n",
       "\n",
       "[5 rows x 518 columns]"
      ]
     },
     "execution_count": 9,
     "metadata": {},
     "output_type": "execute_result"
    }
   ],
   "source": [
    "sp500_px.head()"
   ]
  },
  {
   "cell_type": "markdown",
   "metadata": {},
   "source": [
    "Low values are below the line and high values are above the line. This tells us the data is not normally distributed and we are more likely to see extreme values than if it was normally distributed.\n",
    "\n",
    "Sometimes non-regular data can be normalized using methods like **taking the logarithm of values greater than 0.**"
   ]
  },
  {
   "cell_type": "code",
   "execution_count": 10,
   "metadata": {},
   "outputs": [
    {
     "data": {
      "image/png": "[encoded data removed]",
      "text/plain": [
       "<Figure size 288x288 with 1 Axes>"
      ]
     },
     "metadata": {},
     "output_type": "display_data"
    }
   ],
   "source": [
    "nflx = np.diff(np.log(nflx[nflx>0]))\n",
    "\n",
    "fig, ax = plt.subplots(figsize=(4, 4))\n",
    "stats.probplot(nflx, plot=ax)\n",
    "\n",
    "plt.tight_layout()\n",
    "plt.show()"
   ]
  },
  {
   "cell_type": "markdown",
   "metadata": {},
   "source": [
    "You can see that helps significantly, but the data is still not very normal. "
   ]
  },
  {
   "cell_type": "markdown",
   "metadata": {},
   "source": [
    "### Binomial (Bernoulli) Distribution"
   ]
  },
  {
   "cell_type": "markdown",
   "metadata": {},
   "source": [
    "A **binomial outcome** is one for which there are only two possible answers:<br>\n",
    "* yes / no<br>\n",
    "* true / false<br>\n",
    "* buy / don't buy<br>\n",
    "* click / don't click<br>\n",
    "* etc.\n",
    "\n",
    "At its heart, binomial distributions analyze the probability of each outcome under certain conditions. \n",
    "\n",
    "The classic example is the coin toss. The outcome will be either heads (H) or tails (T) for any particular toss. \n",
    "\n",
    "A **trial** is an event of interest with a discrete outcome (e.g. a coin toss).\n",
    "\n",
    "A **success** is defined as the outcome of interest in the trials. For example, in the coin toss above, we could say we are interested in the number of H outcomes out of 10 trials (tosses). Each H outcome would be a *success*. Also represented as a \"1\" (following binary logic).\n",
    "\n",
    "A **binary distribution** is the number of successes (*x*) in *n* trials with *p* probability of success for each trial. Also called a *Bernoulli distribution*.\n",
    "\n"
   ]
  },
  {
   "cell_type": "markdown",
   "metadata": {},
   "source": [
    "#### Calculating Binomial Probabilies"
   ]
  },
  {
   "cell_type": "markdown",
   "metadata": {},
   "source": [
    "In general, we are concerned with calculating two situations:\n",
    "\n",
    "1. The probability of *x* successes out of *n* trials. This is called the **probability mass function(pmf).**<br>\n",
    "2. The probability of **no more than** _x_ successes out of *n* trials. This is called the **cumulative distribution function (cdf).**\n",
    "\n",
    "Python uses scipy's `stats.binom.pmf()` and `stats.binom.cdf()` functions, respectively, for that functionality. \n",
    "\n",
    "**pmf example:** A fair coin has a 50% (.50) chance of coming up heads on a toss. What is the probability of getting a head (H) 7 times out of 10 tosses?\n",
    "\n",
    "x = 7<br>\n",
    "n = 10<br>\n",
    "p = 0.5<br>"
   ]
  },
  {
   "cell_type": "code",
   "execution_count": 11,
   "metadata": {},
   "outputs": [
    {
     "data": {
      "text/plain": [
       "0.11718750000000014"
      ]
     },
     "execution_count": 11,
     "metadata": {},
     "output_type": "execute_result"
    }
   ],
   "source": [
    "stats.binom.pmf(7, n=10, p=0.5)"
   ]
  },
  {
   "cell_type": "markdown",
   "metadata": {},
   "source": [
    "So, there is an 11.7% chance that a coin will land on heads 7 out of 10 tosses.\n",
    "\n",
    "**cdf example:** Using that same fair coin, what is the probability of getting a head (H) **_no more than_** four times?\n",
    "\n",
    "x = 4<br>\n",
    "n = 10<br>\n",
    "p = 0.5<br>"
   ]
  },
  {
   "cell_type": "code",
   "execution_count": 12,
   "metadata": {},
   "outputs": [
    {
     "data": {
      "text/plain": [
       "0.3769531250000001"
      ]
     },
     "execution_count": 12,
     "metadata": {},
     "output_type": "execute_result"
    }
   ],
   "source": [
    "stats.binom.cdf(4, n=10, p=0.5)"
   ]
  },
  {
   "cell_type": "markdown",
   "metadata": {
    "execution": {
     "iopub.execute_input": "2021-06-14T23:03:41.383676Z",
     "iopub.status.busy": "2021-06-14T23:03:41.383408Z",
     "iopub.status.idle": "2021-06-14T23:03:41.390005Z",
     "shell.execute_reply": "2021-06-14T23:03:41.389545Z",
     "shell.execute_reply.started": "2021-06-14T23:03:41.383648Z"
    },
    "tags": []
   },
   "source": [
    "There is a 37.6% chance that there will be 4 or fewer heads in 10 trials. Which is the same thing as \n",
    "\n",
    "`(chance of 0 H) + (chance of 1 H) + (chance of 2 H) + (chance of 3 H) + (chance of 4 H)`"
   ]
  },
  {
   "cell_type": "code",
   "execution_count": 13,
   "metadata": {
    "tags": []
   },
   "outputs": [
    {
     "data": {
      "text/plain": [
       "0.37695312500000033"
      ]
     },
     "execution_count": 13,
     "metadata": {},
     "output_type": "execute_result"
    }
   ],
   "source": [
    "stats.binom.pmf(0, n=10, p=0.5) + stats.binom.pmf(1, n=10, p=0.5) \\\n",
    "+ stats.binom.pmf(2, n=10, p=0.5) + stats.binom.pmf(3, n=10, p=0.5) \\\n",
    "+ stats.binom.pmf(4, n=10, p=0.5)"
   ]
  },
  {
   "cell_type": "markdown",
   "metadata": {},
   "source": [
    "There are many other useful data distributions. Students are encouraged to to independently research them. "
   ]
  },
  {
   "cell_type": "markdown",
   "metadata": {},
   "source": [
    "# Bootstrapping"
   ]
  },
  {
   "cell_type": "markdown",
   "metadata": {},
   "source": [
    "**Bootstrap sample:** A sample taken with replacement from a data set. <br>\n",
    "**Resampling:** The process of taking repeated samples from observed data.<br>\n",
    "\n",
    "Hypothesis testing requires some estimate of the sampling distribution. \"Traditional\" hypothesis testing requires formulas to create estimates of sampling distributions. *Bootstrapping* creates a sampling distribution through resampling. \n",
    " \n",
    "Let's take a look. First, we'll find the median income of the Lending Club data."
   ]
  },
  {
   "cell_type": "code",
   "execution_count": 14,
   "metadata": {},
   "outputs": [
    {
     "data": {
      "text/plain": [
       "62000.0"
      ]
     },
     "execution_count": 14,
     "metadata": {},
     "output_type": "execute_result"
    }
   ],
   "source": [
    "loans_income.median()"
   ]
  },
  {
   "cell_type": "markdown",
   "metadata": {},
   "source": [
    "Next, we'll use scikit-learn's `resample()` function to take 5 samples and print out the median of each."
   ]
  },
  {
   "cell_type": "code",
   "execution_count": 15,
   "metadata": {
    "tags": []
   },
   "outputs": [
    {
     "name": "stdout",
     "output_type": "stream",
     "text": [
      "62000.0\n",
      "62000.0\n",
      "61200.0\n",
      "61481.0\n",
      "62000.0\n"
     ]
    }
   ],
   "source": [
    "for _ in range(5):\n",
    "    sample = resample(loans_income)\n",
    "    print(sample.median())"
   ]
  },
  {
   "cell_type": "markdown",
   "metadata": {},
   "source": [
    "As you can see, the median is different for each sample. \n",
    "\n",
    "Let's take 1000 samples and average the medians and see how different it is from the dataset median."
   ]
  },
  {
   "cell_type": "code",
   "execution_count": 16,
   "metadata": {
    "tags": []
   },
   "outputs": [
    {
     "name": "stdout",
     "output_type": "stream",
     "text": [
      "Bootstrap Statistics:\n",
      "original: 62000.0\n",
      "mean of medians: 61927.7055\n",
      "bias: -72.29450000000361\n",
      "std. error: 213.41770928952386\n"
     ]
    }
   ],
   "source": [
    "results = []\n",
    "for nrepeat in range(1000):\n",
    "    sample = resample(loans_income)\n",
    "    results.append(sample.median())\n",
    "results = pd.Series(results)\n",
    "print('Bootstrap Statistics:')\n",
    "print(f'original: {loans_income.median()}')\n",
    "print(f'mean of medians: {results.mean()}')\n",
    "print(f'bias: {results.mean() - loans_income.median()}')\n",
    "print(f'std. error: {results.std()}')"
   ]
  },
  {
   "cell_type": "markdown",
   "metadata": {},
   "source": [
    "Let's use bootstrapping on that wonky Netflix data. We'll take samples of 100 and store the mean of the sample in a list and do that 20,000 times. \n",
    "\n",
    "You'll notice that the data looks much more normally distributed even without the logarithm trick."
   ]
  },
  {
   "cell_type": "code",
   "execution_count": 17,
   "metadata": {},
   "outputs": [
    {
     "data": {
      "text/plain": [
       "1000"
      ]
     },
     "execution_count": 17,
     "metadata": {},
     "output_type": "execute_result"
    }
   ],
   "source": [
    "len(results)"
   ]
  },
  {
   "cell_type": "code",
   "execution_count": 18,
   "metadata": {
    "tags": []
   },
   "outputs": [
    {
     "data": {
      "text/plain": [
       "62000.0"
      ]
     },
     "execution_count": 18,
     "metadata": {},
     "output_type": "execute_result"
    }
   ],
   "source": [
    "results[90]"
   ]
  },
  {
   "cell_type": "code",
   "execution_count": 19,
   "metadata": {
    "tags": []
   },
   "outputs": [
    {
     "data": {
      "image/png": "[encoded data removed]",
      "text/plain": [
       "<Figure size 432x288 with 1 Axes>"
      ]
     },
     "metadata": {},
     "output_type": "display_data"
    },
    {
     "data": {
      "image/png": "[encoded data removed]",
      "text/plain": [
       "<Figure size 288x288 with 1 Axes>"
      ]
     },
     "metadata": {},
     "output_type": "display_data"
    }
   ],
   "source": [
    "sp500_px = pd.read_csv('data/sp500_data.csv.gz')\n",
    "\n",
    "nflx = sp500_px.NFLX.values\n",
    "\n",
    "means = []\n",
    "\n",
    "for _ in range(20000): \n",
    "    mean = resample(nflx, replace=True, n_samples=100).mean()\n",
    "    means.append(mean)\n",
    "    \n",
    "plt.hist(means)\n",
    "\n",
    "fig, ax = plt.subplots(figsize=(4, 4))\n",
    "stats.probplot(means, plot=ax)\n",
    "\n",
    "plt.tight_layout()\n",
    "plt.show()"
   ]
  },
  {
   "cell_type": "markdown",
   "metadata": {
    "tags": []
   },
   "source": [
    "# Probability"
   ]
  },
  {
   "cell_type": "markdown",
   "metadata": {},
   "source": [
    "\n",
    "**Joint probability:** Probability of two or more events happening at the same time.<br> \n",
    "**Marginal probability:** Probability of an event regardless of other variables outcome.<br>\n",
    "**Conditional probability:** Probability of an event occurring along with one or more other events. <br>"
   ]
  },
  {
   "cell_type": "markdown",
   "metadata": {},
   "source": [
    "## Probability for one random variable "
   ]
  },
  {
   "cell_type": "markdown",
   "metadata": {},
   "source": [
    "Probability shows the likelihood of an event happening. <br>\n",
    "\n",
    "Probability of one random variable is the likelihood of an event that is independent of other factors. Examples include: <br>\n",
    "* Coin toss.<br>\n",
    "* Roll of a dice.<br>\n",
    "* Drawing one card from a deck of cards. <br>\n",
    "\n",
    "For random variable `x`, the function `P(x)` relates probabilities to all values of `x`.\n",
    "\n",
    "<center>$Probability\\ Density\\ of\\ x = P(x)$</center>\n",
    "\n",
    "If `A` is a specific event of `x`, \n",
    "\n",
    "<center>$Probability\\ of\\ Event\\ A = P(A)$</center>"
   ]
  },
  {
   "cell_type": "markdown",
   "metadata": {},
   "source": [
    "Probability of an event is calculated as *the number of desired outcomes* divided by *total number of possible outcomes*, where all outcomes are equally likely:\n",
    "\n",
    "<center>$Probability = \\frac{the\\ number\\ of\\ desired\\ outcomes}{total\\ number\\ of\\ possible\\ outcomes}$</center>\n",
    "\n",
    "If we apply that principle to our examples above:<br>\n",
    "* Coin toss: Probability of heads = 1 (desired outcome) / 2 (possible outcomes) = .50 or 50%<br>\n",
    "* Dice roll: Probability of rolling 3 = 1 (specific number) / 6 (possible numbers) = .1666 or 16.66%<br>\n",
    "* Cards: Probability of drawing 10 ♦ = 1 (specific card) / 52 (possible cards) = .0192 or 1.92%<br>\n",
    "\n",
    "<center>$Sum of Probabilities\\ for\\ all\\ outcomes\\ = 1.0$</center>\n",
    "\n",
    "---\n",
    "\n",
    "The probability of an event not occurring is called the **complement** and is calculated:\n",
    "\n",
    "<center>$Probability\\ of\\ Event\\ not\\ occurring = Probability\\ of\\ all\\ outcomes\\ - Probability\\ of\\ one\\ outcome$</center>\n",
    "\n",
    "That is:\n",
    "\n",
    "<center>$P(not\\ A) = 1 - P(A)$</center>"
   ]
  },
  {
   "cell_type": "markdown",
   "metadata": {},
   "source": [
    "## Probability of multiple random variables"
   ]
  },
  {
   "cell_type": "markdown",
   "metadata": {},
   "source": [
    "Each **column** in a machine learning data set represents a **variable** and each *row* represents an *observation*. Much of the behind-the-scenes math in machine learning deals the probability of one variable in the presence of the observation's other variables. \n",
    "\n",
    "Let's look again at this section's definitions, in light of what we saw above:\n",
    "\n",
    "**Joint probability:** Probability of events *A* and *B*.<br> \n",
    "**Marginal probability:** Probability of event *A* given variable *Y*.<br>\n",
    "**Conditional probability:** Probability of event *A* given event *B*. <br>"
   ]
  },
  {
   "cell_type": "markdown",
   "metadata": {},
   "source": [
    "### Joint probability"
   ]
  },
  {
   "cell_type": "markdown",
   "metadata": {},
   "source": [
    "Joint probability is the chance that **both** event A and event B happen. This can be written several ways:\n",
    "\n",
    "<center>\n",
    "$$P(A\\ and\\ B)$$\n",
    "$$P(A\\ \\cap\\ B)$$\n",
    "$$P(A,B)$$\n",
    "</center>\n",
    "\n",
    "Joint probability of A and B can be calculated as *the probability of event A given event B times the probability of event B*. In more mathematical terms:\n",
    "\n",
    "<center>$P(A\\ \\cap\\ B) = P(A\\ given\\ B)\\ \\times\\ P(B)$</center>\n",
    "\n",
    "\n"
   ]
  },
  {
   "cell_type": "markdown",
   "metadata": {
    "tags": []
   },
   "source": [
    "## Marginal probability"
   ]
  },
  {
   "cell_type": "markdown",
   "metadata": {},
   "source": [
    "For given fixed event *A* and variable *Y*, marginal probability is the sum of probabilities that one of *Y*'s events will happen along with fixed event *A*. Let's look at that in table form.\n",
    "\n",
    "* Let's say we ask a group of 60 people which color they like better, **blue** or **pink**.\n",
    "\n",
    "|Gender| Blue|Pink|Total|\n",
    "|------|-----|----|-----|\n",
    "|Male|25|10|P(male) = 35 / 60 = 0.5833| \n",
    "|Female|5|20|P(female) 25 / 60 = 0.4166|\n",
    "|Total|P(blue) = 30 / 60 = .50 | P(pink) = 30 / 60 = .50| total = 60\n",
    "\n",
    "**Rows** represent the probability that a respondent was a particular gender.<br>\n",
    "**Columns** represent the probability of the response being that color.<br>\n",
    "\n",
    "To express that more mathematically, \n",
    "\n",
    "<center>$P(X=A)=\\sum\\limits_{}^{y\\in Y}P(X=A,\\ Y=y)$</center>"
   ]
  },
  {
   "cell_type": "markdown",
   "metadata": {},
   "source": [
    "## Conditional probability"
   ]
  },
  {
   "cell_type": "markdown",
   "metadata": {},
   "source": [
    "Remember, in programming languages, we call `if->then->else` statements *conditionals*.\n",
    "\n",
    "A **conditional probability** can be thought of as **The probability that event A will happen _if_ event B has happened**.\n",
    "\n",
    "The slightly more \"mathy\" way to say that is: **The probability of event A _given_ event B.**\n",
    "\n",
    "In formula form, we use **\"|\"** (pipe) as the \"given.\"\n",
    "\n",
    "<center>\n",
    "    $P(A\\ given\\ B)$<br>\n",
    "    or<br>\n",
    "    $P(A|B)$<br>\n",
    "    </center>\n",
    "    \n",
    "<br><br>\n",
    "The conditional probability of event A given event B can be calculated by:<br><br>\n",
    "\n",
    "\n",
    "<center>$P(A|B) = \\frac{P(A \\cap B)}{P(B)}$</center>\n"
   ]
  },
  {
   "cell_type": "markdown",
   "metadata": {},
   "source": [
    "---\n",
    "\n",
    "**All of the probability above was included simply so we could understand Bayes Theorem (below) and its' application to machine learning.**\n"
   ]
  },
  {
   "cell_type": "markdown",
   "metadata": {},
   "source": [
    "# Bayes Theorem"
   ]
  },
  {
   "cell_type": "markdown",
   "metadata": {},
   "source": [
    "Bayes Theorem gives us a structured way to calculate **conditional probabilities**.\n",
    "\n",
    "Remember from above, conditional probability is the probability that *event A* will happen *given event B*. In mathematical terms, that is: \n",
    "\n",
    "<center>$P(A|B) = \\frac{P(A \\cap B)}{P(B)}$</center>\n",
    "\n",
    "Note that $P(A|B) \\neq P(B|A)$\n",
    "\n",
    "**Bayes Theorem** gives us another way to calculate conditional probability when the joint probability is not known: \n",
    "\n",
    "<center>$P(A|B) = \\frac{P(B|A)\\ \\times\\ P(A)}{P(B)}$</center>\n"
   ]
  },
  {
   "cell_type": "markdown",
   "metadata": {},
   "source": [
    "However, we may not know $P(B)$. It can be calculated an alternatve way: \n",
    "\n",
    "<center>$P(B)=P(B|A)\\ \\times\\ P(A)\\ +\\ P(B|not\\ A)\\ \\times\\ P(not\\ A)$</center><br>\n",
    "\n",
    "Then, through the mathematical trickery of substitution, we get:<br>\n",
    "\n",
    "<center>$P(A|B) = \\frac{P(B|A)\\ \\times\\ P(A)}{P(B|A)\\ \\times\\ P(A)\\ +\\ P(B|not\\ A)\\ \\times\\ P(not\\ A)}$</center>\n",
    "\n",
    "Also, remember that <br>\n",
    "<center>$P(not\\ A)=1 - P(A)$</center><br>\n",
    "\n",
    "Finally, if we have $P(not\\ B|not\\ A)$ we can calculate $P(B|not\\ A)$:<br>\n",
    "<center>$P(B|not\\ A) = 1 - P(not\\ B|not\\ A)$</center>"
   ]
  },
  {
   "cell_type": "markdown",
   "metadata": {},
   "source": [
    "### Terminology:"
   ]
  },
  {
   "cell_type": "markdown",
   "metadata": {},
   "source": [
    "The probabilities are given English names to help understand what they are trying to say:\n",
    "\n",
    "* $P(A|B)$: Posterior probability<br>\n",
    "* $P(A)$: Prior probability<br>\n",
    "* $P(B|A)$: Likelihood<br>\n",
    "* $P(B)$: Evidence<br>\n",
    "\n",
    "Now, Bayes Theorem can be restated as:\n",
    "<center>$Posterior = \\frac{Likelihood\\ \\times\\ Prior}{Evidence}$</center>\n",
    "\n",
    "---\n",
    "\n",
    "Jason Brownlee gives us the fantastic analogy of the probability that there is fire given that there is smoke. \n",
    "\n",
    "* $P(Fire)$ is the prior<br>\n",
    "* $P(Smoke|Fire)$ is the likelihood<br>\n",
    "* $P(Smoke)$ is the evidence<br>\n",
    "<center>$P(Fire|Smoke) = \\frac{P(Smoke|Fire)\\ \\times\\ P(Fire)}{P(Smoke)}$</center>"
   ]
  },
  {
   "cell_type": "markdown",
   "metadata": {},
   "source": [
    "# Bayes Theorem as Binary Classifier"
   ]
  },
  {
   "cell_type": "markdown",
   "metadata": {},
   "source": [
    "Bayes Theorem is often used as a **binary classifier** -- the classic example that we will look at in a few moments is detecting spam in email. But first, more terminology."
   ]
  },
  {
   "cell_type": "markdown",
   "metadata": {},
   "source": [
    "## Terminology"
   ]
  },
  {
   "cell_type": "markdown",
   "metadata": {},
   "source": [
    "* $P(not\\ B|not\\ A)$: True Negative Rate **TNR** (specificity)<br>\n",
    "* $P(B|not\\ A)$: False Positive Rate **FPR** <br>\n",
    "* $P(not\\ B|A)$: False Negative Rate **FNR** <br>\n",
    "* $P(B|A)$: True Positive Rate **TPR** (sensitivity or recall) <br>\n",
    "* $P(A|B)$: Positive Predictive Vale **PPV** (precision) <br>"
   ]
  },
  {
   "cell_type": "markdown",
   "metadata": {},
   "source": [
    "Applying the above to the longer formula above: \n",
    "\n",
    "<center>$Positive\\ Predictive\\ Value = \\frac{True\\ Positive\\ Rate\\ \\times\\ P(A)}{True\\ Positive\\ Rate\\ \\times\\ P(A)\\ +\\ False\\ Positive\\ Rate\\ \\times\\ P(not\\ A) }$</center>"
   ]
  },
  {
   "cell_type": "markdown",
   "metadata": {},
   "source": [
    "## Examples"
   ]
  },
  {
   "cell_type": "markdown",
   "metadata": {},
   "source": [
    "Let's look at some (contrived) examples, courtesy of Jason Brownlee:"
   ]
  },
  {
   "cell_type": "markdown",
   "metadata": {},
   "source": [
    "### Elderly Fall and Death"
   ]
  },
  {
   "cell_type": "markdown",
   "metadata": {},
   "source": [
    "Let's define elderly as over 80 years of age. What is the probabiity that an elderly person will die from a fall? Let's use 10% as the base rate for elderly death - P(A), and the base rate for elderly falling is 5% - P(B), and 7% of elderly that die had a fall - P(B|A). \n",
    "\n",
    "<center>$P(A|B) = \\frac{P(B|A)\\ \\times\\ P(A)}{P(B)}$</center><br>\n",
    "\n",
    "<center>$P(Die|Fall) = \\frac{P(Fall|Die)\\ \\times\\ P(Die)}{P(Fall)}$</center><br>\n",
    "                                                              \n",
    "<center>$P(A|B) = \\frac{0.07\\ \\times\\ 0.10}{0.05}$</center><br>\n",
    "\n",
    "<center>$P(Die|Fall) = 0.14$</center><br>\n",
    "\n",
    "So, using these completely fake numbers, 14% of elderly falls would end in death."
   ]
  },
  {
   "cell_type": "markdown",
   "metadata": {},
   "source": [
    "### Spam Detection"
   ]
  },
  {
   "cell_type": "markdown",
   "metadata": {},
   "source": [
    "Let's say our spam filter put an email in the spam folder. What is the probability it was spam?\n",
    "\n",
    "* 2% of email is spam - P(A).\n",
    "* 99% accuracy on the spam filter - P(B|A)\n",
    "* 0.1% of email is incorrectly marked as spam - P(B|not A)\n",
    "\n",
    "<center>$P(A|B) = \\frac{P(B|A)\\ \\times\\ P(A)}{P(B)}$</center><br>\n",
    "\n",
    "<center>$P(Spam|Detected) = \\frac{P(Detected|Spam)\\ \\times\\ P(Spam)}{P(Detected)}$</center><br>\n",
    "\n",
    "Unfortunately, we don't know P(B) -- P(Detected), but we can figure it out. Recall, \n",
    "\n",
    "<center>$P(B)=P(B|A)\\ \\times\\ P(A)\\ +\\ P(B|not\\ A)\\ \\times\\ P(not\\ A)$</center><br>\n",
    "\n",
    "<center>$P(Detected)=P(Detected|Spam)\\ \\times\\ P(Spam)\\ +\\ P(Detected|not\\ Spam)\\ \\times\\ P(not\\ Spam)$</center><br>\n",
    "\n",
    "And, we can calculate P(not Spam):\n",
    "\n",
    "<center>$P(not\\ Spam) = 1 - P(Spam) = 1 - 0.02 = 0.98$</center><br>\n",
    "\n",
    "<center>$P(Detected) = 0.99\\ \\times\\ 0.02\\ +\\ 0.001\\ \\times\\\n",
    " 0.98$</center><br>\n",
    " \n",
    "Remember order of operations here... multiply before addition: <br>\n",
    "<br>\n",
    "<center>$P(Detected) = 0.0198 + 0.00098 = 0.02078$</center><br>\n",
    "\n",
    "We can finally put it all together:<br>\n",
    "\n",
    "<center>$P(Spam|Detected) = \\frac{0.99\\ \\times\\ 0.02}{0.02078}$</center><br>\n",
    "\n",
    "<center>$P(Spam|Detected) = \\frac{0.0198}{0.02078}$</center><br>\n",
    "\n",
    "<center>$P(Spam|Detected) = 0.9528392$</center><br>\n",
    "\n",
    "Or, about a 95% chance that the email was classified properly. "
   ]
  },
  {
   "cell_type": "markdown",
   "metadata": {},
   "source": [
    "# Naive Bayes Classification"
   ]
  },
  {
   "cell_type": "markdown",
   "metadata": {},
   "source": [
    "Supervised machine learning is typically used for prediction or classification, as we will see in Week 7.\n",
    "\n",
    "Bayes Theorem can be used for classification, however even with modern computing advances, figuring out all the probabilities of the dependent variables would be impractical. For this reason, the mathematics of Bayes Theorem is simplified in various ways, including by assuming all variables are independent. \n",
    "\n",
    "We will look at Naive Bayes Classification in more depth later in this class and again in MSDS 680 Machine Learning. "
   ]
  },
  {
   "cell_type": "code",
   "execution_count": null,
   "metadata": {},
   "outputs": [],
   "source": []
  }
 ],
 "metadata": {
  "kernelspec": {
   "display_name": "Python 3",
   "language": "python",
   "name": "python3"
  },
  "language_info": {
   "codemirror_mode": {
    "name": "ipython",
    "version": 3
   },
   "file_extension": ".py",
   "mimetype": "text/x-python",
   "name": "python",
   "nbconvert_exporter": "python",
   "pygments_lexer": "ipython3",
   "version": "3.8.8"
  }
 },
 "nbformat": 4,
 "nbformat_minor": 4
}
