{
 "cells": [
  {
   "cell_type": "markdown",
   "metadata": {},
   "source": [
    "<img align=\"right\" style=\"padding-right:10px;\" src=\"figures_wk2/sampling_bias.png\" width=300><br>\n",
    "# Week 2 Lab - Calculating Probability\n",
    "\n",
    " This week's assignment will give you some practice in describing a dataset and probablity calculations.\n",
    "\n",
    "##  Our Dataset\n",
    "**Dataset Name::** flights.csv, airlines.csv, airports.csv (found in the assign_wk2 folder)<br>\n",
    "You really only need the flights.csv to complete the assignment, however, the other two datasets provide some reference info that you might find interesting. \n",
    "\n",
    "Since the original flights dataset has **lots** of missing data, I have provided a cleaned up version for you to use (flights_clean.csv). I have also provided the notebook that I used to clean up the dataset (Clean_Flights_Data). For those of you who wish to try your hand at data cleaning, I have provided a notebook demonstrating data imputation data (Demo_Imputing_Data). You get to decide which version of the dataset you wish to use."
   ]
  },
  {
   "cell_type": "markdown",
   "metadata": {},
   "source": [
    "# Assignment Requirements\n",
    "Here are the requirements for this week's assignment:\n",
    "* Load flights.csv into a dataframe and handle the missing values. Justify your approach!\n",
    "   - Warning!! You are going to need some of the rows/columns with missing values, so don't just throw them away while creating your dataframe\n",
    "* The column 'ARRIVAL_DELAY' tells you the number of minutes the flight actually arrived verses the scheduled arrival. There are a fair number of missing values for this column, impute (see demo below) this column. Document your approach!\n",
    "    - Hint: A negative number means the flight arrived early.\n",
    "    - Hint: What other columns might you use to fill in this missing data.\n",
    "* Provide an analysis of delayed flights based on the airport the flight originated from. your analysis should answer the following questions.\n",
    "    - Is the distribution of delayed flights normally distributed?\n",
    "        * Describe the shape of the distribution based on the QQ-plot.\n",
    "    - What is the probablity a flight leaving from a given airport will arrive at its destination late?  \n",
    "        * Hint: Calculate the probablity of late arrival at destination for each originating airport.\n",
    "    - Determine the originaing airport with the largest proportion of flights arriving late to their destination. Do the same for the airport with the smallest proportion. \n",
    "        * What is the difference between probablility and proportion? (see note below)\n",
    "    - What is the mean and std of late arrival times for both of these airports.\n",
    "        * Based on the mean and std information ONLY, which airport seems like a better choice?\n",
    "    - Use these two airports and compare their histograms of arrival delays with each other. \n",
    "        * Which airport seems like you would have a better chance at arriving at your destination on time? Use the histograms to backup your conclusion!\n",
    "     "
   ]
  },
  {
   "cell_type": "markdown",
   "metadata": {},
   "source": [
    "## Portion vs Probablity\n",
    "What is the difference between probablity and proportion? We have already defined probability above. Let's define proportion now. <br>\n",
    "Proportion measures the likelihood that an event <b><i>has</i></b> occurred.\n",
    "\n",
    "Meaning, you want to produce a ratio of delayed vs non-delayed flights for each originating airport. The focus in a proporion is on what <b><i>has</i></b> happened vs. in a probability we are looking at what <b><i>might</i></b> happen."
   ]
  },
  {
   "cell_type": "markdown",
   "metadata": {},
   "source": [
    "# Deliverables\n",
    "Upload your Jupyter Notebook to the corresponding location in WorldClass. \n",
    "\n",
    "**Note::** Make sure you have clearly indicated each assignment requirement within your notebook."
   ]
  },
  {
   "cell_type": "code",
   "execution_count": null,
   "metadata": {},
   "outputs": [],
   "source": []
  }
 ],
 "metadata": {
  "kernelspec": {
   "display_name": "Python 3",
   "language": "python",
   "name": "python3"
  },
  "language_info": {
   "codemirror_mode": {
    "name": "ipython",
    "version": 3
   },
   "file_extension": ".py",
   "mimetype": "text/x-python",
   "name": "python",
   "nbconvert_exporter": "python",
   "pygments_lexer": "ipython3",
   "version": "3.8.8"
  }
 },
 "nbformat": 4,
 "nbformat_minor": 4
}
