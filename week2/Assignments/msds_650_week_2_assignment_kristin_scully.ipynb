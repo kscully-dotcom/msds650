{
 "cells": [
  {
   "cell_type": "markdown",
   "id": "9a9d86d8",
   "metadata": {},
   "source": [
    "# Week 2 Assignment: Calculating Probability"
   ]
  },
  {
   "cell_type": "markdown",
   "id": "0747b4e0",
   "metadata": {},
   "source": [
    "This week's assignment is to analyse a flight dataset to determine the probability of delayed flights based on the the airport the flight originated from. \n",
    "\n",
    "Before analysis can begin I must follow a few housekeeping rules and prep my data. I will use the already cleaned `flights_clean.csv`, first.\n",
    "\n",
    "__Data Prep To-Do List:__\n",
    "\n",
    "* [x] __Load Data__\n",
    "* [x] __Handle missing values__\n",
    "    * [x] Document approach\n",
    "\n",
    "\n",
    "__Data Analysis Questions:__\n",
    "\n",
    "* [ ] Is the distribution of delayed flights __normally distributed__?\n",
    "* [ ] What is the __shape__ of the distribution based on the __QQ-Plot__?\n",
    "* [ ] What is the __probability__ a flight leaving from a given airport will arrive late to its destination ?\n",
    "* [ ] What is the originating airport with the __largest/smallest proporation__ of flights arriving late to their destination?\n",
    "* [ ] What is the difference between probability and proportion?\n",
    "* [ ] What is the __mean and standard deviation__ of late arrival times for both of these airports?\n",
    "* [ ] Based on the mean and the standard deviation information ONLY, which airport seems like the better choice?\n",
    "* [ ] Comparing these two airports by their arrival delays __(histograms)__, which airport seems like you would have a better chance at arriving at your destination on time?\n",
    "\n",
    "__Optional: *(Advanced)*__\n",
    "\n",
    "* [ ] Clean the original flights.csv dataset using the data imputation data (Demo_Imputing_Data)\n",
    "* [ ] Use the airports.csv and airlines.csv for further analysis"
   ]
  },
  {
   "cell_type": "markdown",
   "id": "32e9b00f",
   "metadata": {},
   "source": [
    "## Data Preparation"
   ]
  },
  {
   "cell_type": "markdown",
   "id": "2ae4c5be",
   "metadata": {},
   "source": [
    "__Data Prep To-Do List:__\n",
    "\n",
    " Load Data\n",
    " Handle missing values\n",
    "\n",
    "__I will be using the following libraries:__\n",
    "\n",
    "- `pandas` as pd\n",
    "- `numpy` as np\n",
    "- `stats` from `scipy`\n",
    "    - `probplot` from `scipy` for QQ-plots\n",
    "    - `stats.binom.pmf()` and `stats.binom.cdf()` from `scipy`\n",
    "- `resample` from `sklearn.utils`    \n",
    "- `seaborn` as sns\n",
    "- `matplotlib.pylab` as plt"
   ]
  },
  {
   "cell_type": "code",
   "execution_count": 1,
   "id": "b2ea477e",
   "metadata": {},
   "outputs": [],
   "source": [
    "import pandas as pd\n",
    "import numpy as np\n",
    "from scipy import stats\n",
    "import scipy\n",
    "from sklearn.utils import resample\n",
    "import seaborn as sns\n",
    "import matplotlib.pylab as plt"
   ]
  },
  {
   "cell_type": "code",
   "execution_count": 2,
   "id": "2009af2f",
   "metadata": {},
   "outputs": [
    {
     "data": {
      "text/html": [
       "<div>\n",
       "<style scoped>\n",
       "    .dataframe tbody tr th:only-of-type {\n",
       "        vertical-align: middle;\n",
       "    }\n",
       "\n",
       "    .dataframe tbody tr th {\n",
       "        vertical-align: top;\n",
       "    }\n",
       "\n",
       "    .dataframe thead th {\n",
       "        text-align: right;\n",
       "    }\n",
       "</style>\n",
       "<table border=\"1\" class=\"dataframe\">\n",
       "  <thead>\n",
       "    <tr style=\"text-align: right;\">\n",
       "      <th></th>\n",
       "      <th>year</th>\n",
       "      <th>month</th>\n",
       "      <th>day</th>\n",
       "      <th>day_of_week</th>\n",
       "      <th>airline</th>\n",
       "      <th>flight_number</th>\n",
       "      <th>origin_airport</th>\n",
       "      <th>destination_airport</th>\n",
       "      <th>scheduled_departure</th>\n",
       "      <th>departure_time</th>\n",
       "      <th>departure_delay</th>\n",
       "      <th>scheduled_time</th>\n",
       "      <th>elapsed_time</th>\n",
       "      <th>scheduled_arrival</th>\n",
       "      <th>arrival_time</th>\n",
       "      <th>arrival_delay</th>\n",
       "      <th>diverted</th>\n",
       "      <th>cancelled</th>\n",
       "    </tr>\n",
       "  </thead>\n",
       "  <tbody>\n",
       "    <tr>\n",
       "      <th>0</th>\n",
       "      <td>2015</td>\n",
       "      <td>1</td>\n",
       "      <td>1</td>\n",
       "      <td>4</td>\n",
       "      <td>AS</td>\n",
       "      <td>98</td>\n",
       "      <td>ANC</td>\n",
       "      <td>SEA</td>\n",
       "      <td>5</td>\n",
       "      <td>2354.0</td>\n",
       "      <td>-11.0</td>\n",
       "      <td>205.0</td>\n",
       "      <td>194.0</td>\n",
       "      <td>430</td>\n",
       "      <td>408.0</td>\n",
       "      <td>-22.0</td>\n",
       "      <td>0</td>\n",
       "      <td>0</td>\n",
       "    </tr>\n",
       "    <tr>\n",
       "      <th>1</th>\n",
       "      <td>2015</td>\n",
       "      <td>1</td>\n",
       "      <td>1</td>\n",
       "      <td>4</td>\n",
       "      <td>AA</td>\n",
       "      <td>2336</td>\n",
       "      <td>LAX</td>\n",
       "      <td>PBI</td>\n",
       "      <td>10</td>\n",
       "      <td>2.0</td>\n",
       "      <td>-8.0</td>\n",
       "      <td>280.0</td>\n",
       "      <td>279.0</td>\n",
       "      <td>750</td>\n",
       "      <td>741.0</td>\n",
       "      <td>-9.0</td>\n",
       "      <td>0</td>\n",
       "      <td>0</td>\n",
       "    </tr>\n",
       "    <tr>\n",
       "      <th>2</th>\n",
       "      <td>2015</td>\n",
       "      <td>1</td>\n",
       "      <td>1</td>\n",
       "      <td>4</td>\n",
       "      <td>US</td>\n",
       "      <td>840</td>\n",
       "      <td>SFO</td>\n",
       "      <td>CLT</td>\n",
       "      <td>20</td>\n",
       "      <td>18.0</td>\n",
       "      <td>-2.0</td>\n",
       "      <td>286.0</td>\n",
       "      <td>293.0</td>\n",
       "      <td>806</td>\n",
       "      <td>811.0</td>\n",
       "      <td>5.0</td>\n",
       "      <td>0</td>\n",
       "      <td>0</td>\n",
       "    </tr>\n",
       "    <tr>\n",
       "      <th>3</th>\n",
       "      <td>2015</td>\n",
       "      <td>1</td>\n",
       "      <td>1</td>\n",
       "      <td>4</td>\n",
       "      <td>AA</td>\n",
       "      <td>258</td>\n",
       "      <td>LAX</td>\n",
       "      <td>MIA</td>\n",
       "      <td>20</td>\n",
       "      <td>15.0</td>\n",
       "      <td>-5.0</td>\n",
       "      <td>285.0</td>\n",
       "      <td>281.0</td>\n",
       "      <td>805</td>\n",
       "      <td>756.0</td>\n",
       "      <td>-9.0</td>\n",
       "      <td>0</td>\n",
       "      <td>0</td>\n",
       "    </tr>\n",
       "    <tr>\n",
       "      <th>4</th>\n",
       "      <td>2015</td>\n",
       "      <td>1</td>\n",
       "      <td>1</td>\n",
       "      <td>4</td>\n",
       "      <td>AS</td>\n",
       "      <td>135</td>\n",
       "      <td>SEA</td>\n",
       "      <td>ANC</td>\n",
       "      <td>25</td>\n",
       "      <td>24.0</td>\n",
       "      <td>-1.0</td>\n",
       "      <td>235.0</td>\n",
       "      <td>215.0</td>\n",
       "      <td>320</td>\n",
       "      <td>259.0</td>\n",
       "      <td>-21.0</td>\n",
       "      <td>0</td>\n",
       "      <td>0</td>\n",
       "    </tr>\n",
       "  </tbody>\n",
       "</table>\n",
       "</div>"
      ],
      "text/plain": [
       "   year  month  day  day_of_week airline  flight_number origin_airport  \\\n",
       "0  2015      1    1            4      AS             98            ANC   \n",
       "1  2015      1    1            4      AA           2336            LAX   \n",
       "2  2015      1    1            4      US            840            SFO   \n",
       "3  2015      1    1            4      AA            258            LAX   \n",
       "4  2015      1    1            4      AS            135            SEA   \n",
       "\n",
       "  destination_airport  scheduled_departure  departure_time  departure_delay  \\\n",
       "0                 SEA                    5          2354.0            -11.0   \n",
       "1                 PBI                   10             2.0             -8.0   \n",
       "2                 CLT                   20            18.0             -2.0   \n",
       "3                 MIA                   20            15.0             -5.0   \n",
       "4                 ANC                   25            24.0             -1.0   \n",
       "\n",
       "   scheduled_time  elapsed_time  scheduled_arrival  arrival_time  \\\n",
       "0           205.0         194.0                430         408.0   \n",
       "1           280.0         279.0                750         741.0   \n",
       "2           286.0         293.0                806         811.0   \n",
       "3           285.0         281.0                805         756.0   \n",
       "4           235.0         215.0                320         259.0   \n",
       "\n",
       "   arrival_delay  diverted  cancelled  \n",
       "0          -22.0         0          0  \n",
       "1           -9.0         0          0  \n",
       "2            5.0         0          0  \n",
       "3           -9.0         0          0  \n",
       "4          -21.0         0          0  "
      ]
     },
     "execution_count": 2,
     "metadata": {},
     "output_type": "execute_result"
    }
   ],
   "source": [
    "flight_data = pd.read_csv('assign_wk2/flights_clean.csv')\n",
    "flight_data.head()"
   ]
  },
  {
   "cell_type": "code",
   "execution_count": 3,
   "id": "ce8d2aa5",
   "metadata": {},
   "outputs": [
    {
     "data": {
      "text/plain": [
       "(5245484, 18)"
      ]
     },
     "execution_count": 3,
     "metadata": {},
     "output_type": "execute_result"
    }
   ],
   "source": [
    "flight_data.shape"
   ]
  },
  {
   "cell_type": "code",
   "execution_count": 4,
   "id": "4f00ba02",
   "metadata": {},
   "outputs": [
    {
     "name": "stdout",
     "output_type": "stream",
     "text": [
      "<class 'pandas.core.frame.DataFrame'>\n",
      "RangeIndex: 5245484 entries, 0 to 5245483\n",
      "Data columns (total 18 columns):\n",
      " #   Column               Non-Null Count    Dtype  \n",
      "---  ------               --------------    -----  \n",
      " 0   year                 5245484 non-null  int64  \n",
      " 1   month                5245484 non-null  int64  \n",
      " 2   day                  5245484 non-null  int64  \n",
      " 3   day_of_week          5245484 non-null  int64  \n",
      " 4   airline              5245484 non-null  object \n",
      " 5   flight_number        5245484 non-null  int64  \n",
      " 6   origin_airport       5245484 non-null  object \n",
      " 7   destination_airport  5245484 non-null  object \n",
      " 8   scheduled_departure  5245484 non-null  int64  \n",
      " 9   departure_time       5245484 non-null  float64\n",
      " 10  departure_delay      5245484 non-null  float64\n",
      " 11  scheduled_time       5245483 non-null  float64\n",
      " 12  elapsed_time         5231130 non-null  float64\n",
      " 13  scheduled_arrival    5245484 non-null  int64  \n",
      " 14  arrival_time         5242972 non-null  float64\n",
      " 15  arrival_delay        5245484 non-null  float64\n",
      " 16  diverted             5245484 non-null  int64  \n",
      " 17  cancelled            5245484 non-null  int64  \n",
      "dtypes: float64(6), int64(9), object(3)\n",
      "memory usage: 720.4+ MB\n"
     ]
    }
   ],
   "source": [
    "flight_data.info(show_counts=True)"
   ]
  },
  {
   "cell_type": "code",
   "execution_count": 5,
   "id": "f7a47f03",
   "metadata": {},
   "outputs": [
    {
     "data": {
      "text/plain": [
       "year                       0\n",
       "month                      0\n",
       "day                        0\n",
       "day_of_week                0\n",
       "airline                    0\n",
       "flight_number              0\n",
       "origin_airport             0\n",
       "destination_airport        0\n",
       "scheduled_departure        0\n",
       "departure_time             0\n",
       "departure_delay            0\n",
       "scheduled_time             1\n",
       "elapsed_time           14354\n",
       "scheduled_arrival          0\n",
       "arrival_time            2512\n",
       "arrival_delay              0\n",
       "diverted                   0\n",
       "cancelled                  0\n",
       "dtype: int64"
      ]
     },
     "execution_count": 5,
     "metadata": {},
     "output_type": "execute_result"
    }
   ],
   "source": [
    "flight_data.isnull().sum()"
   ]
  },
  {
   "cell_type": "markdown",
   "id": "03cba936",
   "metadata": {},
   "source": [
    "It is interesting that all of these flights were diverted. I am going to ignore that right now but note it for later in my analysis. I may go back and address that later on. I will assume:\n",
    "\n",
    "- scheduled time is the scheduled arrival time minus the scheduled departure time\n",
    "- arrival time is the scheduled arrival plus the arrival delay (negative means they arrived early)\n",
    "- elapsed time is the arrival time and the departure time minus their delays in order to compare scheduled and elapsed times regarding their delay profiles"
   ]
  },
  {
   "cell_type": "code",
   "execution_count": 6,
   "id": "c0a93b76",
   "metadata": {
    "scrolled": true
   },
   "outputs": [
    {
     "data": {
      "text/html": [
       "<div>\n",
       "<style scoped>\n",
       "    .dataframe tbody tr th:only-of-type {\n",
       "        vertical-align: middle;\n",
       "    }\n",
       "\n",
       "    .dataframe tbody tr th {\n",
       "        vertical-align: top;\n",
       "    }\n",
       "\n",
       "    .dataframe thead th {\n",
       "        text-align: right;\n",
       "    }\n",
       "</style>\n",
       "<table border=\"1\" class=\"dataframe\">\n",
       "  <thead>\n",
       "    <tr style=\"text-align: right;\">\n",
       "      <th></th>\n",
       "      <th>year</th>\n",
       "      <th>month</th>\n",
       "      <th>day</th>\n",
       "      <th>day_of_week</th>\n",
       "      <th>airline</th>\n",
       "      <th>flight_number</th>\n",
       "      <th>origin_airport</th>\n",
       "      <th>destination_airport</th>\n",
       "      <th>scheduled_departure</th>\n",
       "      <th>departure_time</th>\n",
       "      <th>departure_delay</th>\n",
       "      <th>scheduled_time</th>\n",
       "      <th>elapsed_time</th>\n",
       "      <th>scheduled_arrival</th>\n",
       "      <th>arrival_time</th>\n",
       "      <th>arrival_delay</th>\n",
       "      <th>diverted</th>\n",
       "      <th>cancelled</th>\n",
       "    </tr>\n",
       "  </thead>\n",
       "  <tbody>\n",
       "    <tr>\n",
       "      <th>1673456</th>\n",
       "      <td>2015</td>\n",
       "      <td>4</td>\n",
       "      <td>20</td>\n",
       "      <td>1</td>\n",
       "      <td>NK</td>\n",
       "      <td>174</td>\n",
       "      <td>FLL</td>\n",
       "      <td>LGA</td>\n",
       "      <td>1602</td>\n",
       "      <td>1857.0</td>\n",
       "      <td>175.0</td>\n",
       "      <td>NaN</td>\n",
       "      <td>NaN</td>\n",
       "      <td>1900</td>\n",
       "      <td>NaN</td>\n",
       "      <td>-149.05</td>\n",
       "      <td>1</td>\n",
       "      <td>0</td>\n",
       "    </tr>\n",
       "  </tbody>\n",
       "</table>\n",
       "</div>"
      ],
      "text/plain": [
       "         year  month  day  day_of_week airline  flight_number origin_airport  \\\n",
       "1673456  2015      4   20            1      NK            174            FLL   \n",
       "\n",
       "        destination_airport  scheduled_departure  departure_time  \\\n",
       "1673456                 LGA                 1602          1857.0   \n",
       "\n",
       "         departure_delay  scheduled_time  elapsed_time  scheduled_arrival  \\\n",
       "1673456            175.0             NaN           NaN               1900   \n",
       "\n",
       "         arrival_time  arrival_delay  diverted  cancelled  \n",
       "1673456           NaN        -149.05         1          0  "
      ]
     },
     "execution_count": 6,
     "metadata": {},
     "output_type": "execute_result"
    }
   ],
   "source": [
    "flight_data[flight_data.scheduled_time.isnull()]"
   ]
  },
  {
   "cell_type": "code",
   "execution_count": 7,
   "id": "ca43fe87",
   "metadata": {},
   "outputs": [],
   "source": [
    "def fill_missing_scheduled_time(row):\n",
    "    scheduled_time = np.NaN\n",
    "    \n",
    "    if np.isnan(row.scheduled_time):\n",
    "        scheduled_time = row.scheduled_arrival - row.scheduled_departure\n",
    "    else:\n",
    "        scheduled_time = row.scheduled_time\n",
    "    return scheduled_time"
   ]
  },
  {
   "cell_type": "code",
   "execution_count": 8,
   "id": "bf1733a0",
   "metadata": {},
   "outputs": [],
   "source": [
    "flight_data.scheduled_time = flight_data.apply(lambda x: fill_missing_scheduled_time(x), axis = 1)"
   ]
  },
  {
   "cell_type": "code",
   "execution_count": 9,
   "id": "585515a5",
   "metadata": {},
   "outputs": [],
   "source": [
    "def fill_missing_arrival_time(row):\n",
    "    arrival_time = np.NaN\n",
    "    \n",
    "    if np.isnan(row.arrival_time):\n",
    "        arrival_time = row.scheduled_arrival + row.arrival_delay\n",
    "    else:\n",
    "        arrival_time = row.arrival_time\n",
    "    return arrival_time"
   ]
  },
  {
   "cell_type": "code",
   "execution_count": 10,
   "id": "cbda4f6f",
   "metadata": {},
   "outputs": [],
   "source": [
    "flight_data.arrival_time = flight_data.apply(lambda x: fill_missing_arrival_time(x), axis = 1)"
   ]
  },
  {
   "cell_type": "code",
   "execution_count": 11,
   "id": "1454e533",
   "metadata": {},
   "outputs": [],
   "source": [
    "def fill_missing_elapsed_time(row):\n",
    "    elapsed_time = np.NaN\n",
    "    \n",
    "    if np.isnan(row.elapsed_time):\n",
    "        elapsed_time = (row.arrival_time - row.arrival_delay) - (row.departure_time - row.departure_delay) \n",
    "    else:\n",
    "        elapsed_time = row.elapsed_time\n",
    "    return elapsed_time"
   ]
  },
  {
   "cell_type": "code",
   "execution_count": 12,
   "id": "fdd65f35",
   "metadata": {},
   "outputs": [],
   "source": [
    "flight_data.elapsed_time = flight_data.apply(lambda x: fill_missing_elapsed_time(x), axis = 1)"
   ]
  },
  {
   "cell_type": "code",
   "execution_count": 13,
   "id": "f8b69097",
   "metadata": {},
   "outputs": [
    {
     "data": {
      "text/plain": [
       "year                   0\n",
       "month                  0\n",
       "day                    0\n",
       "day_of_week            0\n",
       "airline                0\n",
       "flight_number          0\n",
       "origin_airport         0\n",
       "destination_airport    0\n",
       "scheduled_departure    0\n",
       "departure_time         0\n",
       "departure_delay        0\n",
       "scheduled_time         0\n",
       "elapsed_time           0\n",
       "scheduled_arrival      0\n",
       "arrival_time           0\n",
       "arrival_delay          0\n",
       "diverted               0\n",
       "cancelled              0\n",
       "dtype: int64"
      ]
     },
     "execution_count": 13,
     "metadata": {},
     "output_type": "execute_result"
    }
   ],
   "source": [
    "flight_data.isnull().sum()"
   ]
  },
  {
   "cell_type": "markdown",
   "id": "3d12eb4c",
   "metadata": {},
   "source": [
    "I used the data available in the dataset to fill the missing values for scheduled time, arrival time, and elapsed time. \n",
    "\n",
    "**_If I have extra time before submitting I will go back and add in the time zones and overnight flights data._**"
   ]
  },
  {
   "cell_type": "code",
   "execution_count": 14,
   "id": "53a1de92",
   "metadata": {},
   "outputs": [],
   "source": [
    "flight_data.to_csv('assign_wk2/new_flights_clean.csv',index=False)"
   ]
  },
  {
   "cell_type": "markdown",
   "id": "47bfb12b",
   "metadata": {},
   "source": [
    "## Data Analysis Questions:"
   ]
  },
  {
   "cell_type": "markdown",
   "id": "ae990f06",
   "metadata": {},
   "source": [
    "### Is the distribution of delayed flights normally distributed?"
   ]
  },
  {
   "cell_type": "code",
   "execution_count": 2,
   "id": "ac8108e3",
   "metadata": {},
   "outputs": [],
   "source": [
    "sns.set()"
   ]
  },
  {
   "cell_type": "code",
   "execution_count": 3,
   "id": "52c07d96",
   "metadata": {},
   "outputs": [
    {
     "data": {
      "text/html": [
       "<div>\n",
       "<style scoped>\n",
       "    .dataframe tbody tr th:only-of-type {\n",
       "        vertical-align: middle;\n",
       "    }\n",
       "\n",
       "    .dataframe tbody tr th {\n",
       "        vertical-align: top;\n",
       "    }\n",
       "\n",
       "    .dataframe thead th {\n",
       "        text-align: right;\n",
       "    }\n",
       "</style>\n",
       "<table border=\"1\" class=\"dataframe\">\n",
       "  <thead>\n",
       "    <tr style=\"text-align: right;\">\n",
       "      <th></th>\n",
       "      <th>year</th>\n",
       "      <th>month</th>\n",
       "      <th>day</th>\n",
       "      <th>day_of_week</th>\n",
       "      <th>airline</th>\n",
       "      <th>flight_number</th>\n",
       "      <th>origin_airport</th>\n",
       "      <th>destination_airport</th>\n",
       "      <th>scheduled_departure</th>\n",
       "      <th>departure_time</th>\n",
       "      <th>departure_delay</th>\n",
       "      <th>scheduled_time</th>\n",
       "      <th>elapsed_time</th>\n",
       "      <th>scheduled_arrival</th>\n",
       "      <th>arrival_time</th>\n",
       "      <th>arrival_delay</th>\n",
       "      <th>diverted</th>\n",
       "      <th>cancelled</th>\n",
       "    </tr>\n",
       "  </thead>\n",
       "  <tbody>\n",
       "    <tr>\n",
       "      <th>0</th>\n",
       "      <td>2015</td>\n",
       "      <td>1</td>\n",
       "      <td>1</td>\n",
       "      <td>4</td>\n",
       "      <td>AS</td>\n",
       "      <td>98</td>\n",
       "      <td>ANC</td>\n",
       "      <td>SEA</td>\n",
       "      <td>5</td>\n",
       "      <td>2354.0</td>\n",
       "      <td>-11.0</td>\n",
       "      <td>205.0</td>\n",
       "      <td>194.0</td>\n",
       "      <td>430</td>\n",
       "      <td>408.0</td>\n",
       "      <td>-22.0</td>\n",
       "      <td>0</td>\n",
       "      <td>0</td>\n",
       "    </tr>\n",
       "    <tr>\n",
       "      <th>1</th>\n",
       "      <td>2015</td>\n",
       "      <td>1</td>\n",
       "      <td>1</td>\n",
       "      <td>4</td>\n",
       "      <td>AA</td>\n",
       "      <td>2336</td>\n",
       "      <td>LAX</td>\n",
       "      <td>PBI</td>\n",
       "      <td>10</td>\n",
       "      <td>2.0</td>\n",
       "      <td>-8.0</td>\n",
       "      <td>280.0</td>\n",
       "      <td>279.0</td>\n",
       "      <td>750</td>\n",
       "      <td>741.0</td>\n",
       "      <td>-9.0</td>\n",
       "      <td>0</td>\n",
       "      <td>0</td>\n",
       "    </tr>\n",
       "    <tr>\n",
       "      <th>2</th>\n",
       "      <td>2015</td>\n",
       "      <td>1</td>\n",
       "      <td>1</td>\n",
       "      <td>4</td>\n",
       "      <td>US</td>\n",
       "      <td>840</td>\n",
       "      <td>SFO</td>\n",
       "      <td>CLT</td>\n",
       "      <td>20</td>\n",
       "      <td>18.0</td>\n",
       "      <td>-2.0</td>\n",
       "      <td>286.0</td>\n",
       "      <td>293.0</td>\n",
       "      <td>806</td>\n",
       "      <td>811.0</td>\n",
       "      <td>5.0</td>\n",
       "      <td>0</td>\n",
       "      <td>0</td>\n",
       "    </tr>\n",
       "    <tr>\n",
       "      <th>3</th>\n",
       "      <td>2015</td>\n",
       "      <td>1</td>\n",
       "      <td>1</td>\n",
       "      <td>4</td>\n",
       "      <td>AA</td>\n",
       "      <td>258</td>\n",
       "      <td>LAX</td>\n",
       "      <td>MIA</td>\n",
       "      <td>20</td>\n",
       "      <td>15.0</td>\n",
       "      <td>-5.0</td>\n",
       "      <td>285.0</td>\n",
       "      <td>281.0</td>\n",
       "      <td>805</td>\n",
       "      <td>756.0</td>\n",
       "      <td>-9.0</td>\n",
       "      <td>0</td>\n",
       "      <td>0</td>\n",
       "    </tr>\n",
       "    <tr>\n",
       "      <th>4</th>\n",
       "      <td>2015</td>\n",
       "      <td>1</td>\n",
       "      <td>1</td>\n",
       "      <td>4</td>\n",
       "      <td>AS</td>\n",
       "      <td>135</td>\n",
       "      <td>SEA</td>\n",
       "      <td>ANC</td>\n",
       "      <td>25</td>\n",
       "      <td>24.0</td>\n",
       "      <td>-1.0</td>\n",
       "      <td>235.0</td>\n",
       "      <td>215.0</td>\n",
       "      <td>320</td>\n",
       "      <td>259.0</td>\n",
       "      <td>-21.0</td>\n",
       "      <td>0</td>\n",
       "      <td>0</td>\n",
       "    </tr>\n",
       "    <tr>\n",
       "      <th>...</th>\n",
       "      <td>...</td>\n",
       "      <td>...</td>\n",
       "      <td>...</td>\n",
       "      <td>...</td>\n",
       "      <td>...</td>\n",
       "      <td>...</td>\n",
       "      <td>...</td>\n",
       "      <td>...</td>\n",
       "      <td>...</td>\n",
       "      <td>...</td>\n",
       "      <td>...</td>\n",
       "      <td>...</td>\n",
       "      <td>...</td>\n",
       "      <td>...</td>\n",
       "      <td>...</td>\n",
       "      <td>...</td>\n",
       "      <td>...</td>\n",
       "      <td>...</td>\n",
       "    </tr>\n",
       "    <tr>\n",
       "      <th>5245479</th>\n",
       "      <td>2015</td>\n",
       "      <td>12</td>\n",
       "      <td>31</td>\n",
       "      <td>4</td>\n",
       "      <td>B6</td>\n",
       "      <td>688</td>\n",
       "      <td>LAX</td>\n",
       "      <td>BOS</td>\n",
       "      <td>2359</td>\n",
       "      <td>2355.0</td>\n",
       "      <td>-4.0</td>\n",
       "      <td>320.0</td>\n",
       "      <td>298.0</td>\n",
       "      <td>819</td>\n",
       "      <td>753.0</td>\n",
       "      <td>-26.0</td>\n",
       "      <td>0</td>\n",
       "      <td>0</td>\n",
       "    </tr>\n",
       "    <tr>\n",
       "      <th>5245480</th>\n",
       "      <td>2015</td>\n",
       "      <td>12</td>\n",
       "      <td>31</td>\n",
       "      <td>4</td>\n",
       "      <td>B6</td>\n",
       "      <td>745</td>\n",
       "      <td>JFK</td>\n",
       "      <td>PSE</td>\n",
       "      <td>2359</td>\n",
       "      <td>2355.0</td>\n",
       "      <td>-4.0</td>\n",
       "      <td>227.0</td>\n",
       "      <td>215.0</td>\n",
       "      <td>446</td>\n",
       "      <td>430.0</td>\n",
       "      <td>-16.0</td>\n",
       "      <td>0</td>\n",
       "      <td>0</td>\n",
       "    </tr>\n",
       "    <tr>\n",
       "      <th>5245481</th>\n",
       "      <td>2015</td>\n",
       "      <td>12</td>\n",
       "      <td>31</td>\n",
       "      <td>4</td>\n",
       "      <td>B6</td>\n",
       "      <td>1503</td>\n",
       "      <td>JFK</td>\n",
       "      <td>SJU</td>\n",
       "      <td>2359</td>\n",
       "      <td>2350.0</td>\n",
       "      <td>-9.0</td>\n",
       "      <td>221.0</td>\n",
       "      <td>222.0</td>\n",
       "      <td>440</td>\n",
       "      <td>432.0</td>\n",
       "      <td>-8.0</td>\n",
       "      <td>0</td>\n",
       "      <td>0</td>\n",
       "    </tr>\n",
       "    <tr>\n",
       "      <th>5245482</th>\n",
       "      <td>2015</td>\n",
       "      <td>12</td>\n",
       "      <td>31</td>\n",
       "      <td>4</td>\n",
       "      <td>B6</td>\n",
       "      <td>333</td>\n",
       "      <td>MCO</td>\n",
       "      <td>SJU</td>\n",
       "      <td>2359</td>\n",
       "      <td>2353.0</td>\n",
       "      <td>-6.0</td>\n",
       "      <td>161.0</td>\n",
       "      <td>157.0</td>\n",
       "      <td>340</td>\n",
       "      <td>330.0</td>\n",
       "      <td>-10.0</td>\n",
       "      <td>0</td>\n",
       "      <td>0</td>\n",
       "    </tr>\n",
       "    <tr>\n",
       "      <th>5245483</th>\n",
       "      <td>2015</td>\n",
       "      <td>12</td>\n",
       "      <td>31</td>\n",
       "      <td>4</td>\n",
       "      <td>B6</td>\n",
       "      <td>839</td>\n",
       "      <td>JFK</td>\n",
       "      <td>BQN</td>\n",
       "      <td>2359</td>\n",
       "      <td>14.0</td>\n",
       "      <td>15.0</td>\n",
       "      <td>221.0</td>\n",
       "      <td>208.0</td>\n",
       "      <td>440</td>\n",
       "      <td>442.0</td>\n",
       "      <td>2.0</td>\n",
       "      <td>0</td>\n",
       "      <td>0</td>\n",
       "    </tr>\n",
       "  </tbody>\n",
       "</table>\n",
       "<p>5245484 rows × 18 columns</p>\n",
       "</div>"
      ],
      "text/plain": [
       "         year  month  day  day_of_week airline  flight_number origin_airport  \\\n",
       "0        2015      1    1            4      AS             98            ANC   \n",
       "1        2015      1    1            4      AA           2336            LAX   \n",
       "2        2015      1    1            4      US            840            SFO   \n",
       "3        2015      1    1            4      AA            258            LAX   \n",
       "4        2015      1    1            4      AS            135            SEA   \n",
       "...       ...    ...  ...          ...     ...            ...            ...   \n",
       "5245479  2015     12   31            4      B6            688            LAX   \n",
       "5245480  2015     12   31            4      B6            745            JFK   \n",
       "5245481  2015     12   31            4      B6           1503            JFK   \n",
       "5245482  2015     12   31            4      B6            333            MCO   \n",
       "5245483  2015     12   31            4      B6            839            JFK   \n",
       "\n",
       "        destination_airport  scheduled_departure  departure_time  \\\n",
       "0                       SEA                    5          2354.0   \n",
       "1                       PBI                   10             2.0   \n",
       "2                       CLT                   20            18.0   \n",
       "3                       MIA                   20            15.0   \n",
       "4                       ANC                   25            24.0   \n",
       "...                     ...                  ...             ...   \n",
       "5245479                 BOS                 2359          2355.0   \n",
       "5245480                 PSE                 2359          2355.0   \n",
       "5245481                 SJU                 2359          2350.0   \n",
       "5245482                 SJU                 2359          2353.0   \n",
       "5245483                 BQN                 2359            14.0   \n",
       "\n",
       "         departure_delay  scheduled_time  elapsed_time  scheduled_arrival  \\\n",
       "0                  -11.0           205.0         194.0                430   \n",
       "1                   -8.0           280.0         279.0                750   \n",
       "2                   -2.0           286.0         293.0                806   \n",
       "3                   -5.0           285.0         281.0                805   \n",
       "4                   -1.0           235.0         215.0                320   \n",
       "...                  ...             ...           ...                ...   \n",
       "5245479             -4.0           320.0         298.0                819   \n",
       "5245480             -4.0           227.0         215.0                446   \n",
       "5245481             -9.0           221.0         222.0                440   \n",
       "5245482             -6.0           161.0         157.0                340   \n",
       "5245483             15.0           221.0         208.0                440   \n",
       "\n",
       "         arrival_time  arrival_delay  diverted  cancelled  \n",
       "0               408.0          -22.0         0          0  \n",
       "1               741.0           -9.0         0          0  \n",
       "2               811.0            5.0         0          0  \n",
       "3               756.0           -9.0         0          0  \n",
       "4               259.0          -21.0         0          0  \n",
       "...               ...            ...       ...        ...  \n",
       "5245479         753.0          -26.0         0          0  \n",
       "5245480         430.0          -16.0         0          0  \n",
       "5245481         432.0           -8.0         0          0  \n",
       "5245482         330.0          -10.0         0          0  \n",
       "5245483         442.0            2.0         0          0  \n",
       "\n",
       "[5245484 rows x 18 columns]"
      ]
     },
     "execution_count": 3,
     "metadata": {},
     "output_type": "execute_result"
    }
   ],
   "source": [
    "delay_df = pd.read_csv('assign_wk2/new_flights_clean.csv')\n",
    "delay_df"
   ]
  },
  {
   "cell_type": "code",
   "execution_count": 4,
   "id": "3cf6a90d",
   "metadata": {},
   "outputs": [
    {
     "data": {
      "image/png": "[encoded data removed]",
      "text/plain": [
       "<Figure size 432x288 with 1 Axes>"
      ]
     },
     "metadata": {},
     "output_type": "display_data"
    }
   ],
   "source": [
    "import scipy.stats as stats\n",
    "import math\n",
    "\n",
    "mu = delay_df.arrival_delay.mean()\n",
    "variance = delay_df.arrival_delay.var()\n",
    "sigma = math.sqrt(variance)\n",
    "x= np.linspace(mu - 3*sigma, mu + 3*sigma, 100)\n",
    "plt.plot(x, stats.norm.pdf(x, mu, sigma))\n",
    "plt.show()"
   ]
  },
  {
   "cell_type": "code",
   "execution_count": 5,
   "id": "717644cf",
   "metadata": {},
   "outputs": [
    {
     "data": {
      "text/plain": [
       "std       53.634236\n",
       "mean       4.828597\n",
       "median    -5.000000\n",
       "skew      15.607266\n",
       "Name: arrival_delay, dtype: float64"
      ]
     },
     "execution_count": 5,
     "metadata": {},
     "output_type": "execute_result"
    }
   ],
   "source": [
    "delay_df['arrival_delay'].agg(['std', 'mean', 'median', 'skew'])"
   ]
  },
  {
   "cell_type": "code",
   "execution_count": 6,
   "id": "cc64fe28",
   "metadata": {},
   "outputs": [
    {
     "data": {
      "text/plain": [
       "'This indicates that there is a positive skew to the arrival delay distribution because the mean is greater than the median.'"
      ]
     },
     "execution_count": 6,
     "metadata": {},
     "output_type": "execute_result"
    }
   ],
   "source": [
    "'''This indicates that there is a positive skew to the arrival delay distribution because the mean is greater than the median.'''"
   ]
  },
  {
   "cell_type": "markdown",
   "id": "9bb23b18",
   "metadata": {},
   "source": [
    "### What is the shape of the distribution based on the QQ-Plot?"
   ]
  },
  {
   "cell_type": "code",
   "execution_count": 7,
   "id": "0e9ba5d5",
   "metadata": {},
   "outputs": [
    {
     "data": {
      "image/png": "[encoded data removed]",
      "text/plain": [
       "<Figure size 288x288 with 1 Axes>"
      ]
     },
     "metadata": {},
     "output_type": "display_data"
    }
   ],
   "source": [
    "fig, ax = plt.subplots(figsize=(4,4))\n",
    "\n",
    "norm_sample = stats.norm.rvs(size=100)\n",
    "stats.probplot(norm_sample, plot=ax)\n",
    "\n",
    "plt.tight_layout()\n",
    "plt.show()"
   ]
  },
  {
   "cell_type": "markdown",
   "id": "848ac88e",
   "metadata": {},
   "source": [
    "The blue markers above the line are the higher points of the distribution and the blue points lower and the lower points of the distribution. Those along the red line are normally distributed. "
   ]
  },
  {
   "cell_type": "markdown",
   "id": "17a67927",
   "metadata": {},
   "source": [
    "### What is the probability a flight leaving from a given airport will arrive late to its destination?"
   ]
  },
  {
   "cell_type": "markdown",
   "id": "6a46dae0",
   "metadata": {},
   "source": [
    "P(A): Departure Airport\n",
    "\n",
    "P(B): Arrival delay\n",
    "(Positive delays only)\n",
    "\n",
    "P(B|A): Arrival delay given the flight leaves a certain departed airport"
   ]
  },
  {
   "cell_type": "markdown",
   "id": "28acf94a",
   "metadata": {},
   "source": [
    "P(B|A) = (P(A|B) X P(B)) / P(A)"
   ]
  },
  {
   "cell_type": "code",
   "execution_count": 8,
   "id": "cd589a0f",
   "metadata": {},
   "outputs": [],
   "source": [
    "def pofb(arrival_delay):\n",
    "    if arrival_delay > 0:\n",
    "        return 1\n",
    "    else:\n",
    "        return 0\n",
    "\n",
    "delay_df['PofB'] = delay_df['arrival_delay'].apply(pofb)"
   ]
  },
  {
   "cell_type": "code",
   "execution_count": 9,
   "id": "35c522c5",
   "metadata": {
    "scrolled": true
   },
   "outputs": [
    {
     "data": {
      "text/html": [
       "<div>\n",
       "<style scoped>\n",
       "    .dataframe tbody tr th:only-of-type {\n",
       "        vertical-align: middle;\n",
       "    }\n",
       "\n",
       "    .dataframe tbody tr th {\n",
       "        vertical-align: top;\n",
       "    }\n",
       "\n",
       "    .dataframe thead th {\n",
       "        text-align: right;\n",
       "    }\n",
       "</style>\n",
       "<table border=\"1\" class=\"dataframe\">\n",
       "  <thead>\n",
       "    <tr style=\"text-align: right;\">\n",
       "      <th></th>\n",
       "      <th>year</th>\n",
       "      <th>month</th>\n",
       "      <th>day</th>\n",
       "      <th>day_of_week</th>\n",
       "      <th>airline</th>\n",
       "      <th>flight_number</th>\n",
       "      <th>origin_airport</th>\n",
       "      <th>destination_airport</th>\n",
       "      <th>scheduled_departure</th>\n",
       "      <th>departure_time</th>\n",
       "      <th>departure_delay</th>\n",
       "      <th>scheduled_time</th>\n",
       "      <th>elapsed_time</th>\n",
       "      <th>scheduled_arrival</th>\n",
       "      <th>arrival_time</th>\n",
       "      <th>arrival_delay</th>\n",
       "      <th>diverted</th>\n",
       "      <th>cancelled</th>\n",
       "      <th>PofB</th>\n",
       "    </tr>\n",
       "  </thead>\n",
       "  <tbody>\n",
       "    <tr>\n",
       "      <th>0</th>\n",
       "      <td>2015</td>\n",
       "      <td>1</td>\n",
       "      <td>1</td>\n",
       "      <td>4</td>\n",
       "      <td>AS</td>\n",
       "      <td>98</td>\n",
       "      <td>ANC</td>\n",
       "      <td>SEA</td>\n",
       "      <td>5</td>\n",
       "      <td>2354.0</td>\n",
       "      <td>-11.0</td>\n",
       "      <td>205.0</td>\n",
       "      <td>194.0</td>\n",
       "      <td>430</td>\n",
       "      <td>408.0</td>\n",
       "      <td>-22.0</td>\n",
       "      <td>0</td>\n",
       "      <td>0</td>\n",
       "      <td>0</td>\n",
       "    </tr>\n",
       "    <tr>\n",
       "      <th>1</th>\n",
       "      <td>2015</td>\n",
       "      <td>1</td>\n",
       "      <td>1</td>\n",
       "      <td>4</td>\n",
       "      <td>AA</td>\n",
       "      <td>2336</td>\n",
       "      <td>LAX</td>\n",
       "      <td>PBI</td>\n",
       "      <td>10</td>\n",
       "      <td>2.0</td>\n",
       "      <td>-8.0</td>\n",
       "      <td>280.0</td>\n",
       "      <td>279.0</td>\n",
       "      <td>750</td>\n",
       "      <td>741.0</td>\n",
       "      <td>-9.0</td>\n",
       "      <td>0</td>\n",
       "      <td>0</td>\n",
       "      <td>0</td>\n",
       "    </tr>\n",
       "    <tr>\n",
       "      <th>2</th>\n",
       "      <td>2015</td>\n",
       "      <td>1</td>\n",
       "      <td>1</td>\n",
       "      <td>4</td>\n",
       "      <td>US</td>\n",
       "      <td>840</td>\n",
       "      <td>SFO</td>\n",
       "      <td>CLT</td>\n",
       "      <td>20</td>\n",
       "      <td>18.0</td>\n",
       "      <td>-2.0</td>\n",
       "      <td>286.0</td>\n",
       "      <td>293.0</td>\n",
       "      <td>806</td>\n",
       "      <td>811.0</td>\n",
       "      <td>5.0</td>\n",
       "      <td>0</td>\n",
       "      <td>0</td>\n",
       "      <td>1</td>\n",
       "    </tr>\n",
       "    <tr>\n",
       "      <th>3</th>\n",
       "      <td>2015</td>\n",
       "      <td>1</td>\n",
       "      <td>1</td>\n",
       "      <td>4</td>\n",
       "      <td>AA</td>\n",
       "      <td>258</td>\n",
       "      <td>LAX</td>\n",
       "      <td>MIA</td>\n",
       "      <td>20</td>\n",
       "      <td>15.0</td>\n",
       "      <td>-5.0</td>\n",
       "      <td>285.0</td>\n",
       "      <td>281.0</td>\n",
       "      <td>805</td>\n",
       "      <td>756.0</td>\n",
       "      <td>-9.0</td>\n",
       "      <td>0</td>\n",
       "      <td>0</td>\n",
       "      <td>0</td>\n",
       "    </tr>\n",
       "    <tr>\n",
       "      <th>4</th>\n",
       "      <td>2015</td>\n",
       "      <td>1</td>\n",
       "      <td>1</td>\n",
       "      <td>4</td>\n",
       "      <td>AS</td>\n",
       "      <td>135</td>\n",
       "      <td>SEA</td>\n",
       "      <td>ANC</td>\n",
       "      <td>25</td>\n",
       "      <td>24.0</td>\n",
       "      <td>-1.0</td>\n",
       "      <td>235.0</td>\n",
       "      <td>215.0</td>\n",
       "      <td>320</td>\n",
       "      <td>259.0</td>\n",
       "      <td>-21.0</td>\n",
       "      <td>0</td>\n",
       "      <td>0</td>\n",
       "      <td>0</td>\n",
       "    </tr>\n",
       "  </tbody>\n",
       "</table>\n",
       "</div>"
      ],
      "text/plain": [
       "   year  month  day  day_of_week airline  flight_number origin_airport  \\\n",
       "0  2015      1    1            4      AS             98            ANC   \n",
       "1  2015      1    1            4      AA           2336            LAX   \n",
       "2  2015      1    1            4      US            840            SFO   \n",
       "3  2015      1    1            4      AA            258            LAX   \n",
       "4  2015      1    1            4      AS            135            SEA   \n",
       "\n",
       "  destination_airport  scheduled_departure  departure_time  departure_delay  \\\n",
       "0                 SEA                    5          2354.0            -11.0   \n",
       "1                 PBI                   10             2.0             -8.0   \n",
       "2                 CLT                   20            18.0             -2.0   \n",
       "3                 MIA                   20            15.0             -5.0   \n",
       "4                 ANC                   25            24.0             -1.0   \n",
       "\n",
       "   scheduled_time  elapsed_time  scheduled_arrival  arrival_time  \\\n",
       "0           205.0         194.0                430         408.0   \n",
       "1           280.0         279.0                750         741.0   \n",
       "2           286.0         293.0                806         811.0   \n",
       "3           285.0         281.0                805         756.0   \n",
       "4           235.0         215.0                320         259.0   \n",
       "\n",
       "   arrival_delay  diverted  cancelled  PofB  \n",
       "0          -22.0         0          0     0  \n",
       "1           -9.0         0          0     0  \n",
       "2            5.0         0          0     1  \n",
       "3           -9.0         0          0     0  \n",
       "4          -21.0         0          0     0  "
      ]
     },
     "execution_count": 9,
     "metadata": {},
     "output_type": "execute_result"
    }
   ],
   "source": [
    "delay_df.head()"
   ]
  },
  {
   "cell_type": "code",
   "execution_count": 10,
   "id": "99fb9aec",
   "metadata": {},
   "outputs": [
    {
     "data": {
      "text/plain": [
       "(5245484, 19)"
      ]
     },
     "execution_count": 10,
     "metadata": {},
     "output_type": "execute_result"
    }
   ],
   "source": [
    "delay_df.shape"
   ]
  },
  {
   "cell_type": "code",
   "execution_count": 11,
   "id": "bff96e37",
   "metadata": {},
   "outputs": [
    {
     "data": {
      "text/plain": [
       "0    3297494\n",
       "1    1947990\n",
       "Name: PofB, dtype: int64"
      ]
     },
     "execution_count": 11,
     "metadata": {},
     "output_type": "execute_result"
    }
   ],
   "source": [
    "delay_df.PofB.value_counts(0)"
   ]
  },
  {
   "cell_type": "code",
   "execution_count": 12,
   "id": "b01db0a4",
   "metadata": {
    "scrolled": true
   },
   "outputs": [
    {
     "data": {
      "text/plain": [
       "0.3713651590587256"
      ]
     },
     "execution_count": 12,
     "metadata": {},
     "output_type": "execute_result"
    }
   ],
   "source": [
    "# not delayed\n",
    "not_p_n = 3297494\n",
    "# total\n",
    "n = 5245484\n",
    "# delayed\n",
    "p_n = n-not_p_n\n",
    "# probability of delayed flights\n",
    "p_n/n"
   ]
  },
  {
   "cell_type": "markdown",
   "id": "e9e756dd",
   "metadata": {},
   "source": [
    "### What is the originating airport with the largest/smallest proporation of flights arriving late to their destination?"
   ]
  },
  {
   "cell_type": "code",
   "execution_count": 31,
   "id": "455ee1b9",
   "metadata": {
    "scrolled": false
   },
   "outputs": [
    {
     "data": {
      "text/plain": [
       "ATL    0.059053\n",
       "ORD    0.058221\n",
       "DFW    0.047842\n",
       "DEN    0.041515\n",
       "LAX    0.040942\n",
       "Name: origin_airport, dtype: float64"
      ]
     },
     "execution_count": 31,
     "metadata": {},
     "output_type": "execute_result"
    }
   ],
   "source": [
    "delayed = delay_df['PofB'] == 1\n",
    "all_delayed = delay_df.loc[delayed]\n",
    "origin_airport_delays = all_delayed.origin_airport.value_counts(normalize=True)\n",
    "origin_airport_delays.head()"
   ]
  },
  {
   "cell_type": "code",
   "execution_count": 32,
   "id": "5bc6fafc",
   "metadata": {},
   "outputs": [
    {
     "data": {
      "text/plain": [
       "VEL    0.000012\n",
       "HYA    0.000011\n",
       "DLG    0.000009\n",
       "ITH    0.000007\n",
       "CNY    0.000004\n",
       "Name: origin_airport, dtype: float64"
      ]
     },
     "execution_count": 32,
     "metadata": {},
     "output_type": "execute_result"
    }
   ],
   "source": [
    "origin_airport_delays.tail()"
   ]
  },
  {
   "cell_type": "markdown",
   "id": "ea0d5f8d",
   "metadata": {},
   "source": [
    "Largest proportion of delays are found at Atlanta Airport with a proportion of 5.9%.\n",
    "\n",
    "Smallest proportion of delays are found at Canyonlands in Utah with an almost 0% of the proportion of delayed flights."
   ]
  },
  {
   "cell_type": "markdown",
   "id": "a4be65e6",
   "metadata": {},
   "source": [
    "### What is the difference between probability and proportion?"
   ]
  },
  {
   "cell_type": "markdown",
   "id": "739a630f",
   "metadata": {},
   "source": [
    "Proportion only determines the likelihood that an event has already occured rather than the possibility of the event happening in the future."
   ]
  },
  {
   "cell_type": "markdown",
   "id": "3a31c7c2",
   "metadata": {},
   "source": [
    "### What is the mean and standard deviation of late arrival times for both of these airports?"
   ]
  },
  {
   "cell_type": "code",
   "execution_count": 43,
   "id": "4b91c52f",
   "metadata": {},
   "outputs": [
    {
     "data": {
      "text/plain": [
       "mean     3.197831\n",
       "std     50.764081\n",
       "Name: arrival_delay, dtype: float64"
      ]
     },
     "execution_count": 43,
     "metadata": {},
     "output_type": "execute_result"
    }
   ],
   "source": [
    "ATL = delay_df[delay_df['origin_airport'] == 'ATL']\n",
    "ATL['arrival_delay'].agg(['mean', 'std'])"
   ]
  },
  {
   "cell_type": "code",
   "execution_count": 44,
   "id": "9ad29128",
   "metadata": {},
   "outputs": [
    {
     "data": {
      "text/plain": [
       "mean   -20.678049\n",
       "std     12.548875\n",
       "Name: arrival_delay, dtype: float64"
      ]
     },
     "execution_count": 44,
     "metadata": {},
     "output_type": "execute_result"
    }
   ],
   "source": [
    "CNY = delay_df[delay_df['origin_airport'] == 'CNY']\n",
    "CNY['arrival_delay'].agg(['mean', 'std'])"
   ]
  },
  {
   "cell_type": "markdown",
   "id": "5b7de15c",
   "metadata": {},
   "source": [
    "### Based on the mean and the standard deviation information ONLY, which airport seems like the better choice?"
   ]
  },
  {
   "cell_type": "markdown",
   "id": "bee3e52b",
   "metadata": {},
   "source": [
    "Since the average arrival time is 20 minutes earlier than scheduled for CNY is the better choice. Even with 1 standard deviation to the right of the mean the flights still arrive early rather than being delayed. Atlanta airport on average is late arriving by 3 minutes, with a standard deviation of 50. While  a flight 47 minutes early would be great, a flight almost an hour late could be more detrimental."
   ]
  },
  {
   "cell_type": "markdown",
   "id": "b3fcb07e",
   "metadata": {},
   "source": [
    "### Comparing these two airports by their arrival delays (histograms), which airport seems like you would have a better chance at arriving at your destination on time?"
   ]
  },
  {
   "cell_type": "code",
   "execution_count": 66,
   "id": "a1c0cdab",
   "metadata": {},
   "outputs": [
    {
     "data": {
      "image/png": "[encoded data removed]",
      "text/plain": [
       "<Figure size 432x288 with 1 Axes>"
      ]
     },
     "metadata": {},
     "output_type": "display_data"
    },
    {
     "data": {
      "image/png": "[encoded data removed]",
      "text/plain": [
       "<Figure size 288x288 with 1 Axes>"
      ]
     },
     "metadata": {},
     "output_type": "display_data"
    }
   ],
   "source": [
    "ATL_delay = ATL.arrival_delay.values\n",
    "\n",
    "means = []\n",
    "\n",
    "for _ in range(20000): \n",
    "    mean = resample(ATL_delay, replace=True, n_samples=100).mean()\n",
    "    means.append(mean)\n",
    "    \n",
    "plt.hist(means)\n",
    "\n",
    "fig, ax = plt.subplots(figsize=(4, 4))\n",
    "stats.probplot(means, plot=ax)\n",
    "\n",
    "plt.tight_layout()\n",
    "plt.show()"
   ]
  },
  {
   "cell_type": "code",
   "execution_count": 67,
   "id": "2035d512",
   "metadata": {},
   "outputs": [
    {
     "data": {
      "image/png": "[encoded data removed]",
      "text/plain": [
       "<Figure size 432x288 with 1 Axes>"
      ]
     },
     "metadata": {},
     "output_type": "display_data"
    },
    {
     "data": {
      "image/png": "[encoded data removed]",
      "text/plain": [
       "<Figure size 288x288 with 1 Axes>"
      ]
     },
     "metadata": {},
     "output_type": "display_data"
    }
   ],
   "source": [
    "CNY_delay = CNY.arrival_delay.values\n",
    "\n",
    "means = []\n",
    "\n",
    "for _ in range(20000): \n",
    "    mean = resample(ATL_delay, replace=True, n_samples=100).mean()\n",
    "    means.append(mean)\n",
    "    \n",
    "plt.hist(means)\n",
    "\n",
    "fig, ax = plt.subplots(figsize=(4, 4))\n",
    "stats.probplot(means, plot=ax)\n",
    "\n",
    "plt.tight_layout()\n",
    "plt.show()"
   ]
  },
  {
   "cell_type": "markdown",
   "id": "5da6dae9",
   "metadata": {},
   "source": [
    "These histograms say otherwise. It appears that ATL will provide greater flights that are early than those that fly out of CNY. Flights that fly out of CNY have a greater distribution on the right side of the mean than in ATL which displays that there are a greater amount of delayed arrivals form CNY than ATL."
   ]
  }
 ],
 "metadata": {
  "kernelspec": {
   "display_name": "Python 3",
   "language": "python",
   "name": "python3"
  },
  "language_info": {
   "codemirror_mode": {
    "name": "ipython",
    "version": 3
   },
   "file_extension": ".py",
   "mimetype": "text/x-python",
   "name": "python",
   "nbconvert_exporter": "python",
   "pygments_lexer": "ipython3",
   "version": "3.8.8"
  }
 },
 "nbformat": 4,
 "nbformat_minor": 5
}
